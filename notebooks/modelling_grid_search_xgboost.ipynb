{
 "cells": [
  {
   "cell_type": "code",
   "execution_count": 6,
   "metadata": {},
   "outputs": [],
   "source": [
    "\n",
    "import warnings\n",
    "warnings.filterwarnings('ignore')\n",
    "warnings.simplefilter(action='ignore', category=FutureWarning)\n",
    "\n",
    "#warnings.filterwarnings(action='once')\n",
    "import pandas as pd\n",
    "from pandas import MultiIndex, Int16Dtype\n",
    "\n",
    "import numpy as np\n",
    "import math\n",
    "\n",
    "from sklearn.model_selection import cross_val_score\n",
    "from sklearn.metrics import mean_squared_error, f1_score\n",
    "from sklearn import preprocessing\n",
    "from sklearn.model_selection import GridSearchCV, PredefinedSplit\n",
    "# models\n",
    "from sklearn.linear_model import LinearRegression\n",
    "from sklearn.tree import DecisionTreeRegressor\n",
    "from sklearn.svm import SVR\n",
    "from sklearn.svm import LinearSVR\n",
    "import xgboost as xgb\n",
    "\n",
    "from sklearn.linear_model import LinearRegression\n",
    "from sklearn.model_selection import cross_val_score\n",
    "from sklearn.model_selection import KFold\n",
    "\n",
    "from sklearn import ensemble\n",
    "from sklearn import datasets\n",
    "from sklearn import model_selection\n",
    "\n",
    "from sklearn.model_selection import GridSearchCV\n",
    "from sklearn.model_selection import KFold"
   ]
  },
  {
   "cell_type": "code",
   "execution_count": 7,
   "metadata": {},
   "outputs": [],
   "source": [
    "#!pip3 install xgboost --upgrade"
   ]
  },
  {
   "cell_type": "code",
   "execution_count": 8,
   "metadata": {},
   "outputs": [],
   "source": [
    "df_train = pd.read_csv('../data/train_encoded_1.csv')\n",
    "df_test = pd.read_csv('../data/test_encoded_1.csv')\n",
    "df_test = df_test.reindex(columns=df_train.columns.intersection(df_test.columns))"
   ]
  },
  {
   "cell_type": "code",
   "execution_count": 45,
   "metadata": {},
   "outputs": [],
   "source": [
    "from sklearn.model_selection import train_test_split\n",
    "train, valid = train_test_split(df_train, test_size=0.2)"
   ]
  },
  {
   "cell_type": "code",
   "execution_count": 46,
   "metadata": {},
   "outputs": [
    {
     "data": {
      "text/plain": [
       "Index([], dtype='object')"
      ]
     },
     "execution_count": 47,
     "metadata": {},
     "output_type": "execute_result"
    }
   ],
   "source": [
    "X_final = df_train.drop(['price', 'price_per_sqft'], axis=1)\n",
    "y_final = train['price_per_sqft']\n",
    "X_train = train.drop(['price', 'price_per_sqft'], axis=1)\n",
    "y_train = train['price_per_sqft']\n",
    "\n",
    "X_valid = valid.drop(['price', 'price_per_sqft'], axis=1)\n",
    "y_valid = valid['price_per_sqft']\n",
    "\n",
    "df_test_size_sqft = df_test['size_sqft'].copy()\n",
    "\n",
    "np.random.seed(0)\n",
    "idxs = np.arange(X_train.shape[0])\n",
    "np.random.shuffle(idxs)\n",
    "df_test.columns.difference(X_train.columns)\n"
   ]
  },
  {
   "cell_type": "code",
   "execution_count": 13,
   "metadata": {},
   "outputs": [
    {
     "name": "stdout",
     "output_type": "stream",
     "text": [
      "[19:09:36] WARNING: /Users/travis/build/dmlc/xgboost/src/learner.cc:573: \n",
      "Parameters: { \"verbose_eval\" } might not be used.\n",
      "\n",
      "  This may not be accurate due to some parameters are only used in language bindings but\n",
      "  passed down to XGBoost core.  Or some parameters are not used but slip through this\n",
      "  verification. Please open an issue if you find above cases.\n",
      "\n",
      "\n",
      "Training RMSE: 142.696\n",
      "Test RMSE: 228.356\n"
     ]
    }
   ],
   "source": [
    "xgb_model = xgb.XGBRegressor(eval_metric=[\"error\"], verbose_eval=50, seed =42)\n",
    "xgb_model.fit(X_train, y_train)\n",
    "\n",
    "yt_pred = xgb_model.predict(X_train)\n",
    "yv_pred = xgb_model.predict(X_valid)\n",
    "\n",
    "print('Training RMSE: {:.3f}'.format(mean_squared_error(yt_pred, y_train, squared=False)))\n",
    "print('Test RMSE: {:.3f}'.format(mean_squared_error(yv_pred, y_valid, squared=False)))\n",
    "\n"
   ]
  },
  {
   "cell_type": "code",
   "execution_count": null,
   "metadata": {},
   "outputs": [],
   "source": [
    "yTest = xgb_model.predict(df_test)\n",
    "\n",
    "yTest = yTest * df_test_size_sqft\n",
    "yTest = pd.DataFrame(yTest.values, columns=['Predicted'], index=df_test.index)\n",
    "\n",
    "yTest.to_csv('../predictions/xgboost_grid_search_plain.csv')"
   ]
  },
  {
   "cell_type": "code",
   "execution_count": 17,
   "metadata": {},
   "outputs": [
    {
     "name": "stderr",
     "output_type": "stream",
     "text": [
      "/usr/local/lib/python3.9/site-packages/scipy/__init__.py:146: UserWarning: A NumPy version >=1.16.5 and <1.23.0 is required for this version of SciPy (detected version 1.23.4\n",
      "  warnings.warn(f\"A NumPy version >={np_minversion} and <{np_maxversion}\"\n",
      "/usr/local/lib/python3.9/site-packages/scipy/__init__.py:146: UserWarning: A NumPy version >=1.16.5 and <1.23.0 is required for this version of SciPy (detected version 1.23.4\n",
      "  warnings.warn(f\"A NumPy version >={np_minversion} and <{np_maxversion}\"\n",
      "/usr/local/lib/python3.9/site-packages/scipy/__init__.py:146: UserWarning: A NumPy version >=1.16.5 and <1.23.0 is required for this version of SciPy (detected version 1.23.4\n",
      "  warnings.warn(f\"A NumPy version >={np_minversion} and <{np_maxversion}\"\n",
      "/usr/local/lib/python3.9/site-packages/scipy/__init__.py:146: UserWarning: A NumPy version >=1.16.5 and <1.23.0 is required for this version of SciPy (detected version 1.23.4\n",
      "  warnings.warn(f\"A NumPy version >={np_minversion} and <{np_maxversion}\"\n",
      "/usr/local/lib/python3.9/site-packages/xgboost/compat.py:31: FutureWarning: pandas.Int64Index is deprecated and will be removed from pandas in a future version. Use pandas.Index with the appropriate dtype instead.\n",
      "  from pandas import MultiIndex, Int64Index\n",
      "/usr/local/lib/python3.9/site-packages/xgboost/compat.py:31: FutureWarning: pandas.Int64Index is deprecated and will be removed from pandas in a future version. Use pandas.Index with the appropriate dtype instead.\n",
      "  from pandas import MultiIndex, Int64Index\n",
      "/usr/local/lib/python3.9/site-packages/xgboost/compat.py:31: FutureWarning: pandas.Int64Index is deprecated and will be removed from pandas in a future version. Use pandas.Index with the appropriate dtype instead.\n",
      "  from pandas import MultiIndex, Int64Index\n",
      "/usr/local/lib/python3.9/site-packages/xgboost/compat.py:31: FutureWarning: pandas.Int64Index is deprecated and will be removed from pandas in a future version. Use pandas.Index with the appropriate dtype instead.\n",
      "  from pandas import MultiIndex, Int64Index\n",
      "/usr/local/lib/python3.9/site-packages/xgboost/data.py:208: FutureWarning: pandas.Int64Index is deprecated and will be removed from pandas in a future version. Use pandas.Index with the appropriate dtype instead.\n",
      "  from pandas import MultiIndex, Int64Index\n",
      "/usr/local/lib/python3.9/site-packages/xgboost/data.py:208: FutureWarning: pandas.Int64Index is deprecated and will be removed from pandas in a future version. Use pandas.Index with the appropriate dtype instead.\n",
      "  from pandas import MultiIndex, Int64Index\n",
      "/usr/local/lib/python3.9/site-packages/xgboost/data.py:208: FutureWarning: pandas.Int64Index is deprecated and will be removed from pandas in a future version. Use pandas.Index with the appropriate dtype instead.\n",
      "  from pandas import MultiIndex, Int64Index\n",
      "/usr/local/lib/python3.9/site-packages/xgboost/data.py:208: FutureWarning: pandas.Int64Index is deprecated and will be removed from pandas in a future version. Use pandas.Index with the appropriate dtype instead.\n",
      "  from pandas import MultiIndex, Int64Index\n"
     ]
    },
    {
     "name": "stdout",
     "output_type": "stream",
     "text": [
      "[19:31:39] WARNING: /Users/travis/build/dmlc/xgboost/src/learner.cc:573: \n",
      "Parameters: { \"colsample_by*\", \"verbose_eval\" } might not be used.\n",
      "\n",
      "  This may not be accurate due to some parameters are only used in language bindings but\n",
      "  passed down to XGBoost core.  Or some parameters are not used but slip through this\n",
      "  verification. Please open an issue if you find above cases.\n",
      "\n",
      "\n",
      "Training RMSE: 109.563\n",
      "Test RMSE: 221.017\n"
     ]
    }
   ],
   "source": [
    "warnings.filterwarnings('ignore')\n",
    "\n",
    "xgb_model = xgb.XGBRegressor(verbose_eval=50, seed =42)\n",
    "\n",
    "parameters = {'objective':['reg:squarederror'],\n",
    "              'eta': [0.03], #so called `eta` value\n",
    "              'gamma':[0],\n",
    "              'max_depth': [6],\n",
    "              'min_child_weight':[1],\n",
    "              'max_delta_step':[0],\n",
    "              'subsample': [1],\n",
    "              'sampling_method':['uniform'],\n",
    "              'colsample_by*':[1],\n",
    "              'n_estimators': [2500, 3000],\n",
    "              'reg_alpha':[0],\n",
    "              'reg_lambda': [1],\n",
    "              'tree_method':['auto'],\n",
    "              'max_leaves':[0],\n",
    "              'num_parallel_tree':[1],\n",
    "              'booster': ['gbtree'], \n",
    "              'eval_metric': ['rmse'], \n",
    "              'verbose_eval': [50],\n",
    "                'seed' :[42]}\n",
    "\n",
    "clf = GridSearchCV(xgb_model, parameters, n_jobs=5, \n",
    "                   cv=KFold(n_splits=2, shuffle=True, random_state=42), \n",
    "                   scoring='neg_root_mean_squared_error',\n",
    "                   verbose=0, refit=True)\n",
    "\n",
    "clf.fit(X_train, y_train)\n",
    "\n",
    "yt_pred = clf.predict(X_train)\n",
    "yv_pred = clf.predict(X_valid)\n",
    "\n",
    "print('Default Training RMSE: {:.3f}'.format(mean_squared_error(yt_pred, y_train, squared=False)))\n",
    "print('Default Test RMSE: {:.3f}'.format(mean_squared_error(yv_pred, y_valid, squared=False)))\n"
   ]
  },
  {
   "cell_type": "code",
   "execution_count": 51,
   "metadata": {},
   "outputs": [
    {
     "name": "stderr",
     "output_type": "stream",
     "text": [
      "/usr/local/lib/python3.9/site-packages/scipy/__init__.py:146: UserWarning: A NumPy version >=1.16.5 and <1.23.0 is required for this version of SciPy (detected version 1.23.4\n",
      "  warnings.warn(f\"A NumPy version >={np_minversion} and <{np_maxversion}\"\n",
      "/usr/local/lib/python3.9/site-packages/scipy/__init__.py:146: UserWarning: A NumPy version >=1.16.5 and <1.23.0 is required for this version of SciPy (detected version 1.23.4\n",
      "  warnings.warn(f\"A NumPy version >={np_minversion} and <{np_maxversion}\"\n",
      "/usr/local/lib/python3.9/site-packages/xgboost/compat.py:31: FutureWarning: pandas.Int64Index is deprecated and will be removed from pandas in a future version. Use pandas.Index with the appropriate dtype instead.\n",
      "  from pandas import MultiIndex, Int64Index\n",
      "/usr/local/lib/python3.9/site-packages/xgboost/compat.py:31: FutureWarning: pandas.Int64Index is deprecated and will be removed from pandas in a future version. Use pandas.Index with the appropriate dtype instead.\n",
      "  from pandas import MultiIndex, Int64Index\n",
      "/usr/local/lib/python3.9/site-packages/xgboost/data.py:208: FutureWarning: pandas.Int64Index is deprecated and will be removed from pandas in a future version. Use pandas.Index with the appropriate dtype instead.\n",
      "  from pandas import MultiIndex, Int64Index\n",
      "/usr/local/lib/python3.9/site-packages/xgboost/data.py:208: FutureWarning: pandas.Int64Index is deprecated and will be removed from pandas in a future version. Use pandas.Index with the appropriate dtype instead.\n",
      "  from pandas import MultiIndex, Int64Index\n"
     ]
    },
    {
     "name": "stdout",
     "output_type": "stream",
     "text": [
      "[23:30:33] WARNING: /Users/travis/build/dmlc/xgboost/src/learner.cc:573: \n",
      "Parameters: { \"colsample_by*\", \"verbose_eval\" } might not be used.\n",
      "\n",
      "  This may not be accurate due to some parameters are only used in language bindings but\n",
      "  passed down to XGBoost core.  Or some parameters are not used but slip through this\n",
      "  verification. Please open an issue if you find above cases.\n",
      "\n",
      "\n",
      "Training RMSE: 118.165\n",
      "Test RMSE: 222.145\n"
     ]
    }
   ],
   "source": [
    "#Best Parameters Found\n",
    "warnings.filterwarnings('ignore')\n",
    "warnings.simplefilter(action='ignore', category=FutureWarning)\n",
    "\n",
    "xgb_model = xgb.XGBRegressor(verbose_eval=50, seed =42)\n",
    "\n",
    "parameters = {'objective':['reg:squarederror'],\n",
    "              'eta': [0.03], #done\n",
    "              'gamma':[0.1], #done\n",
    "              'max_depth': [6], #done\n",
    "              'min_child_weight':[1], #done\n",
    "              'max_delta_step':[0], #done\n",
    "              'subsample': [1], #done\n",
    "              'sampling_method':['uniform'], #done\n",
    "              'colsample_by*':[1], #done\n",
    "              'n_estimators': [2000], #done\n",
    "              'reg_alpha':[0], #done\n",
    "              'reg_lambda': [1], #done\n",
    "              'tree_method':['auto'], #done\n",
    "              'max_leaves':[0], #done\n",
    "              'num_parallel_tree':[1], #done\n",
    "              'booster': ['gbtree'], #done\n",
    "              'eval_metric': ['rmse'], #done\n",
    "              'verbose_eval': [50], #not required\n",
    "                'seed' :[42]} #not required\n",
    "\n",
    "clf = GridSearchCV(xgb_model, parameters, n_jobs=5, \n",
    "                   cv=KFold(n_splits=2, shuffle=True, random_state=42), \n",
    "                   scoring='neg_root_mean_squared_error',\n",
    "                   verbose=0, refit=True)\n",
    "\n",
    "clf.fit(X_train, y_train)\n",
    "\n",
    "yt_pred = clf.predict(X_train)\n",
    "yv_pred = clf.predict(X_valid)\n",
    "\n",
    "print('Training RMSE: {:.3f}'.format(mean_squared_error(yt_pred, y_train, squared=False)))\n",
    "print('Test RMSE: {:.3f}'.format(mean_squared_error(yv_pred, y_valid, squared=False)))\n"
   ]
  },
  {
   "cell_type": "code",
   "execution_count": 43,
   "metadata": {},
   "outputs": [
    {
     "name": "stdout",
     "output_type": "stream",
     "text": [
      "{'booster': 'gbtree', 'colsample_by*': 1, 'eta': 0.03, 'eval_metric': 'rmse', 'gamma': 0.1, 'max_delta_step': 0, 'max_depth': 6, 'max_leaves': 0, 'min_child_weight': 1, 'n_estimators': 2000, 'num_parallel_tree': 1, 'objective': 'reg:squarederror', 'reg_alpha': 0, 'reg_lambda': 1, 'sampling_method': 'uniform', 'seed': 42, 'subsample': 1, 'tree_method': 'auto', 'verbose_eval': 50}\n",
      "XGBRegressor(base_score=0.5, booster='gbtree', colsample_by*=1,\n",
      "             colsample_bylevel=1, colsample_bynode=1, colsample_bytree=1,\n",
      "             eta=0.03, eval_metric='rmse', gamma=0.1, gpu_id=-1,\n",
      "             importance_type='gain', interaction_constraints='',\n",
      "             learning_rate=0.0299999993, max_delta_step=0, max_depth=6,\n",
      "             max_leaves=0, min_child_weight=1, missing=nan,\n",
      "             monotone_constraints='()', n_estimators=2000, n_jobs=8,\n",
      "             num_parallel_tree=1, random_state=42, reg_alpha=0, reg_lambda=1,\n",
      "             sampling_method='uniform', scale_pos_weight=1, seed=42,\n",
      "             subsample=1, tree_method='auto', ...)\n",
      "-239.50254799365842\n",
      "[2531.0854 1412.0532 1982.6116 ... 3173.4402  645.2503 2852.0588]\n"
     ]
    }
   ],
   "source": [
    "print(clf.best_params_)\n",
    "\n",
    "print(clf.best_estimator_)\n",
    "\n",
    "print(clf.best_score_)\n",
    "\n",
    "print(clf.predict(df_test.copy()))\n"
   ]
  },
  {
   "cell_type": "code",
   "execution_count": 48,
   "metadata": {},
   "outputs": [
    {
     "name": "stderr",
     "output_type": "stream",
     "text": [
      "/usr/local/lib/python3.9/site-packages/scipy/__init__.py:146: UserWarning: A NumPy version >=1.16.5 and <1.23.0 is required for this version of SciPy (detected version 1.23.4\n",
      "  warnings.warn(f\"A NumPy version >={np_minversion} and <{np_maxversion}\"\n",
      "/usr/local/lib/python3.9/site-packages/scipy/__init__.py:146: UserWarning: A NumPy version >=1.16.5 and <1.23.0 is required for this version of SciPy (detected version 1.23.4\n",
      "  warnings.warn(f\"A NumPy version >={np_minversion} and <{np_maxversion}\"\n",
      "/usr/local/lib/python3.9/site-packages/xgboost/compat.py:31: FutureWarning: pandas.Int64Index is deprecated and will be removed from pandas in a future version. Use pandas.Index with the appropriate dtype instead.\n",
      "  from pandas import MultiIndex, Int64Index\n",
      "/usr/local/lib/python3.9/site-packages/xgboost/compat.py:31: FutureWarning: pandas.Int64Index is deprecated and will be removed from pandas in a future version. Use pandas.Index with the appropriate dtype instead.\n",
      "  from pandas import MultiIndex, Int64Index\n",
      "/usr/local/lib/python3.9/site-packages/xgboost/data.py:208: FutureWarning: pandas.Int64Index is deprecated and will be removed from pandas in a future version. Use pandas.Index with the appropriate dtype instead.\n",
      "  from pandas import MultiIndex, Int64Index\n",
      "/usr/local/lib/python3.9/site-packages/xgboost/data.py:208: FutureWarning: pandas.Int64Index is deprecated and will be removed from pandas in a future version. Use pandas.Index with the appropriate dtype instead.\n",
      "  from pandas import MultiIndex, Int64Index\n"
     ]
    },
    {
     "name": "stdout",
     "output_type": "stream",
     "text": [
      "[21:28:17] WARNING: /Users/travis/build/dmlc/xgboost/src/learner.cc:573: \n",
      "Parameters: { \"colsample_by*\", \"verbose_eval\" } might not be used.\n",
      "\n",
      "  This may not be accurate due to some parameters are only used in language bindings but\n",
      "  passed down to XGBoost core.  Or some parameters are not used but slip through this\n",
      "  verification. Please open an issue if you find above cases.\n",
      "\n",
      "\n"
     ]
    },
    {
     "data": {
      "text/plain": [
       "GridSearchCV(cv=KFold(n_splits=2, random_state=42, shuffle=True),\n",
       "             estimator=XGBRegressor(base_score=None, booster=None,\n",
       "                                    colsample_bylevel=None,\n",
       "                                    colsample_bynode=None,\n",
       "                                    colsample_bytree=None, gamma=None,\n",
       "                                    gpu_id=None, importance_type='gain',\n",
       "                                    interaction_constraints=None,\n",
       "                                    learning_rate=None, max_delta_step=None,\n",
       "                                    max_depth=None, min_child_weight=None,\n",
       "                                    missing=nan, monot...\n",
       "                         'eta': [0.03], 'eval_metric': ['rmse'], 'gamma': [0.1],\n",
       "                         'max_delta_step': [0], 'max_depth': [6],\n",
       "                         'max_leaves': [0], 'min_child_weight': [1],\n",
       "                         'n_estimators': [2000], 'num_parallel_tree': [1],\n",
       "                         'objective': ['reg:squarederror'], 'reg_alpha': [0],\n",
       "                         'reg_lambda': [1], 'sampling_method': ['uniform'],\n",
       "                         'seed': [42], 'subsample': [1],\n",
       "                         'tree_method': ['auto'], 'verbose_eval': [50]},\n",
       "             scoring='neg_root_mean_squared_error')"
      ]
     },
     "execution_count": 48,
     "metadata": {},
     "output_type": "execute_result"
    }
   ],
   "source": [
    "warnings.filterwarnings('ignore')\n",
    "warnings.simplefilter(action='ignore', category=FutureWarning)\n",
    "\n",
    "xgb_model = xgb.XGBRegressor(verbose_eval=50, seed =42)\n",
    "\n",
    "parameters = {'objective':['reg:squarederror'],\n",
    "              'eta': [0.03], #done\n",
    "              'gamma':[0.1], #done\n",
    "              'max_depth': [6], #done\n",
    "              'min_child_weight':[1], #done\n",
    "              'max_delta_step':[0], #done\n",
    "              'subsample': [1], #done\n",
    "              'sampling_method':['uniform'], #done\n",
    "              'colsample_by*':[1], #done\n",
    "              'n_estimators': [2000], #done\n",
    "              'reg_alpha':[0], #done\n",
    "              'reg_lambda': [1], #done\n",
    "              'tree_method':['auto'], #done\n",
    "              'max_leaves':[0], #done\n",
    "              'num_parallel_tree':[1], #done\n",
    "              'booster': ['gbtree'], #done\n",
    "              'eval_metric': ['rmse'], #done\n",
    "              'verbose_eval': [50], #not required\n",
    "                'seed' :[42]} #not required\n",
    "\n",
    "clf = GridSearchCV(xgb_model, parameters, n_jobs=5, \n",
    "                   cv=KFold(n_splits=2, shuffle=True, random_state=42), \n",
    "                   scoring='neg_root_mean_squared_error',\n",
    "                   verbose=0, refit=True)\n",
    "\n",
    "clf.fit(X_final, y_final)"
   ]
  },
  {
   "cell_type": "code",
   "execution_count": 49,
   "metadata": {},
   "outputs": [
    {
     "name": "stdout",
     "output_type": "stream",
     "text": [
      "Training RMSE: 124.311\n"
     ]
    }
   ],
   "source": [
    "yt_pred = clf.predict(X_train)\n",
    "print('Training RMSE: {:.3f}'.format(mean_squared_error(yt_pred, y_train, squared=False)))\n"
   ]
  },
  {
   "cell_type": "code",
   "execution_count": 50,
   "metadata": {},
   "outputs": [
    {
     "name": "stdout",
     "output_type": "stream",
     "text": [
      "[21:27:47] WARNING: /Users/travis/build/dmlc/xgboost/src/learner.cc:573: \n",
      "Parameters: { \"colsample_by*\", \"verbose_eval\" } might not be used.\n",
      "\n",
      "  This may not be accurate due to some parameters are only used in language bindings but\n",
      "  passed down to XGBoost core.  Or some parameters are not used but slip through this\n",
      "  verification. Please open an issue if you find above cases.\n",
      "\n",
      "\n",
      "[21:27:47] WARNING: /Users/travis/build/dmlc/xgboost/src/learner.cc:573: \n",
      "Parameters: { \"colsample_by*\", \"verbose_eval\" } might not be used.\n",
      "\n",
      "  This may not be accurate due to some parameters are only used in language bindings but\n",
      "  passed down to XGBoost core.  Or some parameters are not used but slip through this\n",
      "  verification. Please open an issue if you find above cases.\n",
      "\n",
      "\n"
     ]
    }
   ],
   "source": [
    "yTest = clf.predict(df_test)\n",
    "\n",
    "yTest = yTest * df_test_size_sqft\n",
    "yTest = pd.DataFrame(yTest.values, columns=['Predicted'], index=df_test.index)\n",
    "\n",
    "yTest.to_csv('../predictions/xgboost_grid_search_final_full_db.csv')"
   ]
  },
  {
   "cell_type": "code",
   "execution_count": null,
   "metadata": {},
   "outputs": [],
   "source": []
  }
 ],
 "metadata": {
  "kernelspec": {
   "display_name": "myenv",
   "language": "python",
   "name": "myenv"
  },
  "language_info": {
   "codemirror_mode": {
    "name": "ipython",
    "version": 3
   },
   "file_extension": ".py",
   "mimetype": "text/x-python",
   "name": "python",
   "nbconvert_exporter": "python",
   "pygments_lexer": "ipython3",
   "version": "3.9.15"
  },
  "vscode": {
   "interpreter": {
    "hash": "31f2aee4e71d21fbe5cf8b01ff0e069b9275f58929596ceb00d14d90e3e16cd6"
   }
  }
 },
 "nbformat": 4,
 "nbformat_minor": 4
}
