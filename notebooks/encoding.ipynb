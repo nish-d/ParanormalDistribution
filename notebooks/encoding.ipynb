{
 "cells": [
  {
   "cell_type": "code",
   "execution_count": null,
   "metadata": {},
   "outputs": [],
   "source": [
    "import numpy as np\n",
    "import pandas as pd\n",
    "import matplotlib.pyplot as plt\n",
    "%matplotlib inline\n",
    "\n",
    "import warnings\n",
    "warnings.filterwarnings(action=\"ignore\")"
   ]
  },
  {
   "cell_type": "code",
   "execution_count": null,
   "metadata": {},
   "outputs": [],
   "source": [
    "df_train = pd.read_csv('../data/train_cleaned.csv')\n",
    "df_test = pd.read_csv('../data/test_cleaned.csv')\n",
    "df_train_b = pd.read_csv('../data/train_cleaned.csv')\n",
    "df_test_b = pd.read_csv('../data/test_cleaned.csv')\n",
    "\n",
    "df_train.head()"
   ]
  },
  {
   "cell_type": "code",
   "execution_count": null,
   "metadata": {},
   "outputs": [],
   "source": [
    "df_train = df_train.drop(['Unnamed: 0.1', 'Unnamed: 0', 'title'], axis=1)\n",
    "df_train.head()"
   ]
  },
  {
   "cell_type": "code",
   "execution_count": null,
   "metadata": {},
   "outputs": [],
   "source": [
    "#Calculate price per sqft of every row\n",
    "df_train[\"price_per_sqft\"] = df_train[\"price\"]/df_train[\"size_sqft\"] \n",
    "df_train[\"price_per_sqft\"] = df_train[\"price_per_sqft\"].round(2)\n"
   ]
  },
  {
   "cell_type": "code",
   "execution_count": null,
   "metadata": {},
   "outputs": [],
   "source": [
    "#Target encode Property Name\n",
    "prop_name_agg = df_train.groupby('property_name').agg('mean')\n",
    "df_train = df_train.merge(prop_name_agg[\"price_per_sqft\"], on=['property_name'], how='left')\n",
    "df_train.rename(columns={\"price_per_sqft_y\": \"property_name_encoded\"}, inplace=True)\n",
    "df_train.drop([\"property_name\", \"available_unit_types\"], axis=1, inplace=True)\n",
    "df_train.head()\n"
   ]
  },
  {
   "cell_type": "code",
   "execution_count": null,
   "metadata": {},
   "outputs": [],
   "source": [
    "#Target encode Address\n",
    "\n",
    "address_agg = df_train.groupby('address').agg('mean')\n",
    "df_train = df_train.merge(address_agg[\"price_per_sqft_x\"], on=['address'], how='left')\n",
    "df_train.rename(columns={\"price_per_sqft_x_x\": \"price_per_sqft\"}, inplace=True)\n",
    "df_train.rename(columns={\"price_per_sqft_x_y\": \"address_encoded\"}, inplace=True)\n",
    "df_train.drop([\"address\"], axis=1, inplace=True)\n",
    "\n"
   ]
  },
  {
   "cell_type": "code",
   "execution_count": null,
   "metadata": {},
   "outputs": [],
   "source": [
    "#Target encode Subzone and drop planning Area\n",
    "subzone_agg = df_train.groupby('subzone').agg('mean')\n",
    "df_train = df_train.merge(subzone_agg[\"price_per_sqft\"], on=['subzone'], how='left')\n",
    "df_train.rename(columns={\"price_per_sqft_x\": \"price_per_sqft\"}, inplace=True)\n",
    "df_train.rename(columns={\"price_per_sqft_y\": \"subzone_encoded\"}, inplace=True)\n",
    "df_train.drop([\"subzone\", \"planning_area\"], axis=1, inplace=True)\n"
   ]
  },
  {
   "cell_type": "code",
   "execution_count": null,
   "metadata": {},
   "outputs": [],
   "source": [
    "#Label Encode property_type\n",
    "pd.set_option(\"display.max_columns\", 15)\n",
    "type_to_enum_map = {t: idx+1 for idx, t in enumerate(sorted(df_train.property_type.unique()))}\n",
    "df_train.property_type = df_train.property_type.replace(type_to_enum_map,).astype(np.int16)\n",
    "df_train.head()"
   ]
  },
  {
   "cell_type": "code",
   "execution_count": null,
   "metadata": {},
   "outputs": [],
   "source": [
    "#One hot encode furnishing\n",
    "x = pd.get_dummies(df_train.furnishing)\n",
    "df_train['furnishing_unspecified'] = x.unspecified.astype(int)\n",
    "df_train['furnishing_partial'] = x.partial.astype(int)\n",
    "df_train['furnishing_unfurnished'] = x.unfurnished.astype(int)\n",
    "df_train['furnishing_fully'] = x.fully.astype(int)\n",
    "df_train.drop(columns=['furnishing'], axis = 1, inplace=True)\n",
    "\n",
    "df_train.head()\n"
   ]
  },
  {
   "cell_type": "code",
   "execution_count": null,
   "metadata": {},
   "outputs": [],
   "source": [
    "#One hot encode tenure\n",
    "\n",
    "pd.set_option(\"display.max_columns\", 25)\n",
    "\n",
    "x = pd.get_dummies(df_train.tenure)\n",
    "#print(x)\n",
    "df_train['tenure_99'] = x['99-year leasehold'].astype(int)\n",
    "df_train['tenure_999'] = x['999-year leasehold'].astype(int)\n",
    "df_train['tenure_freehold'] = x['freehold'].astype(int)\n",
    "df_train.drop(columns=['tenure', 'lat', 'lng'], axis = 1, inplace=True)"
   ]
  },
  {
   "cell_type": "code",
   "execution_count": null,
   "metadata": {},
   "outputs": [],
   "source": [
    "#Built Year\n",
    "df_train.built_year = 2022 - df_train.built_year\n",
    "df_train.head()\n"
   ]
  },
  {
   "cell_type": "code",
   "execution_count": null,
   "metadata": {},
   "outputs": [],
   "source": [
    "df_train.to_csv('../data/train_encoded.csv')"
   ]
  },
  {
   "cell_type": "code",
   "execution_count": null,
   "metadata": {},
   "outputs": [],
   "source": []
  }
 ],
 "metadata": {
  "kernelspec": {
   "display_name": "Python 3.9.7 ('base')",
   "language": "python",
   "name": "python3"
  },
  "language_info": {
   "codemirror_mode": {
    "name": "ipython",
    "version": 3
   },
   "file_extension": ".py",
   "mimetype": "text/x-python",
   "name": "python",
   "nbconvert_exporter": "python",
   "pygments_lexer": "ipython3",
   "version": "3.9.7"
  },
  "orig_nbformat": 4,
  "vscode": {
   "interpreter": {
    "hash": "8a9a3a0f59d94ba7973b21a69118181ce5bc1e1391d96e7c074d54f3ed39dfbb"
   }
  }
 },
 "nbformat": 4,
 "nbformat_minor": 2
}
