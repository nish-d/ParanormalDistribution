{
 "cells": [
  {
   "cell_type": "markdown",
   "source": [
    "For subzone: calculate population density\n",
    "For pri sch, sec sch, shopping malls: calculate number of pri sch, sec schs, shopping malls in the subzone\n",
    "For mrt-station: calculate distance to the nearest mrt station for each property"
   ],
   "metadata": {
    "collapsed": false,
    "pycharm": {
     "name": "#%% md\n"
    }
   }
  },
  {
   "cell_type": "code",
   "execution_count": 45,
   "outputs": [],
   "source": [
    "import numpy as np\n",
    "import pandas as pd\n",
    "from math import radians\n",
    "import sklearn.metrics"
   ],
   "metadata": {
    "collapsed": false,
    "pycharm": {
     "name": "#%%\n"
    }
   }
  },
  {
   "cell_type": "code",
   "execution_count": 2,
   "metadata": {
    "collapsed": true,
    "pycharm": {
     "name": "#%%\n"
    }
   },
   "outputs": [
    {
     "name": "stdout",
     "output_type": "stream",
     "text": [
      "           subzone\n",
      "0   woodlands east\n",
      "1      yishun west\n",
      "2        cheng san\n",
      "3  alexandra north\n",
      "4       anchorvale\n"
     ]
    }
   ],
   "source": [
    "df_pri_sch = pd.read_csv('../data/auxiliary-data/sg-primary-schools.csv')\n",
    "df_pri_sch = df_pri_sch.drop([\"name\", \"lat\", \"lng\", 'planning_area'], axis=1)\n",
    "print(df_pri_sch.head())"
   ]
  },
  {
   "cell_type": "code",
   "execution_count": 3,
   "outputs": [
    {
     "name": "stdout",
     "output_type": "stream",
     "text": [
      "                     pri_sch\n",
      "subzone                     \n",
      "woodlands east             6\n",
      "tampines east              6\n",
      "yunnan                     5\n",
      "punggol town centre        4\n",
      "bedok north                4\n",
      "...                      ...\n",
      "keat hong                  1\n",
      "katong                     1\n",
      "kampong ubi                1\n",
      "kampong java               1\n",
      "midview                    1\n",
      "\n",
      "[109 rows x 1 columns]\n"
     ]
    }
   ],
   "source": [
    "pri_sch_cleaned = df_pri_sch.value_counts().to_frame(name=\"pri_sch\")\n",
    "print(pri_sch_cleaned)"
   ],
   "metadata": {
    "collapsed": false,
    "pycharm": {
     "name": "#%%\n"
    }
   }
  },
  {
   "cell_type": "code",
   "execution_count": 4,
   "outputs": [
    {
     "name": "stdout",
     "output_type": "stream",
     "text": [
      "          subzone\n",
      "0  woodlands east\n",
      "1     yishun west\n",
      "2       cheng san\n",
      "3     bedok north\n",
      "4         malcolm\n"
     ]
    }
   ],
   "source": [
    "df_sec_sch = pd.read_csv('../data/auxiliary-data/sg-secondary-schools.csv')\n",
    "df_sec_sch = df_sec_sch.drop([\"name\", \"lat\", \"lng\", 'planning_area'], axis=1)\n",
    "print(df_sec_sch.head())"
   ],
   "metadata": {
    "collapsed": false,
    "pycharm": {
     "name": "#%%\n"
    }
   }
  },
  {
   "cell_type": "code",
   "execution_count": 5,
   "outputs": [],
   "source": [
    "sec_sch_cleaned = df_sec_sch.value_counts().to_frame(name=\"sec_sch\")"
   ],
   "metadata": {
    "collapsed": false,
    "pycharm": {
     "name": "#%%\n"
    }
   }
  },
  {
   "cell_type": "code",
   "execution_count": 6,
   "outputs": [
    {
     "name": "stdout",
     "output_type": "stream",
     "text": [
      "                sec_sch\n",
      "subzone                \n",
      "tampines east         5\n",
      "marymount             3\n",
      "bedok south           3\n",
      "tampines west         3\n",
      "woodlands east        3\n",
      "...                 ...\n",
      "joo seng              1\n",
      "jelebu                1\n",
      "hougang east          1\n",
      "henderson hill        1\n",
      "yunnan                1\n",
      "\n",
      "[101 rows x 1 columns]\n"
     ]
    }
   ],
   "source": [
    "print(sec_sch_cleaned)"
   ],
   "metadata": {
    "collapsed": false,
    "pycharm": {
     "name": "#%%\n"
    }
   }
  },
  {
   "cell_type": "code",
   "execution_count": 7,
   "outputs": [
    {
     "name": "stdout",
     "output_type": "stream",
     "text": [
      "                        population_density\n",
      "name                                      \n",
      "ang mo kio town centre        15178.289681\n",
      "cheng san                     29371.141572\n",
      "chong boon                    24568.885592\n",
      "kebun bahru                   21616.972477\n",
      "sembawang hills                7657.909447\n"
     ]
    }
   ],
   "source": [
    "df_subzone = pd.read_csv('../data/auxiliary-data/sg-subzones.csv')\n",
    "df_subzone[\"population_density\"] = df_subzone['population']/df_subzone[\"area_size\"]\n",
    "df_subzone = df_subzone.drop(['area_size', 'population', 'planning_area'],axis=1).set_index(\"name\")\n",
    "print(df_subzone.head())"
   ],
   "metadata": {
    "collapsed": false,
    "pycharm": {
     "name": "#%%\n"
    }
   }
  },
  {
   "cell_type": "code",
   "execution_count": 16,
   "outputs": [
    {
     "name": "stdout",
     "output_type": "stream",
     "text": [
      "         subzone\n",
      "0    dhoby ghaut\n",
      "1     bras basah\n",
      "2      city hall\n",
      "3  marina centre\n",
      "4         nicoll\n"
     ]
    }
   ],
   "source": [
    "df_mrt_station = pd.read_csv('../data/auxiliary-data/sg-mrt-stations.csv')\n",
    "df_mrt_station = df_mrt_station.drop([\"name\", \"lat\", \"lng\", 'planning_area', 'code', 'line', 'opening_year'], axis=1)\n",
    "print(df_mrt_station.head())"
   ],
   "metadata": {
    "collapsed": false,
    "pycharm": {
     "name": "#%%\n"
    }
   }
  },
  {
   "cell_type": "code",
   "execution_count": 17,
   "outputs": [
    {
     "name": "stdout",
     "output_type": "stream",
     "text": [
      "                   mrt_station\n",
      "subzone                       \n",
      "maritime square              4\n",
      "aljunied                     3\n",
      "serangoon central            3\n",
      "geylang east                 3\n",
      "city hall                    3\n"
     ]
    }
   ],
   "source": [
    "mrt_station_cleaned = df_mrt_station.value_counts().to_frame(name=\"mrt_station\")\n",
    "print(mrt_station_cleaned.head())"
   ],
   "metadata": {
    "collapsed": false,
    "pycharm": {
     "name": "#%%\n"
    }
   }
  },
  {
   "cell_type": "code",
   "execution_count": 51,
   "outputs": [
    {
     "data": {
      "text/plain": "array([[0.02267028, 1.81245972],\n       [0.02263451, 1.81253608],\n       [0.02257859, 1.81261311],\n       [0.02258453, 1.81270507],\n       [0.02268521, 1.81276244],\n       [0.02273837, 1.81296665],\n       [0.02279752, 1.81309215],\n       [0.02283847, 1.81320624],\n       [0.0229903 , 1.81326202],\n       [0.02314569, 1.81321032],\n       [0.02330262, 1.81319445],\n       [0.02343107, 1.81305113],\n       [0.023573  , 1.81292187],\n       [0.02358867, 1.81278295],\n       [0.02358491, 1.81250942],\n       [0.02353938, 1.81233983],\n       [0.02333934, 1.81235272],\n       [0.02308001, 1.81192029],\n       [0.02299365, 1.81178055],\n       [0.02290291, 1.81158892],\n       [0.02279881, 1.81148357],\n       [0.02268509, 1.81143286],\n       [0.02257642, 1.81138251],\n       [0.02237437, 1.81133741],\n       [0.02227413, 1.8115008 ],\n       [0.02220702, 1.81171139],\n       [0.02217801, 1.81182214],\n       [0.02208521, 1.81202754],\n       [0.02237292, 1.8126829 ],\n       [0.02227583, 1.8126048 ],\n       [0.02330682, 1.81448574],\n       [0.02369248, 1.81493095],\n       [0.02407789, 1.81097438],\n       [0.02390779, 1.81103111],\n       [0.0237774 , 1.81108311],\n       [0.02340315, 1.81122846],\n       [0.02331574, 1.81135917],\n       [0.02322785, 1.81159778],\n       [0.02314991, 1.81176605],\n       [0.02308001, 1.81192029],\n       [0.02303949, 1.81210598],\n       [0.02290429, 1.81231472],\n       [0.02281571, 1.81252166],\n       [0.02275651, 1.81257276],\n       [0.0226974 , 1.81262403],\n       [0.02258453, 1.81270507],\n       [0.02237292, 1.8126829 ],\n       [0.02233055, 1.81257401],\n       [0.02237632, 1.81250085],\n       [0.02241394, 1.81243967],\n       [0.02255807, 1.81242549],\n       [0.0226704 , 1.8125306 ],\n       [0.02277954, 1.81261686],\n       [0.02292791, 1.81275093],\n       [0.02306105, 1.81290181],\n       [0.02315837, 1.81310471],\n       [0.02314569, 1.81321032],\n       [0.02321243, 1.8133836 ],\n       [0.02329958, 1.81354474],\n       [0.02329564, 1.81371087],\n       [0.02332821, 1.81395969],\n       [0.02348367, 1.81406795],\n       [0.02348367, 1.81406795],\n       [0.02367001, 1.81435064],\n       [0.02341778, 1.81447   ],\n       [0.02330682, 1.81448574],\n       [0.02396413, 1.81425727],\n       [0.02348367, 1.81406795],\n       [0.02344321, 1.8143287 ],\n       [0.02316379, 1.81420603],\n       [0.02304535, 1.81439514],\n       [0.02305646, 1.81362308],\n       [0.02303457, 1.81345339],\n       [0.0229903 , 1.81326202],\n       [0.02297608, 1.81309875],\n       [0.0228898 , 1.81289769],\n       [0.02281805, 1.81274726],\n       [0.0226974 , 1.81262403],\n       [0.02256693, 1.8125688 ],\n       [0.02240886, 1.81254996],\n       [0.0222802 , 1.81244982],\n       [0.02234443, 1.8123508 ],\n       [0.02244833, 1.81212298],\n       [0.02250837, 1.81194395],\n       [0.02259417, 1.81175783],\n       [0.02273295, 1.81162085],\n       [0.02279881, 1.81148357],\n       [0.02288834, 1.81127892],\n       [0.02295311, 1.81104424],\n       [0.02326791, 1.81064447],\n       [0.02342848, 1.81047535],\n       [0.02346175, 1.81027207],\n       [0.02336305, 1.81001228],\n       [0.0233453 , 1.80985969],\n       [0.02317303, 1.80952901],\n       [0.02302911, 1.80921756],\n       [0.02305627, 1.80901768],\n       [0.02321262, 1.80885255],\n       [0.02340281, 1.80880673],\n       [0.02208521, 1.81202754],\n       [0.02234443, 1.8123508 ],\n       [0.02241394, 1.81243967],\n       [0.02247028, 1.8124567 ],\n       [0.02267028, 1.81245972],\n       [0.02281571, 1.81252166],\n       [0.02291862, 1.81260741],\n       [0.02303729, 1.81273479],\n       [0.02323693, 1.81286239],\n       [0.02337328, 1.81288778],\n       [0.023573  , 1.81292187],\n       [0.0237396 , 1.81313643],\n       [0.02393357, 1.81326411],\n       [0.02413563, 1.81327706],\n       [0.02428965, 1.81331829],\n       [0.02469514, 1.81357453],\n       [0.02326791, 1.81064447],\n       [0.02354507, 1.81077153],\n       [0.02371225, 1.81081036],\n       [0.02417915, 1.81068085],\n       [0.02439159, 1.81073381],\n       [0.02487246, 1.81099094],\n       [0.02500221, 1.81119928],\n       [0.02506393, 1.81144126],\n       [0.02514301, 1.81166905],\n       [0.02529071, 1.81200163],\n       [0.02518644, 1.81217017],\n       [0.02494849, 1.81226272],\n       [0.02473801, 1.81222737],\n       [0.02411619, 1.81243624],\n       [0.02390984, 1.81251672],\n       [0.02358491, 1.81250942],\n       [0.0233956 , 1.81246856],\n       [0.02325877, 1.81248083],\n       [0.02304604, 1.81241666],\n       [0.02290429, 1.81231472],\n       [0.02273156, 1.81206835],\n       [0.02269389, 1.81233394],\n       [0.02267028, 1.81245972],\n       [0.02256693, 1.8125688 ],\n       [0.02240886, 1.81254996],\n       [0.02227583, 1.8126048 ],\n       [0.02218361, 1.81274168],\n       [0.02527747, 1.81140205],\n       [0.02506393, 1.81144126],\n       [0.02491276, 1.8115342 ],\n       [0.02439239, 1.81196343],\n       [0.02418165, 1.81227561],\n       [0.02393655, 1.81228999],\n       [0.02379378, 1.81222587],\n       [0.02363903, 1.81222595],\n       [0.02333934, 1.81235272]])"
     },
     "execution_count": 51,
     "metadata": {},
     "output_type": "execute_result"
    }
   ],
   "source": [
    "mrt_station_coor = pd.read_csv('../data/auxiliary-data/sg-mrt-stations.csv').drop([\"name\", \"subzone\", 'planning_area', 'code', 'line', 'opening_year'], axis=1).to_numpy()\n",
    "mrt_station_coor = np.array([[radians(_) for _ in coor] for coor in mrt_station_coor])\n",
    "mrt_station_coor"
   ],
   "metadata": {
    "collapsed": false,
    "pycharm": {
     "name": "#%%\n"
    }
   }
  },
  {
   "cell_type": "code",
   "execution_count": 52,
   "outputs": [
    {
     "data": {
      "text/plain": "array([[0.02468593, 1.81230095],\n       [0.02395633, 1.81297166],\n       [0.02266786, 1.81332375],\n       ...,\n       [0.02296785, 1.81229488],\n       [0.02514589, 1.8117682 ],\n       [0.02296785, 1.81229488]])"
     },
     "execution_count": 52,
     "metadata": {},
     "output_type": "execute_result"
    }
   ],
   "source": [
    "df_train_coor = pd.read_csv('../data/train.csv')[[\"lat\", \"lng\"]].to_numpy()\n",
    "df_train_coor = np.array([[radians(_) for _ in coor] for coor in df_train_coor])\n",
    "df_train_coor"
   ],
   "metadata": {
    "collapsed": false,
    "pycharm": {
     "name": "#%%\n"
    }
   }
  },
  {
   "cell_type": "code",
   "execution_count": 63,
   "outputs": [
    {
     "name": "stdout",
     "output_type": "stream",
     "text": [
      "       closest_dist_to_mrt\n",
      "0               574.204611\n",
      "1              1734.306081\n",
      "2              1319.767117\n",
      "3               726.004555\n",
      "4               371.115948\n",
      "...                    ...\n",
      "20249           149.940377\n",
      "20250           443.604873\n",
      "20251           424.243848\n",
      "20252           631.719872\n",
      "20253           424.243848\n",
      "\n",
      "[20254 rows x 1 columns]\n"
     ]
    }
   ],
   "source": [
    "dist_matrix_train = sklearn.metrics.pairwise.haversine_distances(mrt_station_coor, df_train_coor)\n",
    "# multiply to get meters\n",
    "closest_dist_to_mrt_train = pd.DataFrame(np.amin(dist_matrix_train, axis=0)* 6371000, columns=[\"closest_dist_to_mrt\"])\n",
    "print(closest_dist_to_mrt_train)"
   ],
   "metadata": {
    "collapsed": false,
    "pycharm": {
     "name": "#%%\n"
    }
   }
  },
  {
   "cell_type": "code",
   "execution_count": 64,
   "outputs": [
    {
     "data": {
      "text/plain": "array([[0.02346305, 1.81302517],\n       [0.02409045, 1.81416291],\n       [0.02259623, 1.81252571],\n       ...,\n       [0.02258641, 1.8122929 ],\n       [0.02275449, 1.81359673],\n       [0.02273763, 1.81286363]])"
     },
     "execution_count": 64,
     "metadata": {},
     "output_type": "execute_result"
    }
   ],
   "source": [
    "df_test_coor = pd.read_csv('../data/test.csv')[[\"lat\", \"lng\"]].to_numpy()\n",
    "df_test_coor = np.array([[radians(_) for _ in coor] for coor in df_test_coor])\n",
    "df_test_coor"
   ],
   "metadata": {
    "collapsed": false,
    "pycharm": {
     "name": "#%%\n"
    }
   }
  },
  {
   "cell_type": "code",
   "execution_count": 65,
   "outputs": [
    {
     "name": "stdout",
     "output_type": "stream",
     "text": [
      "      closest_dist_to_mrt\n",
      "0              262.436752\n",
      "1             1004.449411\n",
      "2              252.644179\n",
      "3             1374.809476\n",
      "4              273.508629\n",
      "...                   ...\n",
      "6995          3009.557197\n",
      "6996           389.284983\n",
      "6997           732.925850\n",
      "6998          1931.187202\n",
      "6999           656.186344\n",
      "\n",
      "[7000 rows x 1 columns]\n"
     ]
    }
   ],
   "source": [
    "dist_matrix_test = sklearn.metrics.pairwise.haversine_distances(mrt_station_coor, df_test_coor)\n",
    "# multiply to get meters\n",
    "closest_dist_to_mrt_test = pd.DataFrame(np.amin(dist_matrix_test, axis=0)* 6371000, columns=[\"closest_dist_to_mrt\"])\n",
    "print(closest_dist_to_mrt_test)"
   ],
   "metadata": {
    "collapsed": false,
    "pycharm": {
     "name": "#%%\n"
    }
   }
  },
  {
   "cell_type": "code",
   "execution_count": 56,
   "outputs": [],
   "source": [
    "df_train = pd.read_csv('../data/train_cleaned.csv')\n",
    "df_test = pd.read_csv('../data/test_cleaned.csv')"
   ],
   "metadata": {
    "collapsed": false,
    "pycharm": {
     "name": "#%%\n"
    }
   }
  },
  {
   "cell_type": "code",
   "execution_count": 66,
   "outputs": [
    {
     "data": {
      "text/plain": "       Unnamed: 0  Unnamed: 0.1  \\\n0               0             0   \n1               1             1   \n2               2             2   \n3               3             3   \n4               4             4   \n...           ...           ...   \n19632       19641         19641   \n19633       19642         19642   \n19634       19643         19643   \n19635       19644         19644   \n19636       19645         19645   \n\n                                                   title  \\\n0              hdb flat for sale in 866 yishun street 81   \n1      hdb flat for sale in 506b serangoon north aven...   \n2                     4 bed condo for sale in meyerhouse   \n3                   3 bed condo for sale in leedon green   \n4                     2 bed condo for sale in one bernam   \n...                                                  ...   \n19632              2 bed condo for sale in lentor modern   \n19633                       2 bed condo for sale in mori   \n19634  4 bed condo for sale in pullman residences newton   \n19635       hdb flat for sale in 691d woodlands drive 73   \n19636  4 bed condo for sale in pullman residences newton   \n\n                                  address              property_name  \\\n0                sembawang / yishun (d27)       866 yishun street 81   \n1      hougang / punggol / sengkang (d19)       hdb-serangoon estate   \n2                          128 meyer road                 meyerhouse   \n3                       26 leedon heights               leedon green   \n4                         1 bernam street                 one bernam   \n...                                   ...                        ...   \n19632                      lentor central              lentor modern   \n19633                 223 guillemard road                       mori   \n19634                     18 dunearn road  pullman residences newton   \n19635         admiralty / woodlands (d25)            admiralty flora   \n19636                     18 dunearn road  pullman residences newton   \n\n      property_type  num_beds  num_baths  size_sqft   furnishing  ...  \\\n0               hdb       3.0        2.0       1115  unspecified  ...   \n1               hdb       4.0        2.0       1575  unspecified  ...   \n2             condo       4.0        6.0       3070      partial  ...   \n3             condo       3.0        2.0        958      partial  ...   \n4             condo       2.0        1.0        732  unspecified  ...   \n...             ...       ...        ...        ...          ...  ...   \n19632         condo       2.0        2.0        635  unspecified  ...   \n19633         condo       2.0        2.0        883  unspecified  ...   \n19634         condo       4.0        4.0       1378  unspecified  ...   \n19635           hdb       3.0        2.0       1205  unfurnished  ...   \n19636         condo       4.0        4.0       1378      partial  ...   \n\n       planning_area      price built_year             tenure  \\\n0             yishun   514500.0     1988.0  99-year leasehold   \n1          serangoon   995400.0     1992.0  99-year leasehold   \n2      marine parade  8485000.0     2022.0           freehold   \n3        bukit timah  2626000.0     2023.0           freehold   \n4      downtown core  1764000.0     2026.0  99-year leasehold   \n...              ...        ...        ...                ...   \n19632     ang mo kio  1050000.0     2026.0  99-year leasehold   \n19633        kallang  2087400.0     2026.0           freehold   \n19634         novena  4193700.0     2023.0           freehold   \n19635      woodlands   754800.0     2017.0  99-year leasehold   \n19636         novena  4178000.0     2023.0           freehold   \n\n           available_unit_types  pri_sch sec_sch mrt_station  \\\n0                           NaN      2.0     2.0         0.0   \n1           1, 2, 3, 4, 5, 6 br      1.0     0.0         0.0   \n2         studio, 3, 4, 5, 6 br      0.0     1.0         0.0   \n3         studio, 1, 2, 3, 4 br      1.0     1.0         1.0   \n4      studio, 1, 2, 3, 4, 5 br      0.0     0.0         0.0   \n...                         ...      ...     ...         ...   \n19632             1, 2, 3, 4 br      0.0     0.0         1.0   \n19633             1, 2, 3, 4 br      0.0     0.0         2.0   \n19634  studio, 1, 2, 3, 4, 5 br      1.0     0.0         1.0   \n19635                2, 3, 4 br      6.0     3.0         1.0   \n19636  studio, 1, 2, 3, 4, 5 br      1.0     0.0         1.0   \n\n       population_density  closest_dist_to_mrt  \n0            31517.683928           574.204611  \n1            23280.268731          1734.306081  \n2             5829.779777          1319.767117  \n3            11059.413028           726.004555  \n4              775.193798           371.115948  \n...                   ...                  ...  \n19632         2384.380061           370.288233  \n19633        12802.219580           220.711188  \n19634         6901.669759          1391.456418  \n19635        38762.482867           732.641452  \n19636         6901.669759           937.885199  \n\n[19637 rows x 23 columns]",
      "text/html": "<div>\n<style scoped>\n    .dataframe tbody tr th:only-of-type {\n        vertical-align: middle;\n    }\n\n    .dataframe tbody tr th {\n        vertical-align: top;\n    }\n\n    .dataframe thead th {\n        text-align: right;\n    }\n</style>\n<table border=\"1\" class=\"dataframe\">\n  <thead>\n    <tr style=\"text-align: right;\">\n      <th></th>\n      <th>Unnamed: 0</th>\n      <th>Unnamed: 0.1</th>\n      <th>title</th>\n      <th>address</th>\n      <th>property_name</th>\n      <th>property_type</th>\n      <th>num_beds</th>\n      <th>num_baths</th>\n      <th>size_sqft</th>\n      <th>furnishing</th>\n      <th>...</th>\n      <th>planning_area</th>\n      <th>price</th>\n      <th>built_year</th>\n      <th>tenure</th>\n      <th>available_unit_types</th>\n      <th>pri_sch</th>\n      <th>sec_sch</th>\n      <th>mrt_station</th>\n      <th>population_density</th>\n      <th>closest_dist_to_mrt</th>\n    </tr>\n  </thead>\n  <tbody>\n    <tr>\n      <th>0</th>\n      <td>0</td>\n      <td>0</td>\n      <td>hdb flat for sale in 866 yishun street 81</td>\n      <td>sembawang / yishun (d27)</td>\n      <td>866 yishun street 81</td>\n      <td>hdb</td>\n      <td>3.0</td>\n      <td>2.0</td>\n      <td>1115</td>\n      <td>unspecified</td>\n      <td>...</td>\n      <td>yishun</td>\n      <td>514500.0</td>\n      <td>1988.0</td>\n      <td>99-year leasehold</td>\n      <td>NaN</td>\n      <td>2.0</td>\n      <td>2.0</td>\n      <td>0.0</td>\n      <td>31517.683928</td>\n      <td>574.204611</td>\n    </tr>\n    <tr>\n      <th>1</th>\n      <td>1</td>\n      <td>1</td>\n      <td>hdb flat for sale in 506b serangoon north aven...</td>\n      <td>hougang / punggol / sengkang (d19)</td>\n      <td>hdb-serangoon estate</td>\n      <td>hdb</td>\n      <td>4.0</td>\n      <td>2.0</td>\n      <td>1575</td>\n      <td>unspecified</td>\n      <td>...</td>\n      <td>serangoon</td>\n      <td>995400.0</td>\n      <td>1992.0</td>\n      <td>99-year leasehold</td>\n      <td>1, 2, 3, 4, 5, 6 br</td>\n      <td>1.0</td>\n      <td>0.0</td>\n      <td>0.0</td>\n      <td>23280.268731</td>\n      <td>1734.306081</td>\n    </tr>\n    <tr>\n      <th>2</th>\n      <td>2</td>\n      <td>2</td>\n      <td>4 bed condo for sale in meyerhouse</td>\n      <td>128 meyer road</td>\n      <td>meyerhouse</td>\n      <td>condo</td>\n      <td>4.0</td>\n      <td>6.0</td>\n      <td>3070</td>\n      <td>partial</td>\n      <td>...</td>\n      <td>marine parade</td>\n      <td>8485000.0</td>\n      <td>2022.0</td>\n      <td>freehold</td>\n      <td>studio, 3, 4, 5, 6 br</td>\n      <td>0.0</td>\n      <td>1.0</td>\n      <td>0.0</td>\n      <td>5829.779777</td>\n      <td>1319.767117</td>\n    </tr>\n    <tr>\n      <th>3</th>\n      <td>3</td>\n      <td>3</td>\n      <td>3 bed condo for sale in leedon green</td>\n      <td>26 leedon heights</td>\n      <td>leedon green</td>\n      <td>condo</td>\n      <td>3.0</td>\n      <td>2.0</td>\n      <td>958</td>\n      <td>partial</td>\n      <td>...</td>\n      <td>bukit timah</td>\n      <td>2626000.0</td>\n      <td>2023.0</td>\n      <td>freehold</td>\n      <td>studio, 1, 2, 3, 4 br</td>\n      <td>1.0</td>\n      <td>1.0</td>\n      <td>1.0</td>\n      <td>11059.413028</td>\n      <td>726.004555</td>\n    </tr>\n    <tr>\n      <th>4</th>\n      <td>4</td>\n      <td>4</td>\n      <td>2 bed condo for sale in one bernam</td>\n      <td>1 bernam street</td>\n      <td>one bernam</td>\n      <td>condo</td>\n      <td>2.0</td>\n      <td>1.0</td>\n      <td>732</td>\n      <td>unspecified</td>\n      <td>...</td>\n      <td>downtown core</td>\n      <td>1764000.0</td>\n      <td>2026.0</td>\n      <td>99-year leasehold</td>\n      <td>studio, 1, 2, 3, 4, 5 br</td>\n      <td>0.0</td>\n      <td>0.0</td>\n      <td>0.0</td>\n      <td>775.193798</td>\n      <td>371.115948</td>\n    </tr>\n    <tr>\n      <th>...</th>\n      <td>...</td>\n      <td>...</td>\n      <td>...</td>\n      <td>...</td>\n      <td>...</td>\n      <td>...</td>\n      <td>...</td>\n      <td>...</td>\n      <td>...</td>\n      <td>...</td>\n      <td>...</td>\n      <td>...</td>\n      <td>...</td>\n      <td>...</td>\n      <td>...</td>\n      <td>...</td>\n      <td>...</td>\n      <td>...</td>\n      <td>...</td>\n      <td>...</td>\n      <td>...</td>\n    </tr>\n    <tr>\n      <th>19632</th>\n      <td>19641</td>\n      <td>19641</td>\n      <td>2 bed condo for sale in lentor modern</td>\n      <td>lentor central</td>\n      <td>lentor modern</td>\n      <td>condo</td>\n      <td>2.0</td>\n      <td>2.0</td>\n      <td>635</td>\n      <td>unspecified</td>\n      <td>...</td>\n      <td>ang mo kio</td>\n      <td>1050000.0</td>\n      <td>2026.0</td>\n      <td>99-year leasehold</td>\n      <td>1, 2, 3, 4 br</td>\n      <td>0.0</td>\n      <td>0.0</td>\n      <td>1.0</td>\n      <td>2384.380061</td>\n      <td>370.288233</td>\n    </tr>\n    <tr>\n      <th>19633</th>\n      <td>19642</td>\n      <td>19642</td>\n      <td>2 bed condo for sale in mori</td>\n      <td>223 guillemard road</td>\n      <td>mori</td>\n      <td>condo</td>\n      <td>2.0</td>\n      <td>2.0</td>\n      <td>883</td>\n      <td>unspecified</td>\n      <td>...</td>\n      <td>kallang</td>\n      <td>2087400.0</td>\n      <td>2026.0</td>\n      <td>freehold</td>\n      <td>1, 2, 3, 4 br</td>\n      <td>0.0</td>\n      <td>0.0</td>\n      <td>2.0</td>\n      <td>12802.219580</td>\n      <td>220.711188</td>\n    </tr>\n    <tr>\n      <th>19634</th>\n      <td>19643</td>\n      <td>19643</td>\n      <td>4 bed condo for sale in pullman residences newton</td>\n      <td>18 dunearn road</td>\n      <td>pullman residences newton</td>\n      <td>condo</td>\n      <td>4.0</td>\n      <td>4.0</td>\n      <td>1378</td>\n      <td>unspecified</td>\n      <td>...</td>\n      <td>novena</td>\n      <td>4193700.0</td>\n      <td>2023.0</td>\n      <td>freehold</td>\n      <td>studio, 1, 2, 3, 4, 5 br</td>\n      <td>1.0</td>\n      <td>0.0</td>\n      <td>1.0</td>\n      <td>6901.669759</td>\n      <td>1391.456418</td>\n    </tr>\n    <tr>\n      <th>19635</th>\n      <td>19644</td>\n      <td>19644</td>\n      <td>hdb flat for sale in 691d woodlands drive 73</td>\n      <td>admiralty / woodlands (d25)</td>\n      <td>admiralty flora</td>\n      <td>hdb</td>\n      <td>3.0</td>\n      <td>2.0</td>\n      <td>1205</td>\n      <td>unfurnished</td>\n      <td>...</td>\n      <td>woodlands</td>\n      <td>754800.0</td>\n      <td>2017.0</td>\n      <td>99-year leasehold</td>\n      <td>2, 3, 4 br</td>\n      <td>6.0</td>\n      <td>3.0</td>\n      <td>1.0</td>\n      <td>38762.482867</td>\n      <td>732.641452</td>\n    </tr>\n    <tr>\n      <th>19636</th>\n      <td>19645</td>\n      <td>19645</td>\n      <td>4 bed condo for sale in pullman residences newton</td>\n      <td>18 dunearn road</td>\n      <td>pullman residences newton</td>\n      <td>condo</td>\n      <td>4.0</td>\n      <td>4.0</td>\n      <td>1378</td>\n      <td>partial</td>\n      <td>...</td>\n      <td>novena</td>\n      <td>4178000.0</td>\n      <td>2023.0</td>\n      <td>freehold</td>\n      <td>studio, 1, 2, 3, 4, 5 br</td>\n      <td>1.0</td>\n      <td>0.0</td>\n      <td>1.0</td>\n      <td>6901.669759</td>\n      <td>937.885199</td>\n    </tr>\n  </tbody>\n</table>\n<p>19637 rows × 23 columns</p>\n</div>"
     },
     "execution_count": 66,
     "metadata": {},
     "output_type": "execute_result"
    }
   ],
   "source": [
    "df_train.merge(pri_sch_cleaned, how='left',left_on=\"subzone\",right_on=\"subzone\")\\\n",
    "    .merge(sec_sch_cleaned, how='left',left_on=\"subzone\",right_on=\"subzone\")\\\n",
    "    .merge(mrt_station_cleaned, how='left',left_on=\"subzone\",right_on=\"subzone\")\\\n",
    "    .merge(df_subzone, how='left',left_on=\"subzone\",right_on=\"name\")\\\n",
    "    .join(closest_dist_to_mrt_train)\\\n",
    "    .fillna({'pri_sch':0, 'sec_sch':0, 'mrt_station':0})"
   ],
   "metadata": {
    "collapsed": false,
    "pycharm": {
     "name": "#%%\n"
    }
   }
  },
  {
   "cell_type": "code",
   "execution_count": 67,
   "outputs": [
    {
     "data": {
      "text/plain": "       Unnamed: 0  Unnamed: 0.1  \\\n0               0             0   \n1               1             1   \n2               2             2   \n3               3             3   \n4               4             4   \n...           ...           ...   \n19632       19641         19641   \n19633       19642         19642   \n19634       19643         19643   \n19635       19644         19644   \n19636       19645         19645   \n\n                                                   title  \\\n0              hdb flat for sale in 866 yishun street 81   \n1      hdb flat for sale in 506b serangoon north aven...   \n2                     4 bed condo for sale in meyerhouse   \n3                   3 bed condo for sale in leedon green   \n4                     2 bed condo for sale in one bernam   \n...                                                  ...   \n19632              2 bed condo for sale in lentor modern   \n19633                       2 bed condo for sale in mori   \n19634  4 bed condo for sale in pullman residences newton   \n19635       hdb flat for sale in 691d woodlands drive 73   \n19636  4 bed condo for sale in pullman residences newton   \n\n                                  address              property_name  \\\n0                sembawang / yishun (d27)       866 yishun street 81   \n1      hougang / punggol / sengkang (d19)       hdb-serangoon estate   \n2                          128 meyer road                 meyerhouse   \n3                       26 leedon heights               leedon green   \n4                         1 bernam street                 one bernam   \n...                                   ...                        ...   \n19632                      lentor central              lentor modern   \n19633                 223 guillemard road                       mori   \n19634                     18 dunearn road  pullman residences newton   \n19635         admiralty / woodlands (d25)            admiralty flora   \n19636                     18 dunearn road  pullman residences newton   \n\n      property_type  num_beds  num_baths  size_sqft   furnishing  ...  \\\n0               hdb       3.0        2.0       1115  unspecified  ...   \n1               hdb       4.0        2.0       1575  unspecified  ...   \n2             condo       4.0        6.0       3070      partial  ...   \n3             condo       3.0        2.0        958      partial  ...   \n4             condo       2.0        1.0        732  unspecified  ...   \n...             ...       ...        ...        ...          ...  ...   \n19632         condo       2.0        2.0        635  unspecified  ...   \n19633         condo       2.0        2.0        883  unspecified  ...   \n19634         condo       4.0        4.0       1378  unspecified  ...   \n19635           hdb       3.0        2.0       1205  unfurnished  ...   \n19636         condo       4.0        4.0       1378      partial  ...   \n\n       planning_area      price built_year             tenure  \\\n0             yishun   514500.0     1988.0  99-year leasehold   \n1          serangoon   995400.0     1992.0  99-year leasehold   \n2      marine parade  8485000.0     2022.0           freehold   \n3        bukit timah  2626000.0     2023.0           freehold   \n4      downtown core  1764000.0     2026.0  99-year leasehold   \n...              ...        ...        ...                ...   \n19632     ang mo kio  1050000.0     2026.0  99-year leasehold   \n19633        kallang  2087400.0     2026.0           freehold   \n19634         novena  4193700.0     2023.0           freehold   \n19635      woodlands   754800.0     2017.0  99-year leasehold   \n19636         novena  4178000.0     2023.0           freehold   \n\n           available_unit_types  pri_sch sec_sch mrt_station  \\\n0                           NaN      2.0     2.0         0.0   \n1           1, 2, 3, 4, 5, 6 br      1.0     0.0         0.0   \n2         studio, 3, 4, 5, 6 br      0.0     1.0         0.0   \n3         studio, 1, 2, 3, 4 br      1.0     1.0         1.0   \n4      studio, 1, 2, 3, 4, 5 br      0.0     0.0         0.0   \n...                         ...      ...     ...         ...   \n19632             1, 2, 3, 4 br      0.0     0.0         1.0   \n19633             1, 2, 3, 4 br      0.0     0.0         2.0   \n19634  studio, 1, 2, 3, 4, 5 br      1.0     0.0         1.0   \n19635                2, 3, 4 br      6.0     3.0         1.0   \n19636  studio, 1, 2, 3, 4, 5 br      1.0     0.0         1.0   \n\n       population_density  closest_dist_to_mrt  \n0            31517.683928           262.436752  \n1            23280.268731          1004.449411  \n2             5829.779777           252.644179  \n3            11059.413028          1374.809476  \n4              775.193798           273.508629  \n...                   ...                  ...  \n19632         2384.380061                  NaN  \n19633        12802.219580                  NaN  \n19634         6901.669759                  NaN  \n19635        38762.482867                  NaN  \n19636         6901.669759                  NaN  \n\n[19637 rows x 23 columns]",
      "text/html": "<div>\n<style scoped>\n    .dataframe tbody tr th:only-of-type {\n        vertical-align: middle;\n    }\n\n    .dataframe tbody tr th {\n        vertical-align: top;\n    }\n\n    .dataframe thead th {\n        text-align: right;\n    }\n</style>\n<table border=\"1\" class=\"dataframe\">\n  <thead>\n    <tr style=\"text-align: right;\">\n      <th></th>\n      <th>Unnamed: 0</th>\n      <th>Unnamed: 0.1</th>\n      <th>title</th>\n      <th>address</th>\n      <th>property_name</th>\n      <th>property_type</th>\n      <th>num_beds</th>\n      <th>num_baths</th>\n      <th>size_sqft</th>\n      <th>furnishing</th>\n      <th>...</th>\n      <th>planning_area</th>\n      <th>price</th>\n      <th>built_year</th>\n      <th>tenure</th>\n      <th>available_unit_types</th>\n      <th>pri_sch</th>\n      <th>sec_sch</th>\n      <th>mrt_station</th>\n      <th>population_density</th>\n      <th>closest_dist_to_mrt</th>\n    </tr>\n  </thead>\n  <tbody>\n    <tr>\n      <th>0</th>\n      <td>0</td>\n      <td>0</td>\n      <td>hdb flat for sale in 866 yishun street 81</td>\n      <td>sembawang / yishun (d27)</td>\n      <td>866 yishun street 81</td>\n      <td>hdb</td>\n      <td>3.0</td>\n      <td>2.0</td>\n      <td>1115</td>\n      <td>unspecified</td>\n      <td>...</td>\n      <td>yishun</td>\n      <td>514500.0</td>\n      <td>1988.0</td>\n      <td>99-year leasehold</td>\n      <td>NaN</td>\n      <td>2.0</td>\n      <td>2.0</td>\n      <td>0.0</td>\n      <td>31517.683928</td>\n      <td>262.436752</td>\n    </tr>\n    <tr>\n      <th>1</th>\n      <td>1</td>\n      <td>1</td>\n      <td>hdb flat for sale in 506b serangoon north aven...</td>\n      <td>hougang / punggol / sengkang (d19)</td>\n      <td>hdb-serangoon estate</td>\n      <td>hdb</td>\n      <td>4.0</td>\n      <td>2.0</td>\n      <td>1575</td>\n      <td>unspecified</td>\n      <td>...</td>\n      <td>serangoon</td>\n      <td>995400.0</td>\n      <td>1992.0</td>\n      <td>99-year leasehold</td>\n      <td>1, 2, 3, 4, 5, 6 br</td>\n      <td>1.0</td>\n      <td>0.0</td>\n      <td>0.0</td>\n      <td>23280.268731</td>\n      <td>1004.449411</td>\n    </tr>\n    <tr>\n      <th>2</th>\n      <td>2</td>\n      <td>2</td>\n      <td>4 bed condo for sale in meyerhouse</td>\n      <td>128 meyer road</td>\n      <td>meyerhouse</td>\n      <td>condo</td>\n      <td>4.0</td>\n      <td>6.0</td>\n      <td>3070</td>\n      <td>partial</td>\n      <td>...</td>\n      <td>marine parade</td>\n      <td>8485000.0</td>\n      <td>2022.0</td>\n      <td>freehold</td>\n      <td>studio, 3, 4, 5, 6 br</td>\n      <td>0.0</td>\n      <td>1.0</td>\n      <td>0.0</td>\n      <td>5829.779777</td>\n      <td>252.644179</td>\n    </tr>\n    <tr>\n      <th>3</th>\n      <td>3</td>\n      <td>3</td>\n      <td>3 bed condo for sale in leedon green</td>\n      <td>26 leedon heights</td>\n      <td>leedon green</td>\n      <td>condo</td>\n      <td>3.0</td>\n      <td>2.0</td>\n      <td>958</td>\n      <td>partial</td>\n      <td>...</td>\n      <td>bukit timah</td>\n      <td>2626000.0</td>\n      <td>2023.0</td>\n      <td>freehold</td>\n      <td>studio, 1, 2, 3, 4 br</td>\n      <td>1.0</td>\n      <td>1.0</td>\n      <td>1.0</td>\n      <td>11059.413028</td>\n      <td>1374.809476</td>\n    </tr>\n    <tr>\n      <th>4</th>\n      <td>4</td>\n      <td>4</td>\n      <td>2 bed condo for sale in one bernam</td>\n      <td>1 bernam street</td>\n      <td>one bernam</td>\n      <td>condo</td>\n      <td>2.0</td>\n      <td>1.0</td>\n      <td>732</td>\n      <td>unspecified</td>\n      <td>...</td>\n      <td>downtown core</td>\n      <td>1764000.0</td>\n      <td>2026.0</td>\n      <td>99-year leasehold</td>\n      <td>studio, 1, 2, 3, 4, 5 br</td>\n      <td>0.0</td>\n      <td>0.0</td>\n      <td>0.0</td>\n      <td>775.193798</td>\n      <td>273.508629</td>\n    </tr>\n    <tr>\n      <th>...</th>\n      <td>...</td>\n      <td>...</td>\n      <td>...</td>\n      <td>...</td>\n      <td>...</td>\n      <td>...</td>\n      <td>...</td>\n      <td>...</td>\n      <td>...</td>\n      <td>...</td>\n      <td>...</td>\n      <td>...</td>\n      <td>...</td>\n      <td>...</td>\n      <td>...</td>\n      <td>...</td>\n      <td>...</td>\n      <td>...</td>\n      <td>...</td>\n      <td>...</td>\n      <td>...</td>\n    </tr>\n    <tr>\n      <th>19632</th>\n      <td>19641</td>\n      <td>19641</td>\n      <td>2 bed condo for sale in lentor modern</td>\n      <td>lentor central</td>\n      <td>lentor modern</td>\n      <td>condo</td>\n      <td>2.0</td>\n      <td>2.0</td>\n      <td>635</td>\n      <td>unspecified</td>\n      <td>...</td>\n      <td>ang mo kio</td>\n      <td>1050000.0</td>\n      <td>2026.0</td>\n      <td>99-year leasehold</td>\n      <td>1, 2, 3, 4 br</td>\n      <td>0.0</td>\n      <td>0.0</td>\n      <td>1.0</td>\n      <td>2384.380061</td>\n      <td>NaN</td>\n    </tr>\n    <tr>\n      <th>19633</th>\n      <td>19642</td>\n      <td>19642</td>\n      <td>2 bed condo for sale in mori</td>\n      <td>223 guillemard road</td>\n      <td>mori</td>\n      <td>condo</td>\n      <td>2.0</td>\n      <td>2.0</td>\n      <td>883</td>\n      <td>unspecified</td>\n      <td>...</td>\n      <td>kallang</td>\n      <td>2087400.0</td>\n      <td>2026.0</td>\n      <td>freehold</td>\n      <td>1, 2, 3, 4 br</td>\n      <td>0.0</td>\n      <td>0.0</td>\n      <td>2.0</td>\n      <td>12802.219580</td>\n      <td>NaN</td>\n    </tr>\n    <tr>\n      <th>19634</th>\n      <td>19643</td>\n      <td>19643</td>\n      <td>4 bed condo for sale in pullman residences newton</td>\n      <td>18 dunearn road</td>\n      <td>pullman residences newton</td>\n      <td>condo</td>\n      <td>4.0</td>\n      <td>4.0</td>\n      <td>1378</td>\n      <td>unspecified</td>\n      <td>...</td>\n      <td>novena</td>\n      <td>4193700.0</td>\n      <td>2023.0</td>\n      <td>freehold</td>\n      <td>studio, 1, 2, 3, 4, 5 br</td>\n      <td>1.0</td>\n      <td>0.0</td>\n      <td>1.0</td>\n      <td>6901.669759</td>\n      <td>NaN</td>\n    </tr>\n    <tr>\n      <th>19635</th>\n      <td>19644</td>\n      <td>19644</td>\n      <td>hdb flat for sale in 691d woodlands drive 73</td>\n      <td>admiralty / woodlands (d25)</td>\n      <td>admiralty flora</td>\n      <td>hdb</td>\n      <td>3.0</td>\n      <td>2.0</td>\n      <td>1205</td>\n      <td>unfurnished</td>\n      <td>...</td>\n      <td>woodlands</td>\n      <td>754800.0</td>\n      <td>2017.0</td>\n      <td>99-year leasehold</td>\n      <td>2, 3, 4 br</td>\n      <td>6.0</td>\n      <td>3.0</td>\n      <td>1.0</td>\n      <td>38762.482867</td>\n      <td>NaN</td>\n    </tr>\n    <tr>\n      <th>19636</th>\n      <td>19645</td>\n      <td>19645</td>\n      <td>4 bed condo for sale in pullman residences newton</td>\n      <td>18 dunearn road</td>\n      <td>pullman residences newton</td>\n      <td>condo</td>\n      <td>4.0</td>\n      <td>4.0</td>\n      <td>1378</td>\n      <td>partial</td>\n      <td>...</td>\n      <td>novena</td>\n      <td>4178000.0</td>\n      <td>2023.0</td>\n      <td>freehold</td>\n      <td>studio, 1, 2, 3, 4, 5 br</td>\n      <td>1.0</td>\n      <td>0.0</td>\n      <td>1.0</td>\n      <td>6901.669759</td>\n      <td>NaN</td>\n    </tr>\n  </tbody>\n</table>\n<p>19637 rows × 23 columns</p>\n</div>"
     },
     "execution_count": 67,
     "metadata": {},
     "output_type": "execute_result"
    }
   ],
   "source": [
    "df_train.merge(pri_sch_cleaned, how='left',left_on=\"subzone\",right_on=\"subzone\")\\\n",
    "    .merge(sec_sch_cleaned, how='left',left_on=\"subzone\",right_on=\"subzone\")\\\n",
    "    .merge(mrt_station_cleaned, how='left',left_on=\"subzone\",right_on=\"subzone\")\\\n",
    "    .merge(df_subzone, how='left',left_on=\"subzone\",right_on=\"name\")\\\n",
    "    .join(closest_dist_to_mrt_test)\\\n",
    "    .fillna({'pri_sch':0, 'sec_sch':0, 'mrt_station':0})"
   ],
   "metadata": {
    "collapsed": false,
    "pycharm": {
     "name": "#%%\n"
    }
   }
  },
  {
   "cell_type": "code",
   "execution_count": null,
   "outputs": [],
   "source": [],
   "metadata": {
    "collapsed": false,
    "pycharm": {
     "name": "#%%\n"
    }
   }
  }
 ],
 "metadata": {
  "kernelspec": {
   "display_name": "Python 3",
   "language": "python",
   "name": "python3"
  },
  "language_info": {
   "codemirror_mode": {
    "name": "ipython",
    "version": 2
   },
   "file_extension": ".py",
   "mimetype": "text/x-python",
   "name": "python",
   "nbconvert_exporter": "python",
   "pygments_lexer": "ipython2",
   "version": "2.7.6"
  }
 },
 "nbformat": 4,
 "nbformat_minor": 0
}