{
 "cells": [
  {
   "cell_type": "markdown",
   "source": [
    "For subzone: calculate population density\n",
    "For pri sch, sec sch, shopping malls: calculate number of pri sch, sec schs, shopping malls in the subzone\n",
    "For mrt-station: calculate distance to the nearest mrt station for each property"
   ],
   "metadata": {
    "collapsed": false,
    "pycharm": {
     "name": "#%% md\n"
    }
   }
  },
  {
   "cell_type": "code",
   "execution_count": 8,
   "outputs": [],
   "source": [
    "import numpy as np\n",
    "import pandas as pd\n",
    "import geopy.distance"
   ],
   "metadata": {
    "collapsed": false,
    "pycharm": {
     "name": "#%%\n"
    }
   }
  },
  {
   "cell_type": "code",
   "execution_count": 9,
   "metadata": {
    "collapsed": true,
    "pycharm": {
     "name": "#%%\n"
    }
   },
   "outputs": [
    {
     "name": "stdout",
     "output_type": "stream",
     "text": [
      "           subzone\n",
      "0   woodlands east\n",
      "1      yishun west\n",
      "2        cheng san\n",
      "3  alexandra north\n",
      "4       anchorvale\n"
     ]
    }
   ],
   "source": [
    "df_pri_sch = pd.read_csv('../data/auxiliary-data/sg-primary-schools.csv')\n",
    "df_pri_sch = df_pri_sch.drop([\"name\", \"lat\", \"lng\", 'planning_area'], axis=1)\n",
    "print(df_pri_sch.head())"
   ]
  },
  {
   "cell_type": "code",
   "execution_count": 10,
   "outputs": [
    {
     "name": "stdout",
     "output_type": "stream",
     "text": [
      "                     pri_sch\n",
      "subzone                     \n",
      "woodlands east             6\n",
      "tampines east              6\n",
      "yunnan                     5\n",
      "punggol town centre        4\n",
      "bedok north                4\n",
      "...                      ...\n",
      "keat hong                  1\n",
      "katong                     1\n",
      "kampong ubi                1\n",
      "kampong java               1\n",
      "midview                    1\n",
      "\n",
      "[109 rows x 1 columns]\n"
     ]
    }
   ],
   "source": [
    "pri_sch_cleaned = df_pri_sch.value_counts().to_frame(name=\"pri_sch\")\n",
    "print(pri_sch_cleaned)"
   ],
   "metadata": {
    "collapsed": false,
    "pycharm": {
     "name": "#%%\n"
    }
   }
  },
  {
   "cell_type": "code",
   "execution_count": 11,
   "outputs": [
    {
     "name": "stdout",
     "output_type": "stream",
     "text": [
      "          subzone\n",
      "0  woodlands east\n",
      "1     yishun west\n",
      "2       cheng san\n",
      "3     bedok north\n",
      "4         malcolm\n"
     ]
    }
   ],
   "source": [
    "df_sec_sch = pd.read_csv('../data/auxiliary-data/sg-secondary-schools.csv')\n",
    "df_sec_sch = df_sec_sch.drop([\"name\", \"lat\", \"lng\", 'planning_area'], axis=1)\n",
    "print(df_sec_sch.head())"
   ],
   "metadata": {
    "collapsed": false,
    "pycharm": {
     "name": "#%%\n"
    }
   }
  },
  {
   "cell_type": "code",
   "execution_count": 12,
   "outputs": [],
   "source": [
    "sec_sch_cleaned = df_sec_sch.value_counts().to_frame(name=\"sec_sch\")"
   ],
   "metadata": {
    "collapsed": false,
    "pycharm": {
     "name": "#%%\n"
    }
   }
  },
  {
   "cell_type": "code",
   "execution_count": 13,
   "outputs": [
    {
     "name": "stdout",
     "output_type": "stream",
     "text": [
      "                sec_sch\n",
      "subzone                \n",
      "tampines east         5\n",
      "marymount             3\n",
      "bedok south           3\n",
      "tampines west         3\n",
      "woodlands east        3\n",
      "...                 ...\n",
      "joo seng              1\n",
      "jelebu                1\n",
      "hougang east          1\n",
      "henderson hill        1\n",
      "yunnan                1\n",
      "\n",
      "[101 rows x 1 columns]\n"
     ]
    }
   ],
   "source": [
    "print(sec_sch_cleaned)"
   ],
   "metadata": {
    "collapsed": false,
    "pycharm": {
     "name": "#%%\n"
    }
   }
  },
  {
   "cell_type": "code",
   "execution_count": 14,
   "outputs": [
    {
     "name": "stdout",
     "output_type": "stream",
     "text": [
      "                        population_density\n",
      "name                                      \n",
      "ang mo kio town centre        15178.289681\n",
      "cheng san                     29371.141572\n",
      "chong boon                    24568.885592\n",
      "kebun bahru                   21616.972477\n",
      "sembawang hills                7657.909447\n"
     ]
    }
   ],
   "source": [
    "df_subzone = pd.read_csv('../data/auxiliary-data/sg-subzones.csv')\n",
    "df_subzone[\"population_density\"] = df_subzone['population']/df_subzone[\"area_size\"]\n",
    "df_subzone = df_subzone.drop(['area_size', 'population', 'planning_area'],axis=1).set_index(\"name\")\n",
    "print(df_subzone.head())"
   ],
   "metadata": {
    "collapsed": false,
    "pycharm": {
     "name": "#%%\n"
    }
   }
  },
  {
   "cell_type": "code",
   "execution_count": 15,
   "outputs": [
    {
     "name": "stdout",
     "output_type": "stream",
     "text": [
      "         subzone\n",
      "0    dhoby ghaut\n",
      "1     bras basah\n",
      "2      city hall\n",
      "3  marina centre\n",
      "4         nicoll\n"
     ]
    }
   ],
   "source": [
    "df_mrt_station = pd.read_csv('../data/auxiliary-data/sg-mrt-stations.csv')\n",
    "df_mrt_station = df_mrt_station.drop([\"name\", \"lat\", \"lng\", 'planning_area', 'code', 'line', 'opening_year'], axis=1)\n",
    "print(df_mrt_station.head())"
   ],
   "metadata": {
    "collapsed": false,
    "pycharm": {
     "name": "#%%\n"
    }
   }
  },
  {
   "cell_type": "code",
   "execution_count": 16,
   "outputs": [
    {
     "name": "stdout",
     "output_type": "stream",
     "text": [
      "                   mrt_station\n",
      "subzone                       \n",
      "maritime square              4\n",
      "aljunied                     3\n",
      "serangoon central            3\n",
      "geylang east                 3\n",
      "city hall                    3\n"
     ]
    }
   ],
   "source": [
    "mrt_station_cleaned = df_mrt_station.value_counts().to_frame(name=\"mrt_station\")\n",
    "print(mrt_station_cleaned.head())"
   ],
   "metadata": {
    "collapsed": false,
    "pycharm": {
     "name": "#%%\n"
    }
   }
  },
  {
   "cell_type": "code",
   "execution_count": 17,
   "outputs": [],
   "source": [
    "df_train = pd.read_csv('../data/train_cleaned.csv')\n",
    "df_test = pd.read_csv('../data/test_cleaned.csv')"
   ],
   "metadata": {
    "collapsed": false,
    "pycharm": {
     "name": "#%%\n"
    }
   }
  },
  {
   "cell_type": "code",
   "execution_count": 19,
   "outputs": [
    {
     "data": {
      "text/plain": "       Unnamed: 0  Unnamed: 0.1  \\\n0               0             0   \n1               1             1   \n2               2             2   \n3               3             3   \n4               4             4   \n...           ...           ...   \n19632       19641         19641   \n19633       19642         19642   \n19634       19643         19643   \n19635       19644         19644   \n19636       19645         19645   \n\n                                                   title  \\\n0              hdb flat for sale in 866 yishun street 81   \n1      hdb flat for sale in 506b serangoon north aven...   \n2                     4 bed condo for sale in meyerhouse   \n3                   3 bed condo for sale in leedon green   \n4                     2 bed condo for sale in one bernam   \n...                                                  ...   \n19632              2 bed condo for sale in lentor modern   \n19633                       2 bed condo for sale in mori   \n19634  4 bed condo for sale in pullman residences newton   \n19635       hdb flat for sale in 691d woodlands drive 73   \n19636  4 bed condo for sale in pullman residences newton   \n\n                                  address              property_name  \\\n0                sembawang / yishun (d27)       866 yishun street 81   \n1      hougang / punggol / sengkang (d19)       hdb-serangoon estate   \n2                          128 meyer road                 meyerhouse   \n3                       26 leedon heights               leedon green   \n4                         1 bernam street                 one bernam   \n...                                   ...                        ...   \n19632                      lentor central              lentor modern   \n19633                 223 guillemard road                       mori   \n19634                     18 dunearn road  pullman residences newton   \n19635         admiralty / woodlands (d25)            admiralty flora   \n19636                     18 dunearn road  pullman residences newton   \n\n      property_type  num_beds  num_baths  size_sqft   furnishing  ...  \\\n0               hdb       3.0        2.0       1115  unspecified  ...   \n1               hdb       4.0        2.0       1575  unspecified  ...   \n2             condo       4.0        6.0       3070      partial  ...   \n3             condo       3.0        2.0        958      partial  ...   \n4             condo       2.0        1.0        732  unspecified  ...   \n...             ...       ...        ...        ...          ...  ...   \n19632         condo       2.0        2.0        635  unspecified  ...   \n19633         condo       2.0        2.0        883  unspecified  ...   \n19634         condo       4.0        4.0       1378  unspecified  ...   \n19635           hdb       3.0        2.0       1205  unfurnished  ...   \n19636         condo       4.0        4.0       1378      partial  ...   \n\n               subzone  planning_area      price built_year  \\\n0         yishun south         yishun   514500.0     1988.0   \n1      serangoon north      serangoon   995400.0     1992.0   \n2          mountbatten  marine parade  8485000.0     2022.0   \n3         farrer court    bukit timah  2626000.0     2023.0   \n4                anson  downtown core  1764000.0     2026.0   \n...                ...            ...        ...        ...   \n19632           tagore     ang mo kio  1050000.0     2026.0   \n19633         lavender        kallang  2087400.0     2026.0   \n19634         moulmein         novena  4193700.0     2023.0   \n19635   woodlands east      woodlands   754800.0     2017.0   \n19636         moulmein         novena  4178000.0     2023.0   \n\n                  tenure      available_unit_types pri_sch sec_sch  \\\n0      99-year leasehold                       NaN     2.0     2.0   \n1      99-year leasehold       1, 2, 3, 4, 5, 6 br     1.0     0.0   \n2               freehold     studio, 3, 4, 5, 6 br     0.0     1.0   \n3               freehold     studio, 1, 2, 3, 4 br     1.0     1.0   \n4      99-year leasehold  studio, 1, 2, 3, 4, 5 br     0.0     0.0   \n...                  ...                       ...     ...     ...   \n19632  99-year leasehold             1, 2, 3, 4 br     0.0     0.0   \n19633           freehold             1, 2, 3, 4 br     0.0     0.0   \n19634           freehold  studio, 1, 2, 3, 4, 5 br     1.0     0.0   \n19635  99-year leasehold                2, 3, 4 br     6.0     3.0   \n19636           freehold  studio, 1, 2, 3, 4, 5 br     1.0     0.0   \n\n       mrt_station  population_density  \n0              0.0        31517.683928  \n1              0.0        23280.268731  \n2              0.0         5829.779777  \n3              1.0        11059.413028  \n4              0.0          775.193798  \n...            ...                 ...  \n19632          1.0         2384.380061  \n19633          2.0        12802.219580  \n19634          1.0         6901.669759  \n19635          1.0        38762.482867  \n19636          1.0         6901.669759  \n\n[19637 rows x 22 columns]",
      "text/html": "<div>\n<style scoped>\n    .dataframe tbody tr th:only-of-type {\n        vertical-align: middle;\n    }\n\n    .dataframe tbody tr th {\n        vertical-align: top;\n    }\n\n    .dataframe thead th {\n        text-align: right;\n    }\n</style>\n<table border=\"1\" class=\"dataframe\">\n  <thead>\n    <tr style=\"text-align: right;\">\n      <th></th>\n      <th>Unnamed: 0</th>\n      <th>Unnamed: 0.1</th>\n      <th>title</th>\n      <th>address</th>\n      <th>property_name</th>\n      <th>property_type</th>\n      <th>num_beds</th>\n      <th>num_baths</th>\n      <th>size_sqft</th>\n      <th>furnishing</th>\n      <th>...</th>\n      <th>subzone</th>\n      <th>planning_area</th>\n      <th>price</th>\n      <th>built_year</th>\n      <th>tenure</th>\n      <th>available_unit_types</th>\n      <th>pri_sch</th>\n      <th>sec_sch</th>\n      <th>mrt_station</th>\n      <th>population_density</th>\n    </tr>\n  </thead>\n  <tbody>\n    <tr>\n      <th>0</th>\n      <td>0</td>\n      <td>0</td>\n      <td>hdb flat for sale in 866 yishun street 81</td>\n      <td>sembawang / yishun (d27)</td>\n      <td>866 yishun street 81</td>\n      <td>hdb</td>\n      <td>3.0</td>\n      <td>2.0</td>\n      <td>1115</td>\n      <td>unspecified</td>\n      <td>...</td>\n      <td>yishun south</td>\n      <td>yishun</td>\n      <td>514500.0</td>\n      <td>1988.0</td>\n      <td>99-year leasehold</td>\n      <td>NaN</td>\n      <td>2.0</td>\n      <td>2.0</td>\n      <td>0.0</td>\n      <td>31517.683928</td>\n    </tr>\n    <tr>\n      <th>1</th>\n      <td>1</td>\n      <td>1</td>\n      <td>hdb flat for sale in 506b serangoon north aven...</td>\n      <td>hougang / punggol / sengkang (d19)</td>\n      <td>hdb-serangoon estate</td>\n      <td>hdb</td>\n      <td>4.0</td>\n      <td>2.0</td>\n      <td>1575</td>\n      <td>unspecified</td>\n      <td>...</td>\n      <td>serangoon north</td>\n      <td>serangoon</td>\n      <td>995400.0</td>\n      <td>1992.0</td>\n      <td>99-year leasehold</td>\n      <td>1, 2, 3, 4, 5, 6 br</td>\n      <td>1.0</td>\n      <td>0.0</td>\n      <td>0.0</td>\n      <td>23280.268731</td>\n    </tr>\n    <tr>\n      <th>2</th>\n      <td>2</td>\n      <td>2</td>\n      <td>4 bed condo for sale in meyerhouse</td>\n      <td>128 meyer road</td>\n      <td>meyerhouse</td>\n      <td>condo</td>\n      <td>4.0</td>\n      <td>6.0</td>\n      <td>3070</td>\n      <td>partial</td>\n      <td>...</td>\n      <td>mountbatten</td>\n      <td>marine parade</td>\n      <td>8485000.0</td>\n      <td>2022.0</td>\n      <td>freehold</td>\n      <td>studio, 3, 4, 5, 6 br</td>\n      <td>0.0</td>\n      <td>1.0</td>\n      <td>0.0</td>\n      <td>5829.779777</td>\n    </tr>\n    <tr>\n      <th>3</th>\n      <td>3</td>\n      <td>3</td>\n      <td>3 bed condo for sale in leedon green</td>\n      <td>26 leedon heights</td>\n      <td>leedon green</td>\n      <td>condo</td>\n      <td>3.0</td>\n      <td>2.0</td>\n      <td>958</td>\n      <td>partial</td>\n      <td>...</td>\n      <td>farrer court</td>\n      <td>bukit timah</td>\n      <td>2626000.0</td>\n      <td>2023.0</td>\n      <td>freehold</td>\n      <td>studio, 1, 2, 3, 4 br</td>\n      <td>1.0</td>\n      <td>1.0</td>\n      <td>1.0</td>\n      <td>11059.413028</td>\n    </tr>\n    <tr>\n      <th>4</th>\n      <td>4</td>\n      <td>4</td>\n      <td>2 bed condo for sale in one bernam</td>\n      <td>1 bernam street</td>\n      <td>one bernam</td>\n      <td>condo</td>\n      <td>2.0</td>\n      <td>1.0</td>\n      <td>732</td>\n      <td>unspecified</td>\n      <td>...</td>\n      <td>anson</td>\n      <td>downtown core</td>\n      <td>1764000.0</td>\n      <td>2026.0</td>\n      <td>99-year leasehold</td>\n      <td>studio, 1, 2, 3, 4, 5 br</td>\n      <td>0.0</td>\n      <td>0.0</td>\n      <td>0.0</td>\n      <td>775.193798</td>\n    </tr>\n    <tr>\n      <th>...</th>\n      <td>...</td>\n      <td>...</td>\n      <td>...</td>\n      <td>...</td>\n      <td>...</td>\n      <td>...</td>\n      <td>...</td>\n      <td>...</td>\n      <td>...</td>\n      <td>...</td>\n      <td>...</td>\n      <td>...</td>\n      <td>...</td>\n      <td>...</td>\n      <td>...</td>\n      <td>...</td>\n      <td>...</td>\n      <td>...</td>\n      <td>...</td>\n      <td>...</td>\n      <td>...</td>\n    </tr>\n    <tr>\n      <th>19632</th>\n      <td>19641</td>\n      <td>19641</td>\n      <td>2 bed condo for sale in lentor modern</td>\n      <td>lentor central</td>\n      <td>lentor modern</td>\n      <td>condo</td>\n      <td>2.0</td>\n      <td>2.0</td>\n      <td>635</td>\n      <td>unspecified</td>\n      <td>...</td>\n      <td>tagore</td>\n      <td>ang mo kio</td>\n      <td>1050000.0</td>\n      <td>2026.0</td>\n      <td>99-year leasehold</td>\n      <td>1, 2, 3, 4 br</td>\n      <td>0.0</td>\n      <td>0.0</td>\n      <td>1.0</td>\n      <td>2384.380061</td>\n    </tr>\n    <tr>\n      <th>19633</th>\n      <td>19642</td>\n      <td>19642</td>\n      <td>2 bed condo for sale in mori</td>\n      <td>223 guillemard road</td>\n      <td>mori</td>\n      <td>condo</td>\n      <td>2.0</td>\n      <td>2.0</td>\n      <td>883</td>\n      <td>unspecified</td>\n      <td>...</td>\n      <td>lavender</td>\n      <td>kallang</td>\n      <td>2087400.0</td>\n      <td>2026.0</td>\n      <td>freehold</td>\n      <td>1, 2, 3, 4 br</td>\n      <td>0.0</td>\n      <td>0.0</td>\n      <td>2.0</td>\n      <td>12802.219580</td>\n    </tr>\n    <tr>\n      <th>19634</th>\n      <td>19643</td>\n      <td>19643</td>\n      <td>4 bed condo for sale in pullman residences newton</td>\n      <td>18 dunearn road</td>\n      <td>pullman residences newton</td>\n      <td>condo</td>\n      <td>4.0</td>\n      <td>4.0</td>\n      <td>1378</td>\n      <td>unspecified</td>\n      <td>...</td>\n      <td>moulmein</td>\n      <td>novena</td>\n      <td>4193700.0</td>\n      <td>2023.0</td>\n      <td>freehold</td>\n      <td>studio, 1, 2, 3, 4, 5 br</td>\n      <td>1.0</td>\n      <td>0.0</td>\n      <td>1.0</td>\n      <td>6901.669759</td>\n    </tr>\n    <tr>\n      <th>19635</th>\n      <td>19644</td>\n      <td>19644</td>\n      <td>hdb flat for sale in 691d woodlands drive 73</td>\n      <td>admiralty / woodlands (d25)</td>\n      <td>admiralty flora</td>\n      <td>hdb</td>\n      <td>3.0</td>\n      <td>2.0</td>\n      <td>1205</td>\n      <td>unfurnished</td>\n      <td>...</td>\n      <td>woodlands east</td>\n      <td>woodlands</td>\n      <td>754800.0</td>\n      <td>2017.0</td>\n      <td>99-year leasehold</td>\n      <td>2, 3, 4 br</td>\n      <td>6.0</td>\n      <td>3.0</td>\n      <td>1.0</td>\n      <td>38762.482867</td>\n    </tr>\n    <tr>\n      <th>19636</th>\n      <td>19645</td>\n      <td>19645</td>\n      <td>4 bed condo for sale in pullman residences newton</td>\n      <td>18 dunearn road</td>\n      <td>pullman residences newton</td>\n      <td>condo</td>\n      <td>4.0</td>\n      <td>4.0</td>\n      <td>1378</td>\n      <td>partial</td>\n      <td>...</td>\n      <td>moulmein</td>\n      <td>novena</td>\n      <td>4178000.0</td>\n      <td>2023.0</td>\n      <td>freehold</td>\n      <td>studio, 1, 2, 3, 4, 5 br</td>\n      <td>1.0</td>\n      <td>0.0</td>\n      <td>1.0</td>\n      <td>6901.669759</td>\n    </tr>\n  </tbody>\n</table>\n<p>19637 rows × 22 columns</p>\n</div>"
     },
     "execution_count": 19,
     "metadata": {},
     "output_type": "execute_result"
    }
   ],
   "source": [
    "df_train.merge(pri_sch_cleaned, how='left',left_on=\"subzone\",right_on=\"subzone\")\\\n",
    "    .merge(sec_sch_cleaned, how='left',left_on=\"subzone\",right_on=\"subzone\")\\\n",
    "    .merge(mrt_station_cleaned, how='left',left_on=\"subzone\",right_on=\"subzone\")\\\n",
    "    .merge(df_subzone, how='left',left_on=\"subzone\",right_on=\"name\")\\\n",
    "    .fillna({'pri_sch':0, 'sec_sch':0, 'mrt_station':0})"
   ],
   "metadata": {
    "collapsed": false,
    "pycharm": {
     "name": "#%%\n"
    }
   }
  },
  {
   "cell_type": "code",
   "execution_count": null,
   "outputs": [],
   "source": [],
   "metadata": {
    "collapsed": false,
    "pycharm": {
     "name": "#%%\n"
    }
   }
  }
 ],
 "metadata": {
  "kernelspec": {
   "display_name": "Python 3",
   "language": "python",
   "name": "python3"
  },
  "language_info": {
   "codemirror_mode": {
    "name": "ipython",
    "version": 2
   },
   "file_extension": ".py",
   "mimetype": "text/x-python",
   "name": "python",
   "nbconvert_exporter": "python",
   "pygments_lexer": "ipython2",
   "version": "2.7.6"
  }
 },
 "nbformat": 4,
 "nbformat_minor": 0
}