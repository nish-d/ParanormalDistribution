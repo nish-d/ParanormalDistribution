{
 "cells": [
  {
   "cell_type": "code",
   "execution_count": null,
   "metadata": {},
   "outputs": [],
   "source": [
    "import numpy as np\n",
    "import pandas as pd\n",
    "import matplotlib.pyplot as plt\n",
    "%matplotlib inline\n",
    "\n",
    "import warnings\n",
    "warnings.filterwarnings(action=\"ignore\")"
   ]
  },
  {
   "cell_type": "code",
   "execution_count": null,
   "metadata": {},
   "outputs": [],
   "source": [
    "df_train = pd.read_csv('../data/train_cleaned.csv')\n",
    "df_test = pd.read_csv('../data/test_cleaned.csv')"
   ]
  },
  {
   "cell_type": "code",
   "execution_count": null,
   "metadata": {},
   "outputs": [],
   "source": [
    "#Proof of 1 to many mapping of planning_area vs subzone\n",
    "df_train.groupby(['subzone']).planning_area.nunique().unique()"
   ]
  },
  {
   "cell_type": "code",
   "execution_count": null,
   "metadata": {},
   "outputs": [],
   "source": [
    "df_train = df_train.drop([ 'title', 'property_name', 'address', 'available_unit_types', 'lat', 'lng'], axis=1)\n",
    "df_test = df_test.drop([ 'title', 'property_name', 'address', 'available_unit_types', 'lat', 'lng'], axis=1)\n",
    "\n",
    "df_train[\"price_per_sqft\"] = df_train[\"price\"]/df_train[\"size_sqft\"] \n",
    "\n",
    "price_avg = df_train.groupby(['subzone']).price_per_sqft.mean().reset_index(name = 'price_avg_subzone')\n",
    "df_train = df_train.merge(price_avg, on=['subzone'])"
   ]
  },
  {
   "cell_type": "code",
   "execution_count": null,
   "metadata": {},
   "outputs": [],
   "source": [
    "from sklearn.preprocessing import OneHotEncoder\n",
    "#One hot encoding ['property_type', 'furnishing','planning_area', 'tenure']\n",
    "encoder = OneHotEncoder()\n",
    "cols = ['property_type', 'furnishing','planning_area', 'tenure']\n",
    "encoder.fit(df_train[cols])\n",
    "\n",
    "X = encoder.transform(df_train[cols]).toarray()\n",
    "colnames = []\n",
    "for col, arr in zip(cols, encoder.categories_):\n",
    "    colnames += [col + '_' + x for x in arr]\n",
    "X = pd.DataFrame(X, columns=colnames, index=df_train.index).astype(int)\n",
    "df_train = pd.concat([df_train, X], axis=1).drop(cols, axis = 1)\n",
    "\n",
    "#test data\n",
    "X = encoder.transform(df_test[cols]).toarray()\n",
    "X = pd.DataFrame(X, columns=colnames, index=df_test.index).astype(int)\n",
    "df_test = pd.concat([df_test, X], axis=1).drop(cols, axis = 1)\n"
   ]
  },
  {
   "cell_type": "code",
   "execution_count": null,
   "metadata": {},
   "outputs": [],
   "source": [
    "#Encode age from built_year\n",
    "df_train['age'] =2022 - df_train['built_year']\n",
    "df_test['age'] =2022 - df_test['built_year']"
   ]
  },
  {
   "cell_type": "code",
   "execution_count": null,
   "metadata": {},
   "outputs": [],
   "source": [
    "#replace 1s of planning_area one hot encoding with the average price/sqft of the subzone it belongs to.\n",
    "cols = df_train.columns\n",
    "cols = cols[cols.str.startswith('planning_area')]\n",
    "df_train[cols] = df_train[cols].apply(lambda x: x.mul(df_train['price_avg_subzone']), axis=0)\n",
    "df_train = df_train.drop(['subzone', 'price_avg_subzone','size_sqft', 'built_year'], axis = 1)\n",
    "df_train.head()\n",
    "\n",
    "df_test = df_test.merge(price_avg, on='subzone')\n",
    "df_test[cols] = df_test[cols].apply(lambda x: x.mul(df_test['price_avg_subzone']), axis=0)\n",
    "df_test = df_test.drop(['subzone', 'price_avg_subzone', 'built_year'], axis = 1)\n"
   ]
  },
  {
   "cell_type": "code",
   "execution_count": null,
   "metadata": {},
   "outputs": [],
   "source": [
    "df_test.head()\n"
   ]
  },
  {
   "cell_type": "code",
   "execution_count": null,
   "metadata": {},
   "outputs": [],
   "source": [
    "df_train.to_csv('../data/train_encoded_1.csv')\n",
    "df_test.to_csv('../data/test_encoded_1.csv')"
   ]
  },
  {
   "cell_type": "code",
   "execution_count": null,
   "metadata": {},
   "outputs": [],
   "source": []
  }
 ],
 "metadata": {
  "kernelspec": {
   "display_name": "Python 3.9.7 ('base')",
   "language": "python",
   "name": "python3"
  },
  "language_info": {
   "codemirror_mode": {
    "name": "ipython",
    "version": 3
   },
   "file_extension": ".py",
   "mimetype": "text/x-python",
   "name": "python",
   "nbconvert_exporter": "python",
   "pygments_lexer": "ipython3",
   "version": "3.9.7"
  },
  "orig_nbformat": 4,
  "vscode": {
   "interpreter": {
    "hash": "8a9a3a0f59d94ba7973b21a69118181ce5bc1e1391d96e7c074d54f3ed39dfbb"
   }
  }
 },
 "nbformat": 4,
 "nbformat_minor": 2
}
