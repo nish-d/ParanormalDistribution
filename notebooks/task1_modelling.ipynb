{
 "cells": [
  {
   "cell_type": "code",
   "execution_count": 84,
   "id": "369ecaf6",
   "metadata": {},
   "outputs": [],
   "source": [
    "import numpy as np\n",
    "import math\n",
    "import pandas as pd\n",
    "from sklearn.model_selection import cross_val_score\n",
    "from sklearn.metrics import mean_squared_error\n",
    "from sklearn import preprocessing\n",
    "from sklearn.model_selection import GridSearchCV, PredefinedSplit"
   ]
  },
  {
   "cell_type": "code",
   "execution_count": 85,
   "id": "b7790342",
   "metadata": {},
   "outputs": [],
   "source": [
    "# models\n",
    "from sklearn.linear_model import LinearRegression\n",
    "from sklearn.tree import DecisionTreeRegressor\n",
    "from sklearn.svm import SVR\n",
    "from sklearn.svm import LinearSVR"
   ]
  },
  {
   "cell_type": "markdown",
   "id": "96597f7b",
   "metadata": {},
   "source": [
    "### Loading cleaned and encoded data"
   ]
  },
  {
   "cell_type": "code",
   "execution_count": 86,
   "id": "b880cdb0",
   "metadata": {},
   "outputs": [],
   "source": [
    "df_train = pd.read_csv('../data/train_modelling.csv')\n",
    "df_test = pd.read_csv('../data/test_modelling.csv')"
   ]
  },
  {
   "cell_type": "markdown",
   "id": "5bbd0091",
   "metadata": {},
   "source": [
    "### Training"
   ]
  },
  {
   "cell_type": "code",
   "execution_count": 87,
   "id": "a5216e01",
   "metadata": {},
   "outputs": [],
   "source": [
    "df_train = df_train.drop(['Unnamed: 0'], axis = 1)\n",
    "X_train = df_train.drop(['price'], axis=1)\n",
    "y_train = df_train['price']"
   ]
  },
  {
   "cell_type": "code",
   "execution_count": 88,
   "id": "statutory-thomson",
   "metadata": {},
   "outputs": [],
   "source": [
    "np.random.seed(0)\n",
    "idxs = np.arange(X_train.shape[0])\n",
    "np.random.shuffle(idxs)"
   ]
  },
  {
   "cell_type": "code",
   "execution_count": 89,
   "id": "clear-setting",
   "metadata": {},
   "outputs": [],
   "source": [
    "split = int(0.2*X_train.shape[0])\n",
    "\n",
    "train_idxs = idxs[split:]\n",
    "valid_idxs = idxs[:split]\n",
    "\n",
    "split_idxs = [ -1 if x in train_idxs else 0 for x in range(df_train.shape[0])]\n",
    "ps = PredefinedSplit(test_fold = split_idxs)\n",
    "\n",
    "X_valid = X_train.iloc[valid_idxs]\n",
    "y_valid = y_train.iloc[valid_idxs]\n",
    "\n",
    "X_train = X_train.iloc[train_idxs]\n",
    "y_train = y_train.iloc[train_idxs]"
   ]
  },
  {
   "cell_type": "code",
   "execution_count": 90,
   "id": "3467a7e9",
   "metadata": {},
   "outputs": [],
   "source": [
    "scaler = preprocessing.StandardScaler().fit(X_train)\n",
    "X_train, X_valid = scaler.transform(X_train), scaler.transform(X_valid)"
   ]
  },
  {
   "cell_type": "markdown",
   "id": "unnecessary-movement",
   "metadata": {},
   "source": [
    "**LinearRegression**"
   ]
  },
  {
   "cell_type": "code",
   "execution_count": 91,
   "id": "5b44e90b",
   "metadata": {},
   "outputs": [
    {
     "data": {
      "text/plain": [
       "LinearRegression()"
      ]
     },
     "execution_count": 91,
     "metadata": {},
     "output_type": "execute_result"
    }
   ],
   "source": [
    "lin_reg = LinearRegression()\n",
    "lin_reg.fit(X_train, y_train)"
   ]
  },
  {
   "cell_type": "code",
   "execution_count": 92,
   "id": "1fe87142",
   "metadata": {},
   "outputs": [
    {
     "name": "stdout",
     "output_type": "stream",
     "text": [
      "training RMSE = 3593335.89\n",
      "valid RMSE    = 68077068.40\n"
     ]
    }
   ],
   "source": [
    "yt_pred = lin_reg.predict(X_train)\n",
    "train_error = mean_squared_error(y_train, yt_pred, squared=False)\n",
    "print(f'training RMSE = {train_error:.2f}')\n",
    "yv_pred = lin_reg.predict(X_valid)\n",
    "valid_error = mean_squared_error(y_valid, yv_pred, squared=False)\n",
    "print(f'valid RMSE    = {valid_error:.2f}')"
   ]
  },
  {
   "cell_type": "code",
   "execution_count": 93,
   "id": "8f92a98a",
   "metadata": {},
   "outputs": [
    {
     "name": "stdout",
     "output_type": "stream",
     "text": [
      "Percentage error for training data 73.43889887687553\n",
      "Percentage error for validation data 73.9255823393894\n"
     ]
    }
   ],
   "source": [
    "print(f'Percentage error for training data {((abs(yt_pred - y_train)/y_train)*100).mean()}')\n",
    "print(f'Percentage error for validation data {((abs(yv_pred - y_valid)/y_valid)*100).mean()}')"
   ]
  },
  {
   "cell_type": "markdown",
   "id": "209d76a6",
   "metadata": {},
   "source": [
    "### Decision Tree"
   ]
  },
  {
   "cell_type": "code",
   "execution_count": 94,
   "id": "e825b4e0",
   "metadata": {},
   "outputs": [
    {
     "data": {
      "text/plain": [
       "DecisionTreeRegressor(max_depth=5)"
      ]
     },
     "execution_count": 94,
     "metadata": {},
     "output_type": "execute_result"
    }
   ],
   "source": [
    "tree_reg = DecisionTreeRegressor(max_depth=5)\n",
    "tree_reg.fit(X_train, y_train)"
   ]
  },
  {
   "cell_type": "code",
   "execution_count": 95,
   "id": "1d0d3606",
   "metadata": {},
   "outputs": [
    {
     "name": "stdout",
     "output_type": "stream",
     "text": [
      "training RMSE = 1507351.33\n",
      "valid RMSE    = 84963750.75\n"
     ]
    }
   ],
   "source": [
    "yt_pred = tree_reg.predict(X_train)\n",
    "train_error = mean_squared_error(y_train, yt_pred, squared=False)\n",
    "print(f'training RMSE = {train_error:.2f}')\n",
    "yv_pred = tree_reg.predict(X_valid)\n",
    "valid_error = mean_squared_error(y_valid, yv_pred, squared=False)\n",
    "print(f'valid RMSE    = {valid_error:.2f}')"
   ]
  },
  {
   "cell_type": "code",
   "execution_count": 96,
   "id": "ec5aac11",
   "metadata": {},
   "outputs": [
    {
     "name": "stdout",
     "output_type": "stream",
     "text": [
      "Percentage error for training data 26.34317705051243\n",
      "Percentage error for validation data 27.566519835244325\n"
     ]
    }
   ],
   "source": [
    "print(f'Percentage error for training data {((abs(yt_pred - y_train)/y_train)*100).mean()}')\n",
    "print(f'Percentage error for validation data {((abs(yv_pred - y_valid)/y_valid)*100).mean()}')"
   ]
  },
  {
   "cell_type": "markdown",
   "id": "0c73a70a",
   "metadata": {},
   "source": [
    "### Linear SVR"
   ]
  },
  {
   "cell_type": "code",
   "execution_count": 97,
   "id": "0b64cacf",
   "metadata": {},
   "outputs": [
    {
     "data": {
      "text/plain": [
       "LinearSVR(random_state=0)"
      ]
     },
     "execution_count": 97,
     "metadata": {},
     "output_type": "execute_result"
    }
   ],
   "source": [
    "svm_reg = LinearSVR(random_state = 0, max_iter = 1000)\n",
    "svm_reg.fit(X_train, y_train)"
   ]
  },
  {
   "cell_type": "code",
   "execution_count": 98,
   "id": "9e92a1cb",
   "metadata": {},
   "outputs": [
    {
     "name": "stdout",
     "output_type": "stream",
     "text": [
      "training RMSE = 334392736.09\n",
      "valid RMSE    = 85126648.05\n"
     ]
    }
   ],
   "source": [
    "yt_pred = svm_reg.predict(X_train)\n",
    "train_error = mean_squared_error(y_train, yt_pred, squared=False)\n",
    "print(f'training RMSE = {train_error:.2f}')\n",
    "yv_pred = svm_reg.predict(X_valid)\n",
    "valid_error = mean_squared_error(y_valid, yv_pred, squared=False)\n",
    "print(f'valid RMSE    = {valid_error:.2f}')"
   ]
  },
  {
   "cell_type": "code",
   "execution_count": 99,
   "id": "7340960b",
   "metadata": {},
   "outputs": [
    {
     "name": "stdout",
     "output_type": "stream",
     "text": [
      "Percentage error for training data 98.91915438979035\n",
      "Percentage error for validation data 98.90214423217678\n"
     ]
    }
   ],
   "source": [
    "print(f'Percentage error for training data {((abs(yt_pred - y_train)/y_train)*100).mean()}')\n",
    "print(f'Percentage error for validation data {((abs(yv_pred - y_valid)/y_valid)*100).mean()}')"
   ]
  },
  {
   "cell_type": "code",
   "execution_count": null,
   "id": "5cfb7dc1",
   "metadata": {},
   "outputs": [],
   "source": []
  }
 ],
 "metadata": {
  "kernelspec": {
   "display_name": "Python 3.9.7 ('base')",
   "language": "python",
   "name": "python3"
  },
  "language_info": {
   "codemirror_mode": {
    "name": "ipython",
    "version": 3
   },
   "file_extension": ".py",
   "mimetype": "text/x-python",
   "name": "python",
   "nbconvert_exporter": "python",
   "pygments_lexer": "ipython3",
   "version": "3.9.7"
  },
  "vscode": {
   "interpreter": {
    "hash": "8a9a3a0f59d94ba7973b21a69118181ce5bc1e1391d96e7c074d54f3ed39dfbb"
   }
  }
 },
 "nbformat": 4,
 "nbformat_minor": 5
}
