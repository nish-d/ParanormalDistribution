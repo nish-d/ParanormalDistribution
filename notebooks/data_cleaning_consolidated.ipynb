{
 "cells": [
  {
   "cell_type": "code",
   "execution_count": 1,
   "metadata": {
    "pycharm": {
     "name": "#%%\n"
    }
   },
   "outputs": [],
   "source": [
    "import numpy as np\n",
    "import pandas as pd\n",
    "from math import radians\n",
    "import sklearn.metrics"
   ]
  },
  {
   "cell_type": "code",
   "execution_count": 2,
   "metadata": {
    "pycharm": {
     "name": "#%%\n"
    }
   },
   "outputs": [
    {
     "name": "stdout",
     "output_type": "stream",
     "text": [
      "Train size: 20254\n",
      "Test size: 6966\n"
     ]
    }
   ],
   "source": [
    "df_train = pd.read_csv('../data/train.csv')\n",
    "df_test = pd.read_csv('../data/test.csv')\n",
    "\n",
    "print(f\"Train size: {df_train.shape[0]}\")\n",
    "print(f\"Test size: {df_test.shape[0]}\")"
   ]
  },
  {
   "cell_type": "markdown",
   "metadata": {
    "pycharm": {
     "name": "#%% md\n"
    }
   },
   "source": [
    "Primary School"
   ]
  },
  {
   "cell_type": "code",
   "execution_count": 3,
   "metadata": {
    "pycharm": {
     "name": "#%%\n"
    }
   },
   "outputs": [],
   "source": [
    "df_pri_sch = pd.read_csv('../data/auxiliary-data/sg-primary-schools.csv')\n",
    "df_pri_sch = df_pri_sch.drop([\"name\", \"lat\", \"lng\", 'planning_area'], axis=1)\n",
    "pri_sch_cleaned = df_pri_sch.value_counts().to_frame(name=\"pri_sch\")\n",
    "\n",
    "#TODO: Get schools in vicinity instead of just subzone."
   ]
  },
  {
   "cell_type": "markdown",
   "metadata": {
    "pycharm": {
     "name": "#%% md\n"
    }
   },
   "source": [
    "Secondary School"
   ]
  },
  {
   "cell_type": "code",
   "execution_count": 4,
   "metadata": {
    "pycharm": {
     "name": "#%%\n"
    }
   },
   "outputs": [],
   "source": [
    "df_sec_sch = pd.read_csv('../data/auxiliary-data/sg-secondary-schools.csv')\n",
    "df_sec_sch = df_sec_sch.drop([\"name\", \"lat\", \"lng\", 'planning_area'], axis=1)\n",
    "sec_sch_cleaned = df_sec_sch.value_counts().to_frame(name=\"sec_sch\")\n",
    "\n",
    "#TODO: Get schools in vicinity instead of just subzone."
   ]
  },
  {
   "cell_type": "markdown",
   "metadata": {
    "pycharm": {
     "name": "#%% md\n"
    }
   },
   "source": [
    "Population Density of Subzone"
   ]
  },
  {
   "cell_type": "code",
   "execution_count": 5,
   "metadata": {
    "pycharm": {
     "name": "#%%\n"
    }
   },
   "outputs": [],
   "source": [
    "df_subzone = pd.read_csv('../data/auxiliary-data/sg-subzones.csv')\n",
    "df_subzone[\"population_density\"] = df_subzone['population']/df_subzone[\"area_size\"]\n",
    "df_subzone = df_subzone.drop(['area_size', 'population', 'planning_area'],axis=1).set_index(\"name\")"
   ]
  },
  {
   "cell_type": "code",
   "execution_count": 6,
   "metadata": {
    "pycharm": {
     "name": "#%%\n"
    }
   },
   "outputs": [],
   "source": [
    "df_dirty_test = df_test\n",
    "df_dirty_train = df_train"
   ]
  },
  {
   "cell_type": "markdown",
   "metadata": {
    "pycharm": {
     "name": "#%% md\n"
    }
   },
   "source": [
    "Remove duplicates and invalid data (Rows)\n"
   ]
  },
  {
   "cell_type": "code",
   "execution_count": 7,
   "metadata": {
    "pycharm": {
     "name": "#%%\n"
    }
   },
   "outputs": [
    {
     "name": "stdout",
     "output_type": "stream",
     "text": [
      "Records dropped :3034\n"
     ]
    }
   ],
   "source": [
    "df_cleaned = df_dirty_train.drop_duplicates()\n",
    "df_cleaned = df_cleaned[df_cleaned.size_sqft > 0]\n",
    "df_cleaned.dropna(subset=['num_beds', 'num_baths', 'price', 'size_sqft', 'built_year', 'available_unit_types', 'tenure'], inplace = True)\n",
    "df_cleaned = df_cleaned[df_cleaned.price > 0]\n",
    "df_cleaned = df_cleaned[df_cleaned.furnishing != \"na\"]\n",
    "print(f'Records dropped :{df_dirty_train.shape[0] - df_cleaned.shape[0]}' )\n"
   ]
  },
  {
   "cell_type": "markdown",
   "metadata": {
    "pycharm": {
     "name": "#%% md\n"
    }
   },
   "source": [
    "#c.\tStandardize capitalization\n"
   ]
  },
  {
   "cell_type": "code",
   "execution_count": 8,
   "metadata": {
    "pycharm": {
     "name": "#%%\n"
    }
   },
   "outputs": [],
   "source": [
    "df_cleaned['property_type'] = df_cleaned['property_type'].str.lower()\n",
    "df_cleaned['tenure'] = df_cleaned['tenure'].str.lower()\n",
    "df_cleaned['furnishing'] = df_cleaned['furnishing'].str.lower()\n",
    "df_cleaned['subzone'] = df_cleaned['subzone'].str.lower()\n",
    "df_cleaned['planning_area'] = df_cleaned['planning_area'].str.lower()\n",
    "\n",
    "df_cleaned['built_year'] = df_cleaned['built_year'].astype(int)\n",
    "df_cleaned['num_beds'] = df_cleaned['num_beds'].astype(int)\n",
    "df_cleaned['num_baths'] = df_cleaned['num_baths'].astype(int)\n",
    "df_cleaned['lng'] = df_cleaned['lng'].astype(np.float16)\n",
    "df_cleaned['lat'] = df_cleaned['lat'].astype(np.float16)\n",
    "\n",
    "df_test_cleaned = df_dirty_test\n",
    "df_test_cleaned['property_type'] = df_test_cleaned['property_type'].str.lower()\n",
    "df_test_cleaned['tenure'] = df_test_cleaned['tenure'].str.lower()\n",
    "df_test_cleaned['furnishing'] = df_test_cleaned['furnishing'].str.lower()\n",
    "df_test_cleaned['subzone'] = df_test_cleaned['subzone'].str.lower()\n",
    "df_test_cleaned['planning_area'] = df_test_cleaned['planning_area'].str.lower()\n",
    "\n",
    "#TODO: Fix comments\n",
    "#df_test_cleaned['built_year'] = df_test_cleaned['built_year'].astype(int)\n",
    "#df_test_cleaned['num_beds'] = df_test_cleaned['num_beds'].astype(int)\n",
    "#df_test_cleaned['num_baths'] = df_test_cleaned['num_baths'].astype(int)\n",
    "df_test_cleaned['lng'] = df_test_cleaned['lng'].astype(np.float16)\n",
    "df_test_cleaned['lat'] = df_test_cleaned['lat'].astype(np.float16)\n"
   ]
  },
  {
   "cell_type": "markdown",
   "metadata": {
    "pycharm": {
     "name": "#%% md\n"
    }
   },
   "source": [
    "Clean Lease tenure column, Property_Type Column"
   ]
  },
  {
   "cell_type": "code",
   "execution_count": 9,
   "metadata": {
    "pycharm": {
     "name": "#%%\n"
    }
   },
   "outputs": [
    {
     "name": "stdout",
     "output_type": "stream",
     "text": [
      "Train size: 17220\n",
      "Test size: 6966\n"
     ]
    }
   ],
   "source": [
    "#TENURE COLUMN\n",
    "mask_999 = ['947-year leasehold', '929-year leasehold', '946-year leasehold',\n",
    "'956-year leasehold']\n",
    "mask_99 = ['100-year leasehold', '102-year leasehold', '110-year leasehold', '103-year leasehold']\n",
    "df_cleaned = df_cleaned.replace(mask_999, '999-year leasehold')\n",
    "df_cleaned = df_cleaned.replace(mask_99, '99-year leasehold')\n",
    "\n",
    "df_test_cleaned = df_test_cleaned.replace(mask_999, '999-year leasehold')\n",
    "df_test_cleaned = df_test_cleaned.replace(mask_99, '99-year leasehold')\n",
    "\n",
    "print(f\"Train size: {df_cleaned.shape[0]}\")\n",
    "print(f\"Test size: {df_test_cleaned.shape[0]}\")\n"
   ]
  },
  {
   "cell_type": "code",
   "execution_count": 10,
   "metadata": {
    "pycharm": {
     "name": "#%%\n"
    }
   },
   "outputs": [
    {
     "name": "stdout",
     "output_type": "stream",
     "text": [
      "Train size: 17219\n",
      "Test size: 6966\n"
     ]
    }
   ],
   "source": [
    "#PROPERTY TYPE\n",
    "# changing \"hdb 3 rooms\", \"hdb 4 rooms\" and likewise to \"hdb\" since the number of rooms info can\n",
    "# be obtained from \"num_beds\"\n",
    "df_cleaned['property_type'].mask(df_cleaned['property_type'].str.contains(\"hdb\"), \"hdb\", inplace=True)\n",
    "df_cleaned.drop(df_cleaned[df_cleaned['property_type']  == 'land only'].index, inplace = True)\n",
    "\n",
    "df_test_cleaned['property_type'].mask(df_test_cleaned['property_type'].str.contains(\"hdb\"), \"hdb\", inplace=True)\n",
    "\n",
    "#TODO: Reduce number of property types with less properties. Maybe do an EDA and figure out best way to remove them. Perhaps club \n",
    "#them in different category.\n",
    "\n",
    "df_cleaned.loc[(df_cleaned['property_type']==\"apartment\") & \n",
    "       (df_cleaned['title'].str.contains('condo')),['property_type']] = \"condo\"\n",
    "\n",
    "df_cleaned.loc[(df_cleaned['property_type']==\"walk-up\") & \n",
    "       (df_cleaned['title'].str.contains('condo')),['property_type']] = \"condo\"\n",
    "\n",
    "df_cleaned.loc[(df_cleaned['property_type']==\"good class bungalow\"),['property_type']] = \"bungalow\"\n",
    "\n",
    "#Test\n",
    "df_test_cleaned.loc[(df_test_cleaned['property_type']==\"apartment\") & \n",
    "       (df_test_cleaned['title'].str.contains('condo')),['property_type']] = \"condo\"\n",
    "\n",
    "df_test_cleaned.loc[(df_test_cleaned['property_type']==\"walk-up\") & \n",
    "       (df_test_cleaned['title'].str.contains('condo')),['property_type']] = \"condo\"\n",
    "\n",
    "df_test_cleaned.loc[(df_test_cleaned['property_type']==\"good class bungalow\"),['property_type']] = \"bungalow\"\n",
    "\n",
    "df_test_cleaned.loc[(df_test_cleaned['property_type']==\"conservation house\") & \n",
    "       (df_test_cleaned['property_details_url'].str.contains('condo')),['property_type']] = \"condo\"\n",
    "\n",
    "df_test_cleaned.loc[(df_test_cleaned['property_type']==\"good class bungalow\"),['property_type']] = \"bungalow\"\n",
    "\n",
    "#The following results have been picked manually from the website 99.co\n",
    "df_test_cleaned.loc[(df_test_cleaned['property_type']==\"conservation house\") & \n",
    "       (df_test_cleaned['property_details_url'].str.contains('blair-plain-conservation-area')),['property_type']] = \"landed\"\n",
    "\n",
    "df_test_cleaned.loc[(df_test_cleaned['property_type']==\"conservation house\") & \n",
    "       (df_test_cleaned['property_details_url'].str.contains('beng-tong-mansion')),['property_type']] = \"landed\"\n",
    "\n",
    "print(f\"Train size: {df_cleaned.shape[0]}\")\n",
    "print(f\"Test size: {df_test_cleaned.shape[0]}\")\n"
   ]
  },
  {
   "cell_type": "markdown",
   "metadata": {
    "pycharm": {
     "name": "#%% md\n"
    }
   },
   "source": [
    "Handle Missing Values"
   ]
  },
  {
   "cell_type": "code",
   "execution_count": 11,
   "metadata": {
    "pycharm": {
     "name": "#%%\n"
    }
   },
   "outputs": [],
   "source": [
    "#h. Handle missing values\n",
    "\n",
    "#built_year\n",
    "dfmap = df_cleaned.dropna(subset = ['built_year'])[['built_year', 'property_name']].drop_duplicates()\n",
    "dfmap = dfmap.drop_duplicates(subset = ['property_name'])\n",
    "df_cleaned = df_cleaned.drop(columns=['built_year']).merge(dfmap, on=['property_name'], how='left')\n",
    "\n",
    "dfmap = df_cleaned.dropna(subset = ['tenure'])[['tenure', 'property_name']].drop_duplicates()\n",
    "dfmap = dfmap.drop_duplicates(subset = ['property_name'])\n",
    "df_cleaned = df_cleaned.drop(columns=['tenure']).merge(dfmap, on=['property_name'], how='left')\n",
    "\n",
    "dfmap = df_cleaned.dropna(subset = ['tenure'])[['tenure', 'address']].drop_duplicates()\n",
    "dfmap = dfmap.drop_duplicates(subset = ['address'])\n",
    "df_cleaned = df_cleaned.drop(columns=['tenure']).merge(dfmap, on=['address'], how='left')\n",
    "\n",
    "#df_cleaned.isnull().sum()\n",
    "\n"
   ]
  },
  {
   "cell_type": "code",
   "execution_count": 12,
   "metadata": {
    "pycharm": {
     "name": "#%%\n"
    }
   },
   "outputs": [
    {
     "name": "stdout",
     "output_type": "stream",
     "text": [
      "----------------------------------------------------\n"
     ]
    }
   ],
   "source": [
    "#h. Handle missing values\n",
    "#print(df_test_cleaned.isnull().sum())\n",
    "print(\"----------------------------------------------------\")\n",
    "\n",
    "#built_year\n",
    "dfmap = df_test_cleaned.dropna(subset = ['built_year'])[['built_year', 'property_name']].drop_duplicates()\n",
    "dfmap = dfmap.drop_duplicates(subset = ['property_name'])\n",
    "df_test_cleaned = df_test_cleaned.drop(columns=['built_year']).merge(dfmap, on=['property_name'], how='left')\n",
    "\n",
    "\n",
    "#df_test_cleaned = df_test_cleaned.dropna(subset=['built_year'])\n",
    "\n",
    "dfmap = df_test_cleaned.dropna(subset = ['tenure'])[['tenure', 'property_name']].drop_duplicates()\n",
    "dfmap = dfmap.drop_duplicates(subset = ['property_name'])\n",
    "df_test_cleaned = df_test_cleaned.drop(columns=['tenure']).merge(dfmap, on=['property_name'], how='left')\n",
    "\n",
    "dfmap = df_test_cleaned.dropna(subset = ['tenure'])[['tenure', 'address']].drop_duplicates()\n",
    "dfmap = dfmap.drop_duplicates(subset = ['address'])\n",
    "df_test_cleaned = df_test_cleaned.drop(columns=['tenure']).merge(dfmap, on=['address'], how='left')\n",
    "\n",
    "#Fill in number of baths from number of bedrooms.\n",
    "df_test_cleaned.loc[(df_test_cleaned.num_baths.isnull() & df_test_cleaned.num_beds == 1), ['num_baths']] = 1\n",
    "df_test_cleaned.loc[(df_test_cleaned.num_baths.isnull() & df_test_cleaned.num_beds == 2), ['num_baths']] = 2\n",
    "df_test_cleaned.loc[(df_test_cleaned.num_baths.isnull() & df_test_cleaned.num_beds > 2), ['num_baths']] = df_test_cleaned.num_beds -1\n",
    "\n",
    "#Fill in number of beds from number of bathrooms.\n",
    "df_test_cleaned.loc[(df_test_cleaned.num_beds.isnull() & df_test_cleaned.num_baths == 1), ['num_beds']] = 1\n",
    "df_test_cleaned.loc[(df_test_cleaned.num_beds.isnull() & df_test_cleaned.num_baths == 2), ['num_beds']] = 2\n",
    "df_test_cleaned.loc[(df_test_cleaned.num_beds.isnull() & df_test_cleaned.num_baths > 2), ['num_beds']] = df_test_cleaned.num_baths + 1\n",
    "\n",
    "#There are 5 properties which have both Nan values for bed and baths. Estimate their beds from area.\n",
    "df_test_cleaned.loc[(df_test_cleaned.num_beds.isnull() & df_test_cleaned.size_sqft < 600), ['num_beds']] = 1\n",
    "df_test_cleaned.loc[(df_test_cleaned.num_beds.isnull() & df_test_cleaned.size_sqft < 1000), ['num_beds']] = 2\n",
    "df_test_cleaned.loc[(df_test_cleaned.num_beds.isnull() & df_test_cleaned.size_sqft < 1700), ['num_beds']] = 3\n",
    "df_test_cleaned.loc[(df_test_cleaned.num_beds.isnull() & df_test_cleaned.size_sqft < 3000), ['num_beds']] = 4\n",
    "\n",
    "#Estimate their baths from beds.\n",
    "df_test_cleaned.loc[(df_test_cleaned.num_baths.isnull() & df_test_cleaned.num_beds == 1), ['num_baths']] = 1\n",
    "df_test_cleaned.loc[(df_test_cleaned.num_baths.isnull() & df_test_cleaned.num_beds == 2), ['num_baths']] = 2\n",
    "df_test_cleaned.loc[(df_test_cleaned.num_baths.isnull() & df_test_cleaned.num_beds > 2), ['num_baths']] = df_test_cleaned.num_beds -1\n"
   ]
  },
  {
   "cell_type": "code",
   "execution_count": 13,
   "metadata": {
    "pycharm": {
     "name": "#%%\n"
    }
   },
   "outputs": [
    {
     "data": {
      "text/html": [
       "<div>\n",
       "<style scoped>\n",
       "    .dataframe tbody tr th:only-of-type {\n",
       "        vertical-align: middle;\n",
       "    }\n",
       "\n",
       "    .dataframe tbody tr th {\n",
       "        vertical-align: top;\n",
       "    }\n",
       "\n",
       "    .dataframe thead th {\n",
       "        text-align: right;\n",
       "    }\n",
       "</style>\n",
       "<table border=\"1\" class=\"dataframe\">\n",
       "  <thead>\n",
       "    <tr style=\"text-align: right;\">\n",
       "      <th></th>\n",
       "      <th>listing_id</th>\n",
       "      <th>title</th>\n",
       "      <th>address</th>\n",
       "      <th>property_name</th>\n",
       "      <th>property_type</th>\n",
       "      <th>num_beds</th>\n",
       "      <th>num_baths</th>\n",
       "      <th>size_sqft</th>\n",
       "      <th>floor_level</th>\n",
       "      <th>furnishing</th>\n",
       "      <th>available_unit_types</th>\n",
       "      <th>total_num_units</th>\n",
       "      <th>property_details_url</th>\n",
       "      <th>lat</th>\n",
       "      <th>lng</th>\n",
       "      <th>elevation</th>\n",
       "      <th>subzone</th>\n",
       "      <th>planning_area</th>\n",
       "      <th>built_year</th>\n",
       "      <th>tenure</th>\n",
       "    </tr>\n",
       "  </thead>\n",
       "  <tbody>\n",
       "    <tr>\n",
       "      <th>0</th>\n",
       "      <td>777912</td>\n",
       "      <td>1 bed condo for sale in the gazania</td>\n",
       "      <td>17 how sun drive</td>\n",
       "      <td>the gazania</td>\n",
       "      <td>condo</td>\n",
       "      <td>4.0</td>\n",
       "      <td>1.0</td>\n",
       "      <td>463</td>\n",
       "      <td>NaN</td>\n",
       "      <td>unfurnished</td>\n",
       "      <td>studio, 1, 2, 3, 4, 5 br</td>\n",
       "      <td>250.0</td>\n",
       "      <td>https://www.99.co/singapore/condos-apartments/...</td>\n",
       "      <td>1.344727</td>\n",
       "      <td>103.8750</td>\n",
       "      <td>0</td>\n",
       "      <td>upper paya lebar</td>\n",
       "      <td>serangoon</td>\n",
       "      <td>2022</td>\n",
       "      <td>freehold</td>\n",
       "    </tr>\n",
       "    <tr>\n",
       "      <th>1</th>\n",
       "      <td>936612</td>\n",
       "      <td>3 bed condo for sale in vue 8 residence</td>\n",
       "      <td>95 pasir ris heights</td>\n",
       "      <td>vue 8 residence</td>\n",
       "      <td>condo</td>\n",
       "      <td>4.0</td>\n",
       "      <td>3.0</td>\n",
       "      <td>1033</td>\n",
       "      <td>high</td>\n",
       "      <td>unspecified</td>\n",
       "      <td>studio, 1, 2, 3, 4, 5 br</td>\n",
       "      <td>463.0</td>\n",
       "      <td>https://www.99.co/singapore/condos-apartments/...</td>\n",
       "      <td>1.379883</td>\n",
       "      <td>103.9375</td>\n",
       "      <td>0</td>\n",
       "      <td>pasir ris west</td>\n",
       "      <td>pasir ris</td>\n",
       "      <td>2017</td>\n",
       "      <td>99-year leasehold</td>\n",
       "    </tr>\n",
       "    <tr>\n",
       "      <th>2</th>\n",
       "      <td>995264</td>\n",
       "      <td>1 bed condo for sale in icon</td>\n",
       "      <td>10 gopeng street</td>\n",
       "      <td>icon</td>\n",
       "      <td>condo</td>\n",
       "      <td>4.0</td>\n",
       "      <td>1.0</td>\n",
       "      <td>570</td>\n",
       "      <td>NaN</td>\n",
       "      <td>fully</td>\n",
       "      <td>studio, 1, 2, 3 br</td>\n",
       "      <td>646.0</td>\n",
       "      <td>https://www.99.co/singapore/condos-apartments/...</td>\n",
       "      <td>1.294922</td>\n",
       "      <td>103.8750</td>\n",
       "      <td>0</td>\n",
       "      <td>bras basah</td>\n",
       "      <td>museum</td>\n",
       "      <td>2007</td>\n",
       "      <td>99-year leasehold</td>\n",
       "    </tr>\n",
       "    <tr>\n",
       "      <th>3</th>\n",
       "      <td>477435</td>\n",
       "      <td>hdb flat for sale in 812b choa chu kang avenue 7</td>\n",
       "      <td>bukit batok / bukit panjang / choa chu kang (d23)</td>\n",
       "      <td>keat hong colours</td>\n",
       "      <td>hdb</td>\n",
       "      <td>4.0</td>\n",
       "      <td>2.0</td>\n",
       "      <td>1216</td>\n",
       "      <td>NaN</td>\n",
       "      <td>unspecified</td>\n",
       "      <td>1, 2, 3, 4, 5 br</td>\n",
       "      <td>968.0</td>\n",
       "      <td>https://www.99.co/singapore/hdb/keat-hong-colo...</td>\n",
       "      <td>1.373047</td>\n",
       "      <td>103.7500</td>\n",
       "      <td>0</td>\n",
       "      <td>keat hong</td>\n",
       "      <td>choa chu kang</td>\n",
       "      <td>2017</td>\n",
       "      <td>99-year leasehold</td>\n",
       "    </tr>\n",
       "    <tr>\n",
       "      <th>4</th>\n",
       "      <td>222529</td>\n",
       "      <td>hdb flat for sale in 204 toa payoh north</td>\n",
       "      <td>balestier / toa payoh (d12)</td>\n",
       "      <td>toa payoh spring</td>\n",
       "      <td>hdb</td>\n",
       "      <td>4.0</td>\n",
       "      <td>2.0</td>\n",
       "      <td>936</td>\n",
       "      <td>NaN</td>\n",
       "      <td>unspecified</td>\n",
       "      <td>1, 2, 3, 4 br</td>\n",
       "      <td>NaN</td>\n",
       "      <td>https://www.99.co/singapore/hdb/toa-payoh-spri...</td>\n",
       "      <td>1.341797</td>\n",
       "      <td>103.8750</td>\n",
       "      <td>0</td>\n",
       "      <td>braddell</td>\n",
       "      <td>toa payoh</td>\n",
       "      <td>1973</td>\n",
       "      <td>99-year leasehold</td>\n",
       "    </tr>\n",
       "    <tr>\n",
       "      <th>...</th>\n",
       "      <td>...</td>\n",
       "      <td>...</td>\n",
       "      <td>...</td>\n",
       "      <td>...</td>\n",
       "      <td>...</td>\n",
       "      <td>...</td>\n",
       "      <td>...</td>\n",
       "      <td>...</td>\n",
       "      <td>...</td>\n",
       "      <td>...</td>\n",
       "      <td>...</td>\n",
       "      <td>...</td>\n",
       "      <td>...</td>\n",
       "      <td>...</td>\n",
       "      <td>...</td>\n",
       "      <td>...</td>\n",
       "      <td>...</td>\n",
       "      <td>...</td>\n",
       "      <td>...</td>\n",
       "      <td>...</td>\n",
       "    </tr>\n",
       "    <tr>\n",
       "      <th>6961</th>\n",
       "      <td>289879</td>\n",
       "      <td>5 bed house for sale in paradise island</td>\n",
       "      <td>paradise island</td>\n",
       "      <td>paradise island</td>\n",
       "      <td>bungalow</td>\n",
       "      <td>4.0</td>\n",
       "      <td>6.0</td>\n",
       "      <td>8000</td>\n",
       "      <td>NaN</td>\n",
       "      <td>unspecified</td>\n",
       "      <td>4, 5, 6, 7, 8 br</td>\n",
       "      <td>29.0</td>\n",
       "      <td>https://www.99.co/singapore/houses/paradise-is...</td>\n",
       "      <td>1.250000</td>\n",
       "      <td>103.8750</td>\n",
       "      <td>0</td>\n",
       "      <td>sentosa</td>\n",
       "      <td>southern islands</td>\n",
       "      <td>2009</td>\n",
       "      <td>99-year leasehold</td>\n",
       "    </tr>\n",
       "    <tr>\n",
       "      <th>6962</th>\n",
       "      <td>396404</td>\n",
       "      <td>5 bed house for sale in orchid village</td>\n",
       "      <td>vanda drive</td>\n",
       "      <td>orchid village</td>\n",
       "      <td>semi-detached house</td>\n",
       "      <td>4.0</td>\n",
       "      <td>7.0</td>\n",
       "      <td>6974</td>\n",
       "      <td>NaN</td>\n",
       "      <td>unspecified</td>\n",
       "      <td>4, 5, 6, 7, 8 br</td>\n",
       "      <td>NaN</td>\n",
       "      <td>https://www.99.co/singapore/houses/orchid-vill...</td>\n",
       "      <td>1.332031</td>\n",
       "      <td>103.8125</td>\n",
       "      <td>0</td>\n",
       "      <td>hillcrest</td>\n",
       "      <td>bukit timah</td>\n",
       "      <td>2010</td>\n",
       "      <td>freehold</td>\n",
       "    </tr>\n",
       "    <tr>\n",
       "      <th>6963</th>\n",
       "      <td>620343</td>\n",
       "      <td>3 bed condo for sale in the avenir</td>\n",
       "      <td>8 river valley close</td>\n",
       "      <td>the avenir</td>\n",
       "      <td>condo</td>\n",
       "      <td>4.0</td>\n",
       "      <td>2.0</td>\n",
       "      <td>1141</td>\n",
       "      <td>NaN</td>\n",
       "      <td>partial</td>\n",
       "      <td>studio, 1, 2, 3, 4, 5 br</td>\n",
       "      <td>376.0</td>\n",
       "      <td>https://www.99.co/singapore/condos-apartments/...</td>\n",
       "      <td>1.293945</td>\n",
       "      <td>103.8125</td>\n",
       "      <td>0</td>\n",
       "      <td>institution hill</td>\n",
       "      <td>river valley</td>\n",
       "      <td>2025</td>\n",
       "      <td>freehold</td>\n",
       "    </tr>\n",
       "    <tr>\n",
       "      <th>6964</th>\n",
       "      <td>364805</td>\n",
       "      <td>hdb flat for sale in 31 marine crescent</td>\n",
       "      <td>east coast / marine parade (d15)</td>\n",
       "      <td>marine crescent ville</td>\n",
       "      <td>hdb</td>\n",
       "      <td>4.0</td>\n",
       "      <td>1.0</td>\n",
       "      <td>818</td>\n",
       "      <td>NaN</td>\n",
       "      <td>unspecified</td>\n",
       "      <td>1, 2, 3, 4 br</td>\n",
       "      <td>NaN</td>\n",
       "      <td>https://www.99.co/singapore/hdb/marine-crescen...</td>\n",
       "      <td>1.303711</td>\n",
       "      <td>103.9375</td>\n",
       "      <td>0</td>\n",
       "      <td>marine parade</td>\n",
       "      <td>marine parade</td>\n",
       "      <td>1975</td>\n",
       "      <td>99-year leasehold</td>\n",
       "    </tr>\n",
       "    <tr>\n",
       "      <th>6965</th>\n",
       "      <td>915621</td>\n",
       "      <td>3 bed condo for sale in riviere</td>\n",
       "      <td>3 jiak kim street</td>\n",
       "      <td>riviere</td>\n",
       "      <td>condo</td>\n",
       "      <td>4.0</td>\n",
       "      <td>3.0</td>\n",
       "      <td>1507</td>\n",
       "      <td>NaN</td>\n",
       "      <td>unspecified</td>\n",
       "      <td>1, 2, 3, 4, 5 br</td>\n",
       "      <td>455.0</td>\n",
       "      <td>https://www.99.co/singapore/condos-apartments/...</td>\n",
       "      <td>1.302734</td>\n",
       "      <td>103.8750</td>\n",
       "      <td>0</td>\n",
       "      <td>tanjong rhu</td>\n",
       "      <td>kallang</td>\n",
       "      <td>2023</td>\n",
       "      <td>99-year leasehold</td>\n",
       "    </tr>\n",
       "  </tbody>\n",
       "</table>\n",
       "<p>6966 rows × 20 columns</p>\n",
       "</div>"
      ],
      "text/plain": [
       "     listing_id                                             title  \\\n",
       "0        777912               1 bed condo for sale in the gazania   \n",
       "1        936612           3 bed condo for sale in vue 8 residence   \n",
       "2        995264                      1 bed condo for sale in icon   \n",
       "3        477435  hdb flat for sale in 812b choa chu kang avenue 7   \n",
       "4        222529          hdb flat for sale in 204 toa payoh north   \n",
       "...         ...                                               ...   \n",
       "6961     289879           5 bed house for sale in paradise island   \n",
       "6962     396404            5 bed house for sale in orchid village   \n",
       "6963     620343                3 bed condo for sale in the avenir   \n",
       "6964     364805           hdb flat for sale in 31 marine crescent   \n",
       "6965     915621                   3 bed condo for sale in riviere   \n",
       "\n",
       "                                                address  \\\n",
       "0                                      17 how sun drive   \n",
       "1                                  95 pasir ris heights   \n",
       "2                                      10 gopeng street   \n",
       "3     bukit batok / bukit panjang / choa chu kang (d23)   \n",
       "4                           balestier / toa payoh (d12)   \n",
       "...                                                 ...   \n",
       "6961                                    paradise island   \n",
       "6962                                        vanda drive   \n",
       "6963                               8 river valley close   \n",
       "6964                   east coast / marine parade (d15)   \n",
       "6965                                  3 jiak kim street   \n",
       "\n",
       "              property_name        property_type  num_beds  num_baths  \\\n",
       "0               the gazania                condo       4.0        1.0   \n",
       "1           vue 8 residence                condo       4.0        3.0   \n",
       "2                      icon                condo       4.0        1.0   \n",
       "3         keat hong colours                  hdb       4.0        2.0   \n",
       "4          toa payoh spring                  hdb       4.0        2.0   \n",
       "...                     ...                  ...       ...        ...   \n",
       "6961        paradise island             bungalow       4.0        6.0   \n",
       "6962         orchid village  semi-detached house       4.0        7.0   \n",
       "6963             the avenir                condo       4.0        2.0   \n",
       "6964  marine crescent ville                  hdb       4.0        1.0   \n",
       "6965                riviere                condo       4.0        3.0   \n",
       "\n",
       "      size_sqft floor_level   furnishing      available_unit_types  \\\n",
       "0           463         NaN  unfurnished  studio, 1, 2, 3, 4, 5 br   \n",
       "1          1033        high  unspecified  studio, 1, 2, 3, 4, 5 br   \n",
       "2           570         NaN        fully        studio, 1, 2, 3 br   \n",
       "3          1216         NaN  unspecified          1, 2, 3, 4, 5 br   \n",
       "4           936         NaN  unspecified             1, 2, 3, 4 br   \n",
       "...         ...         ...          ...                       ...   \n",
       "6961       8000         NaN  unspecified          4, 5, 6, 7, 8 br   \n",
       "6962       6974         NaN  unspecified          4, 5, 6, 7, 8 br   \n",
       "6963       1141         NaN      partial  studio, 1, 2, 3, 4, 5 br   \n",
       "6964        818         NaN  unspecified             1, 2, 3, 4 br   \n",
       "6965       1507         NaN  unspecified          1, 2, 3, 4, 5 br   \n",
       "\n",
       "      total_num_units                               property_details_url  \\\n",
       "0               250.0  https://www.99.co/singapore/condos-apartments/...   \n",
       "1               463.0  https://www.99.co/singapore/condos-apartments/...   \n",
       "2               646.0  https://www.99.co/singapore/condos-apartments/...   \n",
       "3               968.0  https://www.99.co/singapore/hdb/keat-hong-colo...   \n",
       "4                 NaN  https://www.99.co/singapore/hdb/toa-payoh-spri...   \n",
       "...               ...                                                ...   \n",
       "6961             29.0  https://www.99.co/singapore/houses/paradise-is...   \n",
       "6962              NaN  https://www.99.co/singapore/houses/orchid-vill...   \n",
       "6963            376.0  https://www.99.co/singapore/condos-apartments/...   \n",
       "6964              NaN  https://www.99.co/singapore/hdb/marine-crescen...   \n",
       "6965            455.0  https://www.99.co/singapore/condos-apartments/...   \n",
       "\n",
       "           lat       lng  elevation           subzone     planning_area  \\\n",
       "0     1.344727  103.8750          0  upper paya lebar         serangoon   \n",
       "1     1.379883  103.9375          0    pasir ris west         pasir ris   \n",
       "2     1.294922  103.8750          0        bras basah            museum   \n",
       "3     1.373047  103.7500          0         keat hong     choa chu kang   \n",
       "4     1.341797  103.8750          0          braddell         toa payoh   \n",
       "...        ...       ...        ...               ...               ...   \n",
       "6961  1.250000  103.8750          0           sentosa  southern islands   \n",
       "6962  1.332031  103.8125          0         hillcrest       bukit timah   \n",
       "6963  1.293945  103.8125          0  institution hill      river valley   \n",
       "6964  1.303711  103.9375          0     marine parade     marine parade   \n",
       "6965  1.302734  103.8750          0       tanjong rhu           kallang   \n",
       "\n",
       "      built_year             tenure  \n",
       "0           2022           freehold  \n",
       "1           2017  99-year leasehold  \n",
       "2           2007  99-year leasehold  \n",
       "3           2017  99-year leasehold  \n",
       "4           1973  99-year leasehold  \n",
       "...          ...                ...  \n",
       "6961        2009  99-year leasehold  \n",
       "6962        2010           freehold  \n",
       "6963        2025           freehold  \n",
       "6964        1975  99-year leasehold  \n",
       "6965        2023  99-year leasehold  \n",
       "\n",
       "[6966 rows x 20 columns]"
      ]
     },
     "execution_count": 13,
     "metadata": {},
     "output_type": "execute_result"
    }
   ],
   "source": [
    "#fill in missing tenure type for HDB\n",
    "\n",
    "df_test_cleaned.loc[(df_test_cleaned[\"property_type\"] == \"hdb\") & (df_test_cleaned[\"tenure\"].isnull()), \"tenure\"] = \"99-year leasehold\"\n",
    "df_test_cleaned"
   ]
  },
  {
   "cell_type": "code",
   "execution_count": 14,
   "metadata": {
    "pycharm": {
     "name": "#%%\n"
    }
   },
   "outputs": [
    {
     "data": {
      "text/plain": [
       "99-year leasehold     4822\n",
       "freehold              4628\n",
       "999-year leasehold     180\n",
       "Name: tenure, dtype: int64"
      ]
     },
     "execution_count": 14,
     "metadata": {},
     "output_type": "execute_result"
    }
   ],
   "source": [
    "# find the most probable type of tenure from the train data, use them to fill in the unknown tenure type\n",
    "df_cleaned[df_cleaned[\"property_type\"] == \"condo\"][\"tenure\"].value_counts()"
   ]
  },
  {
   "cell_type": "code",
   "execution_count": 15,
   "metadata": {
    "pycharm": {
     "name": "#%%\n"
    }
   },
   "outputs": [
    {
     "data": {
      "text/plain": [
       "freehold              187\n",
       "99-year leasehold      88\n",
       "999-year leasehold     14\n",
       "Name: tenure, dtype: int64"
      ]
     },
     "execution_count": 15,
     "metadata": {},
     "output_type": "execute_result"
    }
   ],
   "source": [
    "df_cleaned[df_cleaned[\"property_type\"] == \"terraced house\"][\"tenure\"].value_counts()"
   ]
  },
  {
   "cell_type": "code",
   "execution_count": 16,
   "metadata": {
    "pycharm": {
     "name": "#%%\n"
    }
   },
   "outputs": [
    {
     "data": {
      "text/plain": [
       "freehold              530\n",
       "99-year leasehold     123\n",
       "999-year leasehold     31\n",
       "Name: tenure, dtype: int64"
      ]
     },
     "execution_count": 16,
     "metadata": {},
     "output_type": "execute_result"
    }
   ],
   "source": [
    "df_cleaned[df_cleaned[\"property_type\"] == \"semi-detached house\"][\"tenure\"].value_counts()"
   ]
  },
  {
   "cell_type": "code",
   "execution_count": 17,
   "metadata": {
    "pycharm": {
     "name": "#%%\n"
    }
   },
   "outputs": [
    {
     "data": {
      "text/plain": [
       "freehold              343\n",
       "99-year leasehold     181\n",
       "999-year leasehold     14\n",
       "Name: tenure, dtype: int64"
      ]
     },
     "execution_count": 17,
     "metadata": {},
     "output_type": "execute_result"
    }
   ],
   "source": [
    "df_cleaned[df_cleaned[\"property_type\"] == \"bungalow\"][\"tenure\"].value_counts()"
   ]
  },
  {
   "cell_type": "code",
   "execution_count": 18,
   "metadata": {
    "pycharm": {
     "name": "#%%\n"
    }
   },
   "outputs": [
    {
     "data": {
      "text/plain": [
       "freehold              117\n",
       "99-year leasehold      18\n",
       "999-year leasehold     17\n",
       "Name: tenure, dtype: int64"
      ]
     },
     "execution_count": 18,
     "metadata": {},
     "output_type": "execute_result"
    }
   ],
   "source": [
    "df_cleaned[df_cleaned[\"property_type\"] == \"corner terrace\"][\"tenure\"].value_counts()"
   ]
  },
  {
   "cell_type": "code",
   "execution_count": 19,
   "metadata": {
    "pycharm": {
     "name": "#%%\n"
    }
   },
   "outputs": [
    {
     "data": {
      "text/plain": [
       "99-year leasehold     9\n",
       "freehold              6\n",
       "999-year leasehold    1\n",
       "Name: tenure, dtype: int64"
      ]
     },
     "execution_count": 19,
     "metadata": {},
     "output_type": "execute_result"
    }
   ],
   "source": [
    "df_cleaned[df_cleaned[\"property_type\"] == \"landed\"][\"tenure\"].value_counts()"
   ]
  },
  {
   "cell_type": "code",
   "execution_count": 20,
   "metadata": {
    "pycharm": {
     "name": "#%%\n"
    }
   },
   "outputs": [
    {
     "data": {
      "text/plain": [
       "99-year leasehold     106\n",
       "freehold               43\n",
       "999-year leasehold     15\n",
       "Name: tenure, dtype: int64"
      ]
     },
     "execution_count": 20,
     "metadata": {},
     "output_type": "execute_result"
    }
   ],
   "source": [
    "df_cleaned[df_cleaned[\"property_type\"] == \"cluster house\"][\"tenure\"].value_counts()"
   ]
  },
  {
   "cell_type": "code",
   "execution_count": 21,
   "metadata": {},
   "outputs": [],
   "source": [
    "# there are only 2 records which appear to be incorrect as num_beds =1, whereas num_baths = 10 and price is > 3e8\n",
    "# hence we can drop these two records so that the results are not skewed\n",
    "\n",
    "df_cleaned = df_cleaned[df_cleaned['price']<3e8]"
   ]
  },
  {
   "cell_type": "markdown",
   "metadata": {
    "pycharm": {
     "name": "#%% md\n"
    }
   },
   "source": [
    "Singapore has the following latitude and longitude coordinates in its extreme ends:\n",
    "1. left-most (Tuas) :  1.30871,103.64287\n",
    "2. right-most (Changi) : 1.34538,104.00270\n",
    "3. top-most (Sembawang) : 1.46227,103.79487\n",
    "4. bottom-most (Bukit Merah) : 1.28762,103.82467\n",
    "\n",
    "\n",
    "#### Min latitude - 1.28762       Max latitude - 1.46227\n",
    "\n",
    "#### Min longitude - 103.64         Max longitude - 104.00\n",
    "\n",
    "But we can see that in the data, min longitude is -77.065364 and max latitude is 69.486768 which are out of the range of latitude and longitude values \n",
    "\n",
    "<img src=\"images/singapore-lat-long-map.jpeg\" width=600 height=600 />"
   ]
  },
  {
   "cell_type": "code",
   "execution_count": 22,
   "metadata": {
    "pycharm": {
     "name": "#%%\n"
    }
   },
   "outputs": [
    {
     "name": "stdout",
     "output_type": "stream",
     "text": [
      "It is interesting to note that in all the records where latitude and longitude have incorrect coordinates, planning_area and subzone have missing values, this can also be verified by checking for count of missing values\n",
      "38 lorong 32 geylang    6\n",
      "17 farrer drive         3\n",
      "15 farrer drive         2\n",
      "Name: address, dtype: int64\n"
     ]
    }
   ],
   "source": [
    "df_max_lng = df_cleaned[df_cleaned.lng > 121.0]\n",
    "df_min_lng = df_cleaned[df_cleaned.lng < -77.0]\n",
    "df_max_lat = df_cleaned[df_cleaned.lat > 69.0]\n",
    "df_wrong_coordinates = pd.concat([df_max_lng, df_min_lng, df_max_lat])\n",
    "\n",
    "print(\"It is interesting to note that in all the records where latitude and longitude have incorrect coordinates, planning_area and subzone have missing values, this can also be verified by checking for count of missing values\")\n",
    "print(df_wrong_coordinates[\"address\"].value_counts())\n",
    "# coordinates are incorrect for 5 'address'\n",
    "\n",
    "\n",
    "# using the 'address' we can manually correct the latitude, longitude coordinates along with \n",
    "# filling of values for sub zone and planning_area\n",
    "\n",
    "df_cleaned.loc[df_cleaned.address == \"1 tessensohn road\", \n",
    "               ['property_type', 'lat', 'lng', 'subzone', 'planning_area']] = 'condo', 1.3164313, 103.8575321, 'balestier', 'novena'\n",
    "df_cleaned.loc[df_cleaned.address == \"38 lorong 32 geylang\", \n",
    "               ['property_type', 'lat', 'lng', 'subzone', 'planning_area']] = 'condo', 1.31262, 103.88686, 'aljunied', 'geylang'\n",
    "df_cleaned.loc[df_cleaned.address == \"5 jalan mutiara\", \n",
    "               ['property_type', 'lat', 'lng', 'subzone', 'planning_area']] = 'condo', 1.29565, 103.82887, 'leonie hill', 'river valley'\n",
    "df_cleaned.loc[df_cleaned.address == \"17 farrer drive\", \n",
    "               ['property_type', 'lat', 'lng', 'subzone', 'planning_area']] = 'condo', 1.313259, 103.806622, 'holland road', 'bukit timah'\n",
    "df_cleaned.loc[df_cleaned.address == \"15 farrer drive\", \n",
    "               ['property_type', 'lat', 'lng', 'subzone', 'planning_area']] = 'condo', 1.313259, 103.806622, 'holland road', 'bukit timah'"
   ]
  },
  {
   "cell_type": "code",
   "execution_count": 23,
   "metadata": {
    "pycharm": {
     "name": "#%%\n"
    }
   },
   "outputs": [
    {
     "name": "stdout",
     "output_type": "stream",
     "text": [
      "It is interesting to note that in all the records where latitude and longitude have incorrect coordinates, planning_area and subzone have missing values, this can also be verified by checking for count of missing values\n",
      "38 lorong 32 geylang    2\n",
      "17 farrer drive         1\n",
      "Name: address, dtype: int64\n"
     ]
    }
   ],
   "source": [
    "df_max_lng = df_test_cleaned[df_test_cleaned.lng > 121.0]\n",
    "df_min_lng = df_test_cleaned[df_test_cleaned.lng < -77.0]\n",
    "df_max_lat = df_test_cleaned[df_test_cleaned.lat > 69.0]\n",
    "df_wrong_coordinates = pd.concat([df_max_lng, df_min_lng, df_max_lat])\n",
    "\n",
    "print(\"It is interesting to note that in all the records where latitude and longitude have incorrect coordinates, planning_area and subzone have missing values, this can also be verified by checking for count of missing values\")\n",
    "print(df_wrong_coordinates[\"address\"].value_counts())\n",
    "# coordinates are incorrect for 5 'address'\n",
    "\n",
    "\n",
    "# using the 'address' we can manually correct the latitude, longitude coordinates along with \n",
    "# filling of values for sub zone and planning_area\n",
    "\n",
    "df_test_cleaned.loc[df_test_cleaned.address == \"38 lorong 32 geylang\", \n",
    "               ['property_type', 'lat', 'lng', 'subzone', 'planning_area']] = 'condo', 1.31262, 103.88686, 'aljunied', 'geylang'\n",
    "df_test_cleaned.loc[df_test_cleaned.address == \"17 farrer drive\", \n",
    "               ['property_type', 'lat', 'lng', 'subzone', 'planning_area']] = 'condo', 1.313259, 103.806622, 'holland road', 'bukit timah'\n",
    "        "
   ]
  },
  {
   "cell_type": "markdown",
   "metadata": {
    "pycharm": {
     "name": "#%% md\n"
    }
   },
   "source": [
    "Merging With Auxiliary Data"
   ]
  },
  {
   "cell_type": "code",
   "execution_count": 24,
   "metadata": {
    "pycharm": {
     "name": "#%%\n"
    }
   },
   "outputs": [
    {
     "data": {
      "text/plain": [
       "array([[0.02518408, 1.81165779],\n",
       "       [0.02502538, 1.81222266],\n",
       "       [0.02399856, 1.81265384],\n",
       "       [0.02253715, 1.81207179],\n",
       "       [0.02426671, 1.81317637],\n",
       "       [0.02416302, 1.81237461],\n",
       "       [0.02301657, 1.81226397],\n",
       "       [0.023799  , 1.81407625],\n",
       "       [0.02389531, 1.81233873],\n",
       "       [0.02313785, 1.81242773],\n",
       "       [0.02415736, 1.81119459],\n",
       "       [0.02310915, 1.81405736],\n",
       "       [0.02307876, 1.81278752],\n",
       "       [0.02227748, 1.81180553],\n",
       "       [0.02343782, 1.81013216],\n",
       "       [0.02397065, 1.8111182 ],\n",
       "       [0.02334411, 1.81107318],\n",
       "       [0.02348691, 1.81084051],\n",
       "       [0.02532212, 1.81192393],\n",
       "       [0.0231518 , 1.81307993],\n",
       "       [0.02226716, 1.81234795],\n",
       "       [0.02396002, 1.81439591],\n",
       "       [0.02264075, 1.81255653],\n",
       "       [0.02330942, 1.81296922],\n",
       "       [0.02338433, 1.81430947],\n",
       "       [0.02280164, 1.81358615],\n",
       "       [0.02224708, 1.81214142],\n",
       "       [0.02369771, 1.81276756],\n",
       "       [0.0239653 , 1.81335677],\n",
       "       [0.02384901, 1.81109583],\n",
       "       [0.02326745, 1.81239184],\n",
       "       [0.02398476, 1.81224787],\n",
       "       [0.02511053, 1.81233751],\n",
       "       [0.02357144, 1.81428582],\n",
       "       [0.02404955, 1.8106392 ],\n",
       "       [0.02295341, 1.81101624],\n",
       "       [0.0243379 , 1.8133625 ],\n",
       "       [0.02408935, 1.81054056],\n",
       "       [0.02388354, 1.8142874 ],\n",
       "       [0.02358688, 1.81004075],\n",
       "       [0.02330802, 1.81377042],\n",
       "       [0.02372221, 1.81074363],\n",
       "       [0.02434838, 1.81066754],\n",
       "       [0.02320438, 1.81374445],\n",
       "       [0.02361224, 1.81447775],\n",
       "       [0.02444073, 1.81352847],\n",
       "       [0.02538459, 1.81195858],\n",
       "       [0.02312242, 1.8134733 ],\n",
       "       [0.02519959, 1.81155989],\n",
       "       [0.02270359, 1.81140129],\n",
       "       [0.02290856, 1.81254235],\n",
       "       [0.0232146 , 1.81395355],\n",
       "       [0.02425944, 1.81294699],\n",
       "       [0.02339553, 1.81262683],\n",
       "       [0.02333383, 1.80990011],\n",
       "       [0.0249708 , 1.81127182],\n",
       "       [0.02332607, 1.81054269],\n",
       "       [0.02244274, 1.81191586],\n",
       "       [0.02301121, 1.81312034],\n",
       "       [0.02369   , 1.81425764],\n",
       "       [0.02436829, 1.81361918],\n",
       "       [0.02418358, 1.81109334],\n",
       "       [0.02513213, 1.81173479],\n",
       "       [0.02348826, 1.81251223],\n",
       "       [0.02290209, 1.81344357],\n",
       "       [0.02399856, 1.81265384],\n",
       "       [0.02298698, 1.81137629],\n",
       "       [0.02307137, 1.81265671],\n",
       "       [0.02443435, 1.81362601],\n",
       "       [0.02405689, 1.81306674],\n",
       "       [0.02490344, 1.81242432],\n",
       "       [0.02494557, 1.81149005],\n",
       "       [0.02492518, 1.81217835],\n",
       "       [0.02395554, 1.81255507],\n",
       "       [0.02352323, 1.8140847 ],\n",
       "       [0.02337544, 1.80988946],\n",
       "       [0.02337544, 1.80988946],\n",
       "       [0.02336562, 1.80970142],\n",
       "       [0.02348065, 1.81089078],\n",
       "       [0.02335051, 1.81248651],\n",
       "       [0.02288582, 1.81319112],\n",
       "       [0.02432883, 1.81072945],\n",
       "       [0.0235484 , 1.81261215],\n",
       "       [0.02335857, 1.81022039],\n",
       "       [0.02362883, 1.81085633],\n",
       "       [0.02392636, 1.81437852],\n",
       "       [0.02312116, 1.8130756 ],\n",
       "       [0.02318855, 1.81342446],\n",
       "       [0.02341239, 1.81300709],\n",
       "       [0.02503073, 1.81118692],\n",
       "       [0.02340299, 1.81235014],\n",
       "       [0.02402732, 1.81240648],\n",
       "       [0.02434731, 1.81355376],\n",
       "       [0.02401628, 1.81401074],\n",
       "       [0.02356076, 1.81313396],\n",
       "       [0.02398381, 1.81321345],\n",
       "       [0.02429545, 1.81324075],\n",
       "       [0.02305286, 1.81179517],\n",
       "       [0.02278608, 1.81371042],\n",
       "       [0.02472312, 1.81232303],\n",
       "       [0.02268448, 1.81165325],\n",
       "       [0.02480468, 1.81236009],\n",
       "       [0.02543177, 1.81189121],\n",
       "       [0.02421821, 1.81346323],\n",
       "       [0.02491867, 1.81250098],\n",
       "       [0.02413607, 1.81332688],\n",
       "       [0.02451668, 1.81358922],\n",
       "       [0.02303249, 1.81381189],\n",
       "       [0.0241571 , 1.81324271],\n",
       "       [0.02394859, 1.81449711],\n",
       "       [0.02356076, 1.81313396],\n",
       "       [0.02334049, 1.8126261 ],\n",
       "       [0.02335424, 1.8112367 ],\n",
       "       [0.02297318, 1.81109048],\n",
       "       [0.02474035, 1.81218134],\n",
       "       [0.023543  , 1.80981583],\n",
       "       [0.02370447, 1.81402036],\n",
       "       [0.02355116, 1.81062122],\n",
       "       [0.02463951, 1.81338347],\n",
       "       [0.02446918, 1.81337177],\n",
       "       [0.02463951, 1.81338347],\n",
       "       [0.02452761, 1.81348922],\n",
       "       [0.02291278, 1.81090066],\n",
       "       [0.02516852, 1.81144815],\n",
       "       [0.02261991, 1.8117888 ],\n",
       "       [0.02225372, 1.81207106],\n",
       "       [0.02321514, 1.81176106],\n",
       "       [0.02327256, 1.81399435],\n",
       "       [0.02525976, 1.81168375],\n",
       "       [0.02432395, 1.8134776 ],\n",
       "       [0.02396683, 1.81295547],\n",
       "       [0.02350276, 1.81023346],\n",
       "       [0.02431038, 1.81295733],\n",
       "       [0.02522522, 1.81201637],\n",
       "       [0.02500839, 1.81140378],\n",
       "       [0.02424944, 1.81338654],\n",
       "       [0.0235118 , 1.81028326],\n",
       "       [0.02412684, 1.8108838 ],\n",
       "       [0.02434694, 1.81321866],\n",
       "       [0.02275632, 1.81265186],\n",
       "       [0.02323666, 1.81279291],\n",
       "       [0.02330217, 1.81412498],\n",
       "       [0.0235598 , 1.81402705],\n",
       "       [0.02299716, 1.81244666],\n",
       "       [0.02302203, 1.81370447],\n",
       "       [0.02374602, 1.81425447],\n",
       "       [0.02356748, 1.81416332],\n",
       "       [0.02278195, 1.81340479],\n",
       "       [0.02277771, 1.81359647],\n",
       "       [0.0238301 , 1.81254088],\n",
       "       [0.02415306, 1.81084271],\n",
       "       [0.02322823, 1.81359459],\n",
       "       [0.02299307, 1.81419589],\n",
       "       [0.0237441 , 1.81259488],\n",
       "       [0.02448237, 1.81072243],\n",
       "       [0.02456163, 1.81337715],\n",
       "       [0.0244208 , 1.81371813],\n",
       "       [0.02534456, 1.81204294],\n",
       "       [0.02346911, 1.80988869],\n",
       "       [0.02425175, 1.81106298],\n",
       "       [0.02351731, 1.80991539],\n",
       "       [0.02414608, 1.81095473],\n",
       "       [0.023832  , 1.81446619],\n",
       "       [0.02501247, 1.81148269],\n",
       "       [0.02503963, 1.81161407],\n",
       "       [0.02503963, 1.81161407],\n",
       "       [0.02370162, 1.81323155],\n",
       "       [0.02339988, 1.80967784],\n",
       "       [0.02393548, 1.8131035 ],\n",
       "       [0.02501807, 1.81231126],\n",
       "       [0.02354036, 1.81284668],\n",
       "       [0.02438158, 1.81079818],\n",
       "       [0.02404915, 1.81314334],\n",
       "       [0.02502102, 1.8122432 ],\n",
       "       [0.02328308, 1.81395473],\n",
       "       [0.02343787, 1.81062132],\n",
       "       [0.02358401, 1.814285  ],\n",
       "       [0.02241439, 1.81210698],\n",
       "       [0.02407552, 1.81112234],\n",
       "       [0.02373493, 1.81286844]])"
      ]
     },
     "execution_count": 24,
     "metadata": {},
     "output_type": "execute_result"
    }
   ],
   "source": [
    "df_pri_sch = pd.read_csv('../data/auxiliary-data/sg-primary-schools.csv').drop([\"name\", \"subzone\", 'planning_area'], axis=1).to_numpy()\n",
    "pri_sch_coor = np.array([[radians(_) for _ in coor] for coor in df_pri_sch])\n",
    "pri_sch_coor"
   ]
  },
  {
   "cell_type": "code",
   "execution_count": 25,
   "metadata": {
    "pycharm": {
     "name": "#%%\n"
    }
   },
   "outputs": [
    {
     "data": {
      "text/plain": [
       "array([[0.02523592, 1.81170252],\n",
       "       [0.02506458, 1.81217632],\n",
       "       [0.02400556, 1.81255449],\n",
       "       [0.02322382, 1.81413586],\n",
       "       [0.02303435, 1.81228105],\n",
       "       [0.02273813, 1.81131498],\n",
       "       [0.02387036, 1.81239431],\n",
       "       [0.02390286, 1.81106569],\n",
       "       [0.02339885, 1.81308864],\n",
       "       [0.02341857, 1.81256411],\n",
       "       [0.02328376, 1.81402294],\n",
       "       [0.02313538, 1.8142877 ],\n",
       "       [0.02312108, 1.81415707],\n",
       "       [0.02311665, 1.81270744],\n",
       "       [0.02343555, 1.80993565],\n",
       "       [0.02392644, 1.81300617],\n",
       "       [0.02281608, 1.81316822],\n",
       "       [0.02353421, 1.81061705],\n",
       "       [0.02244361, 1.81187903],\n",
       "       [0.02411551, 1.81058399],\n",
       "       [0.02348688, 1.81081736],\n",
       "       [0.02364606, 1.8124395 ],\n",
       "       [0.02537261, 1.81190009],\n",
       "       [0.02328645, 1.81294771],\n",
       "       [0.02339603, 1.81432179],\n",
       "       [0.02280866, 1.81370116],\n",
       "       [0.02325952, 1.81239958],\n",
       "       [0.0242945 , 1.81344042],\n",
       "       [0.02398345, 1.81224768],\n",
       "       [0.02228446, 1.81204633],\n",
       "       [0.02414678, 1.81080612],\n",
       "       [0.02490002, 1.81153206],\n",
       "       [0.02278692, 1.81324923],\n",
       "       [0.02477679, 1.81230998],\n",
       "       [0.02296261, 1.81098691],\n",
       "       [0.02303306, 1.81070405],\n",
       "       [0.02437537, 1.81339934],\n",
       "       [0.02258887, 1.81194698],\n",
       "       [0.02334549, 1.81386519],\n",
       "       [0.02385416, 1.81256129],\n",
       "       [0.02379904, 1.81068391],\n",
       "       [0.02269018, 1.81308667],\n",
       "       [0.02375687, 1.81437472],\n",
       "       [0.02368366, 1.81446315],\n",
       "       [0.02443821, 1.81343745],\n",
       "       [0.0251631 , 1.81154746],\n",
       "       [0.02271929, 1.81137935],\n",
       "       [0.02400365, 1.81102364],\n",
       "       [0.02497082, 1.81125542],\n",
       "       [0.02351501, 1.81037807],\n",
       "       [0.02251816, 1.81206118],\n",
       "       [0.02301457, 1.81310163],\n",
       "       [0.02439485, 1.81359972],\n",
       "       [0.02412983, 1.81119534],\n",
       "       [0.02346897, 1.81252358],\n",
       "       [0.02399324, 1.8143595 ],\n",
       "       [0.02362072, 1.81083129],\n",
       "       [0.02393473, 1.81332583],\n",
       "       [0.02404649, 1.81309094],\n",
       "       [0.02361412, 1.81028444],\n",
       "       [0.02314668, 1.8117136 ],\n",
       "       [0.02361736, 1.81398256],\n",
       "       [0.02321829, 1.81032486],\n",
       "       [0.02330819, 1.80994837],\n",
       "       [0.02358436, 1.81041212],\n",
       "       [0.02335703, 1.80968578],\n",
       "       [0.02270938, 1.81104315],\n",
       "       [0.02426839, 1.81062445],\n",
       "       [0.02357655, 1.81260676],\n",
       "       [0.02384892, 1.81440117],\n",
       "       [0.02317032, 1.81342701],\n",
       "       [0.02341183, 1.81300747],\n",
       "       [0.02508561, 1.81123186],\n",
       "       [0.0238947 , 1.81227608],\n",
       "       [0.02386869, 1.8142513 ],\n",
       "       [0.02356076, 1.81314691],\n",
       "       [0.02398491, 1.81320156],\n",
       "       [0.02425359, 1.81322176],\n",
       "       [0.02284024, 1.8111105 ],\n",
       "       [0.02322862, 1.81169414],\n",
       "       [0.02322418, 1.81172918],\n",
       "       [0.0247699 , 1.81219273],\n",
       "       [0.02286178, 1.81119102],\n",
       "       [0.02363711, 1.81438587],\n",
       "       [0.02411464, 1.81337591],\n",
       "       [0.02480579, 1.81243331],\n",
       "       [0.02505787, 1.81236245],\n",
       "       [0.02281688, 1.81111792],\n",
       "       [0.02470993, 1.81231678],\n",
       "       [0.02244976, 1.81229975],\n",
       "       [0.02395831, 1.81444012],\n",
       "       [0.02364408, 1.81424405],\n",
       "       [0.02356076, 1.81314691],\n",
       "       [0.02427546, 1.81301577],\n",
       "       [0.02371754, 1.81288369],\n",
       "       [0.0238496 , 1.81216721],\n",
       "       [0.02316702, 1.81375579],\n",
       "       [0.02412673, 1.81240244],\n",
       "       [0.02447437, 1.81355529],\n",
       "       [0.02257469, 1.81188415],\n",
       "       [0.02273357, 1.81167955],\n",
       "       [0.023439  , 1.81240762],\n",
       "       [0.0235046 , 1.81240335],\n",
       "       [0.0243214 , 1.81079676],\n",
       "       [0.02514303, 1.81144922],\n",
       "       [0.02346272, 1.81006238],\n",
       "       [0.02323939, 1.81280368],\n",
       "       [0.02283722, 1.81369387],\n",
       "       [0.02292002, 1.81118682],\n",
       "       [0.02268198, 1.81250273],\n",
       "       [0.0252314 , 1.81194258],\n",
       "       [0.02420506, 1.8133721 ],\n",
       "       [0.02390512, 1.81285576],\n",
       "       [0.02399722, 1.8134331 ],\n",
       "       [0.02306493, 1.81215593],\n",
       "       [0.02490012, 1.81146194],\n",
       "       [0.02356184, 1.81392044],\n",
       "       [0.02329789, 1.81412832],\n",
       "       [0.0235137 , 1.81297466],\n",
       "       [0.02356992, 1.81403285],\n",
       "       [0.0230413 , 1.81182788],\n",
       "       [0.02310204, 1.81213964],\n",
       "       [0.02381606, 1.81078666],\n",
       "       [0.02286091, 1.81091948],\n",
       "       [0.02355228, 1.81416682],\n",
       "       [0.02283585, 1.81333534],\n",
       "       [0.02283447, 1.81335066],\n",
       "       [0.02413955, 1.8108704 ],\n",
       "       [0.02302417, 1.81401312],\n",
       "       [0.02297459, 1.81423229],\n",
       "       [0.02442976, 1.8107098 ],\n",
       "       [0.02283987, 1.81386351],\n",
       "       [0.02423021, 1.81095147],\n",
       "       [0.0236243 , 1.80993789],\n",
       "       [0.02366107, 1.81239453],\n",
       "       [0.02492859, 1.81159169],\n",
       "       [0.02506333, 1.81165936],\n",
       "       [0.02506333, 1.81165936],\n",
       "       [0.02395566, 1.81309913],\n",
       "       [0.02405901, 1.81238669],\n",
       "       [0.02500471, 1.81231298],\n",
       "       [0.02500471, 1.81231298],\n",
       "       [0.02341502, 1.81025807],\n",
       "       [0.02350763, 1.81029783],\n",
       "       [0.0245598 , 1.81333833],\n",
       "       [0.02368576, 1.81323493],\n",
       "       [0.02425177, 1.8110463 ],\n",
       "       [0.02353759, 1.81286251]])"
      ]
     },
     "execution_count": 25,
     "metadata": {},
     "output_type": "execute_result"
    }
   ],
   "source": [
    "df_sec_sch = pd.read_csv('../data/auxiliary-data/sg-secondary-schools.csv').drop([\"name\", \"subzone\", 'planning_area'], axis=1).to_numpy()\n",
    "sec_sch_coor = np.array([[radians(_) for _ in coor] for coor in df_sec_sch])\n",
    "sec_sch_coor"
   ]
  },
  {
   "cell_type": "code",
   "execution_count": 26,
   "metadata": {
    "pycharm": {
     "name": "#%%\n"
    }
   },
   "outputs": [],
   "source": [
    "df_mrt_station = pd.read_csv('../data/auxiliary-data/sg-mrt-stations.csv')\n",
    "df_mrt_station = df_mrt_station.drop([\"name\", \"lat\", \"lng\", 'planning_area', 'code', 'line', 'opening_year'], axis=1)\n",
    "mrt_station_cleaned = df_mrt_station.value_counts().to_frame(name=\"mrt_station\")\n",
    "\n",
    "mrt_station_coor = pd.read_csv('../data/auxiliary-data/sg-mrt-stations.csv').drop([\"name\", \"subzone\", 'planning_area', 'code', 'line', 'opening_year'], axis=1).to_numpy()\n",
    "mrt_station_coor = np.array([[radians(_) for _ in coor] for coor in mrt_station_coor])\n",
    "\n",
    "df_train_coor = df_cleaned[[\"lat\", \"lng\"]].to_numpy()\n",
    "df_train_coor = np.array([[radians(_) for _ in coor] for coor in df_train_coor])\n",
    "\n",
    "df_test_coor = df_test_cleaned[[\"lat\", \"lng\"]].to_numpy()\n",
    "df_test_coor = np.array([[radians(_) for _ in coor] for coor in df_test_coor])\n",
    "\n",
    "dist_matrix_train_mrt = sklearn.metrics.pairwise.haversine_distances(mrt_station_coor, df_train_coor)\n",
    "# multiply to get meters\n",
    "closest_dist_to_mrt_train = pd.DataFrame(np.amin(dist_matrix_train_mrt, axis=0)* 6371000, columns=[\"closest_dist_to_mrt\"])\n",
    "\n",
    "dist_matrix_test_mrt = sklearn.metrics.pairwise.haversine_distances(mrt_station_coor, df_test_coor)\n",
    "# multiply to get meters\n",
    "closest_dist_to_mrt_test = pd.DataFrame(np.amin(dist_matrix_test_mrt, axis=0)* 6371000, columns=[\"closest_dist_to_mrt\"])\n",
    "\n",
    "dist_matrix_train_pri = sklearn.metrics.pairwise.haversine_distances(pri_sch_coor, df_train_coor)\n",
    "closest_dist_to_pri_train = pd.DataFrame(np.amin(dist_matrix_train_pri, axis=0)* 6371000, columns=[\"closest_dist_to_pri\"])\n",
    "\n",
    "dist_matrix_test_pri = sklearn.metrics.pairwise.haversine_distances(pri_sch_coor, df_test_coor)\n",
    "closest_dist_to_pri_test = pd.DataFrame(np.amin(dist_matrix_test_pri, axis=0)* 6371000, columns=[\"closest_dist_to_pri\"])\n",
    "\n",
    "dist_matrix_train_sec = sklearn.metrics.pairwise.haversine_distances(sec_sch_coor, df_train_coor)\n",
    "closest_dist_to_sec_train = pd.DataFrame(np.amin(dist_matrix_train_sec, axis=0)* 6371000, columns=[\"closest_dist_to_sec\"])\n",
    "\n",
    "dist_matrix_test_sec = sklearn.metrics.pairwise.haversine_distances(sec_sch_coor, df_test_coor)\n",
    "closest_dist_to_sec_test = pd.DataFrame(np.amin(dist_matrix_test_sec, axis=0)* 6371000, columns=[\"closest_dist_to_sec\"])\n",
    "\n",
    "#during pri sch registration exercise, homeowners within 1km will be given priority\n",
    "test = pd.DataFrame(dist_matrix_test_pri * 6371000)\n",
    "test_near_pri_sch = test[test <= 1000].count().rename(\"close_pri_sch\")\n",
    "\n",
    "test = pd.DataFrame(dist_matrix_train_pri * 6371000)\n",
    "train_near_pri_sch = test[test <= 1000].count().rename(\"close_pri_sch\")\n",
    "\n",
    "#no such priority for sec sch, put as 1km for now\n",
    "#change 1000 to desired distance if necessary\n",
    "test = pd.DataFrame(dist_matrix_test_sec * 6371000)\n",
    "test_near_sec_sch = test[test <= 1000].count().rename(\"close_sec_sch\")\n",
    "\n",
    "test = pd.DataFrame(dist_matrix_train_sec * 6371000)\n",
    "train_near_sec_sch = test[test <= 1000].count().rename(\"close_sec_sch\")\n",
    "\n",
    "df_cleaned = df_cleaned.merge(pri_sch_cleaned, how='left',left_on=\"subzone\",right_on=\"subzone\")\\\n",
    "    .merge(sec_sch_cleaned, how='left',left_on=\"subzone\",right_on=\"subzone\")\\\n",
    "    .merge(mrt_station_cleaned, how='left',left_on=\"subzone\",right_on=\"subzone\")\\\n",
    "    .merge(df_subzone, how='left',left_on=\"subzone\",right_on=\"name\")\\\n",
    "    .join(closest_dist_to_mrt_train)\\\n",
    "    .join(closest_dist_to_pri_train)\\\n",
    "    .join(closest_dist_to_sec_train)\\\n",
    "    .fillna({'pri_sch':0, 'sec_sch':0, 'mrt_station':0})\n",
    "\n",
    "df_test_cleaned = df_test_cleaned.merge(pri_sch_cleaned, how='left',left_on=\"subzone\",right_on=\"subzone\")\\\n",
    "    .merge(sec_sch_cleaned, how='left',left_on=\"subzone\",right_on=\"subzone\")\\\n",
    "    .merge(mrt_station_cleaned, how='left',left_on=\"subzone\",right_on=\"subzone\")\\\n",
    "    .merge(df_subzone, how='left',left_on=\"subzone\",right_on=\"name\")\\\n",
    "    .join(closest_dist_to_mrt_test)\\\n",
    "    .join(closest_dist_to_pri_test)\\\n",
    "    .join(closest_dist_to_sec_test)\\\n",
    "    .join(test_near_pri_sch)\\\n",
    "    .join(test_near_sec_sch)\\\n",
    "    .fillna({'pri_sch':0, 'sec_sch':0, 'mrt_station':0})"
   ]
  },
  {
   "cell_type": "markdown",
   "metadata": {
    "pycharm": {
     "name": "#%% md\n"
    }
   },
   "source": [
    "Drop Columns at the end"
   ]
  },
  {
   "cell_type": "code",
   "execution_count": 27,
   "metadata": {
    "pycharm": {
     "name": "#%%\n"
    }
   },
   "outputs": [],
   "source": [
    "df_cleaned = df_cleaned.drop(['title', 'address','property_name', 'property_details_url', 'listing_id', 'elevation', 'total_num_units', 'floor_level', 'available_unit_types'], axis = 1)\n",
    "df_test_cleaned = df_test_cleaned.drop(['title','address','property_name', 'property_details_url', 'listing_id', 'elevation', 'total_num_units', 'floor_level', 'available_unit_types'], axis = 1)"
   ]
  },
  {
   "cell_type": "code",
   "execution_count": 28,
   "metadata": {
    "pycharm": {
     "name": "#%%\n"
    }
   },
   "outputs": [
    {
     "name": "stdout",
     "output_type": "stream",
     "text": [
      "property_type          0\n",
      "num_beds               0\n",
      "num_baths              0\n",
      "size_sqft              0\n",
      "furnishing             0\n",
      "lat                    0\n",
      "lng                    0\n",
      "subzone                0\n",
      "planning_area          0\n",
      "price                  0\n",
      "built_year             0\n",
      "tenure                 0\n",
      "pri_sch                0\n",
      "sec_sch                0\n",
      "mrt_station            0\n",
      "population_density     0\n",
      "closest_dist_to_mrt    0\n",
      "closest_dist_to_pri    0\n",
      "closest_dist_to_sec    0\n",
      "dtype: int64\n",
      "property_type          0\n",
      "num_beds               0\n",
      "num_baths              0\n",
      "size_sqft              0\n",
      "furnishing             0\n",
      "lat                    0\n",
      "lng                    0\n",
      "subzone                0\n",
      "planning_area          0\n",
      "built_year             0\n",
      "tenure                 0\n",
      "pri_sch                0\n",
      "sec_sch                0\n",
      "mrt_station            0\n",
      "population_density     0\n",
      "closest_dist_to_mrt    0\n",
      "closest_dist_to_pri    0\n",
      "closest_dist_to_sec    0\n",
      "close_pri_sch          0\n",
      "close_sec_sch          0\n",
      "dtype: int64\n",
      "(17217, 19)\n",
      "(6966, 20)\n"
     ]
    }
   ],
   "source": [
    "print(df_cleaned.isnull().sum())\n",
    "print(df_test_cleaned.isnull().sum())\n",
    "print(df_cleaned.shape)\n",
    "print(df_test_cleaned.shape)"
   ]
  },
  {
   "cell_type": "markdown",
   "metadata": {
    "pycharm": {
     "name": "#%% md\n"
    }
   },
   "source": [
    "Saving the data"
   ]
  },
  {
   "cell_type": "code",
   "execution_count": 29,
   "metadata": {
    "pycharm": {
     "name": "#%%\n"
    }
   },
   "outputs": [],
   "source": [
    "df_test_cleaned.to_csv('../data/test_cleaned.csv', index = False)\n",
    "df_cleaned.to_csv('../data/train_cleaned.csv', index = False)"
   ]
  },
  {
   "cell_type": "code",
   "execution_count": 30,
   "metadata": {
    "pycharm": {
     "name": "#%%\n"
    }
   },
   "outputs": [
    {
     "data": {
      "text/plain": [
       "property_type          0\n",
       "num_beds               0\n",
       "num_baths              0\n",
       "size_sqft              0\n",
       "furnishing             0\n",
       "lat                    0\n",
       "lng                    0\n",
       "subzone                0\n",
       "planning_area          0\n",
       "price                  0\n",
       "built_year             0\n",
       "tenure                 0\n",
       "pri_sch                0\n",
       "sec_sch                0\n",
       "mrt_station            0\n",
       "population_density     0\n",
       "closest_dist_to_mrt    0\n",
       "closest_dist_to_pri    0\n",
       "closest_dist_to_sec    0\n",
       "dtype: int64"
      ]
     },
     "execution_count": 30,
     "metadata": {},
     "output_type": "execute_result"
    }
   ],
   "source": [
    "df_cleaned.isnull().sum()"
   ]
  },
  {
   "cell_type": "code",
   "execution_count": 31,
   "metadata": {
    "pycharm": {
     "name": "#%%\n"
    }
   },
   "outputs": [
    {
     "data": {
      "text/plain": [
       "(6966, 20)"
      ]
     },
     "execution_count": 31,
     "metadata": {},
     "output_type": "execute_result"
    }
   ],
   "source": [
    "df_test_cleaned.isnull().sum()\n",
    "df_test_cleaned.shape\n"
   ]
  },
  {
   "cell_type": "code",
   "execution_count": null,
   "metadata": {
    "pycharm": {
     "name": "#%%\n"
    }
   },
   "outputs": [],
   "source": []
  }
 ],
 "metadata": {
  "kernelspec": {
   "display_name": "Python 3 (ipykernel)",
   "language": "python",
   "name": "python3"
  },
  "language_info": {
   "codemirror_mode": {
    "name": "ipython",
    "version": 3
   },
   "file_extension": ".py",
   "mimetype": "text/x-python",
   "name": "python",
   "nbconvert_exporter": "python",
   "pygments_lexer": "ipython3",
   "version": "3.9.7"
  },
  "vscode": {
   "interpreter": {
    "hash": "31f2aee4e71d21fbe5cf8b01ff0e069b9275f58929596ceb00d14d90e3e16cd6"
   }
  }
 },
 "nbformat": 4,
 "nbformat_minor": 2
}
