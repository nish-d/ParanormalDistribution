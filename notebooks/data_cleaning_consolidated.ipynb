{
 "cells": [
  {
   "cell_type": "code",
   "execution_count": 204,
   "metadata": {
    "pycharm": {
     "name": "#%%\n"
    }
   },
   "outputs": [],
   "source": [
    "import numpy as np\n",
    "import pandas as pd\n",
    "from math import radians\n",
    "import sklearn.metrics"
   ]
  },
  {
   "cell_type": "code",
   "execution_count": 205,
   "metadata": {
    "pycharm": {
     "name": "#%%\n"
    }
   },
   "outputs": [
    {
     "name": "stdout",
     "output_type": "stream",
     "text": [
      "Train size: 20254\n",
      "Test size: 6966\n"
     ]
    }
   ],
   "source": [
    "df_train = pd.read_csv('../data/train.csv')\n",
    "df_test = pd.read_csv('../data/test.csv')\n",
    "\n",
    "print(f\"Train size: {df_train.shape[0]}\")\n",
    "print(f\"Test size: {df_test.shape[0]}\")"
   ]
  },
  {
   "cell_type": "markdown",
   "metadata": {
    "pycharm": {
     "name": "#%% md\n"
    }
   },
   "source": [
    "Primary School"
   ]
  },
  {
   "cell_type": "code",
   "execution_count": 206,
   "outputs": [
    {
     "data": {
      "text/plain": "2005.0"
     },
     "execution_count": 206,
     "metadata": {},
     "output_type": "execute_result"
    }
   ],
   "source": [
    "np.median(df_test[df_test[\"subzone\"] == \"serangoon garden\"][\"built_year\"].dropna())"
   ],
   "metadata": {
    "collapsed": false,
    "pycharm": {
     "name": "#%%\n"
    }
   }
  },
  {
   "cell_type": "code",
   "execution_count": 207,
   "outputs": [
    {
     "name": "stderr",
     "output_type": "stream",
     "text": [
      "c:\\users\\kenny\\appdata\\local\\programs\\python\\python38\\lib\\site-packages\\numpy\\core\\fromnumeric.py:3372: RuntimeWarning: Mean of empty slice.\n",
      "  return _methods._mean(a, axis=axis, dtype=dtype,\n",
      "c:\\users\\kenny\\appdata\\local\\programs\\python\\python38\\lib\\site-packages\\numpy\\core\\_methods.py:170: RuntimeWarning: invalid value encountered in double_scalars\n",
      "  ret = ret.dtype.type(ret / rcount)\n"
     ]
    },
    {
     "name": "stdout",
     "output_type": "stream",
     "text": [
      "listing_id                 0\n",
      "title                      0\n",
      "address                    2\n",
      "property_name              0\n",
      "property_type              0\n",
      "tenure                   637\n",
      "built_year                20\n",
      "num_beds                  35\n",
      "num_baths                149\n",
      "size_sqft                  0\n",
      "floor_level             5810\n",
      "furnishing                 0\n",
      "available_unit_types     520\n",
      "total_num_units         1900\n",
      "property_details_url       0\n",
      "lat                        0\n",
      "lng                        0\n",
      "elevation                  0\n",
      "subzone                   33\n",
      "planning_area             33\n",
      "dtype: int64\n"
     ]
    }
   ],
   "source": [
    "# we fill in empty build year of properties with median of built years of the properties in the same subzone\n",
    "for row in df_test.index:\n",
    "    if np.isnan(df_test.loc[row, \"built_year\"]):\n",
    "        df_test.loc[row, \"built_year\"] = np.median(df_test[df_test[\"subzone\"] == df_test.loc[row, \"subzone\"]][\"built_year\"].dropna())\n",
    "\n",
    "print(df_test.isnull().sum())"
   ],
   "metadata": {
    "collapsed": false,
    "pycharm": {
     "name": "#%%\n"
    }
   }
  },
  {
   "cell_type": "code",
   "execution_count": 208,
   "outputs": [
    {
     "name": "stdout",
     "output_type": "stream",
     "text": [
      "We can see that there are still 20 properties without built year.\n"
     ]
    },
    {
     "data": {
      "text/plain": "      listing_id                                 title  \\\n179       314399      4 bed ec for sale in copen grand   \n755       679135      3 bed ec for sale in copen grand   \n878       857255      4 bed ec for sale in copen grand   \n1043      352719      3 bed ec for sale in copen grand   \n1425      934617      5 bed ec for sale in copen grand   \n1864      293880      3 bed ec for sale in copen grand   \n2402      219287      5 bed ec for sale in copen grand   \n2723      855381      3 bed ec for sale in copen grand   \n3066      542130      4 bed ec for sale in copen grand   \n3152      688358      3 bed ec for sale in copen grand   \n3604      567492      2 bed ec for sale in copen grand   \n3740      469724      3 bed ec for sale in copen grand   \n4033      417361      3 bed ec for sale in copen grand   \n4146      525076      4 bed ec for sale in copen grand   \n5112      280111      2 bed ec for sale in copen grand   \n5306      909790      3 bed ec for sale in copen grand   \n5736      709309   8 bed house for sale in jurong park   \n6505      260793  8 bed house for sale in ponggol park   \n6838      274428      3 bed ec for sale in copen grand   \n6921      746618      5 bed ec for sale in copen grand   \n\n                           address property_name    property_type  \\\n179             tengah garden walk   copen grand  executive condo   \n755             tengah garden walk   copen grand  executive condo   \n878             tengah garden walk   copen grand  executive condo   \n1043            tengah garden walk   copen grand  Executive Condo   \n1425            tengah garden walk   copen grand  Executive Condo   \n1864            tengah garden walk   copen grand  Executive Condo   \n2402            tengah garden walk   copen grand  executive condo   \n2723            tengah garden walk   copen grand  executive condo   \n3066            tengah garden walk   copen grand  executive condo   \n3152            tengah garden walk   copen grand  executive condo   \n3604            tengah garden walk   copen grand  executive condo   \n3740            tengah garden walk   copen grand  executive condo   \n4033            tengah garden walk   copen grand  executive condo   \n4146            tengah garden walk   copen grand  executive condo   \n5112            tengah garden walk   copen grand  executive condo   \n5306            tengah garden walk   copen grand  Executive Condo   \n5736                 jalan kakatua   jurong park         bungalow   \n6505  ponggol twenty-fourth avenue  ponggol park         bungalow   \n6838            tengah garden walk   copen grand  Executive Condo   \n6921            tengah garden walk   copen grand  executive condo   \n\n                  tenure  built_year  num_beds  num_baths  size_sqft  \\\n179    99-year leasehold         NaN       4.0        3.0       1399   \n755    99-year leasehold         NaN       3.0        2.0        958   \n878    99-year leasehold         NaN       4.0        3.0       1238   \n1043   99-year leasehold         NaN       3.0        2.0       1000   \n1425   99-year leasehold         NaN       5.0        4.0       1499   \n1864   99-year leasehold         NaN       3.0        2.0       1000   \n2402   99-year leasehold         NaN       5.0        4.0       1593   \n2723   99-year leasehold         NaN       3.0        2.0        950   \n3066   99-year leasehold         NaN       4.0        3.0       1300   \n3152   99-year leasehold         NaN       3.0        2.0        980   \n3604   99-year leasehold         NaN       2.0        2.0        680   \n3740   99-year leasehold         NaN       3.0        2.0        938   \n4033   99-year leasehold         NaN       3.0        2.0        950   \n4146   99-year leasehold         NaN       4.0        3.0       1335   \n5112   99-year leasehold         NaN       2.0        2.0        699   \n5306   99-year leasehold         NaN       3.0        2.0        958   \n5736            freehold         NaN       8.0        8.0      15500   \n6505  999-year leasehold         NaN       8.0        8.0       4541   \n6838   99-year leasehold         NaN       3.0        2.0        969   \n6921   99-year leasehold         NaN       5.0        4.0       1499   \n\n     floor_level   furnishing      available_unit_types  total_num_units  \\\n179          NaN  unspecified             2, 3, 4, 5 br              NaN   \n755          NaN  unspecified             2, 3, 4, 5 br              NaN   \n878          NaN  unspecified             2, 3, 4, 5 br              NaN   \n1043         NaN  unspecified             2, 3, 4, 5 br              NaN   \n1425         NaN  unspecified             2, 3, 4, 5 br              NaN   \n1864         NaN  unspecified             2, 3, 4, 5 br              NaN   \n2402         NaN  unspecified             2, 3, 4, 5 br              NaN   \n2723         NaN      partial             2, 3, 4, 5 br              NaN   \n3066         NaN  unspecified             2, 3, 4, 5 br              NaN   \n3152         NaN  unspecified             2, 3, 4, 5 br              NaN   \n3604         NaN  unspecified             2, 3, 4, 5 br              NaN   \n3740         NaN  unspecified             2, 3, 4, 5 br              NaN   \n4033         NaN  unspecified             2, 3, 4, 5 br              NaN   \n4146         NaN  unspecified             2, 3, 4, 5 br              NaN   \n5112         NaN  unspecified             2, 3, 4, 5 br              NaN   \n5306         NaN  unspecified             2, 3, 4, 5 br              NaN   \n5736         NaN  unspecified          4, 5, 6, 7, 8 br              NaN   \n6505         NaN  unspecified  studio, 4, 5, 6, 7, 8 br              NaN   \n6838         NaN      partial             2, 3, 4, 5 br              NaN   \n6921         NaN  unspecified             2, 3, 4, 5 br              NaN   \n\n                                   property_details_url       lat         lng  \\\n179   https://www.99.co/singapore/condos-apartments/...  1.360322  103.730482   \n755   https://www.99.co/singapore/condos-apartments/...  1.360322  103.730482   \n878   https://www.99.co/singapore/condos-apartments/...  1.360322  103.730482   \n1043  https://www.99.co/singapore/condos-apartments/...  1.360322  103.730482   \n1425  https://www.99.co/singapore/condos-apartments/...  1.360322  103.730482   \n1864  https://www.99.co/singapore/condos-apartments/...  1.360322  103.730482   \n2402  https://www.99.co/singapore/condos-apartments/...  1.360322  103.730482   \n2723  https://www.99.co/singapore/condos-apartments/...  1.360322  103.730482   \n3066  https://www.99.co/singapore/condos-apartments/...  1.360322  103.730482   \n3152  https://www.99.co/singapore/condos-apartments/...  1.360322  103.730482   \n3604  https://www.99.co/singapore/condos-apartments/...  1.360322  103.730482   \n3740  https://www.99.co/singapore/condos-apartments/...  1.360322  103.730482   \n4033  https://www.99.co/singapore/condos-apartments/...  1.360322  103.730482   \n4146  https://www.99.co/singapore/condos-apartments/...  1.360322  103.730482   \n5112  https://www.99.co/singapore/condos-apartments/...  1.360322  103.730482   \n5306  https://www.99.co/singapore/condos-apartments/...  1.360322  103.730482   \n5736  https://www.99.co/singapore/houses/jurong-park...  1.319025  103.706668   \n6505  https://www.99.co/singapore/houses/ponggol-par...  1.416286  103.899209   \n6838  https://www.99.co/singapore/condos-apartments/...  1.360322  103.730482   \n6921  https://www.99.co/singapore/condos-apartments/...  1.360322  103.730482   \n\n      elevation     subzone planning_area  \n179           0      garden        tengah  \n755           0      garden        tengah  \n878           0      garden        tengah  \n1043          0      garden        tengah  \n1425          0      garden        tengah  \n1864          0      garden        tengah  \n2402          0      garden        tengah  \n2723          0      garden        tengah  \n3066          0      garden        tengah  \n3152          0      garden        tengah  \n3604          0      garden        tengah  \n3740          0      garden        tengah  \n4033          0      garden        tengah  \n4146          0      garden        tengah  \n5112          0      garden        tengah  \n5306          0      garden        tengah  \n5736          0    liu fang      boon lay  \n6505          0  northshore       punggol  \n6838          0      garden        tengah  \n6921          0      garden        tengah  ",
      "text/html": "<div>\n<style scoped>\n    .dataframe tbody tr th:only-of-type {\n        vertical-align: middle;\n    }\n\n    .dataframe tbody tr th {\n        vertical-align: top;\n    }\n\n    .dataframe thead th {\n        text-align: right;\n    }\n</style>\n<table border=\"1\" class=\"dataframe\">\n  <thead>\n    <tr style=\"text-align: right;\">\n      <th></th>\n      <th>listing_id</th>\n      <th>title</th>\n      <th>address</th>\n      <th>property_name</th>\n      <th>property_type</th>\n      <th>tenure</th>\n      <th>built_year</th>\n      <th>num_beds</th>\n      <th>num_baths</th>\n      <th>size_sqft</th>\n      <th>floor_level</th>\n      <th>furnishing</th>\n      <th>available_unit_types</th>\n      <th>total_num_units</th>\n      <th>property_details_url</th>\n      <th>lat</th>\n      <th>lng</th>\n      <th>elevation</th>\n      <th>subzone</th>\n      <th>planning_area</th>\n    </tr>\n  </thead>\n  <tbody>\n    <tr>\n      <th>179</th>\n      <td>314399</td>\n      <td>4 bed ec for sale in copen grand</td>\n      <td>tengah garden walk</td>\n      <td>copen grand</td>\n      <td>executive condo</td>\n      <td>99-year leasehold</td>\n      <td>NaN</td>\n      <td>4.0</td>\n      <td>3.0</td>\n      <td>1399</td>\n      <td>NaN</td>\n      <td>unspecified</td>\n      <td>2, 3, 4, 5 br</td>\n      <td>NaN</td>\n      <td>https://www.99.co/singapore/condos-apartments/...</td>\n      <td>1.360322</td>\n      <td>103.730482</td>\n      <td>0</td>\n      <td>garden</td>\n      <td>tengah</td>\n    </tr>\n    <tr>\n      <th>755</th>\n      <td>679135</td>\n      <td>3 bed ec for sale in copen grand</td>\n      <td>tengah garden walk</td>\n      <td>copen grand</td>\n      <td>executive condo</td>\n      <td>99-year leasehold</td>\n      <td>NaN</td>\n      <td>3.0</td>\n      <td>2.0</td>\n      <td>958</td>\n      <td>NaN</td>\n      <td>unspecified</td>\n      <td>2, 3, 4, 5 br</td>\n      <td>NaN</td>\n      <td>https://www.99.co/singapore/condos-apartments/...</td>\n      <td>1.360322</td>\n      <td>103.730482</td>\n      <td>0</td>\n      <td>garden</td>\n      <td>tengah</td>\n    </tr>\n    <tr>\n      <th>878</th>\n      <td>857255</td>\n      <td>4 bed ec for sale in copen grand</td>\n      <td>tengah garden walk</td>\n      <td>copen grand</td>\n      <td>executive condo</td>\n      <td>99-year leasehold</td>\n      <td>NaN</td>\n      <td>4.0</td>\n      <td>3.0</td>\n      <td>1238</td>\n      <td>NaN</td>\n      <td>unspecified</td>\n      <td>2, 3, 4, 5 br</td>\n      <td>NaN</td>\n      <td>https://www.99.co/singapore/condos-apartments/...</td>\n      <td>1.360322</td>\n      <td>103.730482</td>\n      <td>0</td>\n      <td>garden</td>\n      <td>tengah</td>\n    </tr>\n    <tr>\n      <th>1043</th>\n      <td>352719</td>\n      <td>3 bed ec for sale in copen grand</td>\n      <td>tengah garden walk</td>\n      <td>copen grand</td>\n      <td>Executive Condo</td>\n      <td>99-year leasehold</td>\n      <td>NaN</td>\n      <td>3.0</td>\n      <td>2.0</td>\n      <td>1000</td>\n      <td>NaN</td>\n      <td>unspecified</td>\n      <td>2, 3, 4, 5 br</td>\n      <td>NaN</td>\n      <td>https://www.99.co/singapore/condos-apartments/...</td>\n      <td>1.360322</td>\n      <td>103.730482</td>\n      <td>0</td>\n      <td>garden</td>\n      <td>tengah</td>\n    </tr>\n    <tr>\n      <th>1425</th>\n      <td>934617</td>\n      <td>5 bed ec for sale in copen grand</td>\n      <td>tengah garden walk</td>\n      <td>copen grand</td>\n      <td>Executive Condo</td>\n      <td>99-year leasehold</td>\n      <td>NaN</td>\n      <td>5.0</td>\n      <td>4.0</td>\n      <td>1499</td>\n      <td>NaN</td>\n      <td>unspecified</td>\n      <td>2, 3, 4, 5 br</td>\n      <td>NaN</td>\n      <td>https://www.99.co/singapore/condos-apartments/...</td>\n      <td>1.360322</td>\n      <td>103.730482</td>\n      <td>0</td>\n      <td>garden</td>\n      <td>tengah</td>\n    </tr>\n    <tr>\n      <th>1864</th>\n      <td>293880</td>\n      <td>3 bed ec for sale in copen grand</td>\n      <td>tengah garden walk</td>\n      <td>copen grand</td>\n      <td>Executive Condo</td>\n      <td>99-year leasehold</td>\n      <td>NaN</td>\n      <td>3.0</td>\n      <td>2.0</td>\n      <td>1000</td>\n      <td>NaN</td>\n      <td>unspecified</td>\n      <td>2, 3, 4, 5 br</td>\n      <td>NaN</td>\n      <td>https://www.99.co/singapore/condos-apartments/...</td>\n      <td>1.360322</td>\n      <td>103.730482</td>\n      <td>0</td>\n      <td>garden</td>\n      <td>tengah</td>\n    </tr>\n    <tr>\n      <th>2402</th>\n      <td>219287</td>\n      <td>5 bed ec for sale in copen grand</td>\n      <td>tengah garden walk</td>\n      <td>copen grand</td>\n      <td>executive condo</td>\n      <td>99-year leasehold</td>\n      <td>NaN</td>\n      <td>5.0</td>\n      <td>4.0</td>\n      <td>1593</td>\n      <td>NaN</td>\n      <td>unspecified</td>\n      <td>2, 3, 4, 5 br</td>\n      <td>NaN</td>\n      <td>https://www.99.co/singapore/condos-apartments/...</td>\n      <td>1.360322</td>\n      <td>103.730482</td>\n      <td>0</td>\n      <td>garden</td>\n      <td>tengah</td>\n    </tr>\n    <tr>\n      <th>2723</th>\n      <td>855381</td>\n      <td>3 bed ec for sale in copen grand</td>\n      <td>tengah garden walk</td>\n      <td>copen grand</td>\n      <td>executive condo</td>\n      <td>99-year leasehold</td>\n      <td>NaN</td>\n      <td>3.0</td>\n      <td>2.0</td>\n      <td>950</td>\n      <td>NaN</td>\n      <td>partial</td>\n      <td>2, 3, 4, 5 br</td>\n      <td>NaN</td>\n      <td>https://www.99.co/singapore/condos-apartments/...</td>\n      <td>1.360322</td>\n      <td>103.730482</td>\n      <td>0</td>\n      <td>garden</td>\n      <td>tengah</td>\n    </tr>\n    <tr>\n      <th>3066</th>\n      <td>542130</td>\n      <td>4 bed ec for sale in copen grand</td>\n      <td>tengah garden walk</td>\n      <td>copen grand</td>\n      <td>executive condo</td>\n      <td>99-year leasehold</td>\n      <td>NaN</td>\n      <td>4.0</td>\n      <td>3.0</td>\n      <td>1300</td>\n      <td>NaN</td>\n      <td>unspecified</td>\n      <td>2, 3, 4, 5 br</td>\n      <td>NaN</td>\n      <td>https://www.99.co/singapore/condos-apartments/...</td>\n      <td>1.360322</td>\n      <td>103.730482</td>\n      <td>0</td>\n      <td>garden</td>\n      <td>tengah</td>\n    </tr>\n    <tr>\n      <th>3152</th>\n      <td>688358</td>\n      <td>3 bed ec for sale in copen grand</td>\n      <td>tengah garden walk</td>\n      <td>copen grand</td>\n      <td>executive condo</td>\n      <td>99-year leasehold</td>\n      <td>NaN</td>\n      <td>3.0</td>\n      <td>2.0</td>\n      <td>980</td>\n      <td>NaN</td>\n      <td>unspecified</td>\n      <td>2, 3, 4, 5 br</td>\n      <td>NaN</td>\n      <td>https://www.99.co/singapore/condos-apartments/...</td>\n      <td>1.360322</td>\n      <td>103.730482</td>\n      <td>0</td>\n      <td>garden</td>\n      <td>tengah</td>\n    </tr>\n    <tr>\n      <th>3604</th>\n      <td>567492</td>\n      <td>2 bed ec for sale in copen grand</td>\n      <td>tengah garden walk</td>\n      <td>copen grand</td>\n      <td>executive condo</td>\n      <td>99-year leasehold</td>\n      <td>NaN</td>\n      <td>2.0</td>\n      <td>2.0</td>\n      <td>680</td>\n      <td>NaN</td>\n      <td>unspecified</td>\n      <td>2, 3, 4, 5 br</td>\n      <td>NaN</td>\n      <td>https://www.99.co/singapore/condos-apartments/...</td>\n      <td>1.360322</td>\n      <td>103.730482</td>\n      <td>0</td>\n      <td>garden</td>\n      <td>tengah</td>\n    </tr>\n    <tr>\n      <th>3740</th>\n      <td>469724</td>\n      <td>3 bed ec for sale in copen grand</td>\n      <td>tengah garden walk</td>\n      <td>copen grand</td>\n      <td>executive condo</td>\n      <td>99-year leasehold</td>\n      <td>NaN</td>\n      <td>3.0</td>\n      <td>2.0</td>\n      <td>938</td>\n      <td>NaN</td>\n      <td>unspecified</td>\n      <td>2, 3, 4, 5 br</td>\n      <td>NaN</td>\n      <td>https://www.99.co/singapore/condos-apartments/...</td>\n      <td>1.360322</td>\n      <td>103.730482</td>\n      <td>0</td>\n      <td>garden</td>\n      <td>tengah</td>\n    </tr>\n    <tr>\n      <th>4033</th>\n      <td>417361</td>\n      <td>3 bed ec for sale in copen grand</td>\n      <td>tengah garden walk</td>\n      <td>copen grand</td>\n      <td>executive condo</td>\n      <td>99-year leasehold</td>\n      <td>NaN</td>\n      <td>3.0</td>\n      <td>2.0</td>\n      <td>950</td>\n      <td>NaN</td>\n      <td>unspecified</td>\n      <td>2, 3, 4, 5 br</td>\n      <td>NaN</td>\n      <td>https://www.99.co/singapore/condos-apartments/...</td>\n      <td>1.360322</td>\n      <td>103.730482</td>\n      <td>0</td>\n      <td>garden</td>\n      <td>tengah</td>\n    </tr>\n    <tr>\n      <th>4146</th>\n      <td>525076</td>\n      <td>4 bed ec for sale in copen grand</td>\n      <td>tengah garden walk</td>\n      <td>copen grand</td>\n      <td>executive condo</td>\n      <td>99-year leasehold</td>\n      <td>NaN</td>\n      <td>4.0</td>\n      <td>3.0</td>\n      <td>1335</td>\n      <td>NaN</td>\n      <td>unspecified</td>\n      <td>2, 3, 4, 5 br</td>\n      <td>NaN</td>\n      <td>https://www.99.co/singapore/condos-apartments/...</td>\n      <td>1.360322</td>\n      <td>103.730482</td>\n      <td>0</td>\n      <td>garden</td>\n      <td>tengah</td>\n    </tr>\n    <tr>\n      <th>5112</th>\n      <td>280111</td>\n      <td>2 bed ec for sale in copen grand</td>\n      <td>tengah garden walk</td>\n      <td>copen grand</td>\n      <td>executive condo</td>\n      <td>99-year leasehold</td>\n      <td>NaN</td>\n      <td>2.0</td>\n      <td>2.0</td>\n      <td>699</td>\n      <td>NaN</td>\n      <td>unspecified</td>\n      <td>2, 3, 4, 5 br</td>\n      <td>NaN</td>\n      <td>https://www.99.co/singapore/condos-apartments/...</td>\n      <td>1.360322</td>\n      <td>103.730482</td>\n      <td>0</td>\n      <td>garden</td>\n      <td>tengah</td>\n    </tr>\n    <tr>\n      <th>5306</th>\n      <td>909790</td>\n      <td>3 bed ec for sale in copen grand</td>\n      <td>tengah garden walk</td>\n      <td>copen grand</td>\n      <td>Executive Condo</td>\n      <td>99-year leasehold</td>\n      <td>NaN</td>\n      <td>3.0</td>\n      <td>2.0</td>\n      <td>958</td>\n      <td>NaN</td>\n      <td>unspecified</td>\n      <td>2, 3, 4, 5 br</td>\n      <td>NaN</td>\n      <td>https://www.99.co/singapore/condos-apartments/...</td>\n      <td>1.360322</td>\n      <td>103.730482</td>\n      <td>0</td>\n      <td>garden</td>\n      <td>tengah</td>\n    </tr>\n    <tr>\n      <th>5736</th>\n      <td>709309</td>\n      <td>8 bed house for sale in jurong park</td>\n      <td>jalan kakatua</td>\n      <td>jurong park</td>\n      <td>bungalow</td>\n      <td>freehold</td>\n      <td>NaN</td>\n      <td>8.0</td>\n      <td>8.0</td>\n      <td>15500</td>\n      <td>NaN</td>\n      <td>unspecified</td>\n      <td>4, 5, 6, 7, 8 br</td>\n      <td>NaN</td>\n      <td>https://www.99.co/singapore/houses/jurong-park...</td>\n      <td>1.319025</td>\n      <td>103.706668</td>\n      <td>0</td>\n      <td>liu fang</td>\n      <td>boon lay</td>\n    </tr>\n    <tr>\n      <th>6505</th>\n      <td>260793</td>\n      <td>8 bed house for sale in ponggol park</td>\n      <td>ponggol twenty-fourth avenue</td>\n      <td>ponggol park</td>\n      <td>bungalow</td>\n      <td>999-year leasehold</td>\n      <td>NaN</td>\n      <td>8.0</td>\n      <td>8.0</td>\n      <td>4541</td>\n      <td>NaN</td>\n      <td>unspecified</td>\n      <td>studio, 4, 5, 6, 7, 8 br</td>\n      <td>NaN</td>\n      <td>https://www.99.co/singapore/houses/ponggol-par...</td>\n      <td>1.416286</td>\n      <td>103.899209</td>\n      <td>0</td>\n      <td>northshore</td>\n      <td>punggol</td>\n    </tr>\n    <tr>\n      <th>6838</th>\n      <td>274428</td>\n      <td>3 bed ec for sale in copen grand</td>\n      <td>tengah garden walk</td>\n      <td>copen grand</td>\n      <td>Executive Condo</td>\n      <td>99-year leasehold</td>\n      <td>NaN</td>\n      <td>3.0</td>\n      <td>2.0</td>\n      <td>969</td>\n      <td>NaN</td>\n      <td>partial</td>\n      <td>2, 3, 4, 5 br</td>\n      <td>NaN</td>\n      <td>https://www.99.co/singapore/condos-apartments/...</td>\n      <td>1.360322</td>\n      <td>103.730482</td>\n      <td>0</td>\n      <td>garden</td>\n      <td>tengah</td>\n    </tr>\n    <tr>\n      <th>6921</th>\n      <td>746618</td>\n      <td>5 bed ec for sale in copen grand</td>\n      <td>tengah garden walk</td>\n      <td>copen grand</td>\n      <td>executive condo</td>\n      <td>99-year leasehold</td>\n      <td>NaN</td>\n      <td>5.0</td>\n      <td>4.0</td>\n      <td>1499</td>\n      <td>NaN</td>\n      <td>unspecified</td>\n      <td>2, 3, 4, 5 br</td>\n      <td>NaN</td>\n      <td>https://www.99.co/singapore/condos-apartments/...</td>\n      <td>1.360322</td>\n      <td>103.730482</td>\n      <td>0</td>\n      <td>garden</td>\n      <td>tengah</td>\n    </tr>\n  </tbody>\n</table>\n</div>"
     },
     "execution_count": 208,
     "metadata": {},
     "output_type": "execute_result"
    }
   ],
   "source": [
    "print(\"We can see that there are still 20 properties without built year.\")\n",
    "df_test[np.isnan(df_test['built_year'])]"
   ],
   "metadata": {
    "collapsed": false,
    "pycharm": {
     "name": "#%%\n"
    }
   }
  },
  {
   "cell_type": "code",
   "execution_count": 209,
   "outputs": [],
   "source": [
    "#quick search of data online\n",
    "df_test.loc[df_test[\"title\"].str.contains(\"copen grand\"), 'built_year']=2027\n",
    "df_test.loc[df_test[\"title\"].str.contains(\"jurong park\"), 'built_year']=1971\n",
    "df_test.loc[df_test[\"title\"].str.contains(\"ponggol park\"), 'built_year']=2011"
   ],
   "metadata": {
    "collapsed": false,
    "pycharm": {
     "name": "#%%\n"
    }
   }
  },
  {
   "cell_type": "code",
   "execution_count": 210,
   "outputs": [
    {
     "data": {
      "text/plain": "      listing_id                                  title               address  \\\n188       939890           4 bed condo for sale in 1953     1 tessensohn road   \n393       337090           4 bed condo for sale in 1953     1 tessensohn road   \n621       406280           5 bed condo for sale in 1953     1 tessensohn road   \n1026      915017           3 bed condo for sale in 1953     1 tessensohn road   \n1239      670970           3 bed condo for sale in 1953     1 tessensohn road   \n1334      903099           3 bed condo for sale in 1953     1 tessensohn road   \n1578      982425           3 bed condo for sale in 1953     1 tessensohn road   \n1622      807263           3 bed condo for sale in 1953     1 tessensohn road   \n1734      735104           4 bed condo for sale in 1953     1 tessensohn road   \n1765      241124           5 bed condo for sale in 1953     1 tessensohn road   \n1793      633068           3 bed condo for sale in 1953     1 tessensohn road   \n1851      901799           2 bed condo for sale in ness  38 lorong 32 geylang   \n1879      729824           6 bed condo for sale in 1953     1 tessensohn road   \n1908      891664           4 bed condo for sale in 1953     1 tessensohn road   \n2277      637209  1 bed condo for sale in pollen & bleu       17 farrer drive   \n2377      272826             1 bed condo for sale in m5       5 jalan mutiara   \n2448      285865           2 bed condo for sale in 1953     1 tessensohn road   \n2515      683796           5 bed condo for sale in 1953     1 tessensohn road   \n3478      235478           3 bed condo for sale in 1953     1 tessensohn road   \n3673      438200           3 bed condo for sale in 1953     1 tessensohn road   \n3701      849371           1 bed condo for sale in 1953     1 tessensohn road   \n4065      420220           3 bed condo for sale in 1953     1 tessensohn road   \n4180      697456           5 bed condo for sale in 1953     1 tessensohn road   \n5504      247945           4 bed condo for sale in 1953     1 tessensohn road   \n5653      262273           3 bed condo for sale in 1953     1 tessensohn road   \n5854      690511           4 bed condo for sale in 1953     1 tessensohn road   \n5960      439201           3 bed condo for sale in 1953     1 tessensohn road   \n6103      532454           3 bed condo for sale in 1953     1 tessensohn road   \n6250      981245           3 bed condo for sale in 1953     1 tessensohn road   \n6296      692599           4 bed condo for sale in 1953     1 tessensohn road   \n6512      496493           5 bed condo for sale in 1953     1 tessensohn road   \n6565      532090           2 bed condo for sale in ness  38 lorong 32 geylang   \n6641      318536           3 bed condo for sale in 1953     1 tessensohn road   \n\n      property_name property_type             tenure  built_year  num_beds  \\\n188            1953     apartment           freehold      2023.0       4.0   \n393            1953     apartment           freehold      2023.0       4.0   \n621            1953     apartment           freehold      2023.0       5.0   \n1026           1953         condo           freehold      2023.0       3.0   \n1239           1953         condo           freehold      2023.0       3.0   \n1334           1953         condo           freehold      2023.0       3.0   \n1578           1953     apartment           freehold      2023.0       3.0   \n1622           1953     apartment           freehold      2023.0       3.0   \n1734           1953         condo           freehold      2023.0       4.0   \n1765           1953         condo           freehold      2023.0       5.0   \n1793           1953         Condo           freehold      2023.0       3.0   \n1851           ness         condo           freehold      2015.0       2.0   \n1879           1953         condo           freehold      2023.0       6.0   \n1908           1953         condo           freehold      2023.0       4.0   \n2277  pollen & bleu         condo  99-year leasehold      2017.0       1.0   \n2377             m5     Apartment           freehold      2017.0       1.0   \n2448           1953     apartment           freehold      2023.0       2.0   \n2515           1953         condo           freehold      2023.0       5.0   \n3478           1953     apartment           freehold      2023.0       3.0   \n3673           1953         condo           freehold      2023.0       3.0   \n3701           1953     apartment           freehold      2023.0       1.0   \n4065           1953         condo           freehold      2023.0       3.0   \n4180           1953         condo           freehold      2023.0       5.0   \n5504           1953     Apartment           freehold      2023.0       4.0   \n5653           1953     apartment           freehold      2023.0       3.0   \n5854           1953         condo           freehold      2023.0       4.0   \n5960           1953     apartment           freehold      2023.0       3.0   \n6103           1953         condo           freehold      2023.0       3.0   \n6250           1953     apartment           freehold      2023.0       3.0   \n6296           1953         condo           freehold      2023.0       4.0   \n6512           1953         Condo           freehold      2023.0       5.0   \n6565           ness         condo           freehold      2015.0       2.0   \n6641           1953         Condo           freehold      2023.0       3.0   \n\n      num_baths  size_sqft floor_level   furnishing  \\\n188         4.0       1399         NaN      partial   \n393         4.0       1399         NaN  unspecified   \n621         3.0       1507         NaN  unspecified   \n1026        2.0        893         low      partial   \n1239        3.0       1130         low  unspecified   \n1334        3.0       1141         low  unspecified   \n1578        2.0       1119         NaN  unspecified   \n1622        3.0       1130         NaN      partial   \n1734        4.0       1399         mid  unfurnished   \n1765        3.0       1507         NaN  unspecified   \n1793        2.0       1130        high      partial   \n1851        2.0       1049         NaN        fully   \n1879        4.0       1658         NaN  unspecified   \n1908        3.0       1227         NaN  unspecified   \n2277        1.0        549         NaN  unspecified   \n2377        1.0        441         NaN  unspecified   \n2448        2.0       1130         NaN  unspecified   \n2515        3.0       1507         NaN  unspecified   \n3478        3.0       1130         NaN  unspecified   \n3673        3.0       1130      ground  unspecified   \n3701        1.0        549         NaN      partial   \n4065        2.0        893        high  unspecified   \n4180        3.0       1507         NaN  unspecified   \n5504        5.0       1399         NaN  unspecified   \n5653        3.0       1238         NaN  unspecified   \n5854        4.0       1399         NaN      partial   \n5960        3.0       1141         NaN  unspecified   \n6103        3.0       1152         NaN  unspecified   \n6250        2.0       1227         NaN  unspecified   \n6296        4.0       1399         NaN  unspecified   \n6512        3.0       1507         NaN      partial   \n6565        2.0       1033         NaN  unspecified   \n6641        3.0       1227         NaN      partial   \n\n             available_unit_types  total_num_units  \\\n188   studio, 1, 2, 3, 4, 5, 6 br             58.0   \n393   studio, 1, 2, 3, 4, 5, 6 br             58.0   \n621   studio, 1, 2, 3, 4, 5, 6 br             58.0   \n1026  studio, 1, 2, 3, 4, 5, 6 br             58.0   \n1239  studio, 1, 2, 3, 4, 5, 6 br             58.0   \n1334  studio, 1, 2, 3, 4, 5, 6 br             58.0   \n1578  studio, 1, 2, 3, 4, 5, 6 br             58.0   \n1622  studio, 1, 2, 3, 4, 5, 6 br             58.0   \n1734  studio, 1, 2, 3, 4, 5, 6 br             58.0   \n1765  studio, 1, 2, 3, 4, 5, 6 br             58.0   \n1793  studio, 1, 2, 3, 4, 5, 6 br             58.0   \n1851              studio, 1, 2 br             62.0   \n1879  studio, 1, 2, 3, 4, 5, 6 br             58.0   \n1908  studio, 1, 2, 3, 4, 5, 6 br             58.0   \n2277             1, 2, 3, 4, 5 br            106.0   \n2377                      1, 2 br             33.0   \n2448  studio, 1, 2, 3, 4, 5, 6 br             58.0   \n2515  studio, 1, 2, 3, 4, 5, 6 br             58.0   \n3478  studio, 1, 2, 3, 4, 5, 6 br             58.0   \n3673  studio, 1, 2, 3, 4, 5, 6 br             58.0   \n3701  studio, 1, 2, 3, 4, 5, 6 br             58.0   \n4065  studio, 1, 2, 3, 4, 5, 6 br             58.0   \n4180  studio, 1, 2, 3, 4, 5, 6 br             58.0   \n5504  studio, 1, 2, 3, 4, 5, 6 br             58.0   \n5653  studio, 1, 2, 3, 4, 5, 6 br             58.0   \n5854  studio, 1, 2, 3, 4, 5, 6 br             58.0   \n5960  studio, 1, 2, 3, 4, 5, 6 br             58.0   \n6103  studio, 1, 2, 3, 4, 5, 6 br             58.0   \n6250  studio, 1, 2, 3, 4, 5, 6 br             58.0   \n6296  studio, 1, 2, 3, 4, 5, 6 br             58.0   \n6512  studio, 1, 2, 3, 4, 5, 6 br             58.0   \n6565              studio, 1, 2 br             62.0   \n6641  studio, 1, 2, 3, 4, 5, 6 br             58.0   \n\n                                   property_details_url        lat  \\\n188   https://www.99.co/singapore/condos-apartments/...  14.484814   \n393   https://www.99.co/singapore/condos-apartments/...  14.484814   \n621   https://www.99.co/singapore/condos-apartments/...  14.484814   \n1026  https://www.99.co/singapore/condos-apartments/...  14.484814   \n1239  https://www.99.co/singapore/condos-apartments/...  14.484814   \n1334  https://www.99.co/singapore/condos-apartments/...  14.484814   \n1578  https://www.99.co/singapore/condos-apartments/...  14.484814   \n1622  https://www.99.co/singapore/condos-apartments/...  14.484814   \n1734  https://www.99.co/singapore/condos-apartments/...  14.484814   \n1765  https://www.99.co/singapore/condos-apartments/...  14.484814   \n1793  https://www.99.co/singapore/condos-apartments/...  14.484814   \n1851  https://www.99.co/singapore/condos-apartments/...  38.942776   \n1879  https://www.99.co/singapore/condos-apartments/...  14.484814   \n1908  https://www.99.co/singapore/condos-apartments/...  14.484814   \n2277  https://www.99.co/singapore/condos-apartments/...  69.486768   \n2377   https://www.99.co/singapore/condos-apartments/m5  14.484814   \n2448  https://www.99.co/singapore/condos-apartments/...  14.484814   \n2515  https://www.99.co/singapore/condos-apartments/...  14.484814   \n3478  https://www.99.co/singapore/condos-apartments/...  14.484814   \n3673  https://www.99.co/singapore/condos-apartments/...  14.484814   \n3701  https://www.99.co/singapore/condos-apartments/...  14.484814   \n4065  https://www.99.co/singapore/condos-apartments/...  14.484814   \n4180  https://www.99.co/singapore/condos-apartments/...  14.484814   \n5504  https://www.99.co/singapore/condos-apartments/...  14.484814   \n5653  https://www.99.co/singapore/condos-apartments/...  14.484814   \n5854  https://www.99.co/singapore/condos-apartments/...  14.484814   \n5960  https://www.99.co/singapore/condos-apartments/...  14.484814   \n6103  https://www.99.co/singapore/condos-apartments/...  14.484814   \n6250  https://www.99.co/singapore/condos-apartments/...  14.484814   \n6296  https://www.99.co/singapore/condos-apartments/...  14.484814   \n6512  https://www.99.co/singapore/condos-apartments/...  14.484814   \n6565  https://www.99.co/singapore/condos-apartments/...  38.942776   \n6641  https://www.99.co/singapore/condos-apartments/...  14.484814   \n\n             lng  elevation subzone planning_area  \n188   121.023232          0     NaN           NaN  \n393   121.023232          0     NaN           NaN  \n621   121.023232          0     NaN           NaN  \n1026  121.023232          0     NaN           NaN  \n1239  121.023232          0     NaN           NaN  \n1334  121.023232          0     NaN           NaN  \n1578  121.023232          0     NaN           NaN  \n1622  121.023232          0     NaN           NaN  \n1734  121.023232          0     NaN           NaN  \n1765  121.023232          0     NaN           NaN  \n1793  121.023232          0     NaN           NaN  \n1851  -77.065364          0     NaN           NaN  \n1879  121.023232          0     NaN           NaN  \n1908  121.023232          0     NaN           NaN  \n2277   20.184434          0     NaN           NaN  \n2377  121.023232          0     NaN           NaN  \n2448  121.023232          0     NaN           NaN  \n2515  121.023232          0     NaN           NaN  \n3478  121.023232          0     NaN           NaN  \n3673  121.023232          0     NaN           NaN  \n3701  121.023232          0     NaN           NaN  \n4065  121.023232          0     NaN           NaN  \n4180  121.023232          0     NaN           NaN  \n5504  121.023232          0     NaN           NaN  \n5653  121.023232          0     NaN           NaN  \n5854  121.023232          0     NaN           NaN  \n5960  121.023232          0     NaN           NaN  \n6103  121.023232          0     NaN           NaN  \n6250  121.023232          0     NaN           NaN  \n6296  121.023232          0     NaN           NaN  \n6512  121.023232          0     NaN           NaN  \n6565  -77.065364          0     NaN           NaN  \n6641  121.023232          0     NaN           NaN  ",
      "text/html": "<div>\n<style scoped>\n    .dataframe tbody tr th:only-of-type {\n        vertical-align: middle;\n    }\n\n    .dataframe tbody tr th {\n        vertical-align: top;\n    }\n\n    .dataframe thead th {\n        text-align: right;\n    }\n</style>\n<table border=\"1\" class=\"dataframe\">\n  <thead>\n    <tr style=\"text-align: right;\">\n      <th></th>\n      <th>listing_id</th>\n      <th>title</th>\n      <th>address</th>\n      <th>property_name</th>\n      <th>property_type</th>\n      <th>tenure</th>\n      <th>built_year</th>\n      <th>num_beds</th>\n      <th>num_baths</th>\n      <th>size_sqft</th>\n      <th>floor_level</th>\n      <th>furnishing</th>\n      <th>available_unit_types</th>\n      <th>total_num_units</th>\n      <th>property_details_url</th>\n      <th>lat</th>\n      <th>lng</th>\n      <th>elevation</th>\n      <th>subzone</th>\n      <th>planning_area</th>\n    </tr>\n  </thead>\n  <tbody>\n    <tr>\n      <th>188</th>\n      <td>939890</td>\n      <td>4 bed condo for sale in 1953</td>\n      <td>1 tessensohn road</td>\n      <td>1953</td>\n      <td>apartment</td>\n      <td>freehold</td>\n      <td>2023.0</td>\n      <td>4.0</td>\n      <td>4.0</td>\n      <td>1399</td>\n      <td>NaN</td>\n      <td>partial</td>\n      <td>studio, 1, 2, 3, 4, 5, 6 br</td>\n      <td>58.0</td>\n      <td>https://www.99.co/singapore/condos-apartments/...</td>\n      <td>14.484814</td>\n      <td>121.023232</td>\n      <td>0</td>\n      <td>NaN</td>\n      <td>NaN</td>\n    </tr>\n    <tr>\n      <th>393</th>\n      <td>337090</td>\n      <td>4 bed condo for sale in 1953</td>\n      <td>1 tessensohn road</td>\n      <td>1953</td>\n      <td>apartment</td>\n      <td>freehold</td>\n      <td>2023.0</td>\n      <td>4.0</td>\n      <td>4.0</td>\n      <td>1399</td>\n      <td>NaN</td>\n      <td>unspecified</td>\n      <td>studio, 1, 2, 3, 4, 5, 6 br</td>\n      <td>58.0</td>\n      <td>https://www.99.co/singapore/condos-apartments/...</td>\n      <td>14.484814</td>\n      <td>121.023232</td>\n      <td>0</td>\n      <td>NaN</td>\n      <td>NaN</td>\n    </tr>\n    <tr>\n      <th>621</th>\n      <td>406280</td>\n      <td>5 bed condo for sale in 1953</td>\n      <td>1 tessensohn road</td>\n      <td>1953</td>\n      <td>apartment</td>\n      <td>freehold</td>\n      <td>2023.0</td>\n      <td>5.0</td>\n      <td>3.0</td>\n      <td>1507</td>\n      <td>NaN</td>\n      <td>unspecified</td>\n      <td>studio, 1, 2, 3, 4, 5, 6 br</td>\n      <td>58.0</td>\n      <td>https://www.99.co/singapore/condos-apartments/...</td>\n      <td>14.484814</td>\n      <td>121.023232</td>\n      <td>0</td>\n      <td>NaN</td>\n      <td>NaN</td>\n    </tr>\n    <tr>\n      <th>1026</th>\n      <td>915017</td>\n      <td>3 bed condo for sale in 1953</td>\n      <td>1 tessensohn road</td>\n      <td>1953</td>\n      <td>condo</td>\n      <td>freehold</td>\n      <td>2023.0</td>\n      <td>3.0</td>\n      <td>2.0</td>\n      <td>893</td>\n      <td>low</td>\n      <td>partial</td>\n      <td>studio, 1, 2, 3, 4, 5, 6 br</td>\n      <td>58.0</td>\n      <td>https://www.99.co/singapore/condos-apartments/...</td>\n      <td>14.484814</td>\n      <td>121.023232</td>\n      <td>0</td>\n      <td>NaN</td>\n      <td>NaN</td>\n    </tr>\n    <tr>\n      <th>1239</th>\n      <td>670970</td>\n      <td>3 bed condo for sale in 1953</td>\n      <td>1 tessensohn road</td>\n      <td>1953</td>\n      <td>condo</td>\n      <td>freehold</td>\n      <td>2023.0</td>\n      <td>3.0</td>\n      <td>3.0</td>\n      <td>1130</td>\n      <td>low</td>\n      <td>unspecified</td>\n      <td>studio, 1, 2, 3, 4, 5, 6 br</td>\n      <td>58.0</td>\n      <td>https://www.99.co/singapore/condos-apartments/...</td>\n      <td>14.484814</td>\n      <td>121.023232</td>\n      <td>0</td>\n      <td>NaN</td>\n      <td>NaN</td>\n    </tr>\n    <tr>\n      <th>1334</th>\n      <td>903099</td>\n      <td>3 bed condo for sale in 1953</td>\n      <td>1 tessensohn road</td>\n      <td>1953</td>\n      <td>condo</td>\n      <td>freehold</td>\n      <td>2023.0</td>\n      <td>3.0</td>\n      <td>3.0</td>\n      <td>1141</td>\n      <td>low</td>\n      <td>unspecified</td>\n      <td>studio, 1, 2, 3, 4, 5, 6 br</td>\n      <td>58.0</td>\n      <td>https://www.99.co/singapore/condos-apartments/...</td>\n      <td>14.484814</td>\n      <td>121.023232</td>\n      <td>0</td>\n      <td>NaN</td>\n      <td>NaN</td>\n    </tr>\n    <tr>\n      <th>1578</th>\n      <td>982425</td>\n      <td>3 bed condo for sale in 1953</td>\n      <td>1 tessensohn road</td>\n      <td>1953</td>\n      <td>apartment</td>\n      <td>freehold</td>\n      <td>2023.0</td>\n      <td>3.0</td>\n      <td>2.0</td>\n      <td>1119</td>\n      <td>NaN</td>\n      <td>unspecified</td>\n      <td>studio, 1, 2, 3, 4, 5, 6 br</td>\n      <td>58.0</td>\n      <td>https://www.99.co/singapore/condos-apartments/...</td>\n      <td>14.484814</td>\n      <td>121.023232</td>\n      <td>0</td>\n      <td>NaN</td>\n      <td>NaN</td>\n    </tr>\n    <tr>\n      <th>1622</th>\n      <td>807263</td>\n      <td>3 bed condo for sale in 1953</td>\n      <td>1 tessensohn road</td>\n      <td>1953</td>\n      <td>apartment</td>\n      <td>freehold</td>\n      <td>2023.0</td>\n      <td>3.0</td>\n      <td>3.0</td>\n      <td>1130</td>\n      <td>NaN</td>\n      <td>partial</td>\n      <td>studio, 1, 2, 3, 4, 5, 6 br</td>\n      <td>58.0</td>\n      <td>https://www.99.co/singapore/condos-apartments/...</td>\n      <td>14.484814</td>\n      <td>121.023232</td>\n      <td>0</td>\n      <td>NaN</td>\n      <td>NaN</td>\n    </tr>\n    <tr>\n      <th>1734</th>\n      <td>735104</td>\n      <td>4 bed condo for sale in 1953</td>\n      <td>1 tessensohn road</td>\n      <td>1953</td>\n      <td>condo</td>\n      <td>freehold</td>\n      <td>2023.0</td>\n      <td>4.0</td>\n      <td>4.0</td>\n      <td>1399</td>\n      <td>mid</td>\n      <td>unfurnished</td>\n      <td>studio, 1, 2, 3, 4, 5, 6 br</td>\n      <td>58.0</td>\n      <td>https://www.99.co/singapore/condos-apartments/...</td>\n      <td>14.484814</td>\n      <td>121.023232</td>\n      <td>0</td>\n      <td>NaN</td>\n      <td>NaN</td>\n    </tr>\n    <tr>\n      <th>1765</th>\n      <td>241124</td>\n      <td>5 bed condo for sale in 1953</td>\n      <td>1 tessensohn road</td>\n      <td>1953</td>\n      <td>condo</td>\n      <td>freehold</td>\n      <td>2023.0</td>\n      <td>5.0</td>\n      <td>3.0</td>\n      <td>1507</td>\n      <td>NaN</td>\n      <td>unspecified</td>\n      <td>studio, 1, 2, 3, 4, 5, 6 br</td>\n      <td>58.0</td>\n      <td>https://www.99.co/singapore/condos-apartments/...</td>\n      <td>14.484814</td>\n      <td>121.023232</td>\n      <td>0</td>\n      <td>NaN</td>\n      <td>NaN</td>\n    </tr>\n    <tr>\n      <th>1793</th>\n      <td>633068</td>\n      <td>3 bed condo for sale in 1953</td>\n      <td>1 tessensohn road</td>\n      <td>1953</td>\n      <td>Condo</td>\n      <td>freehold</td>\n      <td>2023.0</td>\n      <td>3.0</td>\n      <td>2.0</td>\n      <td>1130</td>\n      <td>high</td>\n      <td>partial</td>\n      <td>studio, 1, 2, 3, 4, 5, 6 br</td>\n      <td>58.0</td>\n      <td>https://www.99.co/singapore/condos-apartments/...</td>\n      <td>14.484814</td>\n      <td>121.023232</td>\n      <td>0</td>\n      <td>NaN</td>\n      <td>NaN</td>\n    </tr>\n    <tr>\n      <th>1851</th>\n      <td>901799</td>\n      <td>2 bed condo for sale in ness</td>\n      <td>38 lorong 32 geylang</td>\n      <td>ness</td>\n      <td>condo</td>\n      <td>freehold</td>\n      <td>2015.0</td>\n      <td>2.0</td>\n      <td>2.0</td>\n      <td>1049</td>\n      <td>NaN</td>\n      <td>fully</td>\n      <td>studio, 1, 2 br</td>\n      <td>62.0</td>\n      <td>https://www.99.co/singapore/condos-apartments/...</td>\n      <td>38.942776</td>\n      <td>-77.065364</td>\n      <td>0</td>\n      <td>NaN</td>\n      <td>NaN</td>\n    </tr>\n    <tr>\n      <th>1879</th>\n      <td>729824</td>\n      <td>6 bed condo for sale in 1953</td>\n      <td>1 tessensohn road</td>\n      <td>1953</td>\n      <td>condo</td>\n      <td>freehold</td>\n      <td>2023.0</td>\n      <td>6.0</td>\n      <td>4.0</td>\n      <td>1658</td>\n      <td>NaN</td>\n      <td>unspecified</td>\n      <td>studio, 1, 2, 3, 4, 5, 6 br</td>\n      <td>58.0</td>\n      <td>https://www.99.co/singapore/condos-apartments/...</td>\n      <td>14.484814</td>\n      <td>121.023232</td>\n      <td>0</td>\n      <td>NaN</td>\n      <td>NaN</td>\n    </tr>\n    <tr>\n      <th>1908</th>\n      <td>891664</td>\n      <td>4 bed condo for sale in 1953</td>\n      <td>1 tessensohn road</td>\n      <td>1953</td>\n      <td>condo</td>\n      <td>freehold</td>\n      <td>2023.0</td>\n      <td>4.0</td>\n      <td>3.0</td>\n      <td>1227</td>\n      <td>NaN</td>\n      <td>unspecified</td>\n      <td>studio, 1, 2, 3, 4, 5, 6 br</td>\n      <td>58.0</td>\n      <td>https://www.99.co/singapore/condos-apartments/...</td>\n      <td>14.484814</td>\n      <td>121.023232</td>\n      <td>0</td>\n      <td>NaN</td>\n      <td>NaN</td>\n    </tr>\n    <tr>\n      <th>2277</th>\n      <td>637209</td>\n      <td>1 bed condo for sale in pollen &amp; bleu</td>\n      <td>17 farrer drive</td>\n      <td>pollen &amp; bleu</td>\n      <td>condo</td>\n      <td>99-year leasehold</td>\n      <td>2017.0</td>\n      <td>1.0</td>\n      <td>1.0</td>\n      <td>549</td>\n      <td>NaN</td>\n      <td>unspecified</td>\n      <td>1, 2, 3, 4, 5 br</td>\n      <td>106.0</td>\n      <td>https://www.99.co/singapore/condos-apartments/...</td>\n      <td>69.486768</td>\n      <td>20.184434</td>\n      <td>0</td>\n      <td>NaN</td>\n      <td>NaN</td>\n    </tr>\n    <tr>\n      <th>2377</th>\n      <td>272826</td>\n      <td>1 bed condo for sale in m5</td>\n      <td>5 jalan mutiara</td>\n      <td>m5</td>\n      <td>Apartment</td>\n      <td>freehold</td>\n      <td>2017.0</td>\n      <td>1.0</td>\n      <td>1.0</td>\n      <td>441</td>\n      <td>NaN</td>\n      <td>unspecified</td>\n      <td>1, 2 br</td>\n      <td>33.0</td>\n      <td>https://www.99.co/singapore/condos-apartments/m5</td>\n      <td>14.484814</td>\n      <td>121.023232</td>\n      <td>0</td>\n      <td>NaN</td>\n      <td>NaN</td>\n    </tr>\n    <tr>\n      <th>2448</th>\n      <td>285865</td>\n      <td>2 bed condo for sale in 1953</td>\n      <td>1 tessensohn road</td>\n      <td>1953</td>\n      <td>apartment</td>\n      <td>freehold</td>\n      <td>2023.0</td>\n      <td>2.0</td>\n      <td>2.0</td>\n      <td>1130</td>\n      <td>NaN</td>\n      <td>unspecified</td>\n      <td>studio, 1, 2, 3, 4, 5, 6 br</td>\n      <td>58.0</td>\n      <td>https://www.99.co/singapore/condos-apartments/...</td>\n      <td>14.484814</td>\n      <td>121.023232</td>\n      <td>0</td>\n      <td>NaN</td>\n      <td>NaN</td>\n    </tr>\n    <tr>\n      <th>2515</th>\n      <td>683796</td>\n      <td>5 bed condo for sale in 1953</td>\n      <td>1 tessensohn road</td>\n      <td>1953</td>\n      <td>condo</td>\n      <td>freehold</td>\n      <td>2023.0</td>\n      <td>5.0</td>\n      <td>3.0</td>\n      <td>1507</td>\n      <td>NaN</td>\n      <td>unspecified</td>\n      <td>studio, 1, 2, 3, 4, 5, 6 br</td>\n      <td>58.0</td>\n      <td>https://www.99.co/singapore/condos-apartments/...</td>\n      <td>14.484814</td>\n      <td>121.023232</td>\n      <td>0</td>\n      <td>NaN</td>\n      <td>NaN</td>\n    </tr>\n    <tr>\n      <th>3478</th>\n      <td>235478</td>\n      <td>3 bed condo for sale in 1953</td>\n      <td>1 tessensohn road</td>\n      <td>1953</td>\n      <td>apartment</td>\n      <td>freehold</td>\n      <td>2023.0</td>\n      <td>3.0</td>\n      <td>3.0</td>\n      <td>1130</td>\n      <td>NaN</td>\n      <td>unspecified</td>\n      <td>studio, 1, 2, 3, 4, 5, 6 br</td>\n      <td>58.0</td>\n      <td>https://www.99.co/singapore/condos-apartments/...</td>\n      <td>14.484814</td>\n      <td>121.023232</td>\n      <td>0</td>\n      <td>NaN</td>\n      <td>NaN</td>\n    </tr>\n    <tr>\n      <th>3673</th>\n      <td>438200</td>\n      <td>3 bed condo for sale in 1953</td>\n      <td>1 tessensohn road</td>\n      <td>1953</td>\n      <td>condo</td>\n      <td>freehold</td>\n      <td>2023.0</td>\n      <td>3.0</td>\n      <td>3.0</td>\n      <td>1130</td>\n      <td>ground</td>\n      <td>unspecified</td>\n      <td>studio, 1, 2, 3, 4, 5, 6 br</td>\n      <td>58.0</td>\n      <td>https://www.99.co/singapore/condos-apartments/...</td>\n      <td>14.484814</td>\n      <td>121.023232</td>\n      <td>0</td>\n      <td>NaN</td>\n      <td>NaN</td>\n    </tr>\n    <tr>\n      <th>3701</th>\n      <td>849371</td>\n      <td>1 bed condo for sale in 1953</td>\n      <td>1 tessensohn road</td>\n      <td>1953</td>\n      <td>apartment</td>\n      <td>freehold</td>\n      <td>2023.0</td>\n      <td>1.0</td>\n      <td>1.0</td>\n      <td>549</td>\n      <td>NaN</td>\n      <td>partial</td>\n      <td>studio, 1, 2, 3, 4, 5, 6 br</td>\n      <td>58.0</td>\n      <td>https://www.99.co/singapore/condos-apartments/...</td>\n      <td>14.484814</td>\n      <td>121.023232</td>\n      <td>0</td>\n      <td>NaN</td>\n      <td>NaN</td>\n    </tr>\n    <tr>\n      <th>4065</th>\n      <td>420220</td>\n      <td>3 bed condo for sale in 1953</td>\n      <td>1 tessensohn road</td>\n      <td>1953</td>\n      <td>condo</td>\n      <td>freehold</td>\n      <td>2023.0</td>\n      <td>3.0</td>\n      <td>2.0</td>\n      <td>893</td>\n      <td>high</td>\n      <td>unspecified</td>\n      <td>studio, 1, 2, 3, 4, 5, 6 br</td>\n      <td>58.0</td>\n      <td>https://www.99.co/singapore/condos-apartments/...</td>\n      <td>14.484814</td>\n      <td>121.023232</td>\n      <td>0</td>\n      <td>NaN</td>\n      <td>NaN</td>\n    </tr>\n    <tr>\n      <th>4180</th>\n      <td>697456</td>\n      <td>5 bed condo for sale in 1953</td>\n      <td>1 tessensohn road</td>\n      <td>1953</td>\n      <td>condo</td>\n      <td>freehold</td>\n      <td>2023.0</td>\n      <td>5.0</td>\n      <td>3.0</td>\n      <td>1507</td>\n      <td>NaN</td>\n      <td>unspecified</td>\n      <td>studio, 1, 2, 3, 4, 5, 6 br</td>\n      <td>58.0</td>\n      <td>https://www.99.co/singapore/condos-apartments/...</td>\n      <td>14.484814</td>\n      <td>121.023232</td>\n      <td>0</td>\n      <td>NaN</td>\n      <td>NaN</td>\n    </tr>\n    <tr>\n      <th>5504</th>\n      <td>247945</td>\n      <td>4 bed condo for sale in 1953</td>\n      <td>1 tessensohn road</td>\n      <td>1953</td>\n      <td>Apartment</td>\n      <td>freehold</td>\n      <td>2023.0</td>\n      <td>4.0</td>\n      <td>5.0</td>\n      <td>1399</td>\n      <td>NaN</td>\n      <td>unspecified</td>\n      <td>studio, 1, 2, 3, 4, 5, 6 br</td>\n      <td>58.0</td>\n      <td>https://www.99.co/singapore/condos-apartments/...</td>\n      <td>14.484814</td>\n      <td>121.023232</td>\n      <td>0</td>\n      <td>NaN</td>\n      <td>NaN</td>\n    </tr>\n    <tr>\n      <th>5653</th>\n      <td>262273</td>\n      <td>3 bed condo for sale in 1953</td>\n      <td>1 tessensohn road</td>\n      <td>1953</td>\n      <td>apartment</td>\n      <td>freehold</td>\n      <td>2023.0</td>\n      <td>3.0</td>\n      <td>3.0</td>\n      <td>1238</td>\n      <td>NaN</td>\n      <td>unspecified</td>\n      <td>studio, 1, 2, 3, 4, 5, 6 br</td>\n      <td>58.0</td>\n      <td>https://www.99.co/singapore/condos-apartments/...</td>\n      <td>14.484814</td>\n      <td>121.023232</td>\n      <td>0</td>\n      <td>NaN</td>\n      <td>NaN</td>\n    </tr>\n    <tr>\n      <th>5854</th>\n      <td>690511</td>\n      <td>4 bed condo for sale in 1953</td>\n      <td>1 tessensohn road</td>\n      <td>1953</td>\n      <td>condo</td>\n      <td>freehold</td>\n      <td>2023.0</td>\n      <td>4.0</td>\n      <td>4.0</td>\n      <td>1399</td>\n      <td>NaN</td>\n      <td>partial</td>\n      <td>studio, 1, 2, 3, 4, 5, 6 br</td>\n      <td>58.0</td>\n      <td>https://www.99.co/singapore/condos-apartments/...</td>\n      <td>14.484814</td>\n      <td>121.023232</td>\n      <td>0</td>\n      <td>NaN</td>\n      <td>NaN</td>\n    </tr>\n    <tr>\n      <th>5960</th>\n      <td>439201</td>\n      <td>3 bed condo for sale in 1953</td>\n      <td>1 tessensohn road</td>\n      <td>1953</td>\n      <td>apartment</td>\n      <td>freehold</td>\n      <td>2023.0</td>\n      <td>3.0</td>\n      <td>3.0</td>\n      <td>1141</td>\n      <td>NaN</td>\n      <td>unspecified</td>\n      <td>studio, 1, 2, 3, 4, 5, 6 br</td>\n      <td>58.0</td>\n      <td>https://www.99.co/singapore/condos-apartments/...</td>\n      <td>14.484814</td>\n      <td>121.023232</td>\n      <td>0</td>\n      <td>NaN</td>\n      <td>NaN</td>\n    </tr>\n    <tr>\n      <th>6103</th>\n      <td>532454</td>\n      <td>3 bed condo for sale in 1953</td>\n      <td>1 tessensohn road</td>\n      <td>1953</td>\n      <td>condo</td>\n      <td>freehold</td>\n      <td>2023.0</td>\n      <td>3.0</td>\n      <td>3.0</td>\n      <td>1152</td>\n      <td>NaN</td>\n      <td>unspecified</td>\n      <td>studio, 1, 2, 3, 4, 5, 6 br</td>\n      <td>58.0</td>\n      <td>https://www.99.co/singapore/condos-apartments/...</td>\n      <td>14.484814</td>\n      <td>121.023232</td>\n      <td>0</td>\n      <td>NaN</td>\n      <td>NaN</td>\n    </tr>\n    <tr>\n      <th>6250</th>\n      <td>981245</td>\n      <td>3 bed condo for sale in 1953</td>\n      <td>1 tessensohn road</td>\n      <td>1953</td>\n      <td>apartment</td>\n      <td>freehold</td>\n      <td>2023.0</td>\n      <td>3.0</td>\n      <td>2.0</td>\n      <td>1227</td>\n      <td>NaN</td>\n      <td>unspecified</td>\n      <td>studio, 1, 2, 3, 4, 5, 6 br</td>\n      <td>58.0</td>\n      <td>https://www.99.co/singapore/condos-apartments/...</td>\n      <td>14.484814</td>\n      <td>121.023232</td>\n      <td>0</td>\n      <td>NaN</td>\n      <td>NaN</td>\n    </tr>\n    <tr>\n      <th>6296</th>\n      <td>692599</td>\n      <td>4 bed condo for sale in 1953</td>\n      <td>1 tessensohn road</td>\n      <td>1953</td>\n      <td>condo</td>\n      <td>freehold</td>\n      <td>2023.0</td>\n      <td>4.0</td>\n      <td>4.0</td>\n      <td>1399</td>\n      <td>NaN</td>\n      <td>unspecified</td>\n      <td>studio, 1, 2, 3, 4, 5, 6 br</td>\n      <td>58.0</td>\n      <td>https://www.99.co/singapore/condos-apartments/...</td>\n      <td>14.484814</td>\n      <td>121.023232</td>\n      <td>0</td>\n      <td>NaN</td>\n      <td>NaN</td>\n    </tr>\n    <tr>\n      <th>6512</th>\n      <td>496493</td>\n      <td>5 bed condo for sale in 1953</td>\n      <td>1 tessensohn road</td>\n      <td>1953</td>\n      <td>Condo</td>\n      <td>freehold</td>\n      <td>2023.0</td>\n      <td>5.0</td>\n      <td>3.0</td>\n      <td>1507</td>\n      <td>NaN</td>\n      <td>partial</td>\n      <td>studio, 1, 2, 3, 4, 5, 6 br</td>\n      <td>58.0</td>\n      <td>https://www.99.co/singapore/condos-apartments/...</td>\n      <td>14.484814</td>\n      <td>121.023232</td>\n      <td>0</td>\n      <td>NaN</td>\n      <td>NaN</td>\n    </tr>\n    <tr>\n      <th>6565</th>\n      <td>532090</td>\n      <td>2 bed condo for sale in ness</td>\n      <td>38 lorong 32 geylang</td>\n      <td>ness</td>\n      <td>condo</td>\n      <td>freehold</td>\n      <td>2015.0</td>\n      <td>2.0</td>\n      <td>2.0</td>\n      <td>1033</td>\n      <td>NaN</td>\n      <td>unspecified</td>\n      <td>studio, 1, 2 br</td>\n      <td>62.0</td>\n      <td>https://www.99.co/singapore/condos-apartments/...</td>\n      <td>38.942776</td>\n      <td>-77.065364</td>\n      <td>0</td>\n      <td>NaN</td>\n      <td>NaN</td>\n    </tr>\n    <tr>\n      <th>6641</th>\n      <td>318536</td>\n      <td>3 bed condo for sale in 1953</td>\n      <td>1 tessensohn road</td>\n      <td>1953</td>\n      <td>Condo</td>\n      <td>freehold</td>\n      <td>2023.0</td>\n      <td>3.0</td>\n      <td>3.0</td>\n      <td>1227</td>\n      <td>NaN</td>\n      <td>partial</td>\n      <td>studio, 1, 2, 3, 4, 5, 6 br</td>\n      <td>58.0</td>\n      <td>https://www.99.co/singapore/condos-apartments/...</td>\n      <td>14.484814</td>\n      <td>121.023232</td>\n      <td>0</td>\n      <td>NaN</td>\n      <td>NaN</td>\n    </tr>\n  </tbody>\n</table>\n</div>"
     },
     "execution_count": 210,
     "metadata": {},
     "output_type": "execute_result"
    }
   ],
   "source": [
    "df_test[pd.isnull(df_test['subzone'])]"
   ],
   "metadata": {
    "collapsed": false,
    "pycharm": {
     "name": "#%%\n"
    }
   }
  },
  {
   "cell_type": "code",
   "execution_count": 211,
   "outputs": [
    {
     "data": {
      "text/plain": "listing_id                 0\ntitle                      0\naddress                    2\nproperty_name              0\nproperty_type              0\ntenure                   637\nbuilt_year                 0\nnum_beds                  35\nnum_baths                149\nsize_sqft                  0\nfloor_level             5810\nfurnishing                 0\navailable_unit_types     520\ntotal_num_units         1900\nproperty_details_url       0\nlat                        0\nlng                        0\nelevation                  0\nsubzone                    0\nplanning_area              0\ndtype: int64"
     },
     "execution_count": 211,
     "metadata": {},
     "output_type": "execute_result"
    }
   ],
   "source": [
    "df_test.loc[df_test[\"address\"].str.contains(\"1 tessensohn road\", na=False), 'subzone'] = 'lavender'\n",
    "df_test.loc[df_test[\"address\"].str.contains(\"1 tessensohn road\", na=False), 'planning_area'] = 'kallang'\n",
    "\n",
    "df_test.loc[df_test[\"address\"].str.contains(\"38 lorong 32 geylang\", na=False), 'subzone'] = 'aljunied'\n",
    "df_test.loc[df_test[\"address\"].str.contains(\"38 lorong 32 geylang\", na=False), 'planning_area'] = 'geylang'\n",
    "\n",
    "df_test.loc[df_test[\"address\"].str.contains(\"17 farrer drive\", na=False), 'subzone'] = 'leonie hill'\n",
    "df_test.loc[df_test[\"address\"].str.contains(\"17 farrer drive\", na=False), 'planning_area'] = 'river valley'\n",
    "\n",
    "df_test.loc[df_test[\"address\"].str.contains(\"5 jalan mutiara\", na=False), 'subzone'] = 'central subzone'\n",
    "df_test.loc[df_test[\"address\"].str.contains(\"5 jalan mutiara\", na=False), 'planning_area'] = 'downtown core'\n",
    "\n",
    "df_test.isnull().sum()"
   ],
   "metadata": {
    "collapsed": false,
    "pycharm": {
     "name": "#%%\n"
    }
   }
  },
  {
   "cell_type": "code",
   "execution_count": 212,
   "metadata": {
    "pycharm": {
     "name": "#%%\n"
    }
   },
   "outputs": [],
   "source": [
    "df_pri_sch = pd.read_csv('../data/auxiliary-data/sg-primary-schools.csv')\n",
    "df_pri_sch = df_pri_sch.drop([\"name\", \"lat\", \"lng\", 'planning_area'], axis=1)\n",
    "pri_sch_cleaned = df_pri_sch.value_counts().to_frame(name=\"pri_sch\")"
   ]
  },
  {
   "cell_type": "markdown",
   "metadata": {
    "pycharm": {
     "name": "#%% md\n"
    }
   },
   "source": [
    "Secondary School"
   ]
  },
  {
   "cell_type": "code",
   "execution_count": 213,
   "metadata": {
    "pycharm": {
     "name": "#%%\n"
    }
   },
   "outputs": [],
   "source": [
    "df_sec_sch = pd.read_csv('../data/auxiliary-data/sg-secondary-schools.csv')\n",
    "df_sec_sch = df_sec_sch.drop([\"name\", \"lat\", \"lng\", 'planning_area'], axis=1)\n",
    "sec_sch_cleaned = df_sec_sch.value_counts().to_frame(name=\"sec_sch\")"
   ]
  },
  {
   "cell_type": "markdown",
   "metadata": {
    "pycharm": {
     "name": "#%% md\n"
    }
   },
   "source": [
    "Population Density of Subzone"
   ]
  },
  {
   "cell_type": "code",
   "execution_count": 214,
   "metadata": {
    "pycharm": {
     "name": "#%%\n"
    }
   },
   "outputs": [],
   "source": [
    "df_subzone = pd.read_csv('../data/auxiliary-data/sg-subzones.csv')\n",
    "\n",
    "for row in df_subzone.index:\n",
    "    if df_subzone.loc[row, \"population\"] == 0:\n",
    "        df_subzone.loc[row, \"population\"] += 10\n",
    "\n",
    "df_subzone[\"population_density\"] = df_subzone['population']/df_subzone[\"area_size\"]\n",
    "df_subzone = df_subzone.drop(['area_size', 'population', 'planning_area'],axis=1).set_index(\"name\")"
   ]
  },
  {
   "cell_type": "code",
   "execution_count": 215,
   "metadata": {
    "pycharm": {
     "name": "#%%\n"
    }
   },
   "outputs": [],
   "source": [
    "df_dirty_test = df_test\n",
    "df_dirty_train = df_train"
   ]
  },
  {
   "cell_type": "markdown",
   "metadata": {
    "pycharm": {
     "name": "#%% md\n"
    }
   },
   "source": [
    "Remove duplicates and invalid data (Rows)\n"
   ]
  },
  {
   "cell_type": "code",
   "execution_count": 216,
   "metadata": {
    "pycharm": {
     "name": "#%%\n"
    }
   },
   "outputs": [
    {
     "name": "stdout",
     "output_type": "stream",
     "text": [
      "Records dropped :3034\n"
     ]
    }
   ],
   "source": [
    "df_cleaned = df_dirty_train.drop_duplicates()\n",
    "df_cleaned = df_cleaned[df_cleaned.size_sqft > 0]\n",
    "df_cleaned.dropna(subset=['num_beds', 'num_baths', 'price', 'size_sqft', 'built_year', 'available_unit_types', 'tenure'], inplace = True)\n",
    "df_cleaned = df_cleaned[df_cleaned.price > 0]\n",
    "df_cleaned = df_cleaned[df_cleaned.furnishing != \"na\"]\n",
    "print(f'Records dropped :{df_dirty_train.shape[0] - df_cleaned.shape[0]}' )\n"
   ]
  },
  {
   "cell_type": "markdown",
   "metadata": {
    "pycharm": {
     "name": "#%% md\n"
    }
   },
   "source": [
    "#c.\tStandardize capitalization\n"
   ]
  },
  {
   "cell_type": "code",
   "execution_count": 217,
   "metadata": {
    "pycharm": {
     "name": "#%%\n"
    }
   },
   "outputs": [],
   "source": [
    "df_cleaned['property_type'] = df_cleaned['property_type'].str.lower()\n",
    "df_cleaned['tenure'] = df_cleaned['tenure'].str.lower()\n",
    "df_cleaned['furnishing'] = df_cleaned['furnishing'].str.lower()\n",
    "df_cleaned['subzone'] = df_cleaned['subzone'].str.lower()\n",
    "df_cleaned['planning_area'] = df_cleaned['planning_area'].str.lower()\n",
    "\n",
    "df_cleaned['built_year'] = df_cleaned['built_year'].astype(int)\n",
    "df_cleaned['num_beds'] = df_cleaned['num_beds'].astype(int)\n",
    "df_cleaned['num_baths'] = df_cleaned['num_baths'].astype(int)\n",
    "df_cleaned['lng'] = df_cleaned['lng'].astype(np.float16)\n",
    "df_cleaned['lat'] = df_cleaned['lat'].astype(np.float16)\n",
    "\n",
    "df_test_cleaned = df_dirty_test\n",
    "df_test_cleaned['property_type'] = df_test_cleaned['property_type'].str.lower()\n",
    "df_test_cleaned['tenure'] = df_test_cleaned['tenure'].str.lower()\n",
    "df_test_cleaned['furnishing'] = df_test_cleaned['furnishing'].str.lower()\n",
    "df_test_cleaned['subzone'] = df_test_cleaned['subzone'].str.lower()\n",
    "df_test_cleaned['planning_area'] = df_test_cleaned['planning_area'].str.lower()\n",
    "\n",
    "#TODO: Fix comments\n",
    "#df_test_cleaned['built_year'] = df_test_cleaned['built_year'].astype(int)\n",
    "#df_test_cleaned['num_beds'] = df_test_cleaned['num_beds'].astype(int)\n",
    "#df_test_cleaned['num_baths'] = df_test_cleaned['num_baths'].astype(int)\n",
    "df_test_cleaned['lng'] = df_test_cleaned['lng'].astype(np.float16)\n",
    "df_test_cleaned['lat'] = df_test_cleaned['lat'].astype(np.float16)\n"
   ]
  },
  {
   "cell_type": "markdown",
   "metadata": {
    "pycharm": {
     "name": "#%% md\n"
    }
   },
   "source": [
    "Clean Lease tenure column, Property_Type Column"
   ]
  },
  {
   "cell_type": "code",
   "execution_count": 218,
   "metadata": {
    "pycharm": {
     "name": "#%%\n"
    }
   },
   "outputs": [
    {
     "name": "stdout",
     "output_type": "stream",
     "text": [
      "Train size: 17220\n",
      "Test size: 6966\n"
     ]
    }
   ],
   "source": [
    "#TENURE COLUMN\n",
    "mask_999 = ['947-year leasehold', '929-year leasehold', '946-year leasehold',\n",
    "'956-year leasehold']\n",
    "mask_99 = ['100-year leasehold', '102-year leasehold', '110-year leasehold', '103-year leasehold']\n",
    "df_cleaned = df_cleaned.replace(mask_999, '999-year leasehold')\n",
    "df_cleaned = df_cleaned.replace(mask_99, '99-year leasehold')\n",
    "\n",
    "df_test_cleaned = df_test_cleaned.replace(mask_999, '999-year leasehold')\n",
    "df_test_cleaned = df_test_cleaned.replace(mask_99, '99-year leasehold')\n",
    "\n",
    "print(f\"Train size: {df_cleaned.shape[0]}\")\n",
    "print(f\"Test size: {df_test_cleaned.shape[0]}\")\n"
   ]
  },
  {
   "cell_type": "code",
   "execution_count": 219,
   "metadata": {
    "pycharm": {
     "name": "#%%\n"
    }
   },
   "outputs": [
    {
     "name": "stdout",
     "output_type": "stream",
     "text": [
      "Train size: 17219\n",
      "Test size: 6966\n"
     ]
    }
   ],
   "source": [
    "#PROPERTY TYPE\n",
    "# changing \"hdb 3 rooms\", \"hdb 4 rooms\" and likewise to \"hdb\" since the number of rooms info can\n",
    "# be obtained from \"num_beds\"\n",
    "df_cleaned['property_type'].mask(df_cleaned['property_type'].str.contains(\"hdb\"), \"hdb\", inplace=True)\n",
    "df_cleaned.drop(df_cleaned[df_cleaned['property_type']  == 'land only'].index, inplace = True)\n",
    "\n",
    "df_test_cleaned['property_type'].mask(df_test_cleaned['property_type'].str.contains(\"hdb\"), \"hdb\", inplace=True)\n",
    "\n",
    "#TODO: Reduce number of property types with less properties. Maybe do an EDA and figure out best way to remove them. Perhaps club \n",
    "#them in different category.\n",
    "\n",
    "df_cleaned.loc[(df_cleaned['property_type']==\"apartment\") & \n",
    "       (df_cleaned['title'].str.contains('condo')),['property_type']] = \"condo\"\n",
    "\n",
    "df_cleaned.loc[(df_cleaned['property_type']==\"walk-up\") & \n",
    "       (df_cleaned['title'].str.contains('condo')),['property_type']] = \"condo\"\n",
    "\n",
    "df_cleaned.loc[(df_cleaned['property_type']==\"good class bungalow\"),['property_type']] = \"bungalow\"\n",
    "\n",
    "#Test\n",
    "df_test_cleaned.loc[(df_test_cleaned['property_type']==\"apartment\") & \n",
    "       (df_test_cleaned['title'].str.contains('condo')),['property_type']] = \"condo\"\n",
    "\n",
    "df_test_cleaned.loc[(df_test_cleaned['property_type']==\"walk-up\") & \n",
    "       (df_test_cleaned['title'].str.contains('condo')),['property_type']] = \"condo\"\n",
    "\n",
    "df_test_cleaned.loc[(df_test_cleaned['property_type']==\"good class bungalow\"),['property_type']] = \"bungalow\"\n",
    "\n",
    "df_test_cleaned.loc[(df_test_cleaned['property_type']==\"conservation house\") & \n",
    "       (df_test_cleaned['property_details_url'].str.contains('condo')),['property_type']] = \"condo\"\n",
    "\n",
    "df_test_cleaned.loc[(df_test_cleaned['property_type']==\"good class bungalow\"),['property_type']] = \"bungalow\"\n",
    "\n",
    "#The following results have been picked manually from the website 99.co\n",
    "df_test_cleaned.loc[(df_test_cleaned['property_type']==\"conservation house\") & \n",
    "       (df_test_cleaned['property_details_url'].str.contains('blair-plain-conservation-area')),['property_type']] = \"landed\"\n",
    "\n",
    "df_test_cleaned.loc[(df_test_cleaned['property_type']==\"conservation house\") & \n",
    "       (df_test_cleaned['property_details_url'].str.contains('beng-tong-mansion')),['property_type']] = \"landed\"\n",
    "\n",
    "print(f\"Train size: {df_cleaned.shape[0]}\")\n",
    "print(f\"Test size: {df_test_cleaned.shape[0]}\")\n"
   ]
  },
  {
   "cell_type": "markdown",
   "metadata": {
    "pycharm": {
     "name": "#%% md\n"
    }
   },
   "source": [
    "Handle Missing Values"
   ]
  },
  {
   "cell_type": "code",
   "execution_count": 220,
   "metadata": {
    "pycharm": {
     "name": "#%%\n"
    }
   },
   "outputs": [],
   "source": [
    "#h. Handle missing values\n",
    "\n",
    "#built_year\n",
    "dfmap = df_cleaned.dropna(subset = ['built_year'])[['built_year', 'property_name']].drop_duplicates()\n",
    "dfmap = dfmap.drop_duplicates(subset = ['property_name'])\n",
    "df_cleaned = df_cleaned.drop(columns=['built_year']).merge(dfmap, on=['property_name'], how='left')\n",
    "\n",
    "dfmap = df_cleaned.dropna(subset = ['tenure'])[['tenure', 'property_name']].drop_duplicates()\n",
    "dfmap = dfmap.drop_duplicates(subset = ['property_name'])\n",
    "df_cleaned = df_cleaned.drop(columns=['tenure']).merge(dfmap, on=['property_name'], how='left')\n",
    "\n",
    "dfmap = df_cleaned.dropna(subset = ['tenure'])[['tenure', 'address']].drop_duplicates()\n",
    "dfmap = dfmap.drop_duplicates(subset = ['address'])\n",
    "df_cleaned = df_cleaned.drop(columns=['tenure']).merge(dfmap, on=['address'], how='left')\n",
    "\n",
    "#df_cleaned.isnull().sum()\n",
    "\n"
   ]
  },
  {
   "cell_type": "code",
   "execution_count": 221,
   "metadata": {
    "pycharm": {
     "name": "#%%\n"
    }
   },
   "outputs": [
    {
     "name": "stdout",
     "output_type": "stream",
     "text": [
      "----------------------------------------------------\n"
     ]
    }
   ],
   "source": [
    "#h. Handle missing values\n",
    "#print(df_test_cleaned.isnull().sum())\n",
    "print(\"----------------------------------------------------\")\n",
    "\n",
    "#built_year\n",
    "dfmap = df_test_cleaned.dropna(subset = ['built_year'])[['built_year', 'property_name']].drop_duplicates()\n",
    "dfmap = dfmap.drop_duplicates(subset = ['property_name'])\n",
    "df_test_cleaned = df_test_cleaned.drop(columns=['built_year']).merge(dfmap, on=['property_name'], how='left')\n",
    "\n",
    "\n",
    "#df_test_cleaned = df_test_cleaned.dropna(subset=['built_year'])\n",
    "\n",
    "dfmap = df_test_cleaned.dropna(subset = ['tenure'])[['tenure', 'property_name']].drop_duplicates()\n",
    "dfmap = dfmap.drop_duplicates(subset = ['property_name'])\n",
    "df_test_cleaned = df_test_cleaned.drop(columns=['tenure']).merge(dfmap, on=['property_name'], how='left')\n",
    "\n",
    "dfmap = df_test_cleaned.dropna(subset = ['tenure'])[['tenure', 'address']].drop_duplicates()\n",
    "dfmap = dfmap.drop_duplicates(subset = ['address'])\n",
    "df_test_cleaned = df_test_cleaned.drop(columns=['tenure']).merge(dfmap, on=['address'], how='left')\n",
    "\n",
    "#Fill in number of baths from number of bedrooms.\n",
    "df_test_cleaned.loc[(df_test_cleaned.num_baths.isnull() & df_test_cleaned.num_beds == 1), ['num_baths']] = 1\n",
    "df_test_cleaned.loc[(df_test_cleaned.num_baths.isnull() & df_test_cleaned.num_beds == 2), ['num_baths']] = 2\n",
    "df_test_cleaned.loc[(df_test_cleaned.num_baths.isnull() & df_test_cleaned.num_beds > 2), ['num_baths']] = df_test_cleaned.num_beds -1\n",
    "\n",
    "#Fill in number of beds from number of bathrooms.\n",
    "df_test_cleaned.loc[(df_test_cleaned.num_beds.isnull() & df_test_cleaned.num_baths == 1), ['num_beds']] = 1\n",
    "df_test_cleaned.loc[(df_test_cleaned.num_beds.isnull() & df_test_cleaned.num_baths == 2), ['num_beds']] = 2\n",
    "df_test_cleaned.loc[(df_test_cleaned.num_beds.isnull() & df_test_cleaned.num_baths > 2), ['num_beds']] = df_test_cleaned.num_baths + 1\n",
    "\n",
    "#There are 5 properties which have both Nan values for bed and baths. Estimate their beds from area.\n",
    "df_test_cleaned.loc[(df_test_cleaned.num_beds.isnull() & df_test_cleaned.size_sqft < 600), ['num_beds']] = 1\n",
    "df_test_cleaned.loc[(df_test_cleaned.num_beds.isnull() & df_test_cleaned.size_sqft < 1000), ['num_beds']] = 2\n",
    "df_test_cleaned.loc[(df_test_cleaned.num_beds.isnull() & df_test_cleaned.size_sqft < 1700), ['num_beds']] = 3\n",
    "df_test_cleaned.loc[(df_test_cleaned.num_beds.isnull() & df_test_cleaned.size_sqft < 3000), ['num_beds']] = 4\n",
    "\n",
    "#Estimate their baths from beds.\n",
    "df_test_cleaned.loc[(df_test_cleaned.num_baths.isnull() & df_test_cleaned.num_beds == 1), ['num_baths']] = 1\n",
    "df_test_cleaned.loc[(df_test_cleaned.num_baths.isnull() & df_test_cleaned.num_beds == 2), ['num_baths']] = 2\n",
    "df_test_cleaned.loc[(df_test_cleaned.num_baths.isnull() & df_test_cleaned.num_beds > 2), ['num_baths']] = df_test_cleaned.num_beds -1\n"
   ]
  },
  {
   "cell_type": "code",
   "execution_count": 222,
   "outputs": [
    {
     "data": {
      "text/plain": "      listing_id                                             title  \\\n0         777912               1 bed condo for sale in the gazania   \n1         936612           3 bed condo for sale in vue 8 residence   \n2         995264                      1 bed condo for sale in icon   \n3         477435  hdb flat for sale in 812b choa chu kang avenue 7   \n4         222529          hdb flat for sale in 204 toa payoh north   \n...          ...                                               ...   \n6961      289879           5 bed house for sale in paradise island   \n6962      396404            5 bed house for sale in orchid village   \n6963      620343                3 bed condo for sale in the avenir   \n6964      364805           hdb flat for sale in 31 marine crescent   \n6965      915621                   3 bed condo for sale in riviere   \n\n                                                address  \\\n0                                      17 how sun drive   \n1                                  95 pasir ris heights   \n2                                      10 gopeng street   \n3     bukit batok / bukit panjang / choa chu kang (d23)   \n4                           balestier / toa payoh (d12)   \n...                                                 ...   \n6961                                    paradise island   \n6962                                        vanda drive   \n6963                               8 river valley close   \n6964                   east coast / marine parade (d15)   \n6965                                  3 jiak kim street   \n\n              property_name        property_type  num_beds  num_baths  \\\n0               the gazania                condo       4.0        1.0   \n1           vue 8 residence                condo       4.0        3.0   \n2                      icon                condo       4.0        1.0   \n3         keat hong colours                  hdb       4.0        2.0   \n4          toa payoh spring                  hdb       4.0        2.0   \n...                     ...                  ...       ...        ...   \n6961        paradise island             bungalow       4.0        6.0   \n6962         orchid village  semi-detached house       4.0        7.0   \n6963             the avenir                condo       4.0        2.0   \n6964  marine crescent ville                  hdb       4.0        1.0   \n6965                riviere                condo       4.0        3.0   \n\n      size_sqft floor_level   furnishing      available_unit_types  \\\n0           463         NaN  unfurnished  studio, 1, 2, 3, 4, 5 br   \n1          1033        high  unspecified  studio, 1, 2, 3, 4, 5 br   \n2           570         NaN        fully        studio, 1, 2, 3 br   \n3          1216         NaN  unspecified          1, 2, 3, 4, 5 br   \n4           936         NaN  unspecified             1, 2, 3, 4 br   \n...         ...         ...          ...                       ...   \n6961       8000         NaN  unspecified          4, 5, 6, 7, 8 br   \n6962       6974         NaN  unspecified          4, 5, 6, 7, 8 br   \n6963       1141         NaN      partial  studio, 1, 2, 3, 4, 5 br   \n6964        818         NaN  unspecified             1, 2, 3, 4 br   \n6965       1507         NaN  unspecified          1, 2, 3, 4, 5 br   \n\n      total_num_units                               property_details_url  \\\n0               250.0  https://www.99.co/singapore/condos-apartments/...   \n1               463.0  https://www.99.co/singapore/condos-apartments/...   \n2               646.0  https://www.99.co/singapore/condos-apartments/...   \n3               968.0  https://www.99.co/singapore/hdb/keat-hong-colo...   \n4                 NaN  https://www.99.co/singapore/hdb/toa-payoh-spri...   \n...               ...                                                ...   \n6961             29.0  https://www.99.co/singapore/houses/paradise-is...   \n6962              NaN  https://www.99.co/singapore/houses/orchid-vill...   \n6963            376.0  https://www.99.co/singapore/condos-apartments/...   \n6964              NaN  https://www.99.co/singapore/hdb/marine-crescen...   \n6965            455.0  https://www.99.co/singapore/condos-apartments/...   \n\n           lat       lng  elevation           subzone     planning_area  \\\n0     1.344727  103.8750          0  upper paya lebar         serangoon   \n1     1.379883  103.9375          0    pasir ris west         pasir ris   \n2     1.294922  103.8750          0        bras basah            museum   \n3     1.373047  103.7500          0         keat hong     choa chu kang   \n4     1.341797  103.8750          0          braddell         toa payoh   \n...        ...       ...        ...               ...               ...   \n6961  1.250000  103.8750          0           sentosa  southern islands   \n6962  1.332031  103.8125          0         hillcrest       bukit timah   \n6963  1.293945  103.8125          0  institution hill      river valley   \n6964  1.303711  103.9375          0     marine parade     marine parade   \n6965  1.302734  103.8750          0       tanjong rhu           kallang   \n\n      built_year             tenure  \n0         2022.0           freehold  \n1         2017.0  99-year leasehold  \n2         2007.0  99-year leasehold  \n3         2017.0  99-year leasehold  \n4         1973.0  99-year leasehold  \n...          ...                ...  \n6961      2009.0  99-year leasehold  \n6962      2010.0           freehold  \n6963      2025.0           freehold  \n6964      1975.0  99-year leasehold  \n6965      2023.0  99-year leasehold  \n\n[6966 rows x 20 columns]",
      "text/html": "<div>\n<style scoped>\n    .dataframe tbody tr th:only-of-type {\n        vertical-align: middle;\n    }\n\n    .dataframe tbody tr th {\n        vertical-align: top;\n    }\n\n    .dataframe thead th {\n        text-align: right;\n    }\n</style>\n<table border=\"1\" class=\"dataframe\">\n  <thead>\n    <tr style=\"text-align: right;\">\n      <th></th>\n      <th>listing_id</th>\n      <th>title</th>\n      <th>address</th>\n      <th>property_name</th>\n      <th>property_type</th>\n      <th>num_beds</th>\n      <th>num_baths</th>\n      <th>size_sqft</th>\n      <th>floor_level</th>\n      <th>furnishing</th>\n      <th>available_unit_types</th>\n      <th>total_num_units</th>\n      <th>property_details_url</th>\n      <th>lat</th>\n      <th>lng</th>\n      <th>elevation</th>\n      <th>subzone</th>\n      <th>planning_area</th>\n      <th>built_year</th>\n      <th>tenure</th>\n    </tr>\n  </thead>\n  <tbody>\n    <tr>\n      <th>0</th>\n      <td>777912</td>\n      <td>1 bed condo for sale in the gazania</td>\n      <td>17 how sun drive</td>\n      <td>the gazania</td>\n      <td>condo</td>\n      <td>4.0</td>\n      <td>1.0</td>\n      <td>463</td>\n      <td>NaN</td>\n      <td>unfurnished</td>\n      <td>studio, 1, 2, 3, 4, 5 br</td>\n      <td>250.0</td>\n      <td>https://www.99.co/singapore/condos-apartments/...</td>\n      <td>1.344727</td>\n      <td>103.8750</td>\n      <td>0</td>\n      <td>upper paya lebar</td>\n      <td>serangoon</td>\n      <td>2022.0</td>\n      <td>freehold</td>\n    </tr>\n    <tr>\n      <th>1</th>\n      <td>936612</td>\n      <td>3 bed condo for sale in vue 8 residence</td>\n      <td>95 pasir ris heights</td>\n      <td>vue 8 residence</td>\n      <td>condo</td>\n      <td>4.0</td>\n      <td>3.0</td>\n      <td>1033</td>\n      <td>high</td>\n      <td>unspecified</td>\n      <td>studio, 1, 2, 3, 4, 5 br</td>\n      <td>463.0</td>\n      <td>https://www.99.co/singapore/condos-apartments/...</td>\n      <td>1.379883</td>\n      <td>103.9375</td>\n      <td>0</td>\n      <td>pasir ris west</td>\n      <td>pasir ris</td>\n      <td>2017.0</td>\n      <td>99-year leasehold</td>\n    </tr>\n    <tr>\n      <th>2</th>\n      <td>995264</td>\n      <td>1 bed condo for sale in icon</td>\n      <td>10 gopeng street</td>\n      <td>icon</td>\n      <td>condo</td>\n      <td>4.0</td>\n      <td>1.0</td>\n      <td>570</td>\n      <td>NaN</td>\n      <td>fully</td>\n      <td>studio, 1, 2, 3 br</td>\n      <td>646.0</td>\n      <td>https://www.99.co/singapore/condos-apartments/...</td>\n      <td>1.294922</td>\n      <td>103.8750</td>\n      <td>0</td>\n      <td>bras basah</td>\n      <td>museum</td>\n      <td>2007.0</td>\n      <td>99-year leasehold</td>\n    </tr>\n    <tr>\n      <th>3</th>\n      <td>477435</td>\n      <td>hdb flat for sale in 812b choa chu kang avenue 7</td>\n      <td>bukit batok / bukit panjang / choa chu kang (d23)</td>\n      <td>keat hong colours</td>\n      <td>hdb</td>\n      <td>4.0</td>\n      <td>2.0</td>\n      <td>1216</td>\n      <td>NaN</td>\n      <td>unspecified</td>\n      <td>1, 2, 3, 4, 5 br</td>\n      <td>968.0</td>\n      <td>https://www.99.co/singapore/hdb/keat-hong-colo...</td>\n      <td>1.373047</td>\n      <td>103.7500</td>\n      <td>0</td>\n      <td>keat hong</td>\n      <td>choa chu kang</td>\n      <td>2017.0</td>\n      <td>99-year leasehold</td>\n    </tr>\n    <tr>\n      <th>4</th>\n      <td>222529</td>\n      <td>hdb flat for sale in 204 toa payoh north</td>\n      <td>balestier / toa payoh (d12)</td>\n      <td>toa payoh spring</td>\n      <td>hdb</td>\n      <td>4.0</td>\n      <td>2.0</td>\n      <td>936</td>\n      <td>NaN</td>\n      <td>unspecified</td>\n      <td>1, 2, 3, 4 br</td>\n      <td>NaN</td>\n      <td>https://www.99.co/singapore/hdb/toa-payoh-spri...</td>\n      <td>1.341797</td>\n      <td>103.8750</td>\n      <td>0</td>\n      <td>braddell</td>\n      <td>toa payoh</td>\n      <td>1973.0</td>\n      <td>99-year leasehold</td>\n    </tr>\n    <tr>\n      <th>...</th>\n      <td>...</td>\n      <td>...</td>\n      <td>...</td>\n      <td>...</td>\n      <td>...</td>\n      <td>...</td>\n      <td>...</td>\n      <td>...</td>\n      <td>...</td>\n      <td>...</td>\n      <td>...</td>\n      <td>...</td>\n      <td>...</td>\n      <td>...</td>\n      <td>...</td>\n      <td>...</td>\n      <td>...</td>\n      <td>...</td>\n      <td>...</td>\n      <td>...</td>\n    </tr>\n    <tr>\n      <th>6961</th>\n      <td>289879</td>\n      <td>5 bed house for sale in paradise island</td>\n      <td>paradise island</td>\n      <td>paradise island</td>\n      <td>bungalow</td>\n      <td>4.0</td>\n      <td>6.0</td>\n      <td>8000</td>\n      <td>NaN</td>\n      <td>unspecified</td>\n      <td>4, 5, 6, 7, 8 br</td>\n      <td>29.0</td>\n      <td>https://www.99.co/singapore/houses/paradise-is...</td>\n      <td>1.250000</td>\n      <td>103.8750</td>\n      <td>0</td>\n      <td>sentosa</td>\n      <td>southern islands</td>\n      <td>2009.0</td>\n      <td>99-year leasehold</td>\n    </tr>\n    <tr>\n      <th>6962</th>\n      <td>396404</td>\n      <td>5 bed house for sale in orchid village</td>\n      <td>vanda drive</td>\n      <td>orchid village</td>\n      <td>semi-detached house</td>\n      <td>4.0</td>\n      <td>7.0</td>\n      <td>6974</td>\n      <td>NaN</td>\n      <td>unspecified</td>\n      <td>4, 5, 6, 7, 8 br</td>\n      <td>NaN</td>\n      <td>https://www.99.co/singapore/houses/orchid-vill...</td>\n      <td>1.332031</td>\n      <td>103.8125</td>\n      <td>0</td>\n      <td>hillcrest</td>\n      <td>bukit timah</td>\n      <td>2010.0</td>\n      <td>freehold</td>\n    </tr>\n    <tr>\n      <th>6963</th>\n      <td>620343</td>\n      <td>3 bed condo for sale in the avenir</td>\n      <td>8 river valley close</td>\n      <td>the avenir</td>\n      <td>condo</td>\n      <td>4.0</td>\n      <td>2.0</td>\n      <td>1141</td>\n      <td>NaN</td>\n      <td>partial</td>\n      <td>studio, 1, 2, 3, 4, 5 br</td>\n      <td>376.0</td>\n      <td>https://www.99.co/singapore/condos-apartments/...</td>\n      <td>1.293945</td>\n      <td>103.8125</td>\n      <td>0</td>\n      <td>institution hill</td>\n      <td>river valley</td>\n      <td>2025.0</td>\n      <td>freehold</td>\n    </tr>\n    <tr>\n      <th>6964</th>\n      <td>364805</td>\n      <td>hdb flat for sale in 31 marine crescent</td>\n      <td>east coast / marine parade (d15)</td>\n      <td>marine crescent ville</td>\n      <td>hdb</td>\n      <td>4.0</td>\n      <td>1.0</td>\n      <td>818</td>\n      <td>NaN</td>\n      <td>unspecified</td>\n      <td>1, 2, 3, 4 br</td>\n      <td>NaN</td>\n      <td>https://www.99.co/singapore/hdb/marine-crescen...</td>\n      <td>1.303711</td>\n      <td>103.9375</td>\n      <td>0</td>\n      <td>marine parade</td>\n      <td>marine parade</td>\n      <td>1975.0</td>\n      <td>99-year leasehold</td>\n    </tr>\n    <tr>\n      <th>6965</th>\n      <td>915621</td>\n      <td>3 bed condo for sale in riviere</td>\n      <td>3 jiak kim street</td>\n      <td>riviere</td>\n      <td>condo</td>\n      <td>4.0</td>\n      <td>3.0</td>\n      <td>1507</td>\n      <td>NaN</td>\n      <td>unspecified</td>\n      <td>1, 2, 3, 4, 5 br</td>\n      <td>455.0</td>\n      <td>https://www.99.co/singapore/condos-apartments/...</td>\n      <td>1.302734</td>\n      <td>103.8750</td>\n      <td>0</td>\n      <td>tanjong rhu</td>\n      <td>kallang</td>\n      <td>2023.0</td>\n      <td>99-year leasehold</td>\n    </tr>\n  </tbody>\n</table>\n<p>6966 rows × 20 columns</p>\n</div>"
     },
     "execution_count": 222,
     "metadata": {},
     "output_type": "execute_result"
    }
   ],
   "source": [
    "#fill in missing tenure type for HDB\n",
    "\n",
    "df_test_cleaned.loc[(df_test_cleaned[\"property_type\"] == \"hdb\") & (df_test_cleaned[\"tenure\"].isnull()), \"tenure\"] = \"99-year leasehold\"\n",
    "df_test_cleaned"
   ],
   "metadata": {
    "collapsed": false,
    "pycharm": {
     "name": "#%%\n"
    }
   }
  },
  {
   "cell_type": "code",
   "execution_count": 223,
   "outputs": [
    {
     "data": {
      "text/plain": "99-year leasehold     4822\nfreehold              4628\n999-year leasehold     180\nName: tenure, dtype: int64"
     },
     "execution_count": 223,
     "metadata": {},
     "output_type": "execute_result"
    }
   ],
   "source": [
    "# find the most probable type of tenure from the train data, use them to fill in the unknown tenure type\n",
    "df_cleaned[df_cleaned[\"property_type\"] == \"condo\"][\"tenure\"].value_counts()"
   ],
   "metadata": {
    "collapsed": false,
    "pycharm": {
     "name": "#%%\n"
    }
   }
  },
  {
   "cell_type": "code",
   "execution_count": 224,
   "outputs": [
    {
     "data": {
      "text/plain": "freehold              187\n99-year leasehold      88\n999-year leasehold     14\nName: tenure, dtype: int64"
     },
     "execution_count": 224,
     "metadata": {},
     "output_type": "execute_result"
    }
   ],
   "source": [
    "df_cleaned[df_cleaned[\"property_type\"] == \"terraced house\"][\"tenure\"].value_counts()"
   ],
   "metadata": {
    "collapsed": false,
    "pycharm": {
     "name": "#%%\n"
    }
   }
  },
  {
   "cell_type": "code",
   "execution_count": 225,
   "outputs": [
    {
     "data": {
      "text/plain": "freehold              530\n99-year leasehold     123\n999-year leasehold     31\nName: tenure, dtype: int64"
     },
     "execution_count": 225,
     "metadata": {},
     "output_type": "execute_result"
    }
   ],
   "source": [
    "df_cleaned[df_cleaned[\"property_type\"] == \"semi-detached house\"][\"tenure\"].value_counts()"
   ],
   "metadata": {
    "collapsed": false,
    "pycharm": {
     "name": "#%%\n"
    }
   }
  },
  {
   "cell_type": "code",
   "execution_count": 226,
   "outputs": [
    {
     "data": {
      "text/plain": "freehold              343\n99-year leasehold     181\n999-year leasehold     14\nName: tenure, dtype: int64"
     },
     "execution_count": 226,
     "metadata": {},
     "output_type": "execute_result"
    }
   ],
   "source": [
    "df_cleaned[df_cleaned[\"property_type\"] == \"bungalow\"][\"tenure\"].value_counts()"
   ],
   "metadata": {
    "collapsed": false,
    "pycharm": {
     "name": "#%%\n"
    }
   }
  },
  {
   "cell_type": "code",
   "execution_count": 227,
   "outputs": [
    {
     "data": {
      "text/plain": "freehold              117\n99-year leasehold      18\n999-year leasehold     17\nName: tenure, dtype: int64"
     },
     "execution_count": 227,
     "metadata": {},
     "output_type": "execute_result"
    }
   ],
   "source": [
    "df_cleaned[df_cleaned[\"property_type\"] == \"corner terrace\"][\"tenure\"].value_counts()"
   ],
   "metadata": {
    "collapsed": false,
    "pycharm": {
     "name": "#%%\n"
    }
   }
  },
  {
   "cell_type": "code",
   "execution_count": 228,
   "outputs": [
    {
     "data": {
      "text/plain": "99-year leasehold     9\nfreehold              6\n999-year leasehold    1\nName: tenure, dtype: int64"
     },
     "execution_count": 228,
     "metadata": {},
     "output_type": "execute_result"
    }
   ],
   "source": [
    "df_cleaned[df_cleaned[\"property_type\"] == \"landed\"][\"tenure\"].value_counts()"
   ],
   "metadata": {
    "collapsed": false,
    "pycharm": {
     "name": "#%%\n"
    }
   }
  },
  {
   "cell_type": "code",
   "execution_count": 229,
   "outputs": [
    {
     "data": {
      "text/plain": "99-year leasehold     106\nfreehold               43\n999-year leasehold     15\nName: tenure, dtype: int64"
     },
     "execution_count": 229,
     "metadata": {},
     "output_type": "execute_result"
    }
   ],
   "source": [
    "df_cleaned[df_cleaned[\"property_type\"] == \"cluster house\"][\"tenure\"].value_counts()"
   ],
   "metadata": {
    "collapsed": false,
    "pycharm": {
     "name": "#%%\n"
    }
   }
  },
  {
   "cell_type": "code",
   "execution_count": 230,
   "outputs": [],
   "source": [
    "df_test_cleaned.loc[(df_test_cleaned[\"property_type\"] == \"condo\") & (df_test_cleaned[\"tenure\"].isnull()), \"tenure\"] = \"99-year leasehold\"\n",
    "df_test_cleaned.loc[(df_test_cleaned[\"property_type\"] == \"landed\") & (df_test_cleaned[\"tenure\"].isnull()), \"tenure\"] = \"99-year leasehold\"\n",
    "df_test_cleaned.loc[(df_test_cleaned[\"property_type\"] == \"cluster house\") & (df_test_cleaned[\"tenure\"].isnull()), \"tenure\"] = \"99-year leasehold\"\n",
    "df_test_cleaned.loc[(df_test_cleaned[\"property_type\"] == \"terraced house\") & (df_test_cleaned[\"tenure\"].isnull()), \"tenure\"] = \"freehold\"\n",
    "df_test_cleaned.loc[(df_test_cleaned[\"property_type\"] == \"semi-detached house\") & (df_test_cleaned[\"tenure\"].isnull()), \"tenure\"] = \"freehold\"\n",
    "df_test_cleaned.loc[(df_test_cleaned[\"property_type\"] == \"bungalow\") & (df_test_cleaned[\"tenure\"].isnull()), \"tenure\"] = \"freehold\"\n",
    "df_test_cleaned.loc[(df_test_cleaned[\"property_type\"] == \"corner terrace\") & (df_test_cleaned[\"tenure\"].isnull()), \"tenure\"] = \"freehold\""
   ],
   "metadata": {
    "collapsed": false,
    "pycharm": {
     "name": "#%%\n"
    }
   }
  },
  {
   "cell_type": "code",
   "execution_count": 231,
   "outputs": [],
   "source": [
    "# there are only 2 records which appear to be incorrect as num_beds =1, whereas num_baths = 10 and price is > 3e8\n",
    "# hence we can drop these two records so that the results are not skewed\n",
    "\n",
    "df_cleaned = df_cleaned[df_cleaned['price']<3e8]"
   ],
   "metadata": {
    "collapsed": false,
    "pycharm": {
     "name": "#%%\n"
    }
   }
  },
  {
   "cell_type": "markdown",
   "metadata": {
    "pycharm": {
     "name": "#%% md\n"
    }
   },
   "source": [
    "Singapore has the following latitude and longitude coordinates in its extreme ends:\n",
    "1. left-most (Tuas) :  1.30871,103.64287\n",
    "2. right-most (Changi) : 1.34538,104.00270\n",
    "3. top-most (Sembawang) : 1.46227,103.79487\n",
    "4. bottom-most (Bukit Merah) : 1.28762,103.82467\n",
    "\n",
    "\n",
    "#### Min latitude - 1.28762       Max latitude - 1.46227\n",
    "\n",
    "#### Min longitude - 103.64         Max longitude - 104.00\n",
    "\n",
    "But we can see that in the data, min longitude is -77.065364 and max latitude is 69.486768 which are out of the range of latitude and longitude values \n",
    "\n",
    "<img src=\"images/singapore-lat-long-map.jpeg\" width=600 height=600 />"
   ]
  },
  {
   "cell_type": "code",
   "execution_count": 232,
   "metadata": {
    "pycharm": {
     "name": "#%%\n"
    }
   },
   "outputs": [
    {
     "name": "stdout",
     "output_type": "stream",
     "text": [
      "It is interesting to note that in all the records where latitude and longitude have incorrect coordinates, planning_area and subzone have missing values, this can also be verified by checking for count of missing values\n",
      "38 lorong 32 geylang    6\n",
      "17 farrer drive         3\n",
      "15 farrer drive         2\n",
      "Name: address, dtype: int64\n"
     ]
    }
   ],
   "source": [
    "df_max_lng = df_cleaned[df_cleaned.lng > 121.0]\n",
    "df_min_lng = df_cleaned[df_cleaned.lng < -77.0]\n",
    "df_max_lat = df_cleaned[df_cleaned.lat > 69.0]\n",
    "df_wrong_coordinates = pd.concat([df_max_lng, df_min_lng, df_max_lat])\n",
    "\n",
    "print(\"It is interesting to note that in all the records where latitude and longitude have incorrect coordinates, planning_area and subzone have missing values, this can also be verified by checking for count of missing values\")\n",
    "print(df_wrong_coordinates[\"address\"].value_counts())\n",
    "# coordinates are incorrect for 5 'address'\n",
    "\n",
    "\n",
    "# using the 'address' we can manually correct the latitude, longitude coordinates along with \n",
    "# filling of values for sub zone and planning_area\n",
    "\n",
    "df_cleaned.loc[df_cleaned.address == \"1 tessensohn road\", \n",
    "               ['property_type', 'lat', 'lng', 'subzone', 'planning_area']] = 'condo', 1.3164313, 103.8575321, 'balestier', 'novena'\n",
    "df_cleaned.loc[df_cleaned.address == \"38 lorong 32 geylang\", \n",
    "               ['property_type', 'lat', 'lng', 'subzone', 'planning_area']] = 'condo', 1.31262, 103.88686, 'aljunied', 'geylang'\n",
    "df_cleaned.loc[df_cleaned.address == \"5 jalan mutiara\", \n",
    "               ['property_type', 'lat', 'lng', 'subzone', 'planning_area']] = 'condo', 1.29565, 103.82887, 'leonie hill', 'river valley'\n",
    "df_cleaned.loc[df_cleaned.address == \"17 farrer drive\", \n",
    "               ['property_type', 'lat', 'lng', 'subzone', 'planning_area']] = 'condo', 1.313259, 103.806622, 'holland road', 'bukit timah'\n",
    "df_cleaned.loc[df_cleaned.address == \"15 farrer drive\", \n",
    "               ['property_type', 'lat', 'lng', 'subzone', 'planning_area']] = 'condo', 1.313259, 103.806622, 'holland road', 'bukit timah'"
   ]
  },
  {
   "cell_type": "code",
   "execution_count": 233,
   "metadata": {
    "pycharm": {
     "name": "#%%\n"
    }
   },
   "outputs": [
    {
     "name": "stdout",
     "output_type": "stream",
     "text": [
      "It is interesting to note that in all the records where latitude and longitude have incorrect coordinates, planning_area and subzone have missing values, this can also be verified by checking for count of missing values\n",
      "38 lorong 32 geylang    2\n",
      "17 farrer drive         1\n",
      "Name: address, dtype: int64\n"
     ]
    }
   ],
   "source": [
    "df_max_lng = df_test_cleaned[df_test_cleaned.lng > 121.0]\n",
    "df_min_lng = df_test_cleaned[df_test_cleaned.lng < -77.0]\n",
    "df_max_lat = df_test_cleaned[df_test_cleaned.lat > 69.0]\n",
    "df_wrong_coordinates = pd.concat([df_max_lng, df_min_lng, df_max_lat])\n",
    "\n",
    "print(\"It is interesting to note that in all the records where latitude and longitude have incorrect coordinates, planning_area and subzone have missing values, this can also be verified by checking for count of missing values\")\n",
    "print(df_wrong_coordinates[\"address\"].value_counts())\n",
    "# coordinates are incorrect for 5 'address'\n",
    "\n",
    "\n",
    "# using the 'address' we can manually correct the latitude, longitude coordinates along with \n",
    "# filling of values for sub zone and planning_area\n",
    "\n",
    "df_test_cleaned.loc[df_test_cleaned.address == \"38 lorong 32 geylang\", \n",
    "               ['property_type', 'lat', 'lng', 'subzone', 'planning_area']] = 'condo', 1.31262, 103.88686, 'aljunied', 'geylang'\n",
    "df_test_cleaned.loc[df_test_cleaned.address == \"17 farrer drive\", \n",
    "               ['property_type', 'lat', 'lng', 'subzone', 'planning_area']] = 'condo', 1.313259, 103.806622, 'holland road', 'bukit timah'\n",
    "        "
   ]
  },
  {
   "cell_type": "markdown",
   "metadata": {
    "pycharm": {
     "name": "#%% md\n"
    }
   },
   "source": [
    "Merging With Auxiliary Data"
   ]
  },
  {
   "cell_type": "code",
   "execution_count": 234,
   "outputs": [
    {
     "data": {
      "text/plain": "array([[0.02518408, 1.81165779],\n       [0.02502538, 1.81222266],\n       [0.02399856, 1.81265384],\n       [0.02253715, 1.81207179],\n       [0.02426671, 1.81317637],\n       [0.02416302, 1.81237461],\n       [0.02301657, 1.81226397],\n       [0.023799  , 1.81407625],\n       [0.02389531, 1.81233873],\n       [0.02313785, 1.81242773],\n       [0.02415736, 1.81119459],\n       [0.02310915, 1.81405736],\n       [0.02307876, 1.81278752],\n       [0.02227748, 1.81180553],\n       [0.02343782, 1.81013216],\n       [0.02397065, 1.8111182 ],\n       [0.02334411, 1.81107318],\n       [0.02348691, 1.81084051],\n       [0.02532212, 1.81192393],\n       [0.0231518 , 1.81307993],\n       [0.02226716, 1.81234795],\n       [0.02396002, 1.81439591],\n       [0.02264075, 1.81255653],\n       [0.02330942, 1.81296922],\n       [0.02338433, 1.81430947],\n       [0.02280164, 1.81358615],\n       [0.02224708, 1.81214142],\n       [0.02369771, 1.81276756],\n       [0.0239653 , 1.81335677],\n       [0.02384901, 1.81109583],\n       [0.02326745, 1.81239184],\n       [0.02398476, 1.81224787],\n       [0.02511053, 1.81233751],\n       [0.02357144, 1.81428582],\n       [0.02404955, 1.8106392 ],\n       [0.02295341, 1.81101624],\n       [0.0243379 , 1.8133625 ],\n       [0.02408935, 1.81054056],\n       [0.02388354, 1.8142874 ],\n       [0.02358688, 1.81004075],\n       [0.02330802, 1.81377042],\n       [0.02372221, 1.81074363],\n       [0.02434838, 1.81066754],\n       [0.02320438, 1.81374445],\n       [0.02361224, 1.81447775],\n       [0.02444073, 1.81352847],\n       [0.02538459, 1.81195858],\n       [0.02312242, 1.8134733 ],\n       [0.02519959, 1.81155989],\n       [0.02270359, 1.81140129],\n       [0.02290856, 1.81254235],\n       [0.0232146 , 1.81395355],\n       [0.02425944, 1.81294699],\n       [0.02339553, 1.81262683],\n       [0.02333383, 1.80990011],\n       [0.0249708 , 1.81127182],\n       [0.02332607, 1.81054269],\n       [0.02244274, 1.81191586],\n       [0.02301121, 1.81312034],\n       [0.02369   , 1.81425764],\n       [0.02436829, 1.81361918],\n       [0.02418358, 1.81109334],\n       [0.02513213, 1.81173479],\n       [0.02348826, 1.81251223],\n       [0.02290209, 1.81344357],\n       [0.02399856, 1.81265384],\n       [0.02298698, 1.81137629],\n       [0.02307137, 1.81265671],\n       [0.02443435, 1.81362601],\n       [0.02405689, 1.81306674],\n       [0.02490344, 1.81242432],\n       [0.02494557, 1.81149005],\n       [0.02492518, 1.81217835],\n       [0.02395554, 1.81255507],\n       [0.02352323, 1.8140847 ],\n       [0.02337544, 1.80988946],\n       [0.02337544, 1.80988946],\n       [0.02336562, 1.80970142],\n       [0.02348065, 1.81089078],\n       [0.02335051, 1.81248651],\n       [0.02288582, 1.81319112],\n       [0.02432883, 1.81072945],\n       [0.0235484 , 1.81261215],\n       [0.02335857, 1.81022039],\n       [0.02362883, 1.81085633],\n       [0.02392636, 1.81437852],\n       [0.02312116, 1.8130756 ],\n       [0.02318855, 1.81342446],\n       [0.02341239, 1.81300709],\n       [0.02503073, 1.81118692],\n       [0.02340299, 1.81235014],\n       [0.02402732, 1.81240648],\n       [0.02434731, 1.81355376],\n       [0.02401628, 1.81401074],\n       [0.02356076, 1.81313396],\n       [0.02398381, 1.81321345],\n       [0.02429545, 1.81324075],\n       [0.02305286, 1.81179517],\n       [0.02278608, 1.81371042],\n       [0.02472312, 1.81232303],\n       [0.02268448, 1.81165325],\n       [0.02480468, 1.81236009],\n       [0.02543177, 1.81189121],\n       [0.02421821, 1.81346323],\n       [0.02491867, 1.81250098],\n       [0.02413607, 1.81332688],\n       [0.02451668, 1.81358922],\n       [0.02303249, 1.81381189],\n       [0.0241571 , 1.81324271],\n       [0.02394859, 1.81449711],\n       [0.02356076, 1.81313396],\n       [0.02334049, 1.8126261 ],\n       [0.02335424, 1.8112367 ],\n       [0.02297318, 1.81109048],\n       [0.02474035, 1.81218134],\n       [0.023543  , 1.80981583],\n       [0.02370447, 1.81402036],\n       [0.02355116, 1.81062122],\n       [0.02463951, 1.81338347],\n       [0.02446918, 1.81337177],\n       [0.02463951, 1.81338347],\n       [0.02452761, 1.81348922],\n       [0.02291278, 1.81090066],\n       [0.02516852, 1.81144815],\n       [0.02261991, 1.8117888 ],\n       [0.02225372, 1.81207106],\n       [0.02321514, 1.81176106],\n       [0.02327256, 1.81399435],\n       [0.02525976, 1.81168375],\n       [0.02432395, 1.8134776 ],\n       [0.02396683, 1.81295547],\n       [0.02350276, 1.81023346],\n       [0.02431038, 1.81295733],\n       [0.02522522, 1.81201637],\n       [0.02500839, 1.81140378],\n       [0.02424944, 1.81338654],\n       [0.0235118 , 1.81028326],\n       [0.02412684, 1.8108838 ],\n       [0.02434694, 1.81321866],\n       [0.02275632, 1.81265186],\n       [0.02323666, 1.81279291],\n       [0.02330217, 1.81412498],\n       [0.0235598 , 1.81402705],\n       [0.02299716, 1.81244666],\n       [0.02302203, 1.81370447],\n       [0.02374602, 1.81425447],\n       [0.02356748, 1.81416332],\n       [0.02278195, 1.81340479],\n       [0.02277771, 1.81359647],\n       [0.0238301 , 1.81254088],\n       [0.02415306, 1.81084271],\n       [0.02322823, 1.81359459],\n       [0.02299307, 1.81419589],\n       [0.0237441 , 1.81259488],\n       [0.02448237, 1.81072243],\n       [0.02456163, 1.81337715],\n       [0.0244208 , 1.81371813],\n       [0.02534456, 1.81204294],\n       [0.02346911, 1.80988869],\n       [0.02425175, 1.81106298],\n       [0.02351731, 1.80991539],\n       [0.02414608, 1.81095473],\n       [0.023832  , 1.81446619],\n       [0.02501247, 1.81148269],\n       [0.02503963, 1.81161407],\n       [0.02503963, 1.81161407],\n       [0.02370162, 1.81323155],\n       [0.02339988, 1.80967784],\n       [0.02393548, 1.8131035 ],\n       [0.02501807, 1.81231126],\n       [0.02354036, 1.81284668],\n       [0.02438158, 1.81079818],\n       [0.02404915, 1.81314334],\n       [0.02502102, 1.8122432 ],\n       [0.02328308, 1.81395473],\n       [0.02343787, 1.81062132],\n       [0.02358401, 1.814285  ],\n       [0.02241439, 1.81210698],\n       [0.02407552, 1.81112234],\n       [0.02373493, 1.81286844]])"
     },
     "execution_count": 234,
     "metadata": {},
     "output_type": "execute_result"
    }
   ],
   "source": [
    "df_pri_sch = pd.read_csv('../data/auxiliary-data/sg-primary-schools.csv').drop([\"name\", \"subzone\", 'planning_area'], axis=1).to_numpy()\n",
    "pri_sch_coor = np.array([[radians(_) for _ in coor] for coor in df_pri_sch])\n",
    "pri_sch_coor"
   ],
   "metadata": {
    "collapsed": false,
    "pycharm": {
     "name": "#%%\n"
    }
   }
  },
  {
   "cell_type": "code",
   "execution_count": 235,
   "outputs": [
    {
     "data": {
      "text/plain": "array([[0.02523592, 1.81170252],\n       [0.02506458, 1.81217632],\n       [0.02400556, 1.81255449],\n       [0.02322382, 1.81413586],\n       [0.02303435, 1.81228105],\n       [0.02273813, 1.81131498],\n       [0.02387036, 1.81239431],\n       [0.02390286, 1.81106569],\n       [0.02339885, 1.81308864],\n       [0.02341857, 1.81256411],\n       [0.02328376, 1.81402294],\n       [0.02313538, 1.8142877 ],\n       [0.02312108, 1.81415707],\n       [0.02311665, 1.81270744],\n       [0.02343555, 1.80993565],\n       [0.02392644, 1.81300617],\n       [0.02281608, 1.81316822],\n       [0.02353421, 1.81061705],\n       [0.02244361, 1.81187903],\n       [0.02411551, 1.81058399],\n       [0.02348688, 1.81081736],\n       [0.02364606, 1.8124395 ],\n       [0.02537261, 1.81190009],\n       [0.02328645, 1.81294771],\n       [0.02339603, 1.81432179],\n       [0.02280866, 1.81370116],\n       [0.02325952, 1.81239958],\n       [0.0242945 , 1.81344042],\n       [0.02398345, 1.81224768],\n       [0.02228446, 1.81204633],\n       [0.02414678, 1.81080612],\n       [0.02490002, 1.81153206],\n       [0.02278692, 1.81324923],\n       [0.02477679, 1.81230998],\n       [0.02296261, 1.81098691],\n       [0.02303306, 1.81070405],\n       [0.02437537, 1.81339934],\n       [0.02258887, 1.81194698],\n       [0.02334549, 1.81386519],\n       [0.02385416, 1.81256129],\n       [0.02379904, 1.81068391],\n       [0.02269018, 1.81308667],\n       [0.02375687, 1.81437472],\n       [0.02368366, 1.81446315],\n       [0.02443821, 1.81343745],\n       [0.0251631 , 1.81154746],\n       [0.02271929, 1.81137935],\n       [0.02400365, 1.81102364],\n       [0.02497082, 1.81125542],\n       [0.02351501, 1.81037807],\n       [0.02251816, 1.81206118],\n       [0.02301457, 1.81310163],\n       [0.02439485, 1.81359972],\n       [0.02412983, 1.81119534],\n       [0.02346897, 1.81252358],\n       [0.02399324, 1.8143595 ],\n       [0.02362072, 1.81083129],\n       [0.02393473, 1.81332583],\n       [0.02404649, 1.81309094],\n       [0.02361412, 1.81028444],\n       [0.02314668, 1.8117136 ],\n       [0.02361736, 1.81398256],\n       [0.02321829, 1.81032486],\n       [0.02330819, 1.80994837],\n       [0.02358436, 1.81041212],\n       [0.02335703, 1.80968578],\n       [0.02270938, 1.81104315],\n       [0.02426839, 1.81062445],\n       [0.02357655, 1.81260676],\n       [0.02384892, 1.81440117],\n       [0.02317032, 1.81342701],\n       [0.02341183, 1.81300747],\n       [0.02508561, 1.81123186],\n       [0.0238947 , 1.81227608],\n       [0.02386869, 1.8142513 ],\n       [0.02356076, 1.81314691],\n       [0.02398491, 1.81320156],\n       [0.02425359, 1.81322176],\n       [0.02284024, 1.8111105 ],\n       [0.02322862, 1.81169414],\n       [0.02322418, 1.81172918],\n       [0.0247699 , 1.81219273],\n       [0.02286178, 1.81119102],\n       [0.02363711, 1.81438587],\n       [0.02411464, 1.81337591],\n       [0.02480579, 1.81243331],\n       [0.02505787, 1.81236245],\n       [0.02281688, 1.81111792],\n       [0.02470993, 1.81231678],\n       [0.02244976, 1.81229975],\n       [0.02395831, 1.81444012],\n       [0.02364408, 1.81424405],\n       [0.02356076, 1.81314691],\n       [0.02427546, 1.81301577],\n       [0.02371754, 1.81288369],\n       [0.0238496 , 1.81216721],\n       [0.02316702, 1.81375579],\n       [0.02412673, 1.81240244],\n       [0.02447437, 1.81355529],\n       [0.02257469, 1.81188415],\n       [0.02273357, 1.81167955],\n       [0.023439  , 1.81240762],\n       [0.0235046 , 1.81240335],\n       [0.0243214 , 1.81079676],\n       [0.02514303, 1.81144922],\n       [0.02346272, 1.81006238],\n       [0.02323939, 1.81280368],\n       [0.02283722, 1.81369387],\n       [0.02292002, 1.81118682],\n       [0.02268198, 1.81250273],\n       [0.0252314 , 1.81194258],\n       [0.02420506, 1.8133721 ],\n       [0.02390512, 1.81285576],\n       [0.02399722, 1.8134331 ],\n       [0.02306493, 1.81215593],\n       [0.02490012, 1.81146194],\n       [0.02356184, 1.81392044],\n       [0.02329789, 1.81412832],\n       [0.0235137 , 1.81297466],\n       [0.02356992, 1.81403285],\n       [0.0230413 , 1.81182788],\n       [0.02310204, 1.81213964],\n       [0.02381606, 1.81078666],\n       [0.02286091, 1.81091948],\n       [0.02355228, 1.81416682],\n       [0.02283585, 1.81333534],\n       [0.02283447, 1.81335066],\n       [0.02413955, 1.8108704 ],\n       [0.02302417, 1.81401312],\n       [0.02297459, 1.81423229],\n       [0.02442976, 1.8107098 ],\n       [0.02283987, 1.81386351],\n       [0.02423021, 1.81095147],\n       [0.0236243 , 1.80993789],\n       [0.02366107, 1.81239453],\n       [0.02492859, 1.81159169],\n       [0.02506333, 1.81165936],\n       [0.02506333, 1.81165936],\n       [0.02395566, 1.81309913],\n       [0.02405901, 1.81238669],\n       [0.02500471, 1.81231298],\n       [0.02500471, 1.81231298],\n       [0.02341502, 1.81025807],\n       [0.02350763, 1.81029783],\n       [0.0245598 , 1.81333833],\n       [0.02368576, 1.81323493],\n       [0.02425177, 1.8110463 ],\n       [0.02353759, 1.81286251]])"
     },
     "execution_count": 235,
     "metadata": {},
     "output_type": "execute_result"
    }
   ],
   "source": [
    "df_sec_sch = pd.read_csv('../data/auxiliary-data/sg-secondary-schools.csv').drop([\"name\", \"subzone\", 'planning_area'], axis=1).to_numpy()\n",
    "sec_sch_coor = np.array([[radians(_) for _ in coor] for coor in df_sec_sch])\n",
    "sec_sch_coor"
   ],
   "metadata": {
    "collapsed": false,
    "pycharm": {
     "name": "#%%\n"
    }
   }
  },
  {
   "cell_type": "code",
   "execution_count": 236,
   "outputs": [],
   "source": [
    "df_commercial_centres = pd.read_csv('../data/auxiliary-data/sg-commerical-centres.csv').drop([\"name\", \"type\", \"subzone\", 'planning_area'], axis=1).to_numpy()\n",
    "commercial_centres_coor = np.array([[radians(_) for _ in coor] for coor in df_commercial_centres])\n",
    "\n",
    "df_shopping_malls = pd.read_csv('../data/auxiliary-data/sg-shopping-malls.csv').drop([\"name\", \"subzone\", 'planning_area'], axis=1).to_numpy()\n",
    "shopping_malls_coor = np.array([[radians(_) for _ in coor] for coor in df_shopping_malls])"
   ],
   "metadata": {
    "collapsed": false,
    "pycharm": {
     "name": "#%%\n"
    }
   }
  },
  {
   "cell_type": "code",
   "execution_count": 237,
   "metadata": {
    "pycharm": {
     "name": "#%%\n"
    }
   },
   "outputs": [],
   "source": [
    "df_mrt_station = pd.read_csv('../data/auxiliary-data/sg-mrt-stations.csv')\n",
    "df_mrt_station = df_mrt_station.drop([\"name\", \"lat\", \"lng\", 'planning_area', 'code', 'line', 'opening_year'], axis=1)\n",
    "mrt_station_cleaned = df_mrt_station.value_counts().to_frame(name=\"mrt_station\")\n",
    "\n",
    "mrt_station_coor = pd.read_csv('../data/auxiliary-data/sg-mrt-stations.csv').drop([\"name\", \"subzone\", 'planning_area', 'code', 'line', 'opening_year'], axis=1).to_numpy()\n",
    "mrt_station_coor = np.array([[radians(_) for _ in coor] for coor in mrt_station_coor])\n",
    "\n",
    "df_train_coor = df_cleaned[[\"lat\", \"lng\"]].to_numpy()\n",
    "df_train_coor = np.array([[radians(_) for _ in coor] for coor in df_train_coor])\n",
    "\n",
    "df_test_coor = df_test_cleaned[[\"lat\", \"lng\"]].to_numpy()\n",
    "df_test_coor = np.array([[radians(_) for _ in coor] for coor in df_test_coor])\n",
    "\n",
    "dist_matrix_train_mrt = sklearn.metrics.pairwise.haversine_distances(mrt_station_coor, df_train_coor)\n",
    "# multiply to get meters\n",
    "closest_dist_to_mrt_train = pd.DataFrame(np.amin(dist_matrix_train_mrt, axis=0)* 6371000, columns=[\"closest_dist_to_mrt\"])\n",
    "\n",
    "dist_matrix_test_mrt = sklearn.metrics.pairwise.haversine_distances(mrt_station_coor, df_test_coor)\n",
    "# multiply to get meters\n",
    "closest_dist_to_mrt_test = pd.DataFrame(np.amin(dist_matrix_test_mrt, axis=0)* 6371000, columns=[\"closest_dist_to_mrt\"])\n",
    "\n",
    "dist_matrix_train_pri = sklearn.metrics.pairwise.haversine_distances(pri_sch_coor, df_train_coor)\n",
    "closest_dist_to_pri_train = pd.DataFrame(np.amin(dist_matrix_train_pri, axis=0)* 6371000, columns=[\"closest_dist_to_pri\"])\n",
    "\n",
    "dist_matrix_test_pri = sklearn.metrics.pairwise.haversine_distances(pri_sch_coor, df_test_coor)\n",
    "closest_dist_to_pri_test = pd.DataFrame(np.amin(dist_matrix_test_pri, axis=0)* 6371000, columns=[\"closest_dist_to_pri\"])\n",
    "\n",
    "dist_matrix_train_sec = sklearn.metrics.pairwise.haversine_distances(sec_sch_coor, df_train_coor)\n",
    "closest_dist_to_sec_train = pd.DataFrame(np.amin(dist_matrix_train_sec, axis=0)* 6371000, columns=[\"closest_dist_to_sec\"])\n",
    "\n",
    "dist_matrix_test_sec = sklearn.metrics.pairwise.haversine_distances(sec_sch_coor, df_test_coor)\n",
    "closest_dist_to_sec_test = pd.DataFrame(np.amin(dist_matrix_test_sec, axis=0)* 6371000, columns=[\"closest_dist_to_sec\"])\n",
    "\n",
    "dist_matrix_test_com = sklearn.metrics.pairwise.haversine_distances(commercial_centres_coor, df_test_coor)\n",
    "closest_dist_to_com_test = pd.DataFrame(np.amin(dist_matrix_test_com, axis=0)* 6371000, columns=[\"closest_dist_to_com\"])\n",
    "\n",
    "dist_matrix_test_shop = sklearn.metrics.pairwise.haversine_distances(shopping_malls_coor, df_test_coor)\n",
    "closest_dist_to_shop_test = pd.DataFrame(np.amin(dist_matrix_test_shop, axis=0)* 6371000, columns=[\"closest_dist_to_shop\"])\n",
    "\n",
    "dist_matrix_train_com = sklearn.metrics.pairwise.haversine_distances(commercial_centres_coor, df_train_coor)\n",
    "closest_dist_to_com_train = pd.DataFrame(np.amin(dist_matrix_train_com, axis=0)* 6371000, columns=[\"closest_dist_to_com\"])\n",
    "\n",
    "dist_matrix_train_shop = sklearn.metrics.pairwise.haversine_distances(shopping_malls_coor, df_train_coor)\n",
    "closest_dist_to_shop_train = pd.DataFrame(np.amin(dist_matrix_train_shop, axis=0)* 6371000, columns=[\"closest_dist_to_shop\"])\n",
    "\n",
    "#during pri sch registration exercise, homeowners within 1km will be given priority\n",
    "test = pd.DataFrame(dist_matrix_test_pri * 6371000)\n",
    "test_near_pri_sch = test[test <= 1000].count().rename(\"close_pri_sch\")\n",
    "\n",
    "test = pd.DataFrame(dist_matrix_train_pri * 6371000)\n",
    "train_near_pri_sch = test[test <= 1000].count().rename(\"close_pri_sch\")\n",
    "\n",
    "#no such priority for sec sch, put as 1km for now\n",
    "#change 1000 to desired distance if necessary\n",
    "test = pd.DataFrame(dist_matrix_test_sec * 6371000)\n",
    "test_near_sec_sch = test[test <= 1000].count().rename(\"close_sec_sch\")\n",
    "\n",
    "test = pd.DataFrame(dist_matrix_train_sec * 6371000)\n",
    "train_near_sec_sch = test[test <= 1000].count().rename(\"close_sec_sch\")\n",
    "\n",
    "df_cleaned = df_cleaned.merge(pri_sch_cleaned, how='left',left_on=\"subzone\",right_on=\"subzone\")\\\n",
    "    .merge(sec_sch_cleaned, how='left',left_on=\"subzone\",right_on=\"subzone\")\\\n",
    "    .merge(mrt_station_cleaned, how='left',left_on=\"subzone\",right_on=\"subzone\")\\\n",
    "    .merge(df_subzone, how='left',left_on=\"subzone\",right_on=\"name\")\\\n",
    "    .join(closest_dist_to_mrt_train)\\\n",
    "    .join(closest_dist_to_pri_train)\\\n",
    "    .join(closest_dist_to_sec_train)\\\n",
    "    .join(train_near_pri_sch)\\\n",
    "    .join(train_near_sec_sch)\\\n",
    "    .join(closest_dist_to_shop_train)\\\n",
    "    .join(closest_dist_to_com_train)\\\n",
    "    .fillna({'pri_sch':0, 'sec_sch':0, 'mrt_station':0})\n",
    "\n",
    "df_test_cleaned = df_test_cleaned.merge(pri_sch_cleaned, how='left',left_on=\"subzone\",right_on=\"subzone\")\\\n",
    "    .merge(sec_sch_cleaned, how='left',left_on=\"subzone\",right_on=\"subzone\")\\\n",
    "    .merge(mrt_station_cleaned, how='left',left_on=\"subzone\",right_on=\"subzone\")\\\n",
    "    .merge(df_subzone, how='left',left_on=\"subzone\",right_on=\"name\")\\\n",
    "    .join(closest_dist_to_mrt_test)\\\n",
    "    .join(closest_dist_to_pri_test)\\\n",
    "    .join(closest_dist_to_sec_test)\\\n",
    "    .join(test_near_pri_sch)\\\n",
    "    .join(test_near_sec_sch)\\\n",
    "    .join(closest_dist_to_shop_test)\\\n",
    "    .join(closest_dist_to_com_test)\\\n",
    "    .fillna({'pri_sch':0, 'sec_sch':0, 'mrt_station':0})"
   ]
  },
  {
   "cell_type": "markdown",
   "metadata": {
    "pycharm": {
     "name": "#%% md\n"
    }
   },
   "source": [
    "Drop Columns at the end"
   ]
  },
  {
   "cell_type": "code",
   "execution_count": 238,
   "metadata": {
    "pycharm": {
     "name": "#%%\n"
    }
   },
   "outputs": [],
   "source": [
    "df_cleaned = df_cleaned.drop(['title', 'address','property_name', 'property_details_url', 'listing_id', 'elevation', 'total_num_units', 'floor_level', 'available_unit_types'], axis = 1)\n",
    "df_test_cleaned = df_test_cleaned.drop(['title','address','property_name', 'property_details_url', 'listing_id', 'elevation', 'total_num_units', 'floor_level', 'available_unit_types'], axis = 1)"
   ]
  },
  {
   "cell_type": "code",
   "execution_count": 239,
   "metadata": {
    "pycharm": {
     "name": "#%%\n"
    }
   },
   "outputs": [
    {
     "name": "stdout",
     "output_type": "stream",
     "text": [
      "property_type           0\n",
      "num_beds                0\n",
      "num_baths               0\n",
      "size_sqft               0\n",
      "furnishing              0\n",
      "lat                     0\n",
      "lng                     0\n",
      "subzone                 0\n",
      "planning_area           0\n",
      "price                   0\n",
      "built_year              0\n",
      "tenure                  0\n",
      "pri_sch                 0\n",
      "sec_sch                 0\n",
      "mrt_station             0\n",
      "population_density      0\n",
      "closest_dist_to_mrt     0\n",
      "closest_dist_to_pri     0\n",
      "closest_dist_to_sec     0\n",
      "close_pri_sch           0\n",
      "close_sec_sch           0\n",
      "closest_dist_to_shop    0\n",
      "closest_dist_to_com     0\n",
      "dtype: int64\n",
      "property_type           0\n",
      "num_beds                0\n",
      "num_baths               0\n",
      "size_sqft               0\n",
      "furnishing              0\n",
      "lat                     0\n",
      "lng                     0\n",
      "subzone                 0\n",
      "planning_area           0\n",
      "built_year              0\n",
      "tenure                  0\n",
      "pri_sch                 0\n",
      "sec_sch                 0\n",
      "mrt_station             0\n",
      "population_density      0\n",
      "closest_dist_to_mrt     0\n",
      "closest_dist_to_pri     0\n",
      "closest_dist_to_sec     0\n",
      "close_pri_sch           0\n",
      "close_sec_sch           0\n",
      "closest_dist_to_shop    0\n",
      "closest_dist_to_com     0\n",
      "dtype: int64\n",
      "(17217, 23)\n",
      "(6966, 22)\n"
     ]
    }
   ],
   "source": [
    "print(df_cleaned.isnull().sum())\n",
    "print(df_test_cleaned.isnull().sum())\n",
    "print(df_cleaned.shape)\n",
    "print(df_test_cleaned.shape)"
   ]
  },
  {
   "cell_type": "markdown",
   "metadata": {
    "pycharm": {
     "name": "#%% md\n"
    }
   },
   "source": [
    "Saving the data"
   ]
  },
  {
   "cell_type": "code",
   "execution_count": 240,
   "metadata": {
    "pycharm": {
     "name": "#%%\n"
    }
   },
   "outputs": [],
   "source": [
    "df_test_cleaned.to_csv('../data/test_cleaned.csv', index = False)\n",
    "df_cleaned.to_csv('../data/train_cleaned.csv', index = False)"
   ]
  },
  {
   "cell_type": "code",
   "execution_count": 241,
   "metadata": {
    "pycharm": {
     "name": "#%%\n"
    }
   },
   "outputs": [
    {
     "data": {
      "text/plain": "property_type           0\nnum_beds                0\nnum_baths               0\nsize_sqft               0\nfurnishing              0\nlat                     0\nlng                     0\nsubzone                 0\nplanning_area           0\nprice                   0\nbuilt_year              0\ntenure                  0\npri_sch                 0\nsec_sch                 0\nmrt_station             0\npopulation_density      0\nclosest_dist_to_mrt     0\nclosest_dist_to_pri     0\nclosest_dist_to_sec     0\nclose_pri_sch           0\nclose_sec_sch           0\nclosest_dist_to_shop    0\nclosest_dist_to_com     0\ndtype: int64"
     },
     "execution_count": 241,
     "metadata": {},
     "output_type": "execute_result"
    }
   ],
   "source": [
    "df_cleaned.isnull().sum()"
   ]
  },
  {
   "cell_type": "code",
   "execution_count": 242,
   "metadata": {
    "pycharm": {
     "name": "#%%\n"
    }
   },
   "outputs": [
    {
     "data": {
      "text/plain": "(6966, 22)"
     },
     "execution_count": 242,
     "metadata": {},
     "output_type": "execute_result"
    }
   ],
   "source": [
    "df_test_cleaned.isnull().sum()\n",
    "df_test_cleaned.shape\n"
   ]
  },
  {
   "cell_type": "code",
   "execution_count": null,
   "outputs": [],
   "source": [],
   "metadata": {
    "collapsed": false,
    "pycharm": {
     "name": "#%%\n"
    }
   }
  }
 ],
 "metadata": {
  "kernelspec": {
   "display_name": "Python 3.9.6 64-bit",
   "language": "python",
   "name": "python3"
  },
  "language_info": {
   "codemirror_mode": {
    "name": "ipython",
    "version": 3
   },
   "file_extension": ".py",
   "mimetype": "text/x-python",
   "name": "python",
   "nbconvert_exporter": "python",
   "pygments_lexer": "ipython3",
   "version": "3.9.6"
  },
  "orig_nbformat": 4,
  "vscode": {
   "interpreter": {
    "hash": "31f2aee4e71d21fbe5cf8b01ff0e069b9275f58929596ceb00d14d90e3e16cd6"
   }
  }
 },
 "nbformat": 4,
 "nbformat_minor": 2
}