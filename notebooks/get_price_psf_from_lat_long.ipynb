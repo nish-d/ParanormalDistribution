{
 "cells": [
  {
   "cell_type": "code",
   "execution_count": 1,
   "id": "493ebbba",
   "metadata": {},
   "outputs": [],
   "source": [
    "import numpy as np\n",
    "import pandas as pd"
   ]
  },
  {
   "cell_type": "code",
   "execution_count": 2,
   "id": "ec31e0a7",
   "metadata": {},
   "outputs": [],
   "source": [
    "df = pd.read_csv('../data/train.csv')\n",
    "\n",
    "df = df[df.price > 0]\n",
    "df = df[df.lat<=1.47]\n",
    "df = df[df.size_sqft>0]\n",
    "\n",
    "df['price_per_sq_ft'] = df['price']/df['size_sqft']\n",
    "\n",
    "df = df[['lat','lng', 'price_per_sq_ft']]\n",
    "df['price_per_sq_ft'] = df['price_per_sq_ft'].astype(np.int32)"
   ]
  },
  {
   "cell_type": "code",
   "execution_count": 3,
   "id": "f2d39ebf",
   "metadata": {},
   "outputs": [],
   "source": [
    "from math import cos, radians\n",
    "\n",
    "def get_lat_offset(distance_in_m):\n",
    "    offset = distance_in_m/111111\n",
    "    return offset\n",
    "\n",
    "def get_lng_offset(distance_in_m, lat):\n",
    "    offset = distance_in_m/(111111*cos(radians(lat)))\n",
    "    return offset"
   ]
  },
  {
   "cell_type": "code",
   "execution_count": 4,
   "id": "75ee8210",
   "metadata": {},
   "outputs": [],
   "source": [
    "def get_bounding_square(lat, lng, side):\n",
    "    lat_offset = get_lat_offset(side/2)\n",
    "    lng_offset = get_lng_offset(side/2, lat)\n",
    "    \n",
    "    top_lat = lat + lat_offset\n",
    "    bottom_lat = lat - lat_offset\n",
    "    \n",
    "    right_lng = lng + lng_offset\n",
    "    left_lng = lng - lng_offset\n",
    "    \n",
    "    return top_lat, bottom_lat, right_lng, left_lng"
   ]
  },
  {
   "cell_type": "code",
   "execution_count": 5,
   "id": "bcf9870c",
   "metadata": {},
   "outputs": [],
   "source": [
    "bbox_side = 1000\n",
    "\n",
    "def get_average_price_psf_within_bbox(lat, lng):\n",
    "    bbox = get_bounding_square(lat, lng, bbox_side)\n",
    "    filtered_df = df[(df.lat < bbox[0]) & (df.lat > bbox[1]) & (df.lng < bbox[2]) & (df.lng > bbox[3])]\n",
    "    return filtered_df['price_per_sq_ft'].mean().astype(np.int32)"
   ]
  },
  {
   "cell_type": "code",
   "execution_count": 17,
   "id": "71f595c6",
   "metadata": {},
   "outputs": [],
   "source": [
    "#steps from here on are what we need to do in order to calculate the psf price feature for a dataset\n",
    "df_aug = pd.read_csv('../data/train.csv')\n",
    "\n",
    "df_aug = df_aug[df_aug.price > 0]\n",
    "df_aug = df_aug[df_aug.lat<=1.47]\n",
    "df_aug = df_aug[df_aug.size_sqft>0]"
   ]
  }
 ],
 "metadata": {
  "kernelspec": {
   "display_name": "Python 3.9.6 64-bit",
   "language": "python",
   "name": "python3"
  },
  "language_info": {
   "codemirror_mode": {
    "name": "ipython",
    "version": 3
   },
   "file_extension": ".py",
   "mimetype": "text/x-python",
   "name": "python",
   "nbconvert_exporter": "python",
   "pygments_lexer": "ipython3",
   "version": "3.9.6"
  },
  "vscode": {
   "interpreter": {
    "hash": "31f2aee4e71d21fbe5cf8b01ff0e069b9275f58929596ceb00d14d90e3e16cd6"
   }
  }
 },
 "nbformat": 4,
 "nbformat_minor": 5
}
