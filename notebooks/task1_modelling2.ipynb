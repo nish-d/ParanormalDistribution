{
 "cells": [
  {
   "cell_type": "code",
   "execution_count": 17,
   "metadata": {},
   "outputs": [
    {
     "name": "stderr",
     "output_type": "stream",
     "text": [
      "/var/folders/32/zv3nm8_12xb9ytd7vk7nnr6w0000gn/T/ipykernel_38034/3489285944.py:8: FutureWarning: pandas.Int64Index is deprecated and will be removed from pandas in a future version. Use pandas.Index with the appropriate dtype instead.\n",
      "  from pandas import MultiIndex, Int64Index\n"
     ]
    }
   ],
   "source": [
    "import numpy as np\n",
    "import math\n",
    "import pandas as pd\n",
    "from sklearn.model_selection import cross_val_score\n",
    "from sklearn.metrics import mean_squared_error, f1_score\n",
    "from sklearn import preprocessing\n",
    "from sklearn.model_selection import GridSearchCV, PredefinedSplit\n",
    "from pandas import MultiIndex, Int64Index\n",
    "# models\n",
    "from sklearn.linear_model import LinearRegression\n",
    "from sklearn.tree import DecisionTreeRegressor\n",
    "from sklearn.svm import SVR\n",
    "from sklearn.svm import LinearSVR\n",
    "import xgboost as xgb\n",
    "\n",
    "from sklearn.linear_model import LinearRegression\n",
    "from sklearn.model_selection import cross_val_score\n",
    "from sklearn.model_selection import KFold\n",
    "\n",
    "import optuna\n",
    "import pandas as pd\n",
    "from sklearn import ensemble\n",
    "from sklearn import datasets\n",
    "from sklearn import model_selection\n",
    "\n",
    "from autogluon.tabular import TabularDataset, TabularPredictor\n",
    "import autogluon.core as ag\n",
    "from sklearn.model_selection import train_test_split\n",
    "import bokeh\n",
    "\n"
   ]
  },
  {
   "cell_type": "code",
   "execution_count": 18,
   "metadata": {},
   "outputs": [],
   "source": [
    "#!pip3 install xgboost\n",
    "#!pip3 install optuna\n",
    "#!pip install autogluon --upgrade\n",
    "# !pip install optuna\n",
    "# !pip install scipy\n",
    "# !pip install autogluon\n",
    "# !pip install xgboost\n",
    "# !python3.9 -m pip install --upgrade pip\n",
    "#!pip install bokeh==2.0.1\n",
    "#!pip install jupyter --upgrade\n"
   ]
  },
  {
   "cell_type": "code",
   "execution_count": 19,
   "metadata": {},
   "outputs": [],
   "source": [
    "#!conda install mxnet\n",
    "#import mxnet"
   ]
  },
  {
   "cell_type": "code",
   "execution_count": 20,
   "metadata": {},
   "outputs": [],
   "source": [
    "df_train = pd.read_csv('../data/train_encoded_1.csv')\n",
    "df_test = pd.read_csv('../data/test_encoded_1.csv')"
   ]
  },
  {
   "cell_type": "code",
   "execution_count": 21,
   "metadata": {},
   "outputs": [],
   "source": [
    "np.random.seed(0)\n",
    "train, valid = train_test_split(df_train, test_size=0.2)"
   ]
  },
  {
   "cell_type": "code",
   "execution_count": 22,
   "metadata": {},
   "outputs": [],
   "source": [
    "combined = df_train.drop(['price', 'size_sqft'], axis=1)\n",
    "X_train = train.drop(['price', 'size_sqft'], axis=1)\n",
    "\n",
    "X_valid = valid.drop(['price', 'size_sqft'], axis=1)\n",
    "y_valid = valid['price_per_sqft']\n",
    "\n",
    "df_test_size_sqft = df_test['size_sqft'].copy()\n",
    "df_test= df_test.drop(['size_sqft'], axis=1)\n",
    "\n",
    "metric_reg = 'mean_absolute_error'\n",
    "label_reg = 'price_per_sqft'\n",
    "train_data_reg = TabularDataset(X_train) \n",
    "valid_data_reg = TabularDataset(X_valid)\n",
    "test_data_reg = TabularDataset(df_test)\n",
    "combined = TabularDataset(combined)\n",
    "\n"
   ]
  },
  {
   "cell_type": "markdown",
   "metadata": {},
   "source": [
    "Tabular Predictor"
   ]
  },
  {
   "cell_type": "code",
   "execution_count": 24,
   "metadata": {},
   "outputs": [
    {
     "name": "stderr",
     "output_type": "stream",
     "text": [
      "No path specified. Models will be saved in: \"AutogluonModels/ag-20221028_001415/\"\n",
      "Presets specified: ['best_quality']\n",
      "Warning: hyperparameter tuning is currently experimental and may cause the process to hang.\n",
      "Stack configuration (auto_stack=True): num_stack_levels=1, num_bag_folds=8, num_bag_sets=1\n",
      "Beginning AutoGluon training ...\n",
      "AutoGluon will save models to \"AutogluonModels/ag-20221028_001415/\"\n",
      "AutoGluon Version:  0.5.2\n",
      "Python Version:     3.9.15\n",
      "Operating System:   Darwin\n",
      "Train Data Rows:    14739\n",
      "Train Data Columns: 31\n",
      "Label Column: price_per_sqft\n",
      "Preprocessing data ...\n",
      "AutoGluon infers your prediction problem is: 'regression' (because dtype of label-column == float and many unique label-values observed).\n",
      "\tLabel info (max, min, mean, stddev): (4525.797460167968, 461.7295308187673, 1811.79782, 967.43626)\n",
      "\tIf 'regression' is not the correct problem_type, please manually specify the problem_type parameter during predictor init (You may specify problem_type as one of: ['binary', 'multiclass', 'regression'])\n",
      "/usr/local/lib/python3.9/site-packages/autogluon/tabular/learner/default_learner.py:151: FutureWarning: iteritems is deprecated and will be removed in a future version. Use .items instead.\n",
      "  missinglabel_inds = [index for index, x in X[self.label].isna().iteritems() if x]\n",
      "Using Feature Generators to preprocess the data ...\n",
      "Fitting AutoMLPipelineFeatureGenerator...\n",
      "\tAvailable Memory:                    6983.55 MB\n",
      "\tTrain Data (Original)  Memory Usage: 3.66 MB (0.1% of available memory)\n",
      "\tInferring data type of each feature based on column values. Set feature_metadata_in to manually specify special dtypes of the features.\n",
      "\tStage 1 Generators:\n",
      "\t\tFitting AsTypeFeatureGenerator...\n",
      "\t\t\tNote: Converting 14 features to boolean dtype as they only contain 2 unique values.\n",
      "\tStage 2 Generators:\n",
      "\t\tFitting FillNaFeatureGenerator...\n",
      "\tStage 3 Generators:\n",
      "\t\tFitting IdentityFeatureGenerator...\n",
      "\tStage 4 Generators:\n",
      "\t\tFitting DropUniqueFeatureGenerator...\n",
      "\tTypes of features in original data (raw dtype, special dtypes):\n",
      "\t\t('float', []) : 14 | ['num_beds', 'num_baths', 'built_year', 'pri_sch', 'sec_sch', ...]\n",
      "\t\t('int', [])   : 17 | ['close_pri_sch', 'close_sec_sch', 'psf_bbox', 'property_type_cluster house', 'property_type_condo', ...]\n",
      "\tTypes of features in processed data (raw dtype, special dtypes):\n",
      "\t\t('float', [])     : 14 | ['num_beds', 'num_baths', 'built_year', 'pri_sch', 'sec_sch', ...]\n",
      "\t\t('int', [])       :  3 | ['close_pri_sch', 'close_sec_sch', 'psf_bbox']\n",
      "\t\t('int', ['bool']) : 14 | ['property_type_cluster house', 'property_type_condo', 'property_type_corner terrace', 'property_type_executive condo', 'property_type_hdb', ...]\n",
      "\t0.1s = Fit runtime\n",
      "\t31 features in original data used to generate 31 features in processed data.\n",
      "\tTrain Data (Processed) Memory Usage: 2.21 MB (0.0% of available memory)\n",
      "Data preprocessing and feature engineering runtime = 0.15s ...\n",
      "AutoGluon will gauge predictive performance using evaluation metric: 'mean_absolute_error'\n",
      "\tThis metric's sign has been flipped to adhere to being higher_is_better. The metric score can be multiplied by -1 to get the metric value.\n",
      "\tTo change this, specify the eval_metric parameter of Predictor()\n",
      "AutoGluon will fit 2 stack levels (L1 to L2) ...\n",
      "Excluded Model Types: ['FASTAI', 'KNN', 'RF', 'XGB']\n",
      "Fitting 3 L1 models ...\n",
      "Hyperparameter tuning model: LightGBMXT_BAG_L1 ...\n"
     ]
    },
    {
     "data": {
      "application/vnd.jupyter.widget-view+json": {
       "model_id": "8e894c929c604b5989dcb62f5fa87535",
       "version_major": 2,
       "version_minor": 0
      },
      "text/plain": [
       "  0%|          | 0/3 [00:00<?, ?it/s]"
      ]
     },
     "metadata": {},
     "output_type": "display_data"
    },
    {
     "name": "stdout",
     "output_type": "stream",
     "text": [
      "[1000]\tvalid_set's l1: 164.253\n",
      "[2000]\tvalid_set's l1: 161.893\n",
      "[3000]\tvalid_set's l1: 161.227\n",
      "[4000]\tvalid_set's l1: 160.888\n",
      "[5000]\tvalid_set's l1: 160.828\n",
      "[6000]\tvalid_set's l1: 160.73\n",
      "[7000]\tvalid_set's l1: 160.593\n",
      "[8000]\tvalid_set's l1: 160.873\n",
      "[9000]\tvalid_set's l1: 161.053\n",
      "[1000]\tvalid_set's l1: 159.013\n",
      "[1000]\tvalid_set's l1: 163.775\n",
      "[2000]\tvalid_set's l1: 160.857\n",
      "[3000]\tvalid_set's l1: 159.705\n",
      "[4000]\tvalid_set's l1: 159.273\n",
      "[5000]\tvalid_set's l1: 159.574\n"
     ]
    },
    {
     "name": "stderr",
     "output_type": "stream",
     "text": [
      "Fitted model: LightGBMXT_BAG_L1/T1 ...\n",
      "\t-160.5425\t = Validation score   (-mean_absolute_error)\n",
      "\t8.3s\t = Training   runtime\n",
      "\t0.33s\t = Validation runtime\n",
      "Fitted model: LightGBMXT_BAG_L1/T2 ...\n",
      "\t-158.78\t = Validation score   (-mean_absolute_error)\n",
      "\t3.6s\t = Training   runtime\n",
      "\t0.08s\t = Validation runtime\n",
      "Fitted model: LightGBMXT_BAG_L1/T3 ...\n",
      "\t-159.2049\t = Validation score   (-mean_absolute_error)\n",
      "\t9.09s\t = Training   runtime\n",
      "\t0.3s\t = Validation runtime\n",
      "Hyperparameter tuning model: CatBoost_BAG_L1 ...\n"
     ]
    },
    {
     "data": {
      "application/vnd.jupyter.widget-view+json": {
       "model_id": "7a873d748e88405a89c4e7a1c188d71f",
       "version_major": 2,
       "version_minor": 0
      },
      "text/plain": [
       "  0%|          | 0/3 [00:00<?, ?it/s]"
      ]
     },
     "metadata": {},
     "output_type": "display_data"
    },
    {
     "name": "stderr",
     "output_type": "stream",
     "text": [
      "/usr/local/lib/python3.9/site-packages/catboost/core.py:1411: FutureWarning: iteritems is deprecated and will be removed in a future version. Use .items instead.\n",
      "  self._init_pool(data, label, cat_features, text_features, embedding_features, embedding_features_data, pairs, weight,\n",
      "/usr/local/lib/python3.9/site-packages/catboost/core.py:1411: FutureWarning: iteritems is deprecated and will be removed in a future version. Use .items instead.\n",
      "  self._init_pool(data, label, cat_features, text_features, embedding_features, embedding_features_data, pairs, weight,\n",
      "/usr/local/lib/python3.9/site-packages/catboost/core.py:1411: FutureWarning: iteritems is deprecated and will be removed in a future version. Use .items instead.\n",
      "  self._init_pool(data, label, cat_features, text_features, embedding_features, embedding_features_data, pairs, weight,\n",
      "/usr/local/lib/python3.9/site-packages/catboost/core.py:1411: FutureWarning: iteritems is deprecated and will be removed in a future version. Use .items instead.\n",
      "  self._init_pool(data, label, cat_features, text_features, embedding_features, embedding_features_data, pairs, weight,\n",
      "Fitted model: CatBoost_BAG_L1/T1 ...\n",
      "\t-155.1003\t = Validation score   (-mean_absolute_error)\n",
      "\t132.07s\t = Training   runtime\n",
      "\t0.01s\t = Validation runtime\n",
      "Fitted model: CatBoost_BAG_L1/T2 ...\n",
      "\t-157.1009\t = Validation score   (-mean_absolute_error)\n",
      "\t95.28s\t = Training   runtime\n",
      "\t0.01s\t = Validation runtime\n",
      "Fitted model: CatBoost_BAG_L1/T3 ...\n",
      "\t-153.5379\t = Validation score   (-mean_absolute_error)\n",
      "\t188.14s\t = Training   runtime\n",
      "\t0.01s\t = Validation runtime\n",
      "Hyperparameter tuning model: ExtraTrees_BAG_L1 ...\n",
      "\tNo hyperparameter search space specified for ExtraTrees. Skipping HPO. Will train one model based on the provided hyperparameters.\n",
      "Warning: Exception caused ExtraTrees_BAG_L1 to fail during hyperparameter tuning... Skipping this model.\n",
      "Traceback (most recent call last):\n",
      "  File \"/usr/local/lib/python3.9/site-packages/autogluon/core/trainer/abstract_trainer.py\", line 1380, in _train_single_full\n",
      "    hpo_models, hpo_results = model.hyperparameter_tune(\n",
      "  File \"/usr/local/lib/python3.9/site-packages/autogluon/core/models/abstract/abstract_model.py\", line 1001, in hyperparameter_tune\n",
      "    return self._hyperparameter_tune(hpo_executor=hpo_executor, **kwargs)\n",
      "  File \"/usr/local/lib/python3.9/site-packages/autogluon/core/models/ensemble/stacker_ensemble_model.py\", line 182, in _hyperparameter_tune\n",
      "    return super()._hyperparameter_tune(X=X, y=y, k_fold=k_fold, hpo_executor=hpo_executor, preprocess_kwargs=preprocess_kwargs, **kwargs)\n",
      "  File \"/usr/local/lib/python3.9/site-packages/autogluon/core/models/ensemble/bagged_ensemble_model.py\", line 1080, in _hyperparameter_tune\n",
      "    model_path = model_info['path']\n",
      "TypeError: string indices must be integers\n",
      "string indices must be integers\n",
      "Fitting model: LightGBMXT_BAG_L1/T1 ...\n",
      "\tFitting 7 child models (S1F2 - S1F8) | Fitting with SequentialLocalFoldFittingStrategy\n"
     ]
    },
    {
     "name": "stdout",
     "output_type": "stream",
     "text": [
      "[1000]\tvalid_set's l1: 146.966\n",
      "[2000]\tvalid_set's l1: 145.091\n",
      "[3000]\tvalid_set's l1: 144.35\n",
      "[4000]\tvalid_set's l1: 144.006\n",
      "[5000]\tvalid_set's l1: 143.779\n",
      "[6000]\tvalid_set's l1: 143.569\n",
      "[7000]\tvalid_set's l1: 143.434\n",
      "[8000]\tvalid_set's l1: 143.406\n",
      "[9000]\tvalid_set's l1: 143.407\n",
      "[10000]\tvalid_set's l1: 143.32\n",
      "[1000]\tvalid_set's l1: 155.845\n",
      "[2000]\tvalid_set's l1: 152.565\n",
      "[3000]\tvalid_set's l1: 150.784\n",
      "[4000]\tvalid_set's l1: 149.795\n",
      "[5000]\tvalid_set's l1: 149.518\n",
      "[6000]\tvalid_set's l1: 149.273\n",
      "[7000]\tvalid_set's l1: 149.074\n",
      "[8000]\tvalid_set's l1: 148.958\n",
      "[9000]\tvalid_set's l1: 148.86\n",
      "[10000]\tvalid_set's l1: 148.998\n",
      "[1000]\tvalid_set's l1: 154.684\n",
      "[2000]\tvalid_set's l1: 151.799\n",
      "[3000]\tvalid_set's l1: 150.803\n",
      "[4000]\tvalid_set's l1: 150.407\n",
      "[5000]\tvalid_set's l1: 149.92\n",
      "[6000]\tvalid_set's l1: 149.765\n",
      "[7000]\tvalid_set's l1: 149.873\n",
      "[1000]\tvalid_set's l1: 148.216\n",
      "[2000]\tvalid_set's l1: 143.623\n",
      "[3000]\tvalid_set's l1: 142.896\n",
      "[1000]\tvalid_set's l1: 163.366\n",
      "[2000]\tvalid_set's l1: 160.239\n",
      "[3000]\tvalid_set's l1: 158.715\n",
      "[4000]\tvalid_set's l1: 158.119\n",
      "[5000]\tvalid_set's l1: 158.058\n",
      "[1000]\tvalid_set's l1: 148.194\n",
      "[2000]\tvalid_set's l1: 146.397\n",
      "[1000]\tvalid_set's l1: 156.324\n",
      "[2000]\tvalid_set's l1: 153.099\n",
      "[3000]\tvalid_set's l1: 151.634\n",
      "[4000]\tvalid_set's l1: 151.517\n",
      "[5000]\tvalid_set's l1: 150.903\n",
      "[6000]\tvalid_set's l1: 150.944\n"
     ]
    },
    {
     "name": "stderr",
     "output_type": "stream",
     "text": [
      "\t-150.031\t = Validation score   (-mean_absolute_error)\n",
      "\t53.12s\t = Training   runtime\n",
      "\t2.01s\t = Validation runtime\n",
      "Fitting model: LightGBMXT_BAG_L1/T2 ...\n",
      "\tFitting 7 child models (S1F2 - S1F8) | Fitting with SequentialLocalFoldFittingStrategy\n"
     ]
    },
    {
     "name": "stdout",
     "output_type": "stream",
     "text": [
      "[1000]\tvalid_set's l1: 140.22\n",
      "[1000]\tvalid_set's l1: 147.086\n",
      "[2000]\tvalid_set's l1: 145.926\n",
      "[3000]\tvalid_set's l1: 145.409\n",
      "[4000]\tvalid_set's l1: 145.183\n",
      "[5000]\tvalid_set's l1: 145.179\n",
      "[1000]\tvalid_set's l1: 148.319\n",
      "[1000]\tvalid_set's l1: 141.573\n",
      "[1000]\tvalid_set's l1: 156.8\n",
      "[1000]\tvalid_set's l1: 144.196\n",
      "[1000]\tvalid_set's l1: 149.35\n",
      "[2000]\tvalid_set's l1: 148.437\n"
     ]
    },
    {
     "name": "stderr",
     "output_type": "stream",
     "text": [
      "\t-147.6803\t = Validation score   (-mean_absolute_error)\n",
      "\t35.01s\t = Training   runtime\n",
      "\t0.83s\t = Validation runtime\n",
      "Fitting model: LightGBMXT_BAG_L1/T3 ...\n",
      "\tFitting 7 child models (S1F2 - S1F8) | Fitting with SequentialLocalFoldFittingStrategy\n"
     ]
    },
    {
     "name": "stdout",
     "output_type": "stream",
     "text": [
      "[1000]\tvalid_set's l1: 147.487\n",
      "[2000]\tvalid_set's l1: 145.216\n",
      "[3000]\tvalid_set's l1: 144.188\n",
      "[4000]\tvalid_set's l1: 143.631\n",
      "[5000]\tvalid_set's l1: 143.069\n",
      "[6000]\tvalid_set's l1: 143.002\n",
      "[7000]\tvalid_set's l1: 142.88\n",
      "[8000]\tvalid_set's l1: 142.766\n",
      "[9000]\tvalid_set's l1: 142.855\n",
      "[10000]\tvalid_set's l1: 142.969\n",
      "[1000]\tvalid_set's l1: 155.24\n",
      "[2000]\tvalid_set's l1: 152.567\n",
      "[3000]\tvalid_set's l1: 151.671\n",
      "[4000]\tvalid_set's l1: 151.238\n",
      "[5000]\tvalid_set's l1: 150.986\n",
      "[6000]\tvalid_set's l1: 151.005\n",
      "[1000]\tvalid_set's l1: 154.847\n",
      "[2000]\tvalid_set's l1: 152.186\n",
      "[3000]\tvalid_set's l1: 151.758\n",
      "[4000]\tvalid_set's l1: 151.541\n",
      "[5000]\tvalid_set's l1: 151.639\n",
      "[6000]\tvalid_set's l1: 151.893\n",
      "[1000]\tvalid_set's l1: 148.098\n",
      "[2000]\tvalid_set's l1: 145.526\n",
      "[3000]\tvalid_set's l1: 144.914\n",
      "[4000]\tvalid_set's l1: 144.75\n",
      "[5000]\tvalid_set's l1: 144.633\n",
      "[1000]\tvalid_set's l1: 166.038\n",
      "[2000]\tvalid_set's l1: 163.081\n",
      "[3000]\tvalid_set's l1: 161.859\n",
      "[4000]\tvalid_set's l1: 161.094\n",
      "[5000]\tvalid_set's l1: 160.846\n",
      "[6000]\tvalid_set's l1: 160.492\n",
      "[7000]\tvalid_set's l1: 160.298\n",
      "[8000]\tvalid_set's l1: 160.285\n",
      "[9000]\tvalid_set's l1: 160.27\n",
      "[10000]\tvalid_set's l1: 160.259\n",
      "[1000]\tvalid_set's l1: 150.464\n",
      "[2000]\tvalid_set's l1: 148.987\n",
      "[1000]\tvalid_set's l1: 157.48\n",
      "[2000]\tvalid_set's l1: 154.135\n",
      "[3000]\tvalid_set's l1: 153.508\n"
     ]
    },
    {
     "name": "stderr",
     "output_type": "stream",
     "text": [
      "\t-151.3902\t = Validation score   (-mean_absolute_error)\n",
      "\t81.65s\t = Training   runtime\n",
      "\t3.23s\t = Validation runtime\n",
      "Fitting model: CatBoost_BAG_L1/T1 ...\n",
      "\tFitting 7 child models (S1F2 - S1F8) | Fitting with SequentialLocalFoldFittingStrategy\n",
      "/usr/local/lib/python3.9/site-packages/catboost/core.py:1411: FutureWarning: iteritems is deprecated and will be removed in a future version. Use .items instead.\n",
      "  self._init_pool(data, label, cat_features, text_features, embedding_features, embedding_features_data, pairs, weight,\n",
      "/usr/local/lib/python3.9/site-packages/catboost/core.py:1411: FutureWarning: iteritems is deprecated and will be removed in a future version. Use .items instead.\n",
      "  self._init_pool(data, label, cat_features, text_features, embedding_features, embedding_features_data, pairs, weight,\n",
      "/usr/local/lib/python3.9/site-packages/catboost/core.py:1411: FutureWarning: iteritems is deprecated and will be removed in a future version. Use .items instead.\n",
      "  self._init_pool(data, label, cat_features, text_features, embedding_features, embedding_features_data, pairs, weight,\n",
      "/usr/local/lib/python3.9/site-packages/catboost/core.py:1411: FutureWarning: iteritems is deprecated and will be removed in a future version. Use .items instead.\n",
      "  self._init_pool(data, label, cat_features, text_features, embedding_features, embedding_features_data, pairs, weight,\n",
      "/usr/local/lib/python3.9/site-packages/catboost/core.py:1411: FutureWarning: iteritems is deprecated and will be removed in a future version. Use .items instead.\n",
      "  self._init_pool(data, label, cat_features, text_features, embedding_features, embedding_features_data, pairs, weight,\n",
      "/usr/local/lib/python3.9/site-packages/catboost/core.py:1411: FutureWarning: iteritems is deprecated and will be removed in a future version. Use .items instead.\n",
      "  self._init_pool(data, label, cat_features, text_features, embedding_features, embedding_features_data, pairs, weight,\n",
      "/usr/local/lib/python3.9/site-packages/catboost/core.py:1411: FutureWarning: iteritems is deprecated and will be removed in a future version. Use .items instead.\n",
      "  self._init_pool(data, label, cat_features, text_features, embedding_features, embedding_features_data, pairs, weight,\n",
      "\t-144.8319\t = Validation score   (-mean_absolute_error)\n",
      "\t1319.09s\t = Training   runtime\n",
      "\t0.07s\t = Validation runtime\n",
      "Fitting model: CatBoost_BAG_L1/T2 ...\n",
      "\tFitting 7 child models (S1F2 - S1F8) | Fitting with SequentialLocalFoldFittingStrategy\n",
      "/usr/local/lib/python3.9/site-packages/catboost/core.py:1411: FutureWarning: iteritems is deprecated and will be removed in a future version. Use .items instead.\n",
      "  self._init_pool(data, label, cat_features, text_features, embedding_features, embedding_features_data, pairs, weight,\n",
      "/usr/local/lib/python3.9/site-packages/catboost/core.py:1411: FutureWarning: iteritems is deprecated and will be removed in a future version. Use .items instead.\n",
      "  self._init_pool(data, label, cat_features, text_features, embedding_features, embedding_features_data, pairs, weight,\n",
      "/usr/local/lib/python3.9/site-packages/catboost/core.py:1411: FutureWarning: iteritems is deprecated and will be removed in a future version. Use .items instead.\n",
      "  self._init_pool(data, label, cat_features, text_features, embedding_features, embedding_features_data, pairs, weight,\n",
      "/usr/local/lib/python3.9/site-packages/catboost/core.py:1411: FutureWarning: iteritems is deprecated and will be removed in a future version. Use .items instead.\n",
      "  self._init_pool(data, label, cat_features, text_features, embedding_features, embedding_features_data, pairs, weight,\n",
      "/usr/local/lib/python3.9/site-packages/catboost/core.py:1411: FutureWarning: iteritems is deprecated and will be removed in a future version. Use .items instead.\n",
      "  self._init_pool(data, label, cat_features, text_features, embedding_features, embedding_features_data, pairs, weight,\n",
      "/usr/local/lib/python3.9/site-packages/catboost/core.py:1411: FutureWarning: iteritems is deprecated and will be removed in a future version. Use .items instead.\n",
      "  self._init_pool(data, label, cat_features, text_features, embedding_features, embedding_features_data, pairs, weight,\n",
      "/usr/local/lib/python3.9/site-packages/catboost/core.py:1411: FutureWarning: iteritems is deprecated and will be removed in a future version. Use .items instead.\n",
      "  self._init_pool(data, label, cat_features, text_features, embedding_features, embedding_features_data, pairs, weight,\n",
      "\t-146.6839\t = Validation score   (-mean_absolute_error)\n",
      "\t870.66s\t = Training   runtime\n",
      "\t0.05s\t = Validation runtime\n",
      "Fitting model: CatBoost_BAG_L1/T3 ...\n",
      "\tFitting 7 child models (S1F2 - S1F8) | Fitting with SequentialLocalFoldFittingStrategy\n",
      "/usr/local/lib/python3.9/site-packages/catboost/core.py:1411: FutureWarning: iteritems is deprecated and will be removed in a future version. Use .items instead.\n",
      "  self._init_pool(data, label, cat_features, text_features, embedding_features, embedding_features_data, pairs, weight,\n",
      "/usr/local/lib/python3.9/site-packages/catboost/core.py:1411: FutureWarning: iteritems is deprecated and will be removed in a future version. Use .items instead.\n",
      "  self._init_pool(data, label, cat_features, text_features, embedding_features, embedding_features_data, pairs, weight,\n",
      "/usr/local/lib/python3.9/site-packages/catboost/core.py:1411: FutureWarning: iteritems is deprecated and will be removed in a future version. Use .items instead.\n",
      "  self._init_pool(data, label, cat_features, text_features, embedding_features, embedding_features_data, pairs, weight,\n",
      "/usr/local/lib/python3.9/site-packages/catboost/core.py:1411: FutureWarning: iteritems is deprecated and will be removed in a future version. Use .items instead.\n",
      "  self._init_pool(data, label, cat_features, text_features, embedding_features, embedding_features_data, pairs, weight,\n",
      "/usr/local/lib/python3.9/site-packages/catboost/core.py:1411: FutureWarning: iteritems is deprecated and will be removed in a future version. Use .items instead.\n",
      "  self._init_pool(data, label, cat_features, text_features, embedding_features, embedding_features_data, pairs, weight,\n",
      "/usr/local/lib/python3.9/site-packages/catboost/core.py:1411: FutureWarning: iteritems is deprecated and will be removed in a future version. Use .items instead.\n",
      "  self._init_pool(data, label, cat_features, text_features, embedding_features, embedding_features_data, pairs, weight,\n",
      "/usr/local/lib/python3.9/site-packages/catboost/core.py:1411: FutureWarning: iteritems is deprecated and will be removed in a future version. Use .items instead.\n",
      "  self._init_pool(data, label, cat_features, text_features, embedding_features, embedding_features_data, pairs, weight,\n",
      "\t-143.1115\t = Validation score   (-mean_absolute_error)\n",
      "\t1497.66s\t = Training   runtime\n",
      "\t0.09s\t = Validation runtime\n",
      "Fitting model: WeightedEnsemble_L2 ...\n",
      "\t-142.8194\t = Validation score   (-mean_absolute_error)\n",
      "\t0.31s\t = Training   runtime\n",
      "\t0.0s\t = Validation runtime\n",
      "Excluded Model Types: ['FASTAI', 'KNN', 'RF', 'XGB']\n",
      "Fitting 3 L2 models ...\n",
      "Hyperparameter tuning model: LightGBMXT_BAG_L2 ...\n"
     ]
    },
    {
     "data": {
      "application/vnd.jupyter.widget-view+json": {
       "model_id": "18d6aa01c9cb425094a624e403c62973",
       "version_major": 2,
       "version_minor": 0
      },
      "text/plain": [
       "  0%|          | 0/3 [00:00<?, ?it/s]"
      ]
     },
     "metadata": {},
     "output_type": "display_data"
    },
    {
     "name": "stdout",
     "output_type": "stream",
     "text": [
      "[1000]\tvalid_set's l1: 163.806\n",
      "[2000]\tvalid_set's l1: 162.925\n",
      "[3000]\tvalid_set's l1: 162.468\n",
      "[4000]\tvalid_set's l1: 161.374\n",
      "[5000]\tvalid_set's l1: 160.403\n",
      "[6000]\tvalid_set's l1: 159.274\n",
      "[7000]\tvalid_set's l1: 158.5\n",
      "[8000]\tvalid_set's l1: 157.97\n",
      "[9000]\tvalid_set's l1: 157.451\n",
      "[10000]\tvalid_set's l1: 157.024\n",
      "[1000]\tvalid_set's l1: 160.36\n",
      "[2000]\tvalid_set's l1: 157.765\n",
      "[3000]\tvalid_set's l1: 156.679\n",
      "[4000]\tvalid_set's l1: 156.261\n",
      "[5000]\tvalid_set's l1: 156.272\n"
     ]
    },
    {
     "name": "stderr",
     "output_type": "stream",
     "text": [
      "Fitted model: LightGBMXT_BAG_L2/T1 ...\n",
      "\t-157.0127\t = Validation score   (-mean_absolute_error)\n",
      "\t10.54s\t = Training   runtime\n",
      "\t0.59s\t = Validation runtime\n",
      "Fitted model: LightGBMXT_BAG_L2/T2 ...\n",
      "\t-156.1671\t = Validation score   (-mean_absolute_error)\n",
      "\t15.88s\t = Training   runtime\n",
      "\t0.38s\t = Validation runtime\n",
      "Fitted model: LightGBMXT_BAG_L2/T3 ...\n",
      "\t-164.3551\t = Validation score   (-mean_absolute_error)\n",
      "\t0.95s\t = Training   runtime\n",
      "\t0.01s\t = Validation runtime\n",
      "Hyperparameter tuning model: CatBoost_BAG_L2 ...\n"
     ]
    },
    {
     "data": {
      "application/vnd.jupyter.widget-view+json": {
       "model_id": "3202cbec4ad440338947babd693b8b92",
       "version_major": 2,
       "version_minor": 0
      },
      "text/plain": [
       "  0%|          | 0/3 [00:00<?, ?it/s]"
      ]
     },
     "metadata": {},
     "output_type": "display_data"
    },
    {
     "name": "stderr",
     "output_type": "stream",
     "text": [
      "/usr/local/lib/python3.9/site-packages/catboost/core.py:1411: FutureWarning: iteritems is deprecated and will be removed in a future version. Use .items instead.\n",
      "  self._init_pool(data, label, cat_features, text_features, embedding_features, embedding_features_data, pairs, weight,\n",
      "/usr/local/lib/python3.9/site-packages/catboost/core.py:1411: FutureWarning: iteritems is deprecated and will be removed in a future version. Use .items instead.\n",
      "  self._init_pool(data, label, cat_features, text_features, embedding_features, embedding_features_data, pairs, weight,\n",
      "/usr/local/lib/python3.9/site-packages/catboost/core.py:1411: FutureWarning: iteritems is deprecated and will be removed in a future version. Use .items instead.\n",
      "  self._init_pool(data, label, cat_features, text_features, embedding_features, embedding_features_data, pairs, weight,\n",
      "/usr/local/lib/python3.9/site-packages/catboost/core.py:1411: FutureWarning: iteritems is deprecated and will be removed in a future version. Use .items instead.\n",
      "  self._init_pool(data, label, cat_features, text_features, embedding_features, embedding_features_data, pairs, weight,\n",
      "Fitted model: CatBoost_BAG_L2/T1 ...\n",
      "\t-161.7702\t = Validation score   (-mean_absolute_error)\n",
      "\t2.68s\t = Training   runtime\n",
      "\t0.0s\t = Validation runtime\n",
      "Fitted model: CatBoost_BAG_L2/T2 ...\n",
      "\t-162.8749\t = Validation score   (-mean_absolute_error)\n",
      "\t1.41s\t = Training   runtime\n",
      "\t0.0s\t = Validation runtime\n",
      "Fitted model: CatBoost_BAG_L2/T3 ...\n",
      "\t-162.0153\t = Validation score   (-mean_absolute_error)\n",
      "\t5.53s\t = Training   runtime\n",
      "\t0.0s\t = Validation runtime\n",
      "Hyperparameter tuning model: ExtraTrees_BAG_L2 ...\n",
      "\tNo hyperparameter search space specified for ExtraTrees. Skipping HPO. Will train one model based on the provided hyperparameters.\n",
      "Warning: Exception caused ExtraTrees_BAG_L2 to fail during hyperparameter tuning... Skipping this model.\n",
      "Traceback (most recent call last):\n",
      "  File \"/usr/local/lib/python3.9/site-packages/autogluon/core/trainer/abstract_trainer.py\", line 1380, in _train_single_full\n",
      "    hpo_models, hpo_results = model.hyperparameter_tune(\n",
      "  File \"/usr/local/lib/python3.9/site-packages/autogluon/core/models/abstract/abstract_model.py\", line 1001, in hyperparameter_tune\n",
      "    return self._hyperparameter_tune(hpo_executor=hpo_executor, **kwargs)\n",
      "  File \"/usr/local/lib/python3.9/site-packages/autogluon/core/models/ensemble/stacker_ensemble_model.py\", line 182, in _hyperparameter_tune\n",
      "    return super()._hyperparameter_tune(X=X, y=y, k_fold=k_fold, hpo_executor=hpo_executor, preprocess_kwargs=preprocess_kwargs, **kwargs)\n",
      "  File \"/usr/local/lib/python3.9/site-packages/autogluon/core/models/ensemble/bagged_ensemble_model.py\", line 1080, in _hyperparameter_tune\n",
      "    model_path = model_info['path']\n",
      "TypeError: string indices must be integers\n",
      "string indices must be integers\n",
      "Fitting model: LightGBMXT_BAG_L2/T1 ...\n",
      "\tFitting 7 child models (S1F2 - S1F8) | Fitting with SequentialLocalFoldFittingStrategy\n",
      "\t-147.3371\t = Validation score   (-mean_absolute_error)\n",
      "\t17.54s\t = Training   runtime\n",
      "\t0.67s\t = Validation runtime\n",
      "Fitting model: LightGBMXT_BAG_L2/T2 ...\n",
      "\tFitting 7 child models (S1F2 - S1F8) | Fitting with SequentialLocalFoldFittingStrategy\n"
     ]
    },
    {
     "name": "stdout",
     "output_type": "stream",
     "text": [
      "[1000]\tvalid_set's l1: 148.631\n",
      "[2000]\tvalid_set's l1: 146.026\n",
      "[3000]\tvalid_set's l1: 144.903\n",
      "[4000]\tvalid_set's l1: 144.531\n",
      "[5000]\tvalid_set's l1: 144.55\n",
      "[6000]\tvalid_set's l1: 144.592\n",
      "[1000]\tvalid_set's l1: 138.454\n",
      "[2000]\tvalid_set's l1: 135.661\n",
      "[3000]\tvalid_set's l1: 134.382\n",
      "[4000]\tvalid_set's l1: 134.231\n",
      "[5000]\tvalid_set's l1: 133.977\n",
      "[6000]\tvalid_set's l1: 133.875\n",
      "[7000]\tvalid_set's l1: 134.012\n",
      "[1000]\tvalid_set's l1: 148.656\n",
      "[2000]\tvalid_set's l1: 146.901\n",
      "[3000]\tvalid_set's l1: 146.328\n",
      "[4000]\tvalid_set's l1: 146.127\n",
      "[5000]\tvalid_set's l1: 146.179\n",
      "[1000]\tvalid_set's l1: 145.435\n"
     ]
    },
    {
     "name": "stderr",
     "output_type": "stream",
     "text": [
      "\t-145.5011\t = Validation score   (-mean_absolute_error)\n",
      "\t65.54s\t = Training   runtime\n",
      "\t1.74s\t = Validation runtime\n",
      "Fitting model: LightGBMXT_BAG_L2/T3 ...\n",
      "\tFitting 7 child models (S1F2 - S1F8) | Fitting with SequentialLocalFoldFittingStrategy\n",
      "\t-149.4884\t = Validation score   (-mean_absolute_error)\n",
      "\t8.65s\t = Training   runtime\n",
      "\t0.09s\t = Validation runtime\n",
      "Fitting model: CatBoost_BAG_L2/T1 ...\n",
      "\tFitting 7 child models (S1F2 - S1F8) | Fitting with SequentialLocalFoldFittingStrategy\n",
      "/usr/local/lib/python3.9/site-packages/catboost/core.py:1411: FutureWarning: iteritems is deprecated and will be removed in a future version. Use .items instead.\n",
      "  self._init_pool(data, label, cat_features, text_features, embedding_features, embedding_features_data, pairs, weight,\n",
      "/usr/local/lib/python3.9/site-packages/catboost/core.py:1411: FutureWarning: iteritems is deprecated and will be removed in a future version. Use .items instead.\n",
      "  self._init_pool(data, label, cat_features, text_features, embedding_features, embedding_features_data, pairs, weight,\n",
      "/usr/local/lib/python3.9/site-packages/catboost/core.py:1411: FutureWarning: iteritems is deprecated and will be removed in a future version. Use .items instead.\n",
      "  self._init_pool(data, label, cat_features, text_features, embedding_features, embedding_features_data, pairs, weight,\n",
      "/usr/local/lib/python3.9/site-packages/catboost/core.py:1411: FutureWarning: iteritems is deprecated and will be removed in a future version. Use .items instead.\n",
      "  self._init_pool(data, label, cat_features, text_features, embedding_features, embedding_features_data, pairs, weight,\n",
      "/usr/local/lib/python3.9/site-packages/catboost/core.py:1411: FutureWarning: iteritems is deprecated and will be removed in a future version. Use .items instead.\n",
      "  self._init_pool(data, label, cat_features, text_features, embedding_features, embedding_features_data, pairs, weight,\n",
      "/usr/local/lib/python3.9/site-packages/catboost/core.py:1411: FutureWarning: iteritems is deprecated and will be removed in a future version. Use .items instead.\n",
      "  self._init_pool(data, label, cat_features, text_features, embedding_features, embedding_features_data, pairs, weight,\n",
      "/usr/local/lib/python3.9/site-packages/catboost/core.py:1411: FutureWarning: iteritems is deprecated and will be removed in a future version. Use .items instead.\n",
      "  self._init_pool(data, label, cat_features, text_features, embedding_features, embedding_features_data, pairs, weight,\n",
      "\t-145.8177\t = Validation score   (-mean_absolute_error)\n",
      "\t20.68s\t = Training   runtime\n",
      "\t0.04s\t = Validation runtime\n",
      "Fitting model: CatBoost_BAG_L2/T2 ...\n",
      "\tFitting 7 child models (S1F2 - S1F8) | Fitting with SequentialLocalFoldFittingStrategy\n",
      "/usr/local/lib/python3.9/site-packages/catboost/core.py:1411: FutureWarning: iteritems is deprecated and will be removed in a future version. Use .items instead.\n",
      "  self._init_pool(data, label, cat_features, text_features, embedding_features, embedding_features_data, pairs, weight,\n",
      "/usr/local/lib/python3.9/site-packages/catboost/core.py:1411: FutureWarning: iteritems is deprecated and will be removed in a future version. Use .items instead.\n",
      "  self._init_pool(data, label, cat_features, text_features, embedding_features, embedding_features_data, pairs, weight,\n",
      "/usr/local/lib/python3.9/site-packages/catboost/core.py:1411: FutureWarning: iteritems is deprecated and will be removed in a future version. Use .items instead.\n",
      "  self._init_pool(data, label, cat_features, text_features, embedding_features, embedding_features_data, pairs, weight,\n",
      "/usr/local/lib/python3.9/site-packages/catboost/core.py:1411: FutureWarning: iteritems is deprecated and will be removed in a future version. Use .items instead.\n",
      "  self._init_pool(data, label, cat_features, text_features, embedding_features, embedding_features_data, pairs, weight,\n",
      "/usr/local/lib/python3.9/site-packages/catboost/core.py:1411: FutureWarning: iteritems is deprecated and will be removed in a future version. Use .items instead.\n",
      "  self._init_pool(data, label, cat_features, text_features, embedding_features, embedding_features_data, pairs, weight,\n",
      "/usr/local/lib/python3.9/site-packages/catboost/core.py:1411: FutureWarning: iteritems is deprecated and will be removed in a future version. Use .items instead.\n",
      "  self._init_pool(data, label, cat_features, text_features, embedding_features, embedding_features_data, pairs, weight,\n",
      "/usr/local/lib/python3.9/site-packages/catboost/core.py:1411: FutureWarning: iteritems is deprecated and will be removed in a future version. Use .items instead.\n",
      "  self._init_pool(data, label, cat_features, text_features, embedding_features, embedding_features_data, pairs, weight,\n",
      "\t-147.2403\t = Validation score   (-mean_absolute_error)\n",
      "\t11.73s\t = Training   runtime\n",
      "\t0.03s\t = Validation runtime\n",
      "Fitting model: CatBoost_BAG_L2/T3 ...\n",
      "\tFitting 7 child models (S1F2 - S1F8) | Fitting with SequentialLocalFoldFittingStrategy\n",
      "/usr/local/lib/python3.9/site-packages/catboost/core.py:1411: FutureWarning: iteritems is deprecated and will be removed in a future version. Use .items instead.\n",
      "  self._init_pool(data, label, cat_features, text_features, embedding_features, embedding_features_data, pairs, weight,\n",
      "/usr/local/lib/python3.9/site-packages/catboost/core.py:1411: FutureWarning: iteritems is deprecated and will be removed in a future version. Use .items instead.\n",
      "  self._init_pool(data, label, cat_features, text_features, embedding_features, embedding_features_data, pairs, weight,\n",
      "/usr/local/lib/python3.9/site-packages/catboost/core.py:1411: FutureWarning: iteritems is deprecated and will be removed in a future version. Use .items instead.\n",
      "  self._init_pool(data, label, cat_features, text_features, embedding_features, embedding_features_data, pairs, weight,\n",
      "/usr/local/lib/python3.9/site-packages/catboost/core.py:1411: FutureWarning: iteritems is deprecated and will be removed in a future version. Use .items instead.\n",
      "  self._init_pool(data, label, cat_features, text_features, embedding_features, embedding_features_data, pairs, weight,\n",
      "/usr/local/lib/python3.9/site-packages/catboost/core.py:1411: FutureWarning: iteritems is deprecated and will be removed in a future version. Use .items instead.\n",
      "  self._init_pool(data, label, cat_features, text_features, embedding_features, embedding_features_data, pairs, weight,\n",
      "/usr/local/lib/python3.9/site-packages/catboost/core.py:1411: FutureWarning: iteritems is deprecated and will be removed in a future version. Use .items instead.\n",
      "  self._init_pool(data, label, cat_features, text_features, embedding_features, embedding_features_data, pairs, weight,\n",
      "/usr/local/lib/python3.9/site-packages/catboost/core.py:1411: FutureWarning: iteritems is deprecated and will be removed in a future version. Use .items instead.\n",
      "  self._init_pool(data, label, cat_features, text_features, embedding_features, embedding_features_data, pairs, weight,\n",
      "\t-145.295\t = Validation score   (-mean_absolute_error)\n",
      "\t191.77s\t = Training   runtime\n",
      "\t0.04s\t = Validation runtime\n",
      "Fitting model: WeightedEnsemble_L3 ...\n",
      "\t-142.0684\t = Validation score   (-mean_absolute_error)\n",
      "\t0.32s\t = Training   runtime\n",
      "\t0.0s\t = Validation runtime\n",
      "AutoGluon training complete, total runtime = 4216.42s ... Best model: \"WeightedEnsemble_L3\"\n",
      "TabularPredictor saved. To load, use: predictor = TabularPredictor.load(\"AutogluonModels/ag-20221028_001415/\")\n"
     ]
    }
   ],
   "source": [
    "predictor = TabularPredictor(label = label_reg, eval_metric = metric_reg)\n",
    "\n",
    "gbm_options = {  # specifies non-default hyperparameter values for lightGBM gradient boosted trees\n",
    "    'num_boost_round': 100,  # number of boosting rounds (controls training time of GBM models)\n",
    "    'num_leaves': ag.space.Int(lower=26, upper=66, default=36),  # number of leaves in trees (integer hyperparameter)\n",
    "}\n",
    "\n",
    "hyperparameters = {\n",
    "    #'NN_TORCH': {},\n",
    " 'GBM': [{'extra_trees': True, 'ag_args': {'name_suffix': 'XT'}}],\n",
    " 'CAT': {},\n",
    " #'NN_MXNET':{},\n",
    " 'XT':{}\n",
    "}\n",
    "\n",
    "time_limit = 30*60  # train various models for ~5 min\n",
    "num_trials = 3  # try at most 5 different hyperparameter configurations for each type of model\n",
    "search_strategy = 'auto'  # to tune hyperparameters using random search routine with a local scheduler\n",
    "\n",
    "hyperparameter_tune_kwargs = {  # HPO is not performed unless hyperparameter_tune_kwargs is specified\n",
    "    'num_trials': num_trials,\n",
    "    'scheduler' : 'local',\n",
    "    'searcher': search_strategy,\n",
    "}\n",
    "\n",
    "\n",
    "\n",
    "#excluded_model_types = ['NN_TORCH', 'FASTAI', 'KNN', 'CAT', 'RF']\n",
    "excluded_model_types = ['FASTAI', 'KNN', 'RF', 'XGB']\n",
    "predictor_reg = predictor.fit(train_data_reg, excluded_model_types = excluded_model_types\n",
    ",hyperparameters=hyperparameters\n",
    "#,tuning_data=valid_data_reg\n",
    ",hyperparameter_tune_kwargs=hyperparameter_tune_kwargs, presets='best_quality'\n",
    ")\n"
   ]
  },
  {
   "cell_type": "code",
   "execution_count": 25,
   "metadata": {},
   "outputs": [
    {
     "data": {
      "text/plain": [
       "{'GBM': [{'extra_trees': True, 'ag_args': {'name_suffix': 'XT'}}],\n",
       " 'CAT': {},\n",
       " 'XT': {}}"
      ]
     },
     "execution_count": 25,
     "metadata": {},
     "output_type": "execute_result"
    }
   ],
   "source": [
    "#/Users/nishita/Documents/Semester 1/CS5228/project/notebooks/AutogluonModels/ag-20221027_054028\n",
    "folderName = \"AutogluonModels/ag-20221028_001415/\"\n",
    "predictor = TabularPredictor.load(folderName)\n",
    "predictor.fit_hyperparameters_"
   ]
  },
  {
   "cell_type": "code",
   "execution_count": 32,
   "metadata": {},
   "outputs": [
    {
     "name": "stderr",
     "output_type": "stream",
     "text": [
      "/usr/local/lib/python3.9/site-packages/catboost/core.py:1411: FutureWarning: iteritems is deprecated and will be removed in a future version. Use .items instead.\n",
      "  self._init_pool(data, label, cat_features, text_features, embedding_features, embedding_features_data, pairs, weight,\n",
      "/usr/local/lib/python3.9/site-packages/catboost/core.py:1411: FutureWarning: iteritems is deprecated and will be removed in a future version. Use .items instead.\n",
      "  self._init_pool(data, label, cat_features, text_features, embedding_features, embedding_features_data, pairs, weight,\n",
      "/usr/local/lib/python3.9/site-packages/catboost/core.py:1411: FutureWarning: iteritems is deprecated and will be removed in a future version. Use .items instead.\n",
      "  self._init_pool(data, label, cat_features, text_features, embedding_features, embedding_features_data, pairs, weight,\n",
      "/usr/local/lib/python3.9/site-packages/catboost/core.py:1411: FutureWarning: iteritems is deprecated and will be removed in a future version. Use .items instead.\n",
      "  self._init_pool(data, label, cat_features, text_features, embedding_features, embedding_features_data, pairs, weight,\n",
      "Evaluation: mean_absolute_error on test data: -145.6304617727714\n",
      "\tNote: Scores are always higher_is_better. This metric score can be multiplied by -1 to get the metric value.\n",
      "Evaluations on test data:\n",
      "{\n",
      "    \"mean_absolute_error\": -145.6304617727714,\n",
      "    \"root_mean_squared_error\": -292.88972240525686,\n",
      "    \"mean_squared_error\": -85784.38949062843,\n",
      "    \"r2\": 0.9066739116978073,\n",
      "    \"pearsonr\": 0.9522197563763414,\n",
      "    \"median_absolute_error\": -74.19214787232931\n",
      "}\n"
     ]
    },
    {
     "data": {
      "text/plain": [
       "{'mean_absolute_error': -145.6304617727714,\n",
       " 'root_mean_squared_error': -292.88972240525686,\n",
       " 'mean_squared_error': -85784.38949062843,\n",
       " 'r2': 0.9066739116978073,\n",
       " 'pearsonr': 0.9522197563763414,\n",
       " 'median_absolute_error': -74.19214787232931}"
      ]
     },
     "execution_count": 32,
     "metadata": {},
     "output_type": "execute_result"
    }
   ],
   "source": [
    "predictor.evaluate(valid_data_reg)"
   ]
  },
  {
   "cell_type": "code",
   "execution_count": 27,
   "metadata": {},
   "outputs": [
    {
     "name": "stdout",
     "output_type": "stream",
     "text": [
      "*** Summary of fit() ***\n",
      "Estimated performance of each model:\n",
      "                   model   score_val  pred_time_val     fit_time  pred_time_val_marginal  fit_time_marginal  stack_level  can_infer  fit_order\n",
      "0    WeightedEnsemble_L3 -142.068417       8.135790  4147.233197                0.000648           0.317045            3       True         14\n",
      "1    WeightedEnsemble_L2 -142.819399       1.044720  3722.726048                0.000689           0.312974            2       True          7\n",
      "2     CatBoost_BAG_L1/T3 -143.111538       0.090473  1497.658844                0.090473        1497.658844            1       True          6\n",
      "3     CatBoost_BAG_L1/T1 -144.831912       0.068832  1319.087439                0.068832        1319.087439            1       True          4\n",
      "4     CatBoost_BAG_L2/T3 -145.295000       6.332602  4048.957216                0.042637         191.765848            2       True         13\n",
      "5   LightGBMXT_BAG_L2/T2 -145.501135       8.025588  3922.734464                1.735623          65.543096            2       True          9\n",
      "6     CatBoost_BAG_L2/T1 -145.817670       6.326097  3877.875054                0.036132          20.683686            2       True         11\n",
      "7     CatBoost_BAG_L1/T2 -146.683875       0.054682   870.655154                0.054682         870.655154            1       True          5\n",
      "8     CatBoost_BAG_L2/T2 -147.240297       6.320750  3868.923522                0.030785          11.732154            2       True         12\n",
      "9   LightGBMXT_BAG_L2/T1 -147.337120       6.964532  3874.731797                0.674567          17.540429            2       True          8\n",
      "10  LightGBMXT_BAG_L1/T2 -147.680251       0.830043    35.011637                0.830043          35.011637            1       True          2\n",
      "11  LightGBMXT_BAG_L2/T3 -149.488395       6.378761  3865.846094                0.088795           8.654727            2       True         10\n",
      "12  LightGBMXT_BAG_L1/T1 -150.030971       2.011004    53.124353                2.011004          53.124353            1       True          1\n",
      "13  LightGBMXT_BAG_L1/T3 -151.390195       3.234931    81.653941                3.234931          81.653941            1       True          3\n",
      "Number of models trained: 14\n",
      "Types of models trained:\n",
      "{'StackerEnsembleModel_LGB', 'WeightedEnsembleModel', 'StackerEnsembleModel_CatBoost'}\n",
      "Bagging used: True  (with 8 folds)\n",
      "Multi-layer stack-ensembling used: True  (with 3 levels)\n",
      "Feature Metadata (Processed):\n",
      "(raw dtype, special dtypes):\n",
      "('float', [])     : 14 | ['num_beds', 'num_baths', 'built_year', 'pri_sch', 'sec_sch', ...]\n",
      "('int', [])       :  3 | ['close_pri_sch', 'close_sec_sch', 'psf_bbox']\n",
      "('int', ['bool']) : 14 | ['property_type_cluster house', 'property_type_condo', 'property_type_corner terrace', 'property_type_executive condo', 'property_type_hdb', ...]\n",
      "Plot summary of models saved to file: AutogluonModels/ag-20221028_001415/SummaryOfModels.html\n",
      "*** End of fit() summary ***\n"
     ]
    }
   ],
   "source": [
    "#With target encoding and less one hot encoding.\n",
    "predictor = TabularPredictor.load(folderName)\n",
    "results = predictor.fit_summary(show_plot=True)\n",
    "\n",
    "def writePredictionsToFile(modelName, filename, folder = folderName, refit = False):\n",
    "    if(refit == True):\n",
    "        modelName = modelName +  '_FULL'    \n",
    "    y_pred = predictor.predict(test_data_reg, model=modelName)\n",
    "    yTest = y_pred * df_test_size_sqft\n",
    "    yTest = pd.DataFrame(yTest, columns=['Predicted'], index=df_test.index)\n",
    "    yTest.to_csv(f'{folder}/predictions/{filename}.csv')\n"
   ]
  },
  {
   "cell_type": "code",
   "execution_count": 28,
   "metadata": {},
   "outputs": [
    {
     "name": "stderr",
     "output_type": "stream",
     "text": [
      "/usr/local/lib/python3.9/site-packages/catboost/core.py:1411: FutureWarning: iteritems is deprecated and will be removed in a future version. Use .items instead.\n",
      "  self._init_pool(data, label, cat_features, text_features, embedding_features, embedding_features_data, pairs, weight,\n",
      "/usr/local/lib/python3.9/site-packages/catboost/core.py:1411: FutureWarning: iteritems is deprecated and will be removed in a future version. Use .items instead.\n",
      "  self._init_pool(data, label, cat_features, text_features, embedding_features, embedding_features_data, pairs, weight,\n",
      "/usr/local/lib/python3.9/site-packages/catboost/core.py:1411: FutureWarning: iteritems is deprecated and will be removed in a future version. Use .items instead.\n",
      "  self._init_pool(data, label, cat_features, text_features, embedding_features, embedding_features_data, pairs, weight,\n",
      "/usr/local/lib/python3.9/site-packages/catboost/core.py:1411: FutureWarning: iteritems is deprecated and will be removed in a future version. Use .items instead.\n",
      "  self._init_pool(data, label, cat_features, text_features, embedding_features, embedding_features_data, pairs, weight,\n"
     ]
    },
    {
     "name": "stdout",
     "output_type": "stream",
     "text": [
      "                   model  score_test   score_val  pred_time_test  pred_time_val     fit_time  pred_time_test_marginal  pred_time_val_marginal  fit_time_marginal  stack_level  can_infer  fit_order\n",
      "0    WeightedEnsemble_L3 -145.630462 -142.068417       19.243859       8.135790  4147.233197                 0.004866                0.000648           0.317045            3       True         14\n",
      "1     CatBoost_BAG_L2/T3 -146.081631 -145.295000       14.932324       6.332602  4048.957216                 0.117428                0.042637         191.765848            2       True         13\n",
      "2    WeightedEnsemble_L2 -146.426780 -142.819399        2.739450       1.044720  3722.726048                 0.006107                0.000689           0.312974            2       True          7\n",
      "3     CatBoost_BAG_L1/T1 -146.484567 -144.831912        0.185685       0.068832  1319.087439                 0.185685                0.068832        1319.087439            1       True          4\n",
      "4     CatBoost_BAG_L2/T1 -146.715362 -145.817670       14.884269       6.326097  3877.875054                 0.069373                0.036132          20.683686            2       True         11\n",
      "5     CatBoost_BAG_L1/T3 -146.802133 -143.111538        0.380586       0.090473  1497.658844                 0.380586                0.090473        1497.658844            1       True          6\n",
      "6   LightGBMXT_BAG_L2/T2 -146.842999 -145.501135       19.002597       8.025588  3922.734464                 4.187701                1.735623          65.543096            2       True          9\n",
      "7     CatBoost_BAG_L1/T2 -147.213200 -146.683875        0.120403       0.054682   870.655154                 0.120403                0.054682         870.655154            1       True          5\n",
      "8   LightGBMXT_BAG_L2/T1 -148.066404 -147.337120       16.162264       6.964532  3874.731797                 1.347368                0.674567          17.540429            2       True          8\n",
      "9     CatBoost_BAG_L2/T2 -148.288307 -147.240297       14.864491       6.320750  3868.923522                 0.049595                0.030785          11.732154            2       True         12\n",
      "10  LightGBMXT_BAG_L1/T2 -148.405843 -147.680251        2.046668       0.830043    35.011637                 2.046668                0.830043          35.011637            1       True          2\n",
      "11  LightGBMXT_BAG_L2/T3 -149.291658 -149.488395       14.989481       6.378761  3865.846094                 0.174585                0.088795           8.654727            2       True         10\n",
      "12  LightGBMXT_BAG_L1/T1 -150.838878 -150.030971        4.882473       2.011004    53.124353                 4.882473                2.011004          53.124353            1       True          1\n",
      "13  LightGBMXT_BAG_L1/T3 -153.234301 -151.390195        7.199081       3.234931    81.653941                 7.199081                3.234931          81.653941            1       True          3\n"
     ]
    },
    {
     "name": "stderr",
     "output_type": "stream",
     "text": [
      "/usr/local/lib/python3.9/site-packages/catboost/core.py:1411: FutureWarning: iteritems is deprecated and will be removed in a future version. Use .items instead.\n",
      "  self._init_pool(data, label, cat_features, text_features, embedding_features, embedding_features_data, pairs, weight,\n",
      "/usr/local/lib/python3.9/site-packages/catboost/core.py:1411: FutureWarning: iteritems is deprecated and will be removed in a future version. Use .items instead.\n",
      "  self._init_pool(data, label, cat_features, text_features, embedding_features, embedding_features_data, pairs, weight,\n",
      "/usr/local/lib/python3.9/site-packages/catboost/core.py:1411: FutureWarning: iteritems is deprecated and will be removed in a future version. Use .items instead.\n",
      "  self._init_pool(data, label, cat_features, text_features, embedding_features, embedding_features_data, pairs, weight,\n",
      "/usr/local/lib/python3.9/site-packages/catboost/core.py:1411: FutureWarning: iteritems is deprecated and will be removed in a future version. Use .items instead.\n",
      "  self._init_pool(data, label, cat_features, text_features, embedding_features, embedding_features_data, pairs, weight,\n",
      "Evaluation: mean_absolute_error on test data: -145.6304617727714\n",
      "\tNote: Scores are always higher_is_better. This metric score can be multiplied by -1 to get the metric value.\n",
      "Evaluations on test data:\n",
      "{\n",
      "    \"mean_absolute_error\": -145.6304617727714,\n",
      "    \"root_mean_squared_error\": -292.88972240525686,\n",
      "    \"mean_squared_error\": -85784.38949062843,\n",
      "    \"r2\": 0.9066739116978073,\n",
      "    \"pearsonr\": 0.9522197563763414,\n",
      "    \"median_absolute_error\": -74.19214787232931\n",
      "}\n"
     ]
    },
    {
     "data": {
      "text/plain": [
       "{'mean_absolute_error': -145.6304617727714,\n",
       " 'root_mean_squared_error': -292.88972240525686,\n",
       " 'mean_squared_error': -85784.38949062843,\n",
       " 'r2': 0.9066739116978073,\n",
       " 'pearsonr': 0.9522197563763414,\n",
       " 'median_absolute_error': -74.19214787232931}"
      ]
     },
     "execution_count": 28,
     "metadata": {},
     "output_type": "execute_result"
    }
   ],
   "source": [
    "predictor.leaderboard(valid_data_reg)\n",
    "predictor.evaluate(valid_data_reg)"
   ]
  },
  {
   "cell_type": "code",
   "execution_count": 30,
   "metadata": {},
   "outputs": [
    {
     "name": "stderr",
     "output_type": "stream",
     "text": [
      "/usr/local/lib/python3.9/site-packages/catboost/core.py:1411: FutureWarning: iteritems is deprecated and will be removed in a future version. Use .items instead.\n",
      "  self._init_pool(data, label, cat_features, text_features, embedding_features, embedding_features_data, pairs, weight,\n"
     ]
    }
   ],
   "source": [
    "writePredictionsToFile(modelName = 'WeightedEnsemble_L2', filename = 'WeightedEnsemble_L2')\n"
   ]
  },
  {
   "cell_type": "code",
   "execution_count": 31,
   "metadata": {},
   "outputs": [
    {
     "name": "stderr",
     "output_type": "stream",
     "text": [
      "/usr/local/lib/python3.9/site-packages/catboost/core.py:1411: FutureWarning: iteritems is deprecated and will be removed in a future version. Use .items instead.\n",
      "  self._init_pool(data, label, cat_features, text_features, embedding_features, embedding_features_data, pairs, weight,\n",
      "/usr/local/lib/python3.9/site-packages/catboost/core.py:1411: FutureWarning: iteritems is deprecated and will be removed in a future version. Use .items instead.\n",
      "  self._init_pool(data, label, cat_features, text_features, embedding_features, embedding_features_data, pairs, weight,\n",
      "/usr/local/lib/python3.9/site-packages/catboost/core.py:1411: FutureWarning: iteritems is deprecated and will be removed in a future version. Use .items instead.\n",
      "  self._init_pool(data, label, cat_features, text_features, embedding_features, embedding_features_data, pairs, weight,\n"
     ]
    }
   ],
   "source": [
    "#writePredictionsToFile(modelName = 'LightGBMXT/T2', filename = 'LightGBMXT')\n",
    "#writePredictionsToFile('RandomForestMSE')\n",
    "#writePredictionsToFile('LightGBMLarge')\n",
    "writePredictionsToFile(modelName = 'CatBoost_BAG_L2/T3', filename = 'CatBoost')\n",
    "##writePredictionsToFile('XGBoost')\n",
    "#writePredictionsToFile(modelName = 'ExtraTreesMSE', filename = 'ExtraTreesMSE')\n",
    "#writePredictionsToFile('LGBModel')\n",
    "writePredictionsToFile(modelName = 'LightGBMXT_BAG_L2/T2', filename = 'LightGBMXT')\n",
    "#writePredictionsToFile(modelName = 'NeuralNetTorch/a2acf_00004', filename = 'NeuralNetTorch')\n",
    "#writePredictionsToFile('NeuralNetFastAI')\n",
    "#writePredictionsToFile('KNeighborsDist')\n",
    "##writePredictionsToFile('KNeighborsUnif')\n",
    "\n",
    "\n",
    "\n",
    "\n",
    "\n",
    "\n",
    "\n",
    "\n"
   ]
  },
  {
   "cell_type": "code",
   "execution_count": null,
   "metadata": {},
   "outputs": [],
   "source": [
    "#predictor.refit_full()"
   ]
  },
  {
   "cell_type": "code",
   "execution_count": null,
   "metadata": {},
   "outputs": [],
   "source": [
    "actual = pd.read_csv('data/example-submission.csv')\n",
    "    pred = pd.read_csv(f'notebooks/{folder}/predictions/{modelName}.csv')\n",
    "\n",
    "    actual = actual['Predicted']\n",
    "    pred = pred['Predicted']\n",
    "\n",
    "\n",
    "predictor.leaderboard(test_data_reg)"
   ]
  }
 ],
 "metadata": {
  "kernelspec": {
   "display_name": "myenv",
   "language": "python",
   "name": "myenv"
  },
  "language_info": {
   "codemirror_mode": {
    "name": "ipython",
    "version": 3
   },
   "file_extension": ".py",
   "mimetype": "text/x-python",
   "name": "python",
   "nbconvert_exporter": "python",
   "pygments_lexer": "ipython3",
   "version": "3.9.15"
  },
  "vscode": {
   "interpreter": {
    "hash": "e3674cc7966855886e325525ebdd8373c9ba83162eba59918954002e59074a83"
   }
  }
 },
 "nbformat": 4,
 "nbformat_minor": 4
}
