{
 "cells": [
  {
   "cell_type": "code",
   "execution_count": 1,
   "metadata": {},
   "outputs": [
    {
     "name": "stderr",
     "output_type": "stream",
     "text": [
      "/var/folders/32/zv3nm8_12xb9ytd7vk7nnr6w0000gn/T/ipykernel_61970/3489285944.py:8: FutureWarning: pandas.Int64Index is deprecated and will be removed from pandas in a future version. Use pandas.Index with the appropriate dtype instead.\n",
      "  from pandas import MultiIndex, Int64Index\n"
     ]
    }
   ],
   "source": [
    "import numpy as np\n",
    "import math\n",
    "import pandas as pd\n",
    "from sklearn.model_selection import cross_val_score\n",
    "from sklearn.metrics import mean_squared_error, f1_score\n",
    "from sklearn import preprocessing\n",
    "from sklearn.model_selection import GridSearchCV, PredefinedSplit\n",
    "from pandas import MultiIndex, Int64Index\n",
    "# models\n",
    "from sklearn.linear_model import LinearRegression\n",
    "from sklearn.tree import DecisionTreeRegressor\n",
    "from sklearn.svm import SVR\n",
    "from sklearn.svm import LinearSVR\n",
    "import xgboost as xgb\n",
    "\n",
    "from sklearn.linear_model import LinearRegression\n",
    "from sklearn.model_selection import cross_val_score\n",
    "from sklearn.model_selection import KFold\n",
    "\n",
    "import optuna\n",
    "import pandas as pd\n",
    "from sklearn import ensemble\n",
    "from sklearn import datasets\n",
    "from sklearn import model_selection\n",
    "\n",
    "from autogluon.tabular import TabularDataset, TabularPredictor\n",
    "import autogluon.core as ag\n",
    "from sklearn.model_selection import train_test_split\n",
    "import bokeh\n",
    "\n"
   ]
  },
  {
   "cell_type": "code",
   "execution_count": 2,
   "metadata": {},
   "outputs": [],
   "source": [
    "#!pip3 install xgboost\n",
    "#!pip3 install optuna\n",
    "#!pip install autogluon --upgrade\n",
    "# !pip install optuna\n",
    "# !pip install scipy\n",
    "# !pip install autogluon\n",
    "# !pip install xgboost\n",
    "# !python3.9 -m pip install --upgrade pip\n",
    "#!pip install bokeh==2.0.1\n",
    "#!pip install jupyter --upgrade\n"
   ]
  },
  {
   "cell_type": "code",
   "execution_count": 3,
   "metadata": {},
   "outputs": [],
   "source": [
    "#!conda install mxnet\n",
    "#import mxnet"
   ]
  },
  {
   "cell_type": "code",
   "execution_count": 4,
   "metadata": {},
   "outputs": [],
   "source": [
    "df_train = pd.read_csv('../data/train_encoded_1.csv')\n",
    "df_test = pd.read_csv('../data/test_encoded_1.csv')"
   ]
  },
  {
   "cell_type": "code",
   "execution_count": 5,
   "metadata": {},
   "outputs": [],
   "source": [
    "np.random.seed(0)\n",
    "train, valid = train_test_split(df_train, test_size=0.2)"
   ]
  },
  {
   "cell_type": "code",
   "execution_count": 6,
   "metadata": {},
   "outputs": [],
   "source": [
    "combined = df_train.drop(['price', 'size_sqft'], axis=1)\n",
    "X_train = train.drop(['price', 'size_sqft'], axis=1)\n",
    "\n",
    "X_valid = valid.drop(['price', 'size_sqft'], axis=1)\n",
    "y_valid = valid['price_per_sqft']\n",
    "\n",
    "df_test_size_sqft = df_test['size_sqft'].copy()\n",
    "df_test= df_test.drop(['size_sqft'], axis=1)\n",
    "\n",
    "metric_reg = 'mean_absolute_error'\n",
    "label_reg = 'price_per_sqft'\n",
    "train_data_reg = TabularDataset(X_train) \n",
    "valid_data_reg = TabularDataset(X_valid)\n",
    "test_data_reg = TabularDataset(df_test)\n",
    "combined = TabularDataset(combined)\n",
    "\n"
   ]
  },
  {
   "cell_type": "markdown",
   "metadata": {},
   "source": [
    "Tabular Predictor"
   ]
  },
  {
   "cell_type": "code",
   "execution_count": 10,
   "metadata": {},
   "outputs": [
    {
     "name": "stderr",
     "output_type": "stream",
     "text": [
      "Presets specified: ['best_quality']\n",
      "Warning: hyperparameter tuning is currently experimental and may cause the process to hang.\n",
      "Stack configuration (auto_stack=True): num_stack_levels=1, num_bag_folds=8, num_bag_sets=1\n",
      "Beginning AutoGluon training ...\n",
      "AutoGluon will save models to \"Autogluon_20k_featureset/\"\n",
      "AutoGluon Version:  0.5.2\n",
      "Python Version:     3.9.7\n",
      "Operating System:   Darwin\n",
      "Train Data Rows:    20147\n",
      "Train Data Columns: 31\n",
      "Label Column: price_per_sqft\n",
      "Preprocessing data ...\n",
      "AutoGluon infers your prediction problem is: 'regression' (because dtype of label-column == float and many unique label-values observed).\n",
      "\tLabel info (max, min, mean, stddev): (4486.890450010187, 447.8293983244478, 1719.76428, 982.28364)\n",
      "\tIf 'regression' is not the correct problem_type, please manually specify the problem_type parameter during predictor init (You may specify problem_type as one of: ['binary', 'multiclass', 'regression'])\n",
      "Using Feature Generators to preprocess the data ...\n",
      "Fitting AutoMLPipelineFeatureGenerator...\n",
      "\tAvailable Memory:                    6123.77 MB\n",
      "\tTrain Data (Original)  Memory Usage: 5.0 MB (0.1% of available memory)\n",
      "\tInferring data type of each feature based on column values. Set feature_metadata_in to manually specify special dtypes of the features.\n",
      "\tStage 1 Generators:\n",
      "\t\tFitting AsTypeFeatureGenerator...\n",
      "\t\t\tNote: Converting 14 features to boolean dtype as they only contain 2 unique values.\n",
      "\tStage 2 Generators:\n",
      "\t\tFitting FillNaFeatureGenerator...\n",
      "\tStage 3 Generators:\n",
      "\t\tFitting IdentityFeatureGenerator...\n",
      "\tStage 4 Generators:\n",
      "\t\tFitting DropUniqueFeatureGenerator...\n",
      "\tTypes of features in original data (raw dtype, special dtypes):\n",
      "\t\t('float', []) : 15 | ['num_beds', 'num_baths', 'built_year', 'pri_sch', 'sec_sch', ...]\n",
      "\t\t('int', [])   : 16 | ['close_pri_sch', 'close_sec_sch', 'property_type_cluster house', 'property_type_condo', 'property_type_corner terrace', ...]\n",
      "\tTypes of features in processed data (raw dtype, special dtypes):\n",
      "\t\t('float', [])     : 15 | ['num_beds', 'num_baths', 'built_year', 'pri_sch', 'sec_sch', ...]\n",
      "\t\t('int', [])       :  2 | ['close_pri_sch', 'close_sec_sch']\n",
      "\t\t('int', ['bool']) : 14 | ['property_type_cluster house', 'property_type_condo', 'property_type_corner terrace', 'property_type_executive condo', 'property_type_hdb', ...]\n",
      "\t0.1s = Fit runtime\n",
      "\t31 features in original data used to generate 31 features in processed data.\n",
      "\tTrain Data (Processed) Memory Usage: 3.02 MB (0.0% of available memory)\n",
      "Data preprocessing and feature engineering runtime = 0.21s ...\n",
      "AutoGluon will gauge predictive performance using evaluation metric: 'mean_absolute_error'\n",
      "\tThis metric's sign has been flipped to adhere to being higher_is_better. The metric score can be multiplied by -1 to get the metric value.\n",
      "\tTo change this, specify the eval_metric parameter of Predictor()\n",
      "AutoGluon will fit 2 stack levels (L1 to L2) ...\n",
      "Excluded Model Types: ['FASTAI', 'KNN', 'RF', 'XGB']\n",
      "Fitting 4 L1 models ...\n",
      "Hyperparameter tuning model: LightGBMXT_BAG_L1 ...\n"
     ]
    },
    {
     "data": {
      "application/vnd.jupyter.widget-view+json": {
       "model_id": "609727c27b284ac481695d2c6c7134cb",
       "version_major": 2,
       "version_minor": 0
      },
      "text/plain": [
       "  0%|          | 0/3 [00:00<?, ?it/s]"
      ]
     },
     "metadata": {},
     "output_type": "display_data"
    },
    {
     "name": "stdout",
     "output_type": "stream",
     "text": [
      "[1000]\tvalid_set's l1: 145.632\n",
      "[2000]\tvalid_set's l1: 142.047\n",
      "[3000]\tvalid_set's l1: 140.938\n",
      "[4000]\tvalid_set's l1: 140.29\n",
      "[5000]\tvalid_set's l1: 140.097\n",
      "[6000]\tvalid_set's l1: 139.92\n",
      "[7000]\tvalid_set's l1: 139.972\n",
      "[1000]\tvalid_set's l1: 139.495\n",
      "[1000]\tvalid_set's l1: 146.828\n",
      "[2000]\tvalid_set's l1: 143.577\n",
      "[3000]\tvalid_set's l1: 142.29\n",
      "[4000]\tvalid_set's l1: 141.629\n",
      "[5000]\tvalid_set's l1: 141.449\n",
      "[6000]\tvalid_set's l1: 141.407\n",
      "[7000]\tvalid_set's l1: 141.43\n"
     ]
    },
    {
     "name": "stderr",
     "output_type": "stream",
     "text": [
      "Fitted model: LightGBMXT_BAG_L1/T1 ...\n",
      "\t-139.8374\t = Validation score   (-mean_absolute_error)\n",
      "\t7.93s\t = Training   runtime\n",
      "\t0.34s\t = Validation runtime\n",
      "Fitted model: LightGBMXT_BAG_L1/T2 ...\n",
      "\t-139.1468\t = Validation score   (-mean_absolute_error)\n",
      "\t3.63s\t = Training   runtime\n",
      "\t0.09s\t = Validation runtime\n",
      "Fitted model: LightGBMXT_BAG_L1/T3 ...\n",
      "\t-141.3145\t = Validation score   (-mean_absolute_error)\n",
      "\t13.4s\t = Training   runtime\n",
      "\t0.55s\t = Validation runtime\n",
      "Hyperparameter tuning model: CatBoost_BAG_L1 ...\n"
     ]
    },
    {
     "data": {
      "application/vnd.jupyter.widget-view+json": {
       "model_id": "57c1200f76ed47f9842a28f42d0d1f4f",
       "version_major": 2,
       "version_minor": 0
      },
      "text/plain": [
       "  0%|          | 0/3 [00:00<?, ?it/s]"
      ]
     },
     "metadata": {},
     "output_type": "display_data"
    },
    {
     "name": "stderr",
     "output_type": "stream",
     "text": [
      "Fitted model: CatBoost_BAG_L1/T1 ...\n",
      "\t-136.9105\t = Validation score   (-mean_absolute_error)\n",
      "\t168.88s\t = Training   runtime\n",
      "\t0.01s\t = Validation runtime\n",
      "Fitted model: CatBoost_BAG_L1/T2 ...\n",
      "\t-137.3539\t = Validation score   (-mean_absolute_error)\n",
      "\t164.47s\t = Training   runtime\n",
      "\t0.01s\t = Validation runtime\n",
      "Fitted model: CatBoost_BAG_L1/T3 ...\n",
      "\t-135.5841\t = Validation score   (-mean_absolute_error)\n",
      "\t199.94s\t = Training   runtime\n",
      "\t0.02s\t = Validation runtime\n",
      "Hyperparameter tuning model: ExtraTrees_BAG_L1 ...\n",
      "\tNo hyperparameter search space specified for ExtraTrees. Skipping HPO. Will train one model based on the provided hyperparameters.\n",
      "Warning: Exception caused ExtraTrees_BAG_L1 to fail during hyperparameter tuning... Skipping this model.\n",
      "Traceback (most recent call last):\n",
      "  File \"/Users/nishita/miniconda3/lib/python3.9/site-packages/autogluon/core/trainer/abstract_trainer.py\", line 1380, in _train_single_full\n",
      "    hpo_models, hpo_results = model.hyperparameter_tune(\n",
      "  File \"/Users/nishita/miniconda3/lib/python3.9/site-packages/autogluon/core/models/abstract/abstract_model.py\", line 1001, in hyperparameter_tune\n",
      "    return self._hyperparameter_tune(hpo_executor=hpo_executor, **kwargs)\n",
      "  File \"/Users/nishita/miniconda3/lib/python3.9/site-packages/autogluon/core/models/ensemble/stacker_ensemble_model.py\", line 182, in _hyperparameter_tune\n",
      "    return super()._hyperparameter_tune(X=X, y=y, k_fold=k_fold, hpo_executor=hpo_executor, preprocess_kwargs=preprocess_kwargs, **kwargs)\n",
      "  File \"/Users/nishita/miniconda3/lib/python3.9/site-packages/autogluon/core/models/ensemble/bagged_ensemble_model.py\", line 1080, in _hyperparameter_tune\n",
      "    model_path = model_info['path']\n",
      "TypeError: string indices must be integers\n",
      "string indices must be integers\n",
      "Hyperparameter tuning model: NeuralNetTorch_BAG_L1 ...\n",
      "Fitted model: NeuralNetTorch_BAG_L1/T1 ...\n",
      "\t-141.4329\t = Validation score   (-mean_absolute_error)\n",
      "\t111.04s\t = Training   runtime\n",
      "\t0.05s\t = Validation runtime\n",
      "Fitted model: NeuralNetTorch_BAG_L1/T2 ...\n",
      "\t-145.154\t = Validation score   (-mean_absolute_error)\n",
      "\t95.87s\t = Training   runtime\n",
      "\t0.04s\t = Validation runtime\n",
      "Fitted model: NeuralNetTorch_BAG_L1/T3 ...\n",
      "\t-152.4401\t = Validation score   (-mean_absolute_error)\n",
      "\t167.76s\t = Training   runtime\n",
      "\t0.1s\t = Validation runtime\n",
      "Fitting model: LightGBMXT_BAG_L1/T1 ...\n",
      "\tFitting 7 child models (S1F2 - S1F8) | Fitting with SequentialLocalFoldFittingStrategy\n"
     ]
    },
    {
     "name": "stdout",
     "output_type": "stream",
     "text": [
      "[1000]\tvalid_set's l1: 146.828\n",
      "[2000]\tvalid_set's l1: 142.987\n",
      "[3000]\tvalid_set's l1: 141.574\n",
      "[4000]\tvalid_set's l1: 140.828\n",
      "[5000]\tvalid_set's l1: 140.489\n",
      "[6000]\tvalid_set's l1: 140.435\n",
      "[7000]\tvalid_set's l1: 140.37\n",
      "[8000]\tvalid_set's l1: 140.26\n",
      "[9000]\tvalid_set's l1: 140.462\n",
      "[10000]\tvalid_set's l1: 140.626\n",
      "[1000]\tvalid_set's l1: 150.299\n",
      "[2000]\tvalid_set's l1: 147.161\n",
      "[3000]\tvalid_set's l1: 146.778\n",
      "[1000]\tvalid_set's l1: 148.788\n",
      "[2000]\tvalid_set's l1: 145.241\n",
      "[3000]\tvalid_set's l1: 143.967\n",
      "[4000]\tvalid_set's l1: 143.584\n",
      "[5000]\tvalid_set's l1: 143.416\n",
      "[6000]\tvalid_set's l1: 143.227\n",
      "[1000]\tvalid_set's l1: 149.852\n",
      "[2000]\tvalid_set's l1: 145.446\n",
      "[3000]\tvalid_set's l1: 143.911\n",
      "[4000]\tvalid_set's l1: 143.36\n",
      "[5000]\tvalid_set's l1: 142.95\n",
      "[6000]\tvalid_set's l1: 142.616\n",
      "[7000]\tvalid_set's l1: 142.418\n",
      "[8000]\tvalid_set's l1: 142.387\n",
      "[9000]\tvalid_set's l1: 142.614\n",
      "[10000]\tvalid_set's l1: 142.562\n",
      "[1000]\tvalid_set's l1: 149.538\n",
      "[2000]\tvalid_set's l1: 146.141\n",
      "[3000]\tvalid_set's l1: 145.185\n",
      "[4000]\tvalid_set's l1: 144.623\n",
      "[5000]\tvalid_set's l1: 144.582\n",
      "[6000]\tvalid_set's l1: 144.375\n",
      "[7000]\tvalid_set's l1: 144.334\n",
      "[8000]\tvalid_set's l1: 144.346\n",
      "[9000]\tvalid_set's l1: 144.523\n",
      "[1000]\tvalid_set's l1: 146.907\n",
      "[2000]\tvalid_set's l1: 144.474\n",
      "[3000]\tvalid_set's l1: 143.52\n",
      "[4000]\tvalid_set's l1: 143.363\n",
      "[5000]\tvalid_set's l1: 143.226\n",
      "[6000]\tvalid_set's l1: 142.959\n",
      "[7000]\tvalid_set's l1: 143.017\n",
      "[1000]\tvalid_set's l1: 142.259\n",
      "[2000]\tvalid_set's l1: 139.559\n",
      "[3000]\tvalid_set's l1: 139.024\n"
     ]
    },
    {
     "name": "stderr",
     "output_type": "stream",
     "text": [
      "\t-142.2841\t = Validation score   (-mean_absolute_error)\n",
      "\t68.35s\t = Training   runtime\n",
      "\t3.16s\t = Validation runtime\n",
      "Fitting model: LightGBMXT_BAG_L1/T2 ...\n",
      "\tFitting 7 child models (S1F2 - S1F8) | Fitting with SequentialLocalFoldFittingStrategy\n"
     ]
    },
    {
     "name": "stdout",
     "output_type": "stream",
     "text": [
      "[1000]\tvalid_set's l1: 138.228\n",
      "[2000]\tvalid_set's l1: 137.007\n",
      "[3000]\tvalid_set's l1: 137.016\n",
      "[1000]\tvalid_set's l1: 143.219\n",
      "[1000]\tvalid_set's l1: 139.606\n",
      "[2000]\tvalid_set's l1: 138.823\n",
      "[1000]\tvalid_set's l1: 141.252\n",
      "[2000]\tvalid_set's l1: 140.5\n",
      "[1000]\tvalid_set's l1: 140.4\n"
     ]
    },
    {
     "name": "stderr",
     "output_type": "stream",
     "text": [
      "\t-140.4737\t = Validation score   (-mean_absolute_error)\n",
      "\t32.21s\t = Training   runtime\n",
      "\t0.84s\t = Validation runtime\n",
      "Fitting model: LightGBMXT_BAG_L1/T3 ...\n",
      "\tFitting 7 child models (S1F2 - S1F8) | Fitting with SequentialLocalFoldFittingStrategy\n"
     ]
    },
    {
     "name": "stdout",
     "output_type": "stream",
     "text": [
      "[1000]\tvalid_set's l1: 145.935\n",
      "[2000]\tvalid_set's l1: 143.419\n",
      "[3000]\tvalid_set's l1: 142.617\n",
      "[4000]\tvalid_set's l1: 142.218\n",
      "[5000]\tvalid_set's l1: 142.238\n",
      "[6000]\tvalid_set's l1: 142.352\n",
      "[1000]\tvalid_set's l1: 150.89\n",
      "[2000]\tvalid_set's l1: 147.954\n",
      "[3000]\tvalid_set's l1: 147.727\n",
      "[1000]\tvalid_set's l1: 148.211\n",
      "[2000]\tvalid_set's l1: 145.611\n",
      "[3000]\tvalid_set's l1: 145.164\n",
      "[4000]\tvalid_set's l1: 144.682\n",
      "[5000]\tvalid_set's l1: 144.812\n",
      "[1000]\tvalid_set's l1: 150.253\n",
      "[2000]\tvalid_set's l1: 146.852\n",
      "[3000]\tvalid_set's l1: 145.301\n",
      "[4000]\tvalid_set's l1: 144.615\n",
      "[5000]\tvalid_set's l1: 144.455\n",
      "[6000]\tvalid_set's l1: 144.25\n",
      "[7000]\tvalid_set's l1: 144.255\n",
      "[8000]\tvalid_set's l1: 144.25\n",
      "[1000]\tvalid_set's l1: 149.982\n",
      "[2000]\tvalid_set's l1: 147.42\n",
      "[3000]\tvalid_set's l1: 146.537\n",
      "[4000]\tvalid_set's l1: 146.069\n",
      "[5000]\tvalid_set's l1: 146.03\n",
      "[6000]\tvalid_set's l1: 146.014\n",
      "[7000]\tvalid_set's l1: 145.788\n",
      "[8000]\tvalid_set's l1: 145.83\n",
      "[9000]\tvalid_set's l1: 145.934\n",
      "[1000]\tvalid_set's l1: 147.454\n",
      "[2000]\tvalid_set's l1: 145.407\n",
      "[3000]\tvalid_set's l1: 144.85\n",
      "[1000]\tvalid_set's l1: 142.035\n",
      "[2000]\tvalid_set's l1: 140.294\n",
      "[3000]\tvalid_set's l1: 140.448\n"
     ]
    },
    {
     "name": "stderr",
     "output_type": "stream",
     "text": [
      "\t-143.8167\t = Validation score   (-mean_absolute_error)\n",
      "\t94.63s\t = Training   runtime\n",
      "\t3.94s\t = Validation runtime\n",
      "Fitting model: CatBoost_BAG_L1/T1 ...\n",
      "\tFitting 7 child models (S1F2 - S1F8) | Fitting with SequentialLocalFoldFittingStrategy\n",
      "\t-139.1353\t = Validation score   (-mean_absolute_error)\n",
      "\t1381.51s\t = Training   runtime\n",
      "\t0.09s\t = Validation runtime\n",
      "Fitting model: CatBoost_BAG_L1/T2 ...\n",
      "\tFitting 7 child models (S1F2 - S1F8) | Fitting with SequentialLocalFoldFittingStrategy\n",
      "\t-140.3417\t = Validation score   (-mean_absolute_error)\n",
      "\t1230.48s\t = Training   runtime\n",
      "\t0.07s\t = Validation runtime\n",
      "Fitting model: CatBoost_BAG_L1/T3 ...\n",
      "\tFitting 7 child models (S1F2 - S1F8) | Fitting with SequentialLocalFoldFittingStrategy\n",
      "\t-137.8922\t = Validation score   (-mean_absolute_error)\n",
      "\t1538.5s\t = Training   runtime\n",
      "\t0.14s\t = Validation runtime\n",
      "Fitting model: NeuralNetTorch_BAG_L1/T1 ...\n",
      "\tFitting 7 child models (S1F2 - S1F8) | Fitting with SequentialLocalFoldFittingStrategy\n",
      "\t-143.5587\t = Validation score   (-mean_absolute_error)\n",
      "\t550.79s\t = Training   runtime\n",
      "\t0.38s\t = Validation runtime\n",
      "Fitting model: NeuralNetTorch_BAG_L1/T2 ...\n",
      "\tFitting 7 child models (S1F2 - S1F8) | Fitting with SequentialLocalFoldFittingStrategy\n",
      "\t-143.5913\t = Validation score   (-mean_absolute_error)\n",
      "\t496.81s\t = Training   runtime\n",
      "\t0.23s\t = Validation runtime\n",
      "Fitting model: NeuralNetTorch_BAG_L1/T3 ...\n",
      "\tFitting 7 child models (S1F2 - S1F8) | Fitting with SequentialLocalFoldFittingStrategy\n",
      "\t-149.7924\t = Validation score   (-mean_absolute_error)\n",
      "\t2759.94s\t = Training   runtime\n",
      "\t2.53s\t = Validation runtime\n",
      "Fitting model: WeightedEnsemble_L2 ...\n",
      "\t-132.8057\t = Validation score   (-mean_absolute_error)\n",
      "\t0.47s\t = Training   runtime\n",
      "\t0.0s\t = Validation runtime\n",
      "Excluded Model Types: ['FASTAI', 'KNN', 'RF', 'XGB']\n",
      "Fitting 4 L2 models ...\n",
      "Hyperparameter tuning model: LightGBMXT_BAG_L2 ...\n"
     ]
    },
    {
     "data": {
      "application/vnd.jupyter.widget-view+json": {
       "model_id": "65d9be94963b4b069f28a938f4453c05",
       "version_major": 2,
       "version_minor": 0
      },
      "text/plain": [
       "  0%|          | 0/3 [00:00<?, ?it/s]"
      ]
     },
     "metadata": {},
     "output_type": "display_data"
    },
    {
     "name": "stderr",
     "output_type": "stream",
     "text": [
      "Fitted model: LightGBMXT_BAG_L2/T1 ...\n",
      "\t-140.1974\t = Validation score   (-mean_absolute_error)\n",
      "\t0.75s\t = Training   runtime\n",
      "\t0.02s\t = Validation runtime\n",
      "Fitted model: LightGBMXT_BAG_L2/T2 ...\n",
      "\t-138.3843\t = Validation score   (-mean_absolute_error)\n",
      "\t1.18s\t = Training   runtime\n",
      "\t0.02s\t = Validation runtime\n",
      "Fitted model: LightGBMXT_BAG_L2/T3 ...\n",
      "\t-141.875\t = Validation score   (-mean_absolute_error)\n",
      "\t1.13s\t = Training   runtime\n",
      "\t0.01s\t = Validation runtime\n",
      "Hyperparameter tuning model: CatBoost_BAG_L2 ...\n"
     ]
    },
    {
     "data": {
      "application/vnd.jupyter.widget-view+json": {
       "model_id": "f04e1874586046b58fe78cdcc02d1f3f",
       "version_major": 2,
       "version_minor": 0
      },
      "text/plain": [
       "  0%|          | 0/3 [00:00<?, ?it/s]"
      ]
     },
     "metadata": {},
     "output_type": "display_data"
    },
    {
     "name": "stderr",
     "output_type": "stream",
     "text": [
      "Fitted model: CatBoost_BAG_L2/T1 ...\n",
      "\t-139.7455\t = Validation score   (-mean_absolute_error)\n",
      "\t5.17s\t = Training   runtime\n",
      "\t0.0s\t = Validation runtime\n",
      "Fitted model: CatBoost_BAG_L2/T2 ...\n",
      "\t-143.0143\t = Validation score   (-mean_absolute_error)\n",
      "\t0.9s\t = Training   runtime\n",
      "\t0.0s\t = Validation runtime\n",
      "Fitted model: CatBoost_BAG_L2/T3 ...\n",
      "\t-138.9983\t = Validation score   (-mean_absolute_error)\n",
      "\t8.64s\t = Training   runtime\n",
      "\t0.0s\t = Validation runtime\n",
      "Hyperparameter tuning model: ExtraTrees_BAG_L2 ...\n",
      "\tNo hyperparameter search space specified for ExtraTrees. Skipping HPO. Will train one model based on the provided hyperparameters.\n",
      "Warning: Exception caused ExtraTrees_BAG_L2 to fail during hyperparameter tuning... Skipping this model.\n",
      "Traceback (most recent call last):\n",
      "  File \"/Users/nishita/miniconda3/lib/python3.9/site-packages/autogluon/core/trainer/abstract_trainer.py\", line 1380, in _train_single_full\n",
      "    hpo_models, hpo_results = model.hyperparameter_tune(\n",
      "  File \"/Users/nishita/miniconda3/lib/python3.9/site-packages/autogluon/core/models/abstract/abstract_model.py\", line 1001, in hyperparameter_tune\n",
      "    return self._hyperparameter_tune(hpo_executor=hpo_executor, **kwargs)\n",
      "  File \"/Users/nishita/miniconda3/lib/python3.9/site-packages/autogluon/core/models/ensemble/stacker_ensemble_model.py\", line 182, in _hyperparameter_tune\n",
      "    return super()._hyperparameter_tune(X=X, y=y, k_fold=k_fold, hpo_executor=hpo_executor, preprocess_kwargs=preprocess_kwargs, **kwargs)\n",
      "  File \"/Users/nishita/miniconda3/lib/python3.9/site-packages/autogluon/core/models/ensemble/bagged_ensemble_model.py\", line 1080, in _hyperparameter_tune\n",
      "    model_path = model_info['path']\n",
      "TypeError: string indices must be integers\n",
      "string indices must be integers\n",
      "Hyperparameter tuning model: NeuralNetTorch_BAG_L2 ...\n",
      "Fitted model: NeuralNetTorch_BAG_L2/T1 ...\n",
      "\t-140.7622\t = Validation score   (-mean_absolute_error)\n",
      "\t41.23s\t = Training   runtime\n",
      "\t0.05s\t = Validation runtime\n",
      "Fitted model: NeuralNetTorch_BAG_L2/T2 ...\n",
      "\t-140.2109\t = Validation score   (-mean_absolute_error)\n",
      "\t28.22s\t = Training   runtime\n",
      "\t0.03s\t = Validation runtime\n",
      "Fitted model: NeuralNetTorch_BAG_L2/T3 ...\n",
      "\t-136.7954\t = Validation score   (-mean_absolute_error)\n",
      "\t64.86s\t = Training   runtime\n",
      "\t0.03s\t = Validation runtime\n",
      "Fitting model: LightGBMXT_BAG_L2/T1 ...\n",
      "\tFitting 7 child models (S1F2 - S1F8) | Fitting with SequentialLocalFoldFittingStrategy\n",
      "\t-138.1199\t = Validation score   (-mean_absolute_error)\n",
      "\t6.54s\t = Training   runtime\n",
      "\t0.1s\t = Validation runtime\n",
      "Fitting model: LightGBMXT_BAG_L2/T2 ...\n",
      "\tFitting 7 child models (S1F2 - S1F8) | Fitting with SequentialLocalFoldFittingStrategy\n",
      "\t-138.7928\t = Validation score   (-mean_absolute_error)\n",
      "\t10.32s\t = Training   runtime\n",
      "\t0.15s\t = Validation runtime\n",
      "Fitting model: LightGBMXT_BAG_L2/T3 ...\n",
      "\tFitting 7 child models (S1F2 - S1F8) | Fitting with SequentialLocalFoldFittingStrategy\n",
      "\t-139.6205\t = Validation score   (-mean_absolute_error)\n",
      "\t9.01s\t = Training   runtime\n",
      "\t0.12s\t = Validation runtime\n",
      "Fitting model: CatBoost_BAG_L2/T1 ...\n",
      "\tFitting 7 child models (S1F2 - S1F8) | Fitting with SequentialLocalFoldFittingStrategy\n",
      "\t-136.4361\t = Validation score   (-mean_absolute_error)\n",
      "\t23.77s\t = Training   runtime\n",
      "\t0.04s\t = Validation runtime\n",
      "Fitting model: CatBoost_BAG_L2/T2 ...\n",
      "\tFitting 7 child models (S1F2 - S1F8) | Fitting with SequentialLocalFoldFittingStrategy\n",
      "\t-138.0772\t = Validation score   (-mean_absolute_error)\n",
      "\t11.42s\t = Training   runtime\n",
      "\t0.03s\t = Validation runtime\n",
      "Fitting model: CatBoost_BAG_L2/T3 ...\n",
      "\tFitting 7 child models (S1F2 - S1F8) | Fitting with SequentialLocalFoldFittingStrategy\n",
      "\t-135.7283\t = Validation score   (-mean_absolute_error)\n",
      "\t65.6s\t = Training   runtime\n",
      "\t0.04s\t = Validation runtime\n",
      "Fitting model: NeuralNetTorch_BAG_L2/T1 ...\n",
      "\tFitting 7 child models (S1F2 - S1F8) | Fitting with SequentialLocalFoldFittingStrategy\n",
      "\t-137.3326\t = Validation score   (-mean_absolute_error)\n",
      "\t258.49s\t = Training   runtime\n",
      "\t0.4s\t = Validation runtime\n",
      "Fitting model: NeuralNetTorch_BAG_L2/T2 ...\n",
      "\tFitting 7 child models (S1F2 - S1F8) | Fitting with SequentialLocalFoldFittingStrategy\n",
      "\t-134.6477\t = Validation score   (-mean_absolute_error)\n",
      "\t250.27s\t = Training   runtime\n",
      "\t0.23s\t = Validation runtime\n",
      "Fitting model: NeuralNetTorch_BAG_L2/T3 ...\n",
      "\tFitting 7 child models (S1F2 - S1F8) | Fitting with SequentialLocalFoldFittingStrategy\n",
      "\t-138.5187\t = Validation score   (-mean_absolute_error)\n",
      "\t300.57s\t = Training   runtime\n",
      "\t0.28s\t = Validation runtime\n",
      "Fitting model: WeightedEnsemble_L3 ...\n",
      "\t-132.5427\t = Validation score   (-mean_absolute_error)\n",
      "\t0.49s\t = Training   runtime\n",
      "\t0.0s\t = Validation runtime\n",
      "AutoGluon training complete, total runtime = 8876.09s ... Best model: \"WeightedEnsemble_L3\"\n",
      "TabularPredictor saved. To load, use: predictor = TabularPredictor.load(\"Autogluon_20k_featureset/\")\n"
     ]
    }
   ],
   "source": [
    "predictor = TabularPredictor(label = label_reg, eval_metric = metric_reg, path = 'Autogluon_20k_featureset')\n",
    "\n",
    "gbm_options = {  # specifies non-default hyperparameter values for lightGBM gradient boosted trees\n",
    "    'num_boost_round': 100,  # number of boosting rounds (controls training time of GBM models)\n",
    "    'num_leaves': ag.space.Int(lower=26, upper=66, default=36),  # number of leaves in trees (integer hyperparameter)\n",
    "}\n",
    "\n",
    "hyperparameters = {\n",
    " 'NN_TORCH': {},\n",
    " 'GBM': [{'extra_trees': True, 'ag_args': {'name_suffix': 'XT'}}],\n",
    " 'CAT': {}\n",
    "}\n",
    "\n",
    "time_limit = 30*60  # train various models for ~5 min\n",
    "num_trials = 3  # try at most 5 different hyperparameter configurations for each type of model\n",
    "search_strategy = 'auto'  # to tune hyperparameters using random search routine with a local scheduler\n",
    "\n",
    "hyperparameter_tune_kwargs = {  # HPO is not performed unless hyperparameter_tune_kwargs is specified\n",
    "    'num_trials': num_trials,\n",
    "    'scheduler' : 'local',\n",
    "    'searcher': search_strategy,\n",
    "}\n",
    "\n",
    "\n",
    "\n",
    "#excluded_model_types = ['NN_TORCH', 'FASTAI', 'KNN', 'CAT', 'RF']\n",
    "excluded_model_types = ['FASTAI', 'KNN', 'RF', 'XGB']\n",
    "predictor_reg = predictor.fit(combined, excluded_model_types = excluded_model_types\n",
    ",hyperparameters=hyperparameters\n",
    "#,tuning_data=valid_data_reg\n",
    ",hyperparameter_tune_kwargs=hyperparameter_tune_kwargs, presets='best_quality',\n",
    "#ag_args_fit={'num_gpus': 1}\n",
    "#,num_bag_folds = 5, num_stack_levels = 2\n",
    "\n",
    ")\n"
   ]
  },
  {
   "cell_type": "code",
   "execution_count": 13,
   "metadata": {},
   "outputs": [
    {
     "data": {
      "text/plain": [
       "{'NN_TORCH': {},\n",
       " 'GBM': [{'extra_trees': True, 'ag_args': {'name_suffix': 'XT'}}],\n",
       " 'CAT': {},\n",
       " 'XT': {}}"
      ]
     },
     "execution_count": 13,
     "metadata": {},
     "output_type": "execute_result"
    }
   ],
   "source": [
    "#/Users/nishita/Documents/Semester 1/CS5228/project/notebooks/AutogluonModels/ag-20221027_054028\n",
    "folderName = \"Autogluon_20k_featureset/\"\n",
    "predictor = TabularPredictor.load(folderName)\n",
    "predictor.fit_hyperparameters_"
   ]
  },
  {
   "cell_type": "code",
   "execution_count": 14,
   "metadata": {},
   "outputs": [
    {
     "name": "stderr",
     "output_type": "stream",
     "text": [
      "Evaluation: mean_absolute_error on test data: -97.78227372780896\n",
      "\tNote: Scores are always higher_is_better. This metric score can be multiplied by -1 to get the metric value.\n",
      "Evaluations on test data:\n",
      "{\n",
      "    \"mean_absolute_error\": -97.78227372780896,\n",
      "    \"root_mean_squared_error\": -194.815612419949,\n",
      "    \"mean_squared_error\": -37953.12284255975,\n",
      "    \"r2\": 0.9615303710274659,\n",
      "    \"pearsonr\": 0.9805884730322405,\n",
      "    \"median_absolute_error\": -51.0387713966677\n",
      "}\n"
     ]
    },
    {
     "data": {
      "text/plain": [
       "{'mean_absolute_error': -97.78227372780896,\n",
       " 'root_mean_squared_error': -194.815612419949,\n",
       " 'mean_squared_error': -37953.12284255975,\n",
       " 'r2': 0.9615303710274659,\n",
       " 'pearsonr': 0.9805884730322405,\n",
       " 'median_absolute_error': -51.0387713966677}"
      ]
     },
     "execution_count": 14,
     "metadata": {},
     "output_type": "execute_result"
    }
   ],
   "source": [
    "predictor.evaluate(valid_data_reg)"
   ]
  },
  {
   "cell_type": "code",
   "execution_count": 15,
   "metadata": {},
   "outputs": [],
   "source": [
    "df_test[\"psf_bbox\"].fillna(df_test[\"price_avg_planning_area\"], inplace=True)\n"
   ]
  },
  {
   "cell_type": "code",
   "execution_count": 16,
   "metadata": {},
   "outputs": [
    {
     "name": "stdout",
     "output_type": "stream",
     "text": [
      "*** Summary of fit() ***\n",
      "Estimated performance of each model:\n",
      "                       model   score_val  pred_time_val     fit_time  pred_time_val_marginal  fit_time_marginal  stack_level  can_infer  fit_order\n",
      "0        WeightedEnsemble_L3 -132.542666      12.558162  9074.144125                0.001136           0.486282            3       True         20\n",
      "1        WeightedEnsemble_L2 -132.805662       4.286856  7990.712296                0.001109           0.466937            2       True         10\n",
      "2   NeuralNetTorch_BAG_L2/T2 -134.647728      11.615942  8403.491974                0.234896         250.266404            2       True         18\n",
      "3         CatBoost_BAG_L2/T3 -135.728287      11.420345  8218.827677                0.039300          65.602108            2       True         16\n",
      "4         CatBoost_BAG_L2/T1 -136.436051      11.418532  8176.996037                0.037486          23.770467            2       True         14\n",
      "5   NeuralNetTorch_BAG_L2/T1 -137.332628      11.778813  8411.711359                0.397767         258.485789            2       True         17\n",
      "6         CatBoost_BAG_L1/T3 -137.892193       0.138216  1538.504747                0.138216        1538.504747            1       True          6\n",
      "7         CatBoost_BAG_L2/T2 -138.077191      11.413587  8164.648976                0.032541          11.423406            2       True         15\n",
      "8       LightGBMXT_BAG_L2/T1 -138.119920      11.477506  8159.767012                0.096461           6.541442            2       True         11\n",
      "9   NeuralNetTorch_BAG_L2/T3 -138.518745      11.661577  8453.792248                0.280532         300.566678            2       True         19\n",
      "10      LightGBMXT_BAG_L2/T2 -138.792777      11.534503  8163.542990                0.153457          10.317420            2       True         12\n",
      "11        CatBoost_BAG_L1/T1 -139.135272       0.091368  1381.512948                0.091368        1381.512948            1       True          4\n",
      "12      LightGBMXT_BAG_L2/T3 -139.620496      11.498815  8162.237715                0.117769           9.012146            2       True         13\n",
      "13        CatBoost_BAG_L1/T2 -140.341709       0.072025  1230.476849                0.072025        1230.476849            1       True          5\n",
      "14      LightGBMXT_BAG_L1/T2 -140.473656       0.839638    32.214642                0.839638          32.214642            1       True          2\n",
      "15      LightGBMXT_BAG_L1/T1 -142.284124       3.159811    68.354802                3.159811          68.354802            1       True          1\n",
      "16  NeuralNetTorch_BAG_L1/T1 -143.558679       0.383317   550.790430                0.383317         550.790430            1       True          7\n",
      "17  NeuralNetTorch_BAG_L1/T2 -143.591254       0.233350   496.810431                0.233350         496.810431            1       True          8\n",
      "18      LightGBMXT_BAG_L1/T3 -143.816679       3.935488    94.625409                3.935488          94.625409            1       True          3\n",
      "19  NeuralNetTorch_BAG_L1/T3 -149.792354       2.527834  2759.935312                2.527834        2759.935312            1       True          9\n",
      "Number of models trained: 20\n",
      "Types of models trained:\n",
      "{'WeightedEnsembleModel', 'StackerEnsembleModel_CatBoost', 'StackerEnsembleModel_LGB', 'StackerEnsembleModel_TabularNeuralNetTorch'}\n",
      "Bagging used: True  (with 8 folds)\n",
      "Multi-layer stack-ensembling used: True  (with 3 levels)\n",
      "Feature Metadata (Processed):\n",
      "(raw dtype, special dtypes):\n",
      "('float', [])     : 15 | ['num_beds', 'num_baths', 'built_year', 'pri_sch', 'sec_sch', ...]\n",
      "('int', [])       :  2 | ['close_pri_sch', 'close_sec_sch']\n",
      "('int', ['bool']) : 14 | ['property_type_cluster house', 'property_type_condo', 'property_type_corner terrace', 'property_type_executive condo', 'property_type_hdb', ...]\n",
      "Plot summary of models saved to file: Autogluon_20k_featureset/SummaryOfModels.html\n",
      "*** End of fit() summary ***\n"
     ]
    }
   ],
   "source": [
    "#With target encoding and less one hot encoding.\n",
    "predictor = TabularPredictor.load(folderName)\n",
    "results = predictor.fit_summary(show_plot=True)\n",
    "\n",
    "def writePredictionsToFile(modelName, filename, folder = folderName, refit = False):\n",
    "    if(refit == True):\n",
    "        modelName = modelName +  '_FULL'    \n",
    "    y_pred = predictor.predict(test_data_reg, model=modelName)\n",
    "    yTest = y_pred * df_test_size_sqft\n",
    "    yTest = pd.DataFrame(yTest, columns=['Predicted'], index=df_test.index)\n",
    "    yTest.to_csv(f'{folder}/predictions/{filename}.csv')\n"
   ]
  },
  {
   "cell_type": "code",
   "execution_count": 17,
   "metadata": {},
   "outputs": [
    {
     "name": "stdout",
     "output_type": "stream",
     "text": [
      "                       model  score_test   score_val  pred_time_test  pred_time_val     fit_time  pred_time_test_marginal  pred_time_val_marginal  fit_time_marginal  stack_level  can_infer  fit_order\n",
      "0         CatBoost_BAG_L1/T2  -89.470583 -140.341709        0.126236       0.072025  1230.476849                 0.126236                0.072025        1230.476849            1       True          5\n",
      "1         CatBoost_BAG_L1/T3  -90.106699 -137.892193        0.394987       0.138216  1538.504747                 0.394987                0.138216        1538.504747            1       True          6\n",
      "2         CatBoost_BAG_L1/T1  -90.992870 -139.135272        0.205356       0.091368  1381.512948                 0.205356                0.091368        1381.512948            1       True          4\n",
      "3       LightGBMXT_BAG_L1/T2  -94.567448 -140.473656        1.697102       0.839638    32.214642                 1.697102                0.839638          32.214642            1       True          2\n",
      "4   NeuralNetTorch_BAG_L2/T2  -97.010978 -134.647728       19.855990      11.615942  8403.491974                 0.315560                0.234896         250.266404            2       True         18\n",
      "5        WeightedEnsemble_L3  -97.782274 -132.542666       21.279921      12.558162  9074.144125                 0.006030                0.001136           0.486282            3       True         20\n",
      "6   NeuralNetTorch_BAG_L2/T1  -98.575995 -137.332628       20.112741      11.778813  8411.711359                 0.572311                0.397767         258.485789            2       True         17\n",
      "7        WeightedEnsemble_L2  -98.950168 -132.805662        6.993268       4.286856  7990.712296                 0.007838                0.001109           0.466937            2       True         10\n",
      "8       LightGBMXT_BAG_L1/T1 -100.621940 -142.284124        5.854524       3.159811    68.354802                 5.854524                3.159811          68.354802            1       True          1\n",
      "9   NeuralNetTorch_BAG_L2/T3 -101.643896 -138.518745       19.968493      11.661577  8453.792248                 0.428063                0.280532         300.566678            2       True         19\n",
      "10        CatBoost_BAG_L2/T1 -102.955456 -136.436051       19.583373      11.418532  8176.996037                 0.042943                0.037486          23.770467            2       True         14\n",
      "11        CatBoost_BAG_L2/T3 -102.967759 -135.728287       19.601692      11.420345  8218.827677                 0.061262                0.039300          65.602108            2       True         16\n",
      "12        CatBoost_BAG_L2/T2 -103.537897 -138.077191       19.576947      11.413587  8164.648976                 0.036517                0.032541          11.423406            2       True         15\n",
      "13      LightGBMXT_BAG_L1/T3 -103.810162 -143.816679        6.700475       3.935488    94.625409                 6.700475                3.935488          94.625409            1       True          3\n",
      "14      LightGBMXT_BAG_L2/T2 -104.542355 -138.792777       19.817235      11.534503  8163.542990                 0.276805                0.153457          10.317420            2       True         12\n",
      "15      LightGBMXT_BAG_L2/T1 -106.393732 -138.119920       19.704725      11.477506  8159.767012                 0.164295                0.096461           6.541442            2       True         11\n",
      "16      LightGBMXT_BAG_L2/T3 -107.170646 -139.620496       19.761296      11.498815  8162.237715                 0.220866                0.117769           9.012146            2       True         13\n",
      "17  NeuralNetTorch_BAG_L1/T2 -111.364254 -143.591254        0.303750       0.233350   496.810431                 0.303750                0.233350         496.810431            1       True          8\n",
      "18  NeuralNetTorch_BAG_L1/T1 -112.861298 -143.558679        0.568644       0.383317   550.790430                 0.568644                0.383317         550.790430            1       True          7\n",
      "19  NeuralNetTorch_BAG_L1/T3 -126.296660 -149.792354        3.689356       2.527834  2759.935312                 3.689356                2.527834        2759.935312            1       True          9\n"
     ]
    },
    {
     "name": "stderr",
     "output_type": "stream",
     "text": [
      "Evaluation: mean_absolute_error on test data: -97.78227372780896\n",
      "\tNote: Scores are always higher_is_better. This metric score can be multiplied by -1 to get the metric value.\n",
      "Evaluations on test data:\n",
      "{\n",
      "    \"mean_absolute_error\": -97.78227372780896,\n",
      "    \"root_mean_squared_error\": -194.815612419949,\n",
      "    \"mean_squared_error\": -37953.12284255975,\n",
      "    \"r2\": 0.9615303710274659,\n",
      "    \"pearsonr\": 0.9805884730322405,\n",
      "    \"median_absolute_error\": -51.0387713966677\n",
      "}\n"
     ]
    },
    {
     "data": {
      "text/plain": [
       "{'mean_absolute_error': -97.78227372780896,\n",
       " 'root_mean_squared_error': -194.815612419949,\n",
       " 'mean_squared_error': -37953.12284255975,\n",
       " 'r2': 0.9615303710274659,\n",
       " 'pearsonr': 0.9805884730322405,\n",
       " 'median_absolute_error': -51.0387713966677}"
      ]
     },
     "execution_count": 17,
     "metadata": {},
     "output_type": "execute_result"
    }
   ],
   "source": [
    "predictor.leaderboard(valid_data_reg)\n",
    "predictor.evaluate(valid_data_reg)"
   ]
  },
  {
   "cell_type": "code",
   "execution_count": 18,
   "metadata": {},
   "outputs": [],
   "source": [
    "writePredictionsToFile(modelName = 'CatBoost_BAG_L1/T3', filename = 'CatBoost_BAG_L1_T3')\n"
   ]
  },
  {
   "cell_type": "code",
   "execution_count": 19,
   "metadata": {},
   "outputs": [],
   "source": [
    "writePredictionsToFile(modelName = 'CatBoost_BAG_L1/T2', filename = 'CatBoost_BAG_L1_T2')\n",
    "writePredictionsToFile(modelName = 'LightGBMXT_BAG_L1/T2', filename = 'LightGBMXT_BAG_L1_T2')\n",
    "writePredictionsToFile(modelName = 'NeuralNetTorch_BAG_L2/T2', filename = 'NeuralNetTorch_BAG_L2_T2')"
   ]
  },
  {
   "cell_type": "code",
   "execution_count": null,
   "metadata": {},
   "outputs": [],
   "source": [
    "#predictor.refit_full()"
   ]
  }
 ],
 "metadata": {
  "kernelspec": {
   "display_name": "Python 3 (ipykernel)",
   "language": "python",
   "name": "python3"
  },
  "language_info": {
   "codemirror_mode": {
    "name": "ipython",
    "version": 3
   },
   "file_extension": ".py",
   "mimetype": "text/x-python",
   "name": "python",
   "nbconvert_exporter": "python",
   "pygments_lexer": "ipython3",
   "version": "3.9.7"
  },
  "vscode": {
   "interpreter": {
    "hash": "e3674cc7966855886e325525ebdd8373c9ba83162eba59918954002e59074a83"
   }
  }
 },
 "nbformat": 4,
 "nbformat_minor": 4
}
