{
 "cells": [
  {
   "cell_type": "code",
   "execution_count": 1,
   "metadata": {},
   "outputs": [
    {
     "name": "stderr",
     "output_type": "stream",
     "text": [
      "/var/folders/32/zv3nm8_12xb9ytd7vk7nnr6w0000gn/T/ipykernel_61970/3489285944.py:8: FutureWarning: pandas.Int64Index is deprecated and will be removed from pandas in a future version. Use pandas.Index with the appropriate dtype instead.\n",
      "  from pandas import MultiIndex, Int64Index\n"
     ]
    }
   ],
   "source": [
    "import numpy as np\n",
    "import math\n",
    "import pandas as pd\n",
    "from sklearn.model_selection import cross_val_score\n",
    "from sklearn.metrics import mean_squared_error, f1_score\n",
    "from sklearn import preprocessing\n",
    "from sklearn.model_selection import GridSearchCV, PredefinedSplit\n",
    "from pandas import MultiIndex, Int64Index\n",
    "# models\n",
    "from sklearn.linear_model import LinearRegression\n",
    "from sklearn.tree import DecisionTreeRegressor\n",
    "from sklearn.svm import SVR\n",
    "from sklearn.svm import LinearSVR\n",
    "import xgboost as xgb\n",
    "\n",
    "from sklearn.linear_model import LinearRegression\n",
    "from sklearn.model_selection import cross_val_score\n",
    "from sklearn.model_selection import KFold\n",
    "\n",
    "import optuna\n",
    "import pandas as pd\n",
    "from sklearn import ensemble\n",
    "from sklearn import datasets\n",
    "from sklearn import model_selection\n",
    "\n",
    "from autogluon.tabular import TabularDataset, TabularPredictor\n",
    "import autogluon.core as ag\n",
    "from sklearn.model_selection import train_test_split\n",
    "import bokeh\n",
    "\n"
   ]
  },
  {
   "cell_type": "code",
   "execution_count": 2,
   "metadata": {},
   "outputs": [],
   "source": [
    "#!pip3 install xgboost\n",
    "#!pip3 install optuna\n",
    "#!pip install autogluon --upgrade\n",
    "# !pip install optuna\n",
    "# !pip install scipy\n",
    "# !pip install autogluon\n",
    "# !pip install xgboost\n",
    "# !python3.9 -m pip install --upgrade pip\n",
    "#!pip install bokeh==2.0.1\n",
    "#!pip install jupyter --upgrade\n"
   ]
  },
  {
   "cell_type": "code",
   "execution_count": 3,
   "metadata": {},
   "outputs": [],
   "source": [
    "#!conda install mxnet\n",
    "#import mxnet"
   ]
  },
  {
   "cell_type": "code",
   "execution_count": 4,
   "metadata": {},
   "outputs": [],
   "source": [
    "df_train = pd.read_csv('../data/train_encoded_1.csv')\n",
    "df_test = pd.read_csv('../data/test_encoded_1.csv')"
   ]
  },
  {
   "cell_type": "code",
   "execution_count": 5,
   "metadata": {},
   "outputs": [],
   "source": [
    "np.random.seed(0)\n",
    "train, valid = train_test_split(df_train, test_size=0.2)"
   ]
  },
  {
   "cell_type": "code",
   "execution_count": 6,
   "metadata": {},
   "outputs": [],
   "source": [
    "combined = df_train.drop(['price', 'size_sqft'], axis=1)\n",
    "X_train = train.drop(['price', 'size_sqft'], axis=1)\n",
    "\n",
    "X_valid = valid.drop(['price', 'size_sqft'], axis=1)\n",
    "y_valid = valid['price_per_sqft']\n",
    "\n",
    "df_test_size_sqft = df_test['size_sqft'].copy()\n",
    "df_test= df_test.drop(['size_sqft'], axis=1)\n",
    "\n",
    "metric_reg = 'mean_absolute_error'\n",
    "label_reg = 'price_per_sqft'\n",
    "train_data_reg = TabularDataset(X_train) \n",
    "valid_data_reg = TabularDataset(X_valid)\n",
    "test_data_reg = TabularDataset(df_test)\n",
    "combined = TabularDataset(combined)\n",
    "\n"
   ]
  },
  {
   "cell_type": "markdown",
   "metadata": {},
   "source": [
    "Tabular Predictor"
   ]
  },
  {
   "cell_type": "code",
   "execution_count": null,
   "metadata": {},
   "outputs": [
    {
     "name": "stderr",
     "output_type": "stream",
     "text": [
      "Presets specified: ['best_quality']\n",
      "Warning: hyperparameter tuning is currently experimental and may cause the process to hang.\n",
      "Stack configuration (auto_stack=True): num_stack_levels=1, num_bag_folds=8, num_bag_sets=1\n",
      "Beginning AutoGluon training ...\n",
      "AutoGluon will save models to \"Autogluon_20k_featureset/\"\n",
      "AutoGluon Version:  0.5.2\n",
      "Python Version:     3.9.7\n",
      "Operating System:   Darwin\n",
      "Train Data Rows:    20147\n",
      "Train Data Columns: 31\n",
      "Label Column: price_per_sqft\n",
      "Preprocessing data ...\n",
      "AutoGluon infers your prediction problem is: 'regression' (because dtype of label-column == float and many unique label-values observed).\n",
      "\tLabel info (max, min, mean, stddev): (4486.890450010187, 447.8293983244478, 1719.76428, 982.28364)\n",
      "\tIf 'regression' is not the correct problem_type, please manually specify the problem_type parameter during predictor init (You may specify problem_type as one of: ['binary', 'multiclass', 'regression'])\n",
      "Using Feature Generators to preprocess the data ...\n",
      "Fitting AutoMLPipelineFeatureGenerator...\n",
      "\tAvailable Memory:                    6123.77 MB\n",
      "\tTrain Data (Original)  Memory Usage: 5.0 MB (0.1% of available memory)\n",
      "\tInferring data type of each feature based on column values. Set feature_metadata_in to manually specify special dtypes of the features.\n",
      "\tStage 1 Generators:\n",
      "\t\tFitting AsTypeFeatureGenerator...\n",
      "\t\t\tNote: Converting 14 features to boolean dtype as they only contain 2 unique values.\n",
      "\tStage 2 Generators:\n",
      "\t\tFitting FillNaFeatureGenerator...\n",
      "\tStage 3 Generators:\n",
      "\t\tFitting IdentityFeatureGenerator...\n",
      "\tStage 4 Generators:\n",
      "\t\tFitting DropUniqueFeatureGenerator...\n",
      "\tTypes of features in original data (raw dtype, special dtypes):\n",
      "\t\t('float', []) : 15 | ['num_beds', 'num_baths', 'built_year', 'pri_sch', 'sec_sch', ...]\n",
      "\t\t('int', [])   : 16 | ['close_pri_sch', 'close_sec_sch', 'property_type_cluster house', 'property_type_condo', 'property_type_corner terrace', ...]\n",
      "\tTypes of features in processed data (raw dtype, special dtypes):\n",
      "\t\t('float', [])     : 15 | ['num_beds', 'num_baths', 'built_year', 'pri_sch', 'sec_sch', ...]\n",
      "\t\t('int', [])       :  2 | ['close_pri_sch', 'close_sec_sch']\n",
      "\t\t('int', ['bool']) : 14 | ['property_type_cluster house', 'property_type_condo', 'property_type_corner terrace', 'property_type_executive condo', 'property_type_hdb', ...]\n",
      "\t0.1s = Fit runtime\n",
      "\t31 features in original data used to generate 31 features in processed data.\n",
      "\tTrain Data (Processed) Memory Usage: 3.02 MB (0.0% of available memory)\n",
      "Data preprocessing and feature engineering runtime = 0.21s ...\n",
      "AutoGluon will gauge predictive performance using evaluation metric: 'mean_absolute_error'\n",
      "\tThis metric's sign has been flipped to adhere to being higher_is_better. The metric score can be multiplied by -1 to get the metric value.\n",
      "\tTo change this, specify the eval_metric parameter of Predictor()\n",
      "AutoGluon will fit 2 stack levels (L1 to L2) ...\n",
      "Excluded Model Types: ['FASTAI', 'KNN', 'RF', 'XGB']\n",
      "Fitting 4 L1 models ...\n",
      "Hyperparameter tuning model: LightGBMXT_BAG_L1 ...\n"
     ]
    },
    {
     "data": {
      "application/vnd.jupyter.widget-view+json": {
       "model_id": "609727c27b284ac481695d2c6c7134cb",
       "version_major": 2,
       "version_minor": 0
      },
      "text/plain": [
       "  0%|          | 0/3 [00:00<?, ?it/s]"
      ]
     },
     "metadata": {},
     "output_type": "display_data"
    },
    {
     "name": "stdout",
     "output_type": "stream",
     "text": [
      "[1000]\tvalid_set's l1: 145.632\n",
      "[2000]\tvalid_set's l1: 142.047\n",
      "[3000]\tvalid_set's l1: 140.938\n",
      "[4000]\tvalid_set's l1: 140.29\n",
      "[5000]\tvalid_set's l1: 140.097\n",
      "[6000]\tvalid_set's l1: 139.92\n",
      "[7000]\tvalid_set's l1: 139.972\n",
      "[1000]\tvalid_set's l1: 139.495\n",
      "[1000]\tvalid_set's l1: 146.828\n",
      "[2000]\tvalid_set's l1: 143.577\n",
      "[3000]\tvalid_set's l1: 142.29\n",
      "[4000]\tvalid_set's l1: 141.629\n",
      "[5000]\tvalid_set's l1: 141.449\n",
      "[6000]\tvalid_set's l1: 141.407\n",
      "[7000]\tvalid_set's l1: 141.43\n"
     ]
    },
    {
     "name": "stderr",
     "output_type": "stream",
     "text": [
      "Fitted model: LightGBMXT_BAG_L1/T1 ...\n",
      "\t-139.8374\t = Validation score   (-mean_absolute_error)\n",
      "\t7.93s\t = Training   runtime\n",
      "\t0.34s\t = Validation runtime\n",
      "Fitted model: LightGBMXT_BAG_L1/T2 ...\n",
      "\t-139.1468\t = Validation score   (-mean_absolute_error)\n",
      "\t3.63s\t = Training   runtime\n",
      "\t0.09s\t = Validation runtime\n",
      "Fitted model: LightGBMXT_BAG_L1/T3 ...\n",
      "\t-141.3145\t = Validation score   (-mean_absolute_error)\n",
      "\t13.4s\t = Training   runtime\n",
      "\t0.55s\t = Validation runtime\n",
      "Hyperparameter tuning model: CatBoost_BAG_L1 ...\n"
     ]
    },
    {
     "data": {
      "application/vnd.jupyter.widget-view+json": {
       "model_id": "57c1200f76ed47f9842a28f42d0d1f4f",
       "version_major": 2,
       "version_minor": 0
      },
      "text/plain": [
       "  0%|          | 0/3 [00:00<?, ?it/s]"
      ]
     },
     "metadata": {},
     "output_type": "display_data"
    },
    {
     "name": "stderr",
     "output_type": "stream",
     "text": [
      "Fitted model: CatBoost_BAG_L1/T1 ...\n",
      "\t-136.9105\t = Validation score   (-mean_absolute_error)\n",
      "\t168.88s\t = Training   runtime\n",
      "\t0.01s\t = Validation runtime\n",
      "Fitted model: CatBoost_BAG_L1/T2 ...\n",
      "\t-137.3539\t = Validation score   (-mean_absolute_error)\n",
      "\t164.47s\t = Training   runtime\n",
      "\t0.01s\t = Validation runtime\n",
      "Fitted model: CatBoost_BAG_L1/T3 ...\n",
      "\t-135.5841\t = Validation score   (-mean_absolute_error)\n",
      "\t199.94s\t = Training   runtime\n",
      "\t0.02s\t = Validation runtime\n",
      "Hyperparameter tuning model: ExtraTrees_BAG_L1 ...\n",
      "\tNo hyperparameter search space specified for ExtraTrees. Skipping HPO. Will train one model based on the provided hyperparameters.\n",
      "Warning: Exception caused ExtraTrees_BAG_L1 to fail during hyperparameter tuning... Skipping this model.\n",
      "Traceback (most recent call last):\n",
      "  File \"/Users/nishita/miniconda3/lib/python3.9/site-packages/autogluon/core/trainer/abstract_trainer.py\", line 1380, in _train_single_full\n",
      "    hpo_models, hpo_results = model.hyperparameter_tune(\n",
      "  File \"/Users/nishita/miniconda3/lib/python3.9/site-packages/autogluon/core/models/abstract/abstract_model.py\", line 1001, in hyperparameter_tune\n",
      "    return self._hyperparameter_tune(hpo_executor=hpo_executor, **kwargs)\n",
      "  File \"/Users/nishita/miniconda3/lib/python3.9/site-packages/autogluon/core/models/ensemble/stacker_ensemble_model.py\", line 182, in _hyperparameter_tune\n",
      "    return super()._hyperparameter_tune(X=X, y=y, k_fold=k_fold, hpo_executor=hpo_executor, preprocess_kwargs=preprocess_kwargs, **kwargs)\n",
      "  File \"/Users/nishita/miniconda3/lib/python3.9/site-packages/autogluon/core/models/ensemble/bagged_ensemble_model.py\", line 1080, in _hyperparameter_tune\n",
      "    model_path = model_info['path']\n",
      "TypeError: string indices must be integers\n",
      "string indices must be integers\n",
      "Hyperparameter tuning model: NeuralNetTorch_BAG_L1 ...\n",
      "Fitted model: NeuralNetTorch_BAG_L1/T1 ...\n",
      "\t-141.4329\t = Validation score   (-mean_absolute_error)\n",
      "\t111.04s\t = Training   runtime\n",
      "\t0.05s\t = Validation runtime\n",
      "Fitted model: NeuralNetTorch_BAG_L1/T2 ...\n",
      "\t-145.154\t = Validation score   (-mean_absolute_error)\n",
      "\t95.87s\t = Training   runtime\n",
      "\t0.04s\t = Validation runtime\n",
      "Fitted model: NeuralNetTorch_BAG_L1/T3 ...\n",
      "\t-152.4401\t = Validation score   (-mean_absolute_error)\n",
      "\t167.76s\t = Training   runtime\n",
      "\t0.1s\t = Validation runtime\n",
      "Fitting model: LightGBMXT_BAG_L1/T1 ...\n",
      "\tFitting 7 child models (S1F2 - S1F8) | Fitting with SequentialLocalFoldFittingStrategy\n"
     ]
    },
    {
     "name": "stdout",
     "output_type": "stream",
     "text": [
      "[1000]\tvalid_set's l1: 146.828\n",
      "[2000]\tvalid_set's l1: 142.987\n",
      "[3000]\tvalid_set's l1: 141.574\n",
      "[4000]\tvalid_set's l1: 140.828\n",
      "[5000]\tvalid_set's l1: 140.489\n",
      "[6000]\tvalid_set's l1: 140.435\n",
      "[7000]\tvalid_set's l1: 140.37\n",
      "[8000]\tvalid_set's l1: 140.26\n",
      "[9000]\tvalid_set's l1: 140.462\n",
      "[10000]\tvalid_set's l1: 140.626\n",
      "[1000]\tvalid_set's l1: 150.299\n",
      "[2000]\tvalid_set's l1: 147.161\n",
      "[3000]\tvalid_set's l1: 146.778\n",
      "[1000]\tvalid_set's l1: 148.788\n",
      "[2000]\tvalid_set's l1: 145.241\n",
      "[3000]\tvalid_set's l1: 143.967\n",
      "[4000]\tvalid_set's l1: 143.584\n",
      "[5000]\tvalid_set's l1: 143.416\n",
      "[6000]\tvalid_set's l1: 143.227\n",
      "[1000]\tvalid_set's l1: 149.852\n",
      "[2000]\tvalid_set's l1: 145.446\n",
      "[3000]\tvalid_set's l1: 143.911\n",
      "[4000]\tvalid_set's l1: 143.36\n",
      "[5000]\tvalid_set's l1: 142.95\n",
      "[6000]\tvalid_set's l1: 142.616\n",
      "[7000]\tvalid_set's l1: 142.418\n",
      "[8000]\tvalid_set's l1: 142.387\n",
      "[9000]\tvalid_set's l1: 142.614\n",
      "[10000]\tvalid_set's l1: 142.562\n",
      "[1000]\tvalid_set's l1: 149.538\n",
      "[2000]\tvalid_set's l1: 146.141\n",
      "[3000]\tvalid_set's l1: 145.185\n",
      "[4000]\tvalid_set's l1: 144.623\n",
      "[5000]\tvalid_set's l1: 144.582\n",
      "[6000]\tvalid_set's l1: 144.375\n",
      "[7000]\tvalid_set's l1: 144.334\n",
      "[8000]\tvalid_set's l1: 144.346\n",
      "[9000]\tvalid_set's l1: 144.523\n",
      "[1000]\tvalid_set's l1: 146.907\n",
      "[2000]\tvalid_set's l1: 144.474\n",
      "[3000]\tvalid_set's l1: 143.52\n",
      "[4000]\tvalid_set's l1: 143.363\n",
      "[5000]\tvalid_set's l1: 143.226\n",
      "[6000]\tvalid_set's l1: 142.959\n",
      "[7000]\tvalid_set's l1: 143.017\n",
      "[1000]\tvalid_set's l1: 142.259\n",
      "[2000]\tvalid_set's l1: 139.559\n",
      "[3000]\tvalid_set's l1: 139.024\n"
     ]
    },
    {
     "name": "stderr",
     "output_type": "stream",
     "text": [
      "\t-142.2841\t = Validation score   (-mean_absolute_error)\n",
      "\t68.35s\t = Training   runtime\n",
      "\t3.16s\t = Validation runtime\n",
      "Fitting model: LightGBMXT_BAG_L1/T2 ...\n",
      "\tFitting 7 child models (S1F2 - S1F8) | Fitting with SequentialLocalFoldFittingStrategy\n"
     ]
    },
    {
     "name": "stdout",
     "output_type": "stream",
     "text": [
      "[1000]\tvalid_set's l1: 138.228\n",
      "[2000]\tvalid_set's l1: 137.007\n",
      "[3000]\tvalid_set's l1: 137.016\n",
      "[1000]\tvalid_set's l1: 143.219\n",
      "[1000]\tvalid_set's l1: 139.606\n",
      "[2000]\tvalid_set's l1: 138.823\n",
      "[1000]\tvalid_set's l1: 141.252\n",
      "[2000]\tvalid_set's l1: 140.5\n",
      "[1000]\tvalid_set's l1: 140.4\n"
     ]
    },
    {
     "name": "stderr",
     "output_type": "stream",
     "text": [
      "\t-140.4737\t = Validation score   (-mean_absolute_error)\n",
      "\t32.21s\t = Training   runtime\n",
      "\t0.84s\t = Validation runtime\n",
      "Fitting model: LightGBMXT_BAG_L1/T3 ...\n",
      "\tFitting 7 child models (S1F2 - S1F8) | Fitting with SequentialLocalFoldFittingStrategy\n"
     ]
    },
    {
     "name": "stdout",
     "output_type": "stream",
     "text": [
      "[1000]\tvalid_set's l1: 145.935\n",
      "[2000]\tvalid_set's l1: 143.419\n",
      "[3000]\tvalid_set's l1: 142.617\n",
      "[4000]\tvalid_set's l1: 142.218\n",
      "[5000]\tvalid_set's l1: 142.238\n",
      "[6000]\tvalid_set's l1: 142.352\n",
      "[1000]\tvalid_set's l1: 150.89\n",
      "[2000]\tvalid_set's l1: 147.954\n",
      "[3000]\tvalid_set's l1: 147.727\n",
      "[1000]\tvalid_set's l1: 148.211\n",
      "[2000]\tvalid_set's l1: 145.611\n",
      "[3000]\tvalid_set's l1: 145.164\n",
      "[4000]\tvalid_set's l1: 144.682\n",
      "[5000]\tvalid_set's l1: 144.812\n",
      "[1000]\tvalid_set's l1: 150.253\n",
      "[2000]\tvalid_set's l1: 146.852\n",
      "[3000]\tvalid_set's l1: 145.301\n",
      "[4000]\tvalid_set's l1: 144.615\n",
      "[5000]\tvalid_set's l1: 144.455\n",
      "[6000]\tvalid_set's l1: 144.25\n",
      "[7000]\tvalid_set's l1: 144.255\n",
      "[8000]\tvalid_set's l1: 144.25\n",
      "[1000]\tvalid_set's l1: 149.982\n",
      "[2000]\tvalid_set's l1: 147.42\n",
      "[3000]\tvalid_set's l1: 146.537\n",
      "[4000]\tvalid_set's l1: 146.069\n",
      "[5000]\tvalid_set's l1: 146.03\n",
      "[6000]\tvalid_set's l1: 146.014\n",
      "[7000]\tvalid_set's l1: 145.788\n",
      "[8000]\tvalid_set's l1: 145.83\n",
      "[9000]\tvalid_set's l1: 145.934\n",
      "[1000]\tvalid_set's l1: 147.454\n",
      "[2000]\tvalid_set's l1: 145.407\n",
      "[3000]\tvalid_set's l1: 144.85\n",
      "[1000]\tvalid_set's l1: 142.035\n",
      "[2000]\tvalid_set's l1: 140.294\n",
      "[3000]\tvalid_set's l1: 140.448\n"
     ]
    },
    {
     "name": "stderr",
     "output_type": "stream",
     "text": [
      "\t-143.8167\t = Validation score   (-mean_absolute_error)\n",
      "\t94.63s\t = Training   runtime\n",
      "\t3.94s\t = Validation runtime\n",
      "Fitting model: CatBoost_BAG_L1/T1 ...\n",
      "\tFitting 7 child models (S1F2 - S1F8) | Fitting with SequentialLocalFoldFittingStrategy\n",
      "\t-139.1353\t = Validation score   (-mean_absolute_error)\n",
      "\t1381.51s\t = Training   runtime\n",
      "\t0.09s\t = Validation runtime\n",
      "Fitting model: CatBoost_BAG_L1/T2 ...\n",
      "\tFitting 7 child models (S1F2 - S1F8) | Fitting with SequentialLocalFoldFittingStrategy\n",
      "\t-140.3417\t = Validation score   (-mean_absolute_error)\n",
      "\t1230.48s\t = Training   runtime\n",
      "\t0.07s\t = Validation runtime\n",
      "Fitting model: CatBoost_BAG_L1/T3 ...\n",
      "\tFitting 7 child models (S1F2 - S1F8) | Fitting with SequentialLocalFoldFittingStrategy\n"
     ]
    }
   ],
   "source": [
    "predictor = TabularPredictor(label = label_reg, eval_metric = metric_reg, path = 'Autogluon_20k_featureset')\n",
    "\n",
    "gbm_options = {  # specifies non-default hyperparameter values for lightGBM gradient boosted trees\n",
    "    'num_boost_round': 100,  # number of boosting rounds (controls training time of GBM models)\n",
    "    'num_leaves': ag.space.Int(lower=26, upper=66, default=36),  # number of leaves in trees (integer hyperparameter)\n",
    "}\n",
    "\n",
    "hyperparameters = {\n",
    " 'NN_TORCH': {},\n",
    " 'GBM': [{'extra_trees': True, 'ag_args': {'name_suffix': 'XT'}}],\n",
    " 'CAT': {},\n",
    " #'NN_MXNET':{},\n",
    " 'XT':{}\n",
    "}\n",
    "\n",
    "time_limit = 30*60  # train various models for ~5 min\n",
    "num_trials = 3  # try at most 5 different hyperparameter configurations for each type of model\n",
    "search_strategy = 'auto'  # to tune hyperparameters using random search routine with a local scheduler\n",
    "\n",
    "hyperparameter_tune_kwargs = {  # HPO is not performed unless hyperparameter_tune_kwargs is specified\n",
    "    'num_trials': num_trials,\n",
    "    'scheduler' : 'local',\n",
    "    'searcher': search_strategy,\n",
    "}\n",
    "\n",
    "\n",
    "\n",
    "#excluded_model_types = ['NN_TORCH', 'FASTAI', 'KNN', 'CAT', 'RF']\n",
    "excluded_model_types = ['FASTAI', 'KNN', 'RF', 'XGB']\n",
    "predictor_reg = predictor.fit(combined, excluded_model_types = excluded_model_types\n",
    ",hyperparameters=hyperparameters\n",
    "#,tuning_data=valid_data_reg\n",
    ",hyperparameter_tune_kwargs=hyperparameter_tune_kwargs, presets='best_quality'\n",
    "\n",
    ")\n"
   ]
  },
  {
   "cell_type": "code",
   "execution_count": 25,
   "metadata": {},
   "outputs": [
    {
     "data": {
      "text/plain": [
       "{'GBM': [{'extra_trees': True, 'ag_args': {'name_suffix': 'XT'}}],\n",
       " 'CAT': {},\n",
       " 'XT': {}}"
      ]
     },
     "execution_count": 25,
     "metadata": {},
     "output_type": "execute_result"
    }
   ],
   "source": [
    "#/Users/nishita/Documents/Semester 1/CS5228/project/notebooks/AutogluonModels/ag-20221027_054028\n",
    "folderName = \"AutogluonModels/ag-20221028_001415/\"\n",
    "predictor = TabularPredictor.load(folderName)\n",
    "predictor.fit_hyperparameters_"
   ]
  },
  {
   "cell_type": "code",
   "execution_count": 32,
   "metadata": {},
   "outputs": [
    {
     "name": "stderr",
     "output_type": "stream",
     "text": [
      "/usr/local/lib/python3.9/site-packages/catboost/core.py:1411: FutureWarning: iteritems is deprecated and will be removed in a future version. Use .items instead.\n",
      "  self._init_pool(data, label, cat_features, text_features, embedding_features, embedding_features_data, pairs, weight,\n",
      "/usr/local/lib/python3.9/site-packages/catboost/core.py:1411: FutureWarning: iteritems is deprecated and will be removed in a future version. Use .items instead.\n",
      "  self._init_pool(data, label, cat_features, text_features, embedding_features, embedding_features_data, pairs, weight,\n",
      "/usr/local/lib/python3.9/site-packages/catboost/core.py:1411: FutureWarning: iteritems is deprecated and will be removed in a future version. Use .items instead.\n",
      "  self._init_pool(data, label, cat_features, text_features, embedding_features, embedding_features_data, pairs, weight,\n",
      "/usr/local/lib/python3.9/site-packages/catboost/core.py:1411: FutureWarning: iteritems is deprecated and will be removed in a future version. Use .items instead.\n",
      "  self._init_pool(data, label, cat_features, text_features, embedding_features, embedding_features_data, pairs, weight,\n",
      "Evaluation: mean_absolute_error on test data: -145.6304617727714\n",
      "\tNote: Scores are always higher_is_better. This metric score can be multiplied by -1 to get the metric value.\n",
      "Evaluations on test data:\n",
      "{\n",
      "    \"mean_absolute_error\": -145.6304617727714,\n",
      "    \"root_mean_squared_error\": -292.88972240525686,\n",
      "    \"mean_squared_error\": -85784.38949062843,\n",
      "    \"r2\": 0.9066739116978073,\n",
      "    \"pearsonr\": 0.9522197563763414,\n",
      "    \"median_absolute_error\": -74.19214787232931\n",
      "}\n"
     ]
    },
    {
     "data": {
      "text/plain": [
       "{'mean_absolute_error': -145.6304617727714,\n",
       " 'root_mean_squared_error': -292.88972240525686,\n",
       " 'mean_squared_error': -85784.38949062843,\n",
       " 'r2': 0.9066739116978073,\n",
       " 'pearsonr': 0.9522197563763414,\n",
       " 'median_absolute_error': -74.19214787232931}"
      ]
     },
     "execution_count": 32,
     "metadata": {},
     "output_type": "execute_result"
    }
   ],
   "source": [
    "predictor.evaluate(valid_data_reg)"
   ]
  },
  {
   "cell_type": "code",
   "execution_count": 27,
   "metadata": {},
   "outputs": [
    {
     "name": "stdout",
     "output_type": "stream",
     "text": [
      "*** Summary of fit() ***\n",
      "Estimated performance of each model:\n",
      "                   model   score_val  pred_time_val     fit_time  pred_time_val_marginal  fit_time_marginal  stack_level  can_infer  fit_order\n",
      "0    WeightedEnsemble_L3 -142.068417       8.135790  4147.233197                0.000648           0.317045            3       True         14\n",
      "1    WeightedEnsemble_L2 -142.819399       1.044720  3722.726048                0.000689           0.312974            2       True          7\n",
      "2     CatBoost_BAG_L1/T3 -143.111538       0.090473  1497.658844                0.090473        1497.658844            1       True          6\n",
      "3     CatBoost_BAG_L1/T1 -144.831912       0.068832  1319.087439                0.068832        1319.087439            1       True          4\n",
      "4     CatBoost_BAG_L2/T3 -145.295000       6.332602  4048.957216                0.042637         191.765848            2       True         13\n",
      "5   LightGBMXT_BAG_L2/T2 -145.501135       8.025588  3922.734464                1.735623          65.543096            2       True          9\n",
      "6     CatBoost_BAG_L2/T1 -145.817670       6.326097  3877.875054                0.036132          20.683686            2       True         11\n",
      "7     CatBoost_BAG_L1/T2 -146.683875       0.054682   870.655154                0.054682         870.655154            1       True          5\n",
      "8     CatBoost_BAG_L2/T2 -147.240297       6.320750  3868.923522                0.030785          11.732154            2       True         12\n",
      "9   LightGBMXT_BAG_L2/T1 -147.337120       6.964532  3874.731797                0.674567          17.540429            2       True          8\n",
      "10  LightGBMXT_BAG_L1/T2 -147.680251       0.830043    35.011637                0.830043          35.011637            1       True          2\n",
      "11  LightGBMXT_BAG_L2/T3 -149.488395       6.378761  3865.846094                0.088795           8.654727            2       True         10\n",
      "12  LightGBMXT_BAG_L1/T1 -150.030971       2.011004    53.124353                2.011004          53.124353            1       True          1\n",
      "13  LightGBMXT_BAG_L1/T3 -151.390195       3.234931    81.653941                3.234931          81.653941            1       True          3\n",
      "Number of models trained: 14\n",
      "Types of models trained:\n",
      "{'StackerEnsembleModel_LGB', 'WeightedEnsembleModel', 'StackerEnsembleModel_CatBoost'}\n",
      "Bagging used: True  (with 8 folds)\n",
      "Multi-layer stack-ensembling used: True  (with 3 levels)\n",
      "Feature Metadata (Processed):\n",
      "(raw dtype, special dtypes):\n",
      "('float', [])     : 14 | ['num_beds', 'num_baths', 'built_year', 'pri_sch', 'sec_sch', ...]\n",
      "('int', [])       :  3 | ['close_pri_sch', 'close_sec_sch', 'psf_bbox']\n",
      "('int', ['bool']) : 14 | ['property_type_cluster house', 'property_type_condo', 'property_type_corner terrace', 'property_type_executive condo', 'property_type_hdb', ...]\n",
      "Plot summary of models saved to file: AutogluonModels/ag-20221028_001415/SummaryOfModels.html\n",
      "*** End of fit() summary ***\n"
     ]
    }
   ],
   "source": [
    "#With target encoding and less one hot encoding.\n",
    "predictor = TabularPredictor.load(folderName)\n",
    "results = predictor.fit_summary(show_plot=True)\n",
    "\n",
    "def writePredictionsToFile(modelName, filename, folder = folderName, refit = False):\n",
    "    if(refit == True):\n",
    "        modelName = modelName +  '_FULL'    \n",
    "    y_pred = predictor.predict(test_data_reg, model=modelName)\n",
    "    yTest = y_pred * df_test_size_sqft\n",
    "    yTest = pd.DataFrame(yTest, columns=['Predicted'], index=df_test.index)\n",
    "    yTest.to_csv(f'{folder}/predictions/{filename}.csv')\n"
   ]
  },
  {
   "cell_type": "code",
   "execution_count": 28,
   "metadata": {},
   "outputs": [
    {
     "name": "stderr",
     "output_type": "stream",
     "text": [
      "/usr/local/lib/python3.9/site-packages/catboost/core.py:1411: FutureWarning: iteritems is deprecated and will be removed in a future version. Use .items instead.\n",
      "  self._init_pool(data, label, cat_features, text_features, embedding_features, embedding_features_data, pairs, weight,\n",
      "/usr/local/lib/python3.9/site-packages/catboost/core.py:1411: FutureWarning: iteritems is deprecated and will be removed in a future version. Use .items instead.\n",
      "  self._init_pool(data, label, cat_features, text_features, embedding_features, embedding_features_data, pairs, weight,\n",
      "/usr/local/lib/python3.9/site-packages/catboost/core.py:1411: FutureWarning: iteritems is deprecated and will be removed in a future version. Use .items instead.\n",
      "  self._init_pool(data, label, cat_features, text_features, embedding_features, embedding_features_data, pairs, weight,\n",
      "/usr/local/lib/python3.9/site-packages/catboost/core.py:1411: FutureWarning: iteritems is deprecated and will be removed in a future version. Use .items instead.\n",
      "  self._init_pool(data, label, cat_features, text_features, embedding_features, embedding_features_data, pairs, weight,\n"
     ]
    },
    {
     "name": "stdout",
     "output_type": "stream",
     "text": [
      "                   model  score_test   score_val  pred_time_test  pred_time_val     fit_time  pred_time_test_marginal  pred_time_val_marginal  fit_time_marginal  stack_level  can_infer  fit_order\n",
      "0    WeightedEnsemble_L3 -145.630462 -142.068417       19.243859       8.135790  4147.233197                 0.004866                0.000648           0.317045            3       True         14\n",
      "1     CatBoost_BAG_L2/T3 -146.081631 -145.295000       14.932324       6.332602  4048.957216                 0.117428                0.042637         191.765848            2       True         13\n",
      "2    WeightedEnsemble_L2 -146.426780 -142.819399        2.739450       1.044720  3722.726048                 0.006107                0.000689           0.312974            2       True          7\n",
      "3     CatBoost_BAG_L1/T1 -146.484567 -144.831912        0.185685       0.068832  1319.087439                 0.185685                0.068832        1319.087439            1       True          4\n",
      "4     CatBoost_BAG_L2/T1 -146.715362 -145.817670       14.884269       6.326097  3877.875054                 0.069373                0.036132          20.683686            2       True         11\n",
      "5     CatBoost_BAG_L1/T3 -146.802133 -143.111538        0.380586       0.090473  1497.658844                 0.380586                0.090473        1497.658844            1       True          6\n",
      "6   LightGBMXT_BAG_L2/T2 -146.842999 -145.501135       19.002597       8.025588  3922.734464                 4.187701                1.735623          65.543096            2       True          9\n",
      "7     CatBoost_BAG_L1/T2 -147.213200 -146.683875        0.120403       0.054682   870.655154                 0.120403                0.054682         870.655154            1       True          5\n",
      "8   LightGBMXT_BAG_L2/T1 -148.066404 -147.337120       16.162264       6.964532  3874.731797                 1.347368                0.674567          17.540429            2       True          8\n",
      "9     CatBoost_BAG_L2/T2 -148.288307 -147.240297       14.864491       6.320750  3868.923522                 0.049595                0.030785          11.732154            2       True         12\n",
      "10  LightGBMXT_BAG_L1/T2 -148.405843 -147.680251        2.046668       0.830043    35.011637                 2.046668                0.830043          35.011637            1       True          2\n",
      "11  LightGBMXT_BAG_L2/T3 -149.291658 -149.488395       14.989481       6.378761  3865.846094                 0.174585                0.088795           8.654727            2       True         10\n",
      "12  LightGBMXT_BAG_L1/T1 -150.838878 -150.030971        4.882473       2.011004    53.124353                 4.882473                2.011004          53.124353            1       True          1\n",
      "13  LightGBMXT_BAG_L1/T3 -153.234301 -151.390195        7.199081       3.234931    81.653941                 7.199081                3.234931          81.653941            1       True          3\n"
     ]
    },
    {
     "name": "stderr",
     "output_type": "stream",
     "text": [
      "/usr/local/lib/python3.9/site-packages/catboost/core.py:1411: FutureWarning: iteritems is deprecated and will be removed in a future version. Use .items instead.\n",
      "  self._init_pool(data, label, cat_features, text_features, embedding_features, embedding_features_data, pairs, weight,\n",
      "/usr/local/lib/python3.9/site-packages/catboost/core.py:1411: FutureWarning: iteritems is deprecated and will be removed in a future version. Use .items instead.\n",
      "  self._init_pool(data, label, cat_features, text_features, embedding_features, embedding_features_data, pairs, weight,\n",
      "/usr/local/lib/python3.9/site-packages/catboost/core.py:1411: FutureWarning: iteritems is deprecated and will be removed in a future version. Use .items instead.\n",
      "  self._init_pool(data, label, cat_features, text_features, embedding_features, embedding_features_data, pairs, weight,\n",
      "/usr/local/lib/python3.9/site-packages/catboost/core.py:1411: FutureWarning: iteritems is deprecated and will be removed in a future version. Use .items instead.\n",
      "  self._init_pool(data, label, cat_features, text_features, embedding_features, embedding_features_data, pairs, weight,\n",
      "Evaluation: mean_absolute_error on test data: -145.6304617727714\n",
      "\tNote: Scores are always higher_is_better. This metric score can be multiplied by -1 to get the metric value.\n",
      "Evaluations on test data:\n",
      "{\n",
      "    \"mean_absolute_error\": -145.6304617727714,\n",
      "    \"root_mean_squared_error\": -292.88972240525686,\n",
      "    \"mean_squared_error\": -85784.38949062843,\n",
      "    \"r2\": 0.9066739116978073,\n",
      "    \"pearsonr\": 0.9522197563763414,\n",
      "    \"median_absolute_error\": -74.19214787232931\n",
      "}\n"
     ]
    },
    {
     "data": {
      "text/plain": [
       "{'mean_absolute_error': -145.6304617727714,\n",
       " 'root_mean_squared_error': -292.88972240525686,\n",
       " 'mean_squared_error': -85784.38949062843,\n",
       " 'r2': 0.9066739116978073,\n",
       " 'pearsonr': 0.9522197563763414,\n",
       " 'median_absolute_error': -74.19214787232931}"
      ]
     },
     "execution_count": 28,
     "metadata": {},
     "output_type": "execute_result"
    }
   ],
   "source": [
    "predictor.leaderboard(valid_data_reg)\n",
    "predictor.evaluate(valid_data_reg)"
   ]
  },
  {
   "cell_type": "code",
   "execution_count": 30,
   "metadata": {},
   "outputs": [
    {
     "name": "stderr",
     "output_type": "stream",
     "text": [
      "/usr/local/lib/python3.9/site-packages/catboost/core.py:1411: FutureWarning: iteritems is deprecated and will be removed in a future version. Use .items instead.\n",
      "  self._init_pool(data, label, cat_features, text_features, embedding_features, embedding_features_data, pairs, weight,\n"
     ]
    }
   ],
   "source": [
    "writePredictionsToFile(modelName = 'WeightedEnsemble_L2', filename = 'WeightedEnsemble_L2')\n"
   ]
  },
  {
   "cell_type": "code",
   "execution_count": 31,
   "metadata": {},
   "outputs": [
    {
     "name": "stderr",
     "output_type": "stream",
     "text": [
      "/usr/local/lib/python3.9/site-packages/catboost/core.py:1411: FutureWarning: iteritems is deprecated and will be removed in a future version. Use .items instead.\n",
      "  self._init_pool(data, label, cat_features, text_features, embedding_features, embedding_features_data, pairs, weight,\n",
      "/usr/local/lib/python3.9/site-packages/catboost/core.py:1411: FutureWarning: iteritems is deprecated and will be removed in a future version. Use .items instead.\n",
      "  self._init_pool(data, label, cat_features, text_features, embedding_features, embedding_features_data, pairs, weight,\n",
      "/usr/local/lib/python3.9/site-packages/catboost/core.py:1411: FutureWarning: iteritems is deprecated and will be removed in a future version. Use .items instead.\n",
      "  self._init_pool(data, label, cat_features, text_features, embedding_features, embedding_features_data, pairs, weight,\n"
     ]
    }
   ],
   "source": [
    "writePredictionsToFile(modelName = 'CatBoost_BAG_L2/T3', filename = 'CatBoost')\n",
    "writePredictionsToFile(modelName = 'LightGBMXT_BAG_L2/T2', filename = 'LightGBMXT')"
   ]
  },
  {
   "cell_type": "code",
   "execution_count": null,
   "metadata": {},
   "outputs": [],
   "source": [
    "#predictor.refit_full()"
   ]
  }
 ],
 "metadata": {
  "kernelspec": {
   "display_name": "Python 3 (ipykernel)",
   "language": "python",
   "name": "python3"
  },
  "language_info": {
   "codemirror_mode": {
    "name": "ipython",
    "version": 3
   },
   "file_extension": ".py",
   "mimetype": "text/x-python",
   "name": "python",
   "nbconvert_exporter": "python",
   "pygments_lexer": "ipython3",
   "version": "3.9.7"
  },
  "vscode": {
   "interpreter": {
    "hash": "e3674cc7966855886e325525ebdd8373c9ba83162eba59918954002e59074a83"
   }
  }
 },
 "nbformat": 4,
 "nbformat_minor": 4
}
