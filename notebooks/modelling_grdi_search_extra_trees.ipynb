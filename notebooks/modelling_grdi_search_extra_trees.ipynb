{
 "cells": [
  {
   "cell_type": "code",
   "execution_count": 27,
   "metadata": {},
   "outputs": [],
   "source": [
    "\n",
    "import warnings\n",
    "warnings.filterwarnings('ignore')\n",
    "warnings.simplefilter(action='ignore', category=FutureWarning)\n",
    "\n",
    "#warnings.filterwarnings(action='once')\n",
    "import pandas as pd\n",
    "from pandas import MultiIndex, Int16Dtype\n",
    "\n",
    "import numpy as np\n",
    "import math\n",
    "\n",
    "from sklearn.model_selection import cross_val_score\n",
    "from sklearn.metrics import mean_squared_error, f1_score\n",
    "from sklearn import preprocessing\n",
    "from sklearn.model_selection import GridSearchCV, PredefinedSplit\n",
    "# models\n",
    "from sklearn.linear_model import LinearRegression\n",
    "from sklearn.tree import DecisionTreeRegressor\n",
    "from sklearn.svm import SVR\n",
    "from sklearn.svm import LinearSVR\n",
    "import xgboost as xgb\n",
    "from sklearn.ensemble import ExtraTreesRegressor\n",
    "\n",
    "from sklearn.linear_model import LinearRegression\n",
    "from sklearn.model_selection import cross_val_score\n",
    "from sklearn.model_selection import KFold\n",
    "\n",
    "from sklearn import ensemble\n",
    "from sklearn import datasets\n",
    "from sklearn import model_selection\n",
    "\n",
    "from sklearn.model_selection import GridSearchCV\n",
    "from sklearn.model_selection import KFold"
   ]
  },
  {
   "cell_type": "code",
   "execution_count": 28,
   "metadata": {},
   "outputs": [],
   "source": [
    "#!pip3 install xgboost --upgrade"
   ]
  },
  {
   "cell_type": "code",
   "execution_count": 29,
   "metadata": {},
   "outputs": [],
   "source": [
    "#df_train = pd.read_csv('../data/train_encoded_pca_cum.csv')\n",
    "#df_test = pd.read_csv('../data/test_encoded_pca_cum.csv')\n",
    "#df_train = pd.read_csv('../data/train_encoded_pca.csv')\n",
    "#df_test = pd.read_csv('../data/test_encoded_pca.csv')\n",
    "\n",
    "df_train = pd.read_csv('../data/train_encoded_1.csv')\n",
    "df_test = pd.read_csv('../data/test_encoded_1.csv')\n",
    "df_test = df_test.reindex(columns=df_train.columns.intersection(df_test.columns))\n",
    "\n",
    "#train_encoded_pca_cum\n",
    "#train_encoded_pca\n",
    "#ex = pd.read_csv('../data/example-submission.csv')"
   ]
  },
  {
   "cell_type": "code",
   "execution_count": 37,
   "metadata": {},
   "outputs": [
    {
     "data": {
      "text/plain": [
       "Index(['num_beds', 'num_baths', 'size_sqft', 'lat', 'lng', 'price',\n",
       "       'built_year', 'pri_sch', 'sec_sch', 'mrt_station', 'population_density',\n",
       "       'closest_dist_to_mrt', 'closest_dist_to_pri', 'closest_dist_to_sec',\n",
       "       'close_pri_sch', 'close_sec_sch', 'closest_dist_to_shop',\n",
       "       'closest_dist_to_com', 'price_per_sqft', 'price_avg_planning_area',\n",
       "       'psf_bbox', 'age', 'property_type_cluster house', 'property_type_condo',\n",
       "       'property_type_corner terrace', 'property_type_executive condo',\n",
       "       'property_type_hdb', 'property_type_semi-detached house',\n",
       "       'property_type_terraced house', 'property_type_infrequent_sklearn',\n",
       "       'furnishing_partial', 'furnishing_unfurnished',\n",
       "       'furnishing_unspecified', 'furnishing_infrequent_sklearn',\n",
       "       'tenure_999-year leasehold', 'tenure_freehold'],\n",
       "      dtype='object')"
      ]
     },
     "execution_count": 37,
     "metadata": {},
     "output_type": "execute_result"
    }
   ],
   "source": [
    "df_train.columns\n",
    "df_train.drop(columns = ["
   ]
  },
  {
   "cell_type": "code",
   "execution_count": 30,
   "metadata": {},
   "outputs": [],
   "source": [
    "from sklearn.model_selection import train_test_split\n",
    "np.random.seed(0)\n",
    "\n",
    "train, valid = train_test_split(df_train, test_size=0.2)"
   ]
  },
  {
   "cell_type": "code",
   "execution_count": 31,
   "metadata": {},
   "outputs": [
    {
     "data": {
      "text/plain": [
       "Index([], dtype='object')"
      ]
     },
     "execution_count": 31,
     "metadata": {},
     "output_type": "execute_result"
    }
   ],
   "source": [
    "X_train = train.drop(['price', 'price_per_sqft'], axis=1)\n",
    "y_train = train['price_per_sqft']\n",
    "\n",
    "X_valid = valid.drop(['price', 'price_per_sqft'], axis=1)\n",
    "y_valid = valid['price_per_sqft']\n",
    "\n",
    "df_test_size_sqft = df_test['size_sqft'].copy()\n",
    "#df_test= df_test.drop(['size_sqft'], axis=1)\n",
    "\n",
    "idxs = np.arange(X_train.shape[0])\n",
    "np.random.shuffle(idxs)\n",
    "df_test.columns.difference(X_train.columns)\n"
   ]
  },
  {
   "cell_type": "code",
   "execution_count": 32,
   "metadata": {},
   "outputs": [
    {
     "data": {
      "text/plain": [
       "Index([], dtype='object')"
      ]
     },
     "execution_count": 32,
     "metadata": {},
     "output_type": "execute_result"
    }
   ],
   "source": [
    "X_train.columns.difference(df_test.columns)\n"
   ]
  },
  {
   "cell_type": "code",
   "execution_count": 33,
   "metadata": {},
   "outputs": [
    {
     "name": "stderr",
     "output_type": "stream",
     "text": [
      "/usr/local/lib/python3.9/site-packages/scipy/__init__.py:146: UserWarning: A NumPy version >=1.16.5 and <1.23.0 is required for this version of SciPy (detected version 1.23.4\n",
      "  warnings.warn(f\"A NumPy version >={np_minversion} and <{np_maxversion}\"\n",
      "/usr/local/lib/python3.9/site-packages/scipy/__init__.py:146: UserWarning: A NumPy version >=1.16.5 and <1.23.0 is required for this version of SciPy (detected version 1.23.4\n",
      "  warnings.warn(f\"A NumPy version >={np_minversion} and <{np_maxversion}\"\n"
     ]
    },
    {
     "name": "stdout",
     "output_type": "stream",
     "text": [
      "Training RMSE: 429.475\n",
      "Test RMSE: 424.566\n"
     ]
    }
   ],
   "source": [
    "warnings.filterwarnings('ignore')\n",
    "\n",
    "model = ExtraTreesRegressor()\n",
    "\n",
    "parameters = {'n_estimators':[2500], #when use hyperthread, xgboost may become slower\n",
    "              'max_depth': [3],\n",
    "              'min_samples_split':[2],\n",
    "              'min_samples_leaf':[1],\n",
    "              'max_features':['auto'],\n",
    "              'bootstrap': [True],\n",
    "              'n_jobs':[-1],\n",
    "              'warm_start':[True],\n",
    "              'random_state' :[42]}\n",
    "\n",
    "# #parameters = {'n_estimators':[2500, 3000], #when use hyperthread, xgboost may become slower\n",
    "#               'max_depth': [2,3],\n",
    "#               'min_samples_split':[2, 5, 10],\n",
    "#               'min_samples_leaf':[1,5,10],\n",
    "#               'max_features':['auto', 'sqrt', 'log2', 1],\n",
    "#               'bootstrap': [True],\n",
    "#               'n_jobs':[-1],\n",
    "#               'warm_start':[True, False],\n",
    "#               'random_state' :[42]}\n",
    "\n",
    "clf = GridSearchCV(model, parameters, n_jobs=5, \n",
    "                   cv=KFold(n_splits=2, shuffle=True, random_state=42), \n",
    "                   scoring='neg_root_mean_squared_error',\n",
    "                refit=True)\n",
    "\n",
    "clf.fit(X_train, y_train)\n",
    "\n",
    "yt_pred = clf.predict(X_train)\n",
    "yv_pred = clf.predict(X_valid)\n",
    "\n",
    "print('Training RMSE: {:.3f}'.format(mean_squared_error(yt_pred, y_train, squared=False)))\n",
    "print('Test RMSE: {:.3f}'.format(mean_squared_error(yv_pred, y_valid, squared=False)))\n"
   ]
  },
  {
   "cell_type": "code",
   "execution_count": 35,
   "metadata": {},
   "outputs": [
    {
     "name": "stdout",
     "output_type": "stream",
     "text": [
      "{'bootstrap': True, 'max_depth': 3, 'max_features': 'auto', 'min_samples_leaf': 1, 'min_samples_split': 2, 'n_estimators': 2500, 'n_jobs': -1, 'random_state': 42, 'warm_start': True}\n",
      "ExtraTreesRegressor(bootstrap=True, max_depth=3, n_estimators=2500, n_jobs=-1,\n",
      "                    random_state=42, warm_start=True)\n",
      "-425.6610757090351\n",
      "[2281.20062518 1775.17687017 2662.48557638 ... 2834.61936377  670.19342566\n",
      " 2554.58446438]\n"
     ]
    }
   ],
   "source": [
    "print(clf.best_params_)\n",
    "\n",
    "print(clf.best_estimator_)\n",
    "\n",
    "print(clf.best_score_)\n",
    "\n",
    "print(clf.predict(df_test.copy()))\n"
   ]
  },
  {
   "cell_type": "code",
   "execution_count": 36,
   "metadata": {},
   "outputs": [],
   "source": [
    "yTest = clf.predict(df_test)\n",
    "\n",
    "yTest = yTest * df_test_size_sqft\n",
    "yTest = pd.DataFrame(yTest.values, columns=['Predicted'], index=df_test.index)\n",
    "\n",
    "yTest.to_csv('../predictions/extra_trees_1.csv')"
   ]
  },
  {
   "cell_type": "code",
   "execution_count": null,
   "metadata": {},
   "outputs": [],
   "source": [
    "#scaler = preprocessing.MinMaxScaler().fit(X_train)\n",
    "\n",
    "# xgb_model = xgb.XGBRegressor(objective=\"reg:squarederror\", random_state=42, eval_metric=[\"error\"])\n",
    "# xgb_model.fit(X_train, y_train)\n",
    "\n",
    "# # Predict labels for test data\n",
    "# yt_pred = xgb_model.predict(X_train)\n",
    "# yv_pred = xgb_model.predict(X_valid)\n",
    "\n",
    "# print('Training RMSE: {:.3f}'.format(mean_squared_error(yt_pred, y_train, squared=False)))\n",
    "# print('Test RMSE: {:.3f}'.format(mean_squared_error(yv_pred, y_valid, squared=False)))\n",
    "\n",
    "# print(f'Percentage error for training data {((abs(yt_pred - y_train)/y_train)*100).mean()}')\n",
    "# print(f'Percentage error for validation data {((abs(yv_pred - y_valid)/y_valid)*100).mean()}')\n",
    "\n",
    "# xgb.plot_importance(xgb_model, height = 5, max_num_features=20)\n",
    "\n",
    "# score = cross_val_score(xgb_model, X_train, y_train, n_jobs=-1, cv=5, scoring=\"r2\")\n",
    "# r2_mean = score.mean()\n",
    "\n",
    "# print(f\"R2 mean: {r2_mean}\")\n",
    "#yTest = xgb_model.predict(df_test)\n",
    "\n",
    "# yTest = yTest * df_test_size_sqft\n",
    "# yTest = pd.DataFrame(yTest.values, columns=['Predicted'], index=df_test.index)\n",
    "\n",
    "# yTest.to_csv('../predictions/xgboost.csv')"
   ]
  }
 ],
 "metadata": {
  "kernelspec": {
   "display_name": "myenv",
   "language": "python",
   "name": "myenv"
  },
  "language_info": {
   "codemirror_mode": {
    "name": "ipython",
    "version": 3
   },
   "file_extension": ".py",
   "mimetype": "text/x-python",
   "name": "python",
   "nbconvert_exporter": "python",
   "pygments_lexer": "ipython3",
   "version": "3.9.15"
  },
  "vscode": {
   "interpreter": {
    "hash": "31f2aee4e71d21fbe5cf8b01ff0e069b9275f58929596ceb00d14d90e3e16cd6"
   }
  }
 },
 "nbformat": 4,
 "nbformat_minor": 4
}
