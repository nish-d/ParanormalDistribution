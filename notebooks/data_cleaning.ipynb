{
 "cells": [
  {
   "cell_type": "code",
   "execution_count": 1,
   "metadata": {
    "pycharm": {
     "name": "#%%\n"
    }
   },
   "outputs": [],
   "source": [
    "import numpy as np\n",
    "import pandas as pd\n",
    "import matplotlib.pyplot as plt\n",
    "%matplotlib inline\n",
    "\n",
    "import warnings\n",
    "warnings.filterwarnings(action=\"ignore\")"
   ]
  },
  {
   "cell_type": "code",
   "execution_count": 2,
   "metadata": {
    "pycharm": {
     "name": "#%%\n"
    }
   },
   "outputs": [],
   "source": [
    "df_dirty_train = pd.read_csv('../data/train.csv')\n",
    "df_dirty_test = pd.read_csv('../data/test.csv')\n"
   ]
  },
  {
   "cell_type": "code",
   "execution_count": 3,
   "metadata": {
    "pycharm": {
     "name": "#%%\n"
    }
   },
   "outputs": [
    {
     "name": "stdout",
     "output_type": "stream",
     "text": [
      "20254\n",
      "Records dropped :608\n",
      "                                               title  \\\n",
      "0          hdb flat for sale in 866 yishun street 81   \n",
      "1  hdb flat for sale in 506b serangoon north aven...   \n",
      "2                 4 bed condo for sale in meyerhouse   \n",
      "3               3 bed condo for sale in leedon green   \n",
      "4                 2 bed condo for sale in one bernam   \n",
      "\n",
      "                              address         property_name property_type  \\\n",
      "0            sembawang / yishun (d27)  866 yishun street 81   hdb 4 rooms   \n",
      "1  hougang / punggol / sengkang (d19)  hdb-serangoon estate           hdb   \n",
      "2                      128 meyer road            meyerhouse         condo   \n",
      "3                   26 leedon heights          leedon green         Condo   \n",
      "4                     1 bernam street            one bernam         condo   \n",
      "\n",
      "              tenure  built_year  num_beds  num_baths  size_sqft   furnishing  \\\n",
      "0                NaN      1988.0       3.0        2.0       1115  unspecified   \n",
      "1  99-year leasehold      1992.0       4.0        2.0       1575  unspecified   \n",
      "2           freehold      2022.0       4.0        6.0       3070      partial   \n",
      "3           freehold      2023.0       3.0        2.0        958      partial   \n",
      "4  99-year leasehold      2026.0       2.0        1.0        732  unspecified   \n",
      "\n",
      "       available_unit_types       lat         lng          subzone  \\\n",
      "0                       NaN  1.414399  103.837196     yishun south   \n",
      "1       1, 2, 3, 4, 5, 6 br  1.372597  103.875625  serangoon north   \n",
      "2     studio, 3, 4, 5, 6 br  1.298773  103.895798      mountbatten   \n",
      "3     studio, 1, 2, 3, 4 br  1.312364  103.803271     farrer court   \n",
      "4  studio, 1, 2, 3, 4, 5 br  1.273959  103.843635            anson   \n",
      "\n",
      "   planning_area      price  \n",
      "0         yishun   514500.0  \n",
      "1      serangoon   995400.0  \n",
      "2  marine parade  8485000.0  \n",
      "3    bukit timah  2626000.0  \n",
      "4  downtown core  1764000.0  \n"
     ]
    }
   ],
   "source": [
    "#a.\tRemove duplicates and invalid data\n",
    "print(df_dirty_train.shape[0])\n",
    "df_cleaned = df_dirty_train.drop_duplicates()\n",
    "df_cleaned = df_cleaned[df_cleaned.size_sqft > 0]\n",
    "df_cleaned.dropna(subset=['num_beds', 'num_baths', 'price', 'size_sqft'], inplace = True)\n",
    "df_cleaned = df_cleaned[df_cleaned.price > 0]\n",
    "df_cleaned = df_cleaned.drop(['property_details_url', 'listing_id', 'elevation', 'total_num_units', 'floor_level'], axis = 1)\n",
    "\n",
    "print(f'Records dropped :{df_dirty_train.shape[0] - df_cleaned.shape[0]}' )\n",
    "print(df_cleaned.head())"
   ]
  },
  {
   "cell_type": "code",
   "execution_count": 70,
   "metadata": {
    "pycharm": {
     "name": "#%%\n"
    }
   },
   "outputs": [],
   "source": [
    "#b.\tRemove irrelevant data\n",
    "\n",
    "#Elevation has only one value -> 0\n"
   ]
  },
  {
   "cell_type": "code",
   "execution_count": 71,
   "metadata": {
    "pycharm": {
     "name": "#%%\n"
    }
   },
   "outputs": [],
   "source": [
    "#c.\tStandardize capitalization\n",
    "#df_cleaned.fillna({'built_year': 0}, inplace=True)\n",
    "#df_cleaned['built_year'] = df_cleaned['built_year'].astype(str).apply(lambda x: x.replace('.0',''))\n",
    "df_cleaned['property_type'] = df_cleaned['property_type'].str.lower()\n",
    "df_cleaned['tenure'] = df_cleaned['tenure'].str.lower()\n",
    "df_cleaned['furnishing'] = df_cleaned['furnishing'].str.lower()\n",
    "df_cleaned['subzone'] = df_cleaned['subzone'].str.lower()\n",
    "df_cleaned['planning_area'] = df_cleaned['planning_area'].str.lower()"
   ]
  },
  {
   "cell_type": "code",
   "execution_count": 72,
   "metadata": {
    "pycharm": {
     "name": "#%%\n"
    }
   },
   "outputs": [
    {
     "data": {
      "text/plain": [
       "999-year leasehold      459\n",
       "freehold               6270\n",
       "99-year leasehold     11205\n",
       "Name: tenure, dtype: int64"
      ]
     },
     "execution_count": 72,
     "metadata": {},
     "output_type": "execute_result"
    }
   ],
   "source": [
    "mask_999 = ['947-year leasehold', '929-year leasehold', '946-year leasehold',\n",
    "'956-year leasehold']\n",
    "mask_99 = ['100-year leasehold', '102-year leasehold', '110-year leasehold', '103-year leasehold']\n",
    "df_cleaned = df_cleaned.replace(mask_999, '999-year leasehold')\n",
    "df_cleaned = df_cleaned.replace(mask_99, '99-year leasehold')\n",
    "\n",
    "\n",
    "df_cleaned['tenure'].value_counts().sort_values()\n",
    "\n",
    "#Encode property name\n",
    "#\n",
    "\n"
   ]
  },
  {
   "cell_type": "code",
   "execution_count": 73,
   "metadata": {
    "pycharm": {
     "name": "#%%\n"
    }
   },
   "outputs": [],
   "source": [
    "#e.\tClear formatting"
   ]
  },
  {
   "cell_type": "code",
   "execution_count": 74,
   "metadata": {
    "pycharm": {
     "name": "#%%\n"
    }
   },
   "outputs": [],
   "source": [
    "#f.\tFix errors"
   ]
  },
  {
   "cell_type": "code",
   "execution_count": 75,
   "metadata": {
    "pycharm": {
     "name": "#%%\n"
    }
   },
   "outputs": [],
   "source": [
    "#g.\tLanguage translation"
   ]
  },
  {
   "cell_type": "code",
   "execution_count": 76,
   "metadata": {
    "pycharm": {
     "name": "#%%\n"
    }
   },
   "outputs": [
    {
     "data": {
      "text/plain": [
       "title                      0\n",
       "address                    0\n",
       "property_name              0\n",
       "property_type              0\n",
       "num_beds                   0\n",
       "num_baths                  0\n",
       "size_sqft                  0\n",
       "furnishing                 0\n",
       "lat                        0\n",
       "lng                        0\n",
       "subzone                  106\n",
       "planning_area            106\n",
       "price                      0\n",
       "built_year               901\n",
       "tenure                   198\n",
       "available_unit_types    1430\n",
       "dtype: int64"
      ]
     },
     "execution_count": 76,
     "metadata": {},
     "output_type": "execute_result"
    }
   ],
   "source": [
    "#h. Handle missing values\n",
    "\n",
    "#built_year\n",
    "dfmap = df_cleaned.dropna(subset = ['built_year'])[['built_year', 'property_name']].drop_duplicates()\n",
    "dfmap = dfmap.drop_duplicates(subset = ['property_name'])\n",
    "df_cleaned = df_cleaned.drop(columns=['built_year']).merge(dfmap, on=['property_name'], how='left')\n",
    "\n",
    "dfmap = df_cleaned.dropna(subset = ['tenure'])[['tenure', 'property_name']].drop_duplicates()\n",
    "dfmap = dfmap.drop_duplicates(subset = ['property_name'])\n",
    "df_cleaned = df_cleaned.drop(columns=['tenure']).merge(dfmap, on=['property_name'], how='left')\n",
    "\n",
    "dfmap = df_cleaned.dropna(subset = ['tenure'])[['tenure', 'address']].drop_duplicates()\n",
    "dfmap = dfmap.drop_duplicates(subset = ['address'])\n",
    "df_cleaned = df_cleaned.drop(columns=['tenure']).merge(dfmap, on=['address'], how='left')\n",
    "\n",
    "dfmap = df_cleaned.dropna(subset = ['available_unit_types'])[['available_unit_types', 'property_name']].drop_duplicates()\n",
    "dfmap = dfmap.drop_duplicates(subset = ['property_name'])\n",
    "df_cleaned = df_cleaned.drop(columns=['available_unit_types']).merge(dfmap, on=['property_name'], how='left')\n",
    "\n",
    "df_cleaned.isnull().sum()\n"
   ]
  },
  {
   "cell_type": "code",
   "execution_count": 67,
   "metadata": {
    "pycharm": {
     "name": "#%%\n"
    }
   },
   "outputs": [
    {
     "data": {
      "text/html": [
       "<div>\n",
       "<style scoped>\n",
       "    .dataframe tbody tr th:only-of-type {\n",
       "        vertical-align: middle;\n",
       "    }\n",
       "\n",
       "    .dataframe tbody tr th {\n",
       "        vertical-align: top;\n",
       "    }\n",
       "\n",
       "    .dataframe thead th {\n",
       "        text-align: right;\n",
       "    }\n",
       "</style>\n",
       "<table border=\"1\" class=\"dataframe\">\n",
       "  <thead>\n",
       "    <tr style=\"text-align: right;\">\n",
       "      <th></th>\n",
       "      <th>title</th>\n",
       "      <th>address</th>\n",
       "      <th>property_name</th>\n",
       "      <th>property_type</th>\n",
       "      <th>num_beds</th>\n",
       "      <th>num_baths</th>\n",
       "      <th>size_sqft</th>\n",
       "      <th>furnishing</th>\n",
       "      <th>lat</th>\n",
       "      <th>lng</th>\n",
       "      <th>subzone</th>\n",
       "      <th>planning_area</th>\n",
       "      <th>price</th>\n",
       "      <th>built_year</th>\n",
       "      <th>tenure</th>\n",
       "      <th>available_unit_types</th>\n",
       "    </tr>\n",
       "  </thead>\n",
       "  <tbody>\n",
       "    <tr>\n",
       "      <th>21</th>\n",
       "      <td>5 bed house for sale in montrose terrace</td>\n",
       "      <td>mount rosie road</td>\n",
       "      <td>montrose terrace</td>\n",
       "      <td>terraced house</td>\n",
       "      <td>5.0</td>\n",
       "      <td>6.0</td>\n",
       "      <td>7829</td>\n",
       "      <td>unspecified</td>\n",
       "      <td>1.322016</td>\n",
       "      <td>103.836450</td>\n",
       "      <td>malcolm</td>\n",
       "      <td>novena</td>\n",
       "      <td>11025000.0</td>\n",
       "      <td>NaN</td>\n",
       "      <td>NaN</td>\n",
       "      <td>5 br</td>\n",
       "    </tr>\n",
       "    <tr>\n",
       "      <th>333</th>\n",
       "      <td>5 bed house for sale in florence gardens</td>\n",
       "      <td>florence road</td>\n",
       "      <td>florence gardens</td>\n",
       "      <td>semi-detached house</td>\n",
       "      <td>5.0</td>\n",
       "      <td>4.0</td>\n",
       "      <td>3500</td>\n",
       "      <td>unspecified</td>\n",
       "      <td>1.365070</td>\n",
       "      <td>103.885066</td>\n",
       "      <td>kovan</td>\n",
       "      <td>hougang</td>\n",
       "      <td>7140000.0</td>\n",
       "      <td>NaN</td>\n",
       "      <td>NaN</td>\n",
       "      <td>4, 5 br</td>\n",
       "    </tr>\n",
       "    <tr>\n",
       "      <th>502</th>\n",
       "      <td>5 bed house for sale in bukit loyang estate</td>\n",
       "      <td>jalan kelempong</td>\n",
       "      <td>bukit loyang estate</td>\n",
       "      <td>semi-detached house</td>\n",
       "      <td>5.0</td>\n",
       "      <td>3.0</td>\n",
       "      <td>3000</td>\n",
       "      <td>unspecified</td>\n",
       "      <td>1.362513</td>\n",
       "      <td>103.967638</td>\n",
       "      <td>flora drive</td>\n",
       "      <td>pasir ris</td>\n",
       "      <td>7551400.0</td>\n",
       "      <td>NaN</td>\n",
       "      <td>NaN</td>\n",
       "      <td>2, 4, 5, 6 br</td>\n",
       "    </tr>\n",
       "    <tr>\n",
       "      <th>714</th>\n",
       "      <td>5 bed house for sale in paterson garden</td>\n",
       "      <td>lengkok angsa</td>\n",
       "      <td>paterson garden</td>\n",
       "      <td>semi-detached house</td>\n",
       "      <td>5.0</td>\n",
       "      <td>7.0</td>\n",
       "      <td>3412</td>\n",
       "      <td>unspecified</td>\n",
       "      <td>1.300918</td>\n",
       "      <td>103.829973</td>\n",
       "      <td>paterson</td>\n",
       "      <td>river valley</td>\n",
       "      <td>14175000.0</td>\n",
       "      <td>NaN</td>\n",
       "      <td>NaN</td>\n",
       "      <td>5 br</td>\n",
       "    </tr>\n",
       "    <tr>\n",
       "      <th>729</th>\n",
       "      <td>7 bed house for sale in east view garden</td>\n",
       "      <td>meragi terrace</td>\n",
       "      <td>east view garden</td>\n",
       "      <td>semi-detached house</td>\n",
       "      <td>7.0</td>\n",
       "      <td>6.0</td>\n",
       "      <td>7500</td>\n",
       "      <td>unspecified</td>\n",
       "      <td>1.342076</td>\n",
       "      <td>103.960414</td>\n",
       "      <td>simei</td>\n",
       "      <td>tampines</td>\n",
       "      <td>3675000.0</td>\n",
       "      <td>1977.0</td>\n",
       "      <td>NaN</td>\n",
       "      <td>3, 4, 5, 6, 7, 8 br</td>\n",
       "    </tr>\n",
       "    <tr>\n",
       "      <th>...</th>\n",
       "      <td>...</td>\n",
       "      <td>...</td>\n",
       "      <td>...</td>\n",
       "      <td>...</td>\n",
       "      <td>...</td>\n",
       "      <td>...</td>\n",
       "      <td>...</td>\n",
       "      <td>...</td>\n",
       "      <td>...</td>\n",
       "      <td>...</td>\n",
       "      <td>...</td>\n",
       "      <td>...</td>\n",
       "      <td>...</td>\n",
       "      <td>...</td>\n",
       "      <td>...</td>\n",
       "      <td>...</td>\n",
       "    </tr>\n",
       "    <tr>\n",
       "      <th>18856</th>\n",
       "      <td>3 bed house for sale in blair plain conservati...</td>\n",
       "      <td>everton road</td>\n",
       "      <td>blair plain conservation area</td>\n",
       "      <td>conservation house</td>\n",
       "      <td>3.0</td>\n",
       "      <td>2.0</td>\n",
       "      <td>4000</td>\n",
       "      <td>unspecified</td>\n",
       "      <td>1.277503</td>\n",
       "      <td>103.838096</td>\n",
       "      <td>everton park</td>\n",
       "      <td>bukit merah</td>\n",
       "      <td>6174000.0</td>\n",
       "      <td>NaN</td>\n",
       "      <td>NaN</td>\n",
       "      <td>studio, 1, 2, 3, 4, 5, 7 br</td>\n",
       "    </tr>\n",
       "    <tr>\n",
       "      <th>18983</th>\n",
       "      <td>6 bed house for sale in dunman garden</td>\n",
       "      <td>swanage road</td>\n",
       "      <td>dunman garden</td>\n",
       "      <td>corner terrace</td>\n",
       "      <td>6.0</td>\n",
       "      <td>7.0</td>\n",
       "      <td>6924</td>\n",
       "      <td>unspecified</td>\n",
       "      <td>1.308418</td>\n",
       "      <td>103.893388</td>\n",
       "      <td>mountbatten</td>\n",
       "      <td>marine parade</td>\n",
       "      <td>8384200.0</td>\n",
       "      <td>NaN</td>\n",
       "      <td>NaN</td>\n",
       "      <td>6 br</td>\n",
       "    </tr>\n",
       "    <tr>\n",
       "      <th>19303</th>\n",
       "      <td>5 bed house for sale in sunny terrace</td>\n",
       "      <td>jalan jamal</td>\n",
       "      <td>sunny terrace</td>\n",
       "      <td>corner terrace</td>\n",
       "      <td>5.0</td>\n",
       "      <td>6.0</td>\n",
       "      <td>2800</td>\n",
       "      <td>unspecified</td>\n",
       "      <td>1.312759</td>\n",
       "      <td>103.925318</td>\n",
       "      <td>frankel</td>\n",
       "      <td>bedok</td>\n",
       "      <td>8400000.0</td>\n",
       "      <td>NaN</td>\n",
       "      <td>NaN</td>\n",
       "      <td>5 br</td>\n",
       "    </tr>\n",
       "    <tr>\n",
       "      <th>19435</th>\n",
       "      <td>3 bed condo for sale in spring residences</td>\n",
       "      <td>25 ewe boon road</td>\n",
       "      <td>spring residences</td>\n",
       "      <td>apartment</td>\n",
       "      <td>3.0</td>\n",
       "      <td>2.0</td>\n",
       "      <td>1463</td>\n",
       "      <td>unspecified</td>\n",
       "      <td>1.316002</td>\n",
       "      <td>103.830431</td>\n",
       "      <td>nassim</td>\n",
       "      <td>tanglin</td>\n",
       "      <td>3444000.0</td>\n",
       "      <td>2013.0</td>\n",
       "      <td>NaN</td>\n",
       "      <td>2, 3 br</td>\n",
       "    </tr>\n",
       "    <tr>\n",
       "      <th>19524</th>\n",
       "      <td>5 bed house for sale in airview park</td>\n",
       "      <td>tham soong avenue</td>\n",
       "      <td>airview park</td>\n",
       "      <td>semi-detached house</td>\n",
       "      <td>5.0</td>\n",
       "      <td>6.0</td>\n",
       "      <td>4781</td>\n",
       "      <td>partial</td>\n",
       "      <td>1.344384</td>\n",
       "      <td>103.773833</td>\n",
       "      <td>anak bukit</td>\n",
       "      <td>bukit timah</td>\n",
       "      <td>7749000.0</td>\n",
       "      <td>NaN</td>\n",
       "      <td>NaN</td>\n",
       "      <td>3, 4, 5, 6, 7 br</td>\n",
       "    </tr>\n",
       "  </tbody>\n",
       "</table>\n",
       "<p>78 rows × 16 columns</p>\n",
       "</div>"
      ],
      "text/plain": [
       "                                                   title            address  \\\n",
       "21              5 bed house for sale in montrose terrace   mount rosie road   \n",
       "333             5 bed house for sale in florence gardens      florence road   \n",
       "502          5 bed house for sale in bukit loyang estate    jalan kelempong   \n",
       "714              5 bed house for sale in paterson garden      lengkok angsa   \n",
       "729             7 bed house for sale in east view garden     meragi terrace   \n",
       "...                                                  ...                ...   \n",
       "18856  3 bed house for sale in blair plain conservati...       everton road   \n",
       "18983              6 bed house for sale in dunman garden       swanage road   \n",
       "19303              5 bed house for sale in sunny terrace        jalan jamal   \n",
       "19435          3 bed condo for sale in spring residences   25 ewe boon road   \n",
       "19524               5 bed house for sale in airview park  tham soong avenue   \n",
       "\n",
       "                       property_name        property_type  num_beds  \\\n",
       "21                  montrose terrace       terraced house       5.0   \n",
       "333                 florence gardens  semi-detached house       5.0   \n",
       "502              bukit loyang estate  semi-detached house       5.0   \n",
       "714                  paterson garden  semi-detached house       5.0   \n",
       "729                 east view garden  semi-detached house       7.0   \n",
       "...                              ...                  ...       ...   \n",
       "18856  blair plain conservation area   conservation house       3.0   \n",
       "18983                  dunman garden       corner terrace       6.0   \n",
       "19303                  sunny terrace       corner terrace       5.0   \n",
       "19435              spring residences            apartment       3.0   \n",
       "19524                   airview park  semi-detached house       5.0   \n",
       "\n",
       "       num_baths  size_sqft   furnishing       lat         lng       subzone  \\\n",
       "21           6.0       7829  unspecified  1.322016  103.836450       malcolm   \n",
       "333          4.0       3500  unspecified  1.365070  103.885066         kovan   \n",
       "502          3.0       3000  unspecified  1.362513  103.967638   flora drive   \n",
       "714          7.0       3412  unspecified  1.300918  103.829973      paterson   \n",
       "729          6.0       7500  unspecified  1.342076  103.960414         simei   \n",
       "...          ...        ...          ...       ...         ...           ...   \n",
       "18856        2.0       4000  unspecified  1.277503  103.838096  everton park   \n",
       "18983        7.0       6924  unspecified  1.308418  103.893388   mountbatten   \n",
       "19303        6.0       2800  unspecified  1.312759  103.925318       frankel   \n",
       "19435        2.0       1463  unspecified  1.316002  103.830431        nassim   \n",
       "19524        6.0       4781      partial  1.344384  103.773833    anak bukit   \n",
       "\n",
       "       planning_area       price  built_year tenure  \\\n",
       "21            novena  11025000.0         NaN    NaN   \n",
       "333          hougang   7140000.0         NaN    NaN   \n",
       "502        pasir ris   7551400.0         NaN    NaN   \n",
       "714     river valley  14175000.0         NaN    NaN   \n",
       "729         tampines   3675000.0      1977.0    NaN   \n",
       "...              ...         ...         ...    ...   \n",
       "18856    bukit merah   6174000.0         NaN    NaN   \n",
       "18983  marine parade   8384200.0         NaN    NaN   \n",
       "19303          bedok   8400000.0         NaN    NaN   \n",
       "19435        tanglin   3444000.0      2013.0    NaN   \n",
       "19524    bukit timah   7749000.0         NaN    NaN   \n",
       "\n",
       "              available_unit_types  \n",
       "21                            5 br  \n",
       "333                        4, 5 br  \n",
       "502                  2, 4, 5, 6 br  \n",
       "714                           5 br  \n",
       "729            3, 4, 5, 6, 7, 8 br  \n",
       "...                            ...  \n",
       "18856  studio, 1, 2, 3, 4, 5, 7 br  \n",
       "18983                         6 br  \n",
       "19303                         5 br  \n",
       "19435                      2, 3 br  \n",
       "19524             3, 4, 5, 6, 7 br  \n",
       "\n",
       "[78 rows x 16 columns]"
      ]
     },
     "execution_count": 67,
     "metadata": {},
     "output_type": "execute_result"
    }
   ],
   "source": [
    "df_cleaned[df_cleaned.tenure.isnull()]"
   ]
  },
  {
   "cell_type": "code",
   "execution_count": 77,
   "metadata": {
    "pycharm": {
     "name": "#%%\n"
    }
   },
   "outputs": [],
   "source": [
    "#No need to run this unless all data has been cleaned.\n",
    "#df_cleaned.to_csv('../data/test_cleaned.csv')  \n",
    "df_cleaned.to_csv('../data/train_cleaned.csv')\n"
   ]
  },
  {
   "cell_type": "code",
   "execution_count": 12,
   "metadata": {
    "pycharm": {
     "name": "#%%\n"
    }
   },
   "outputs": [
    {
     "name": "stdout",
     "output_type": "stream",
     "text": [
      "7000\n"
     ]
    }
   ],
   "source": [
    "#a.\tRemove duplicates and invalid data\n",
    "print(df_dirty_test.shape[0])\n",
    "df_test_cleaned = df_dirty_test.drop_duplicates()\n",
    "df_test_cleaned = df_test_cleaned[df_test_cleaned.size_sqft > 0]\n",
    "df_test_cleaned.dropna(subset=['num_beds', 'num_baths', 'size_sqft'], inplace = True)\n",
    "#df_test_cleaned = df_test_cleaned[df_test_cleaned.price > 0]- not applicable to test data"
   ]
  },
  {
   "cell_type": "code",
   "execution_count": 13,
   "outputs": [],
   "source": [
    "#b.\tRemove irrelevant data\n",
    "\n",
    "#Elevation has only one value -> 0\n",
    "\n",
    "df_test_cleaned = df_test_cleaned.drop(['property_details_url', 'listing_id', 'elevation', 'total_num_units', 'floor_level'], axis = 1)"
   ],
   "metadata": {
    "collapsed": false,
    "pycharm": {
     "name": "#%%\n"
    }
   }
  },
  {
   "cell_type": "code",
   "execution_count": 14,
   "outputs": [
    {
     "name": "stdout",
     "output_type": "stream",
     "text": [
      "Records dropped :182\n",
      "                                              title  \\\n",
      "0               1 bed condo for sale in the gazania   \n",
      "1           3 bed condo for sale in vue 8 residence   \n",
      "2                      1 bed condo for sale in icon   \n",
      "3  hdb flat for sale in 812b choa chu kang avenue 7   \n",
      "4          hdb flat for sale in 204 toa payoh north   \n",
      "\n",
      "                                             address      property_name  \\\n",
      "0                                   17 how sun drive        the gazania   \n",
      "1                               95 pasir ris heights    vue 8 residence   \n",
      "2                                   10 gopeng street               icon   \n",
      "3  bukit batok / bukit panjang / choa chu kang (d23)  keat hong colours   \n",
      "4                        balestier / toa payoh (d12)   toa payoh spring   \n",
      "\n",
      "  property_type             tenure  built_year  num_beds  num_baths  \\\n",
      "0         condo           freehold      2022.0       1.0        1.0   \n",
      "1         Condo  99-year leasehold      2017.0       3.0        3.0   \n",
      "2         condo  99-year leasehold      2007.0       1.0        1.0   \n",
      "3           Hdb  99-year leasehold      2017.0       3.0        2.0   \n",
      "4   hdb 4 rooms  99-year leasehold      1973.0       3.0        2.0   \n",
      "\n",
      "   size_sqft   furnishing      available_unit_types       lat         lng  \\\n",
      "0        463  unfurnished  studio, 1, 2, 3, 4, 5 br  1.344334  103.878690   \n",
      "1       1033  unspecified  studio, 1, 2, 3, 4, 5 br  1.380281  103.943878   \n",
      "2        570        fully        studio, 1, 2, 3 br  1.294668  103.850074   \n",
      "3       1216  unspecified          1, 2, 3, 4, 5 br  1.373120  103.746094   \n",
      "4        936  unspecified             1, 2, 3, 4 br  1.341468  103.849047   \n",
      "\n",
      "            subzone  planning_area  \n",
      "0  upper paya lebar      serangoon  \n",
      "1    pasir ris west      pasir ris  \n",
      "2        bras basah         museum  \n",
      "3         keat hong  choa chu kang  \n",
      "4          braddell      toa payoh  \n"
     ]
    }
   ],
   "source": [
    "print(f'Records dropped :{df_dirty_test.shape[0] - df_test_cleaned.shape[0]}' )\n",
    "print(df_test_cleaned.head())"
   ],
   "metadata": {
    "collapsed": false,
    "pycharm": {
     "name": "#%%\n"
    }
   }
  },
  {
   "cell_type": "code",
   "execution_count": 15,
   "outputs": [],
   "source": [
    "#c.\tStandardize capitalization\n",
    "#df_cleaned.fillna({'built_year': 0}, inplace=True)\n",
    "#df_cleaned['built_year'] = df_cleaned['built_year'].astype(str).apply(lambda x: x.replace('.0',''))\n",
    "df_test_cleaned['property_type'] = df_test_cleaned['property_type'].str.lower()\n",
    "df_test_cleaned['tenure'] = df_test_cleaned['tenure'].str.lower()\n",
    "df_test_cleaned['furnishing'] = df_test_cleaned['furnishing'].str.lower()\n",
    "df_test_cleaned['subzone'] = df_test_cleaned['subzone'].str.lower()\n",
    "df_test_cleaned['planning_area'] = df_test_cleaned['planning_area'].str.lower()"
   ],
   "metadata": {
    "collapsed": false,
    "pycharm": {
     "name": "#%%\n"
    }
   }
  },
  {
   "cell_type": "code",
   "execution_count": 16,
   "outputs": [
    {
     "data": {
      "text/plain": "999-year leasehold     168\nfreehold              2147\n99-year leasehold     3868\nName: tenure, dtype: int64"
     },
     "execution_count": 16,
     "metadata": {},
     "output_type": "execute_result"
    }
   ],
   "source": [
    "mask_999 = ['947-year leasehold', '929-year leasehold', '946-year leasehold',\n",
    "'956-year leasehold']\n",
    "mask_99 = ['100-year leasehold', '102-year leasehold', '110-year leasehold', '103-year leasehold']\n",
    "df_test_cleaned = df_test_cleaned.replace(mask_999, '999-year leasehold')\n",
    "df_test_cleaned = df_test_cleaned.replace(mask_99, '99-year leasehold')\n",
    "\n",
    "\n",
    "df_test_cleaned['tenure'].value_counts().sort_values()\n",
    "\n",
    "#Encode property name\n",
    "#"
   ],
   "metadata": {
    "collapsed": false,
    "pycharm": {
     "name": "#%%\n"
    }
   }
  },
  {
   "cell_type": "code",
   "execution_count": null,
   "outputs": [],
   "source": [
    "#e.\tClear formatting"
   ],
   "metadata": {
    "collapsed": false,
    "pycharm": {
     "name": "#%%\n"
    }
   }
  },
  {
   "cell_type": "code",
   "execution_count": 4,
   "outputs": [],
   "source": [
    "#f. Fix errors"
   ],
   "metadata": {
    "collapsed": false,
    "pycharm": {
     "name": "#%%\n"
    }
   }
  },
  {
   "cell_type": "code",
   "execution_count": 5,
   "outputs": [],
   "source": [
    "#g. Language Translations"
   ],
   "metadata": {
    "collapsed": false,
    "pycharm": {
     "name": "#%%\n"
    }
   }
  },
  {
   "cell_type": "code",
   "execution_count": 17,
   "outputs": [
    {
     "data": {
      "text/plain": "title                     0\naddress                   2\nproperty_name             0\nproperty_type             0\nnum_beds                  0\nnum_baths                 0\nsize_sqft                 0\nfurnishing                0\nlat                       0\nlng                       0\nsubzone                  33\nplanning_area            33\nbuilt_year              338\ntenure                   78\navailable_unit_types    519\ndtype: int64"
     },
     "execution_count": 17,
     "metadata": {},
     "output_type": "execute_result"
    }
   ],
   "source": [
    "#h. Handle missing values\n",
    "\n",
    "#built_year\n",
    "dfmap = df_test_cleaned.dropna(subset = ['built_year'])[['built_year', 'property_name']].drop_duplicates()\n",
    "dfmap = dfmap.drop_duplicates(subset = ['property_name'])\n",
    "df_test_cleaned = df_test_cleaned.drop(columns=['built_year']).merge(dfmap, on=['property_name'], how='left')\n",
    "\n",
    "dfmap = df_test_cleaned.dropna(subset = ['tenure'])[['tenure', 'property_name']].drop_duplicates()\n",
    "dfmap = dfmap.drop_duplicates(subset = ['property_name'])\n",
    "df_test_cleaned = df_test_cleaned.drop(columns=['tenure']).merge(dfmap, on=['property_name'], how='left')\n",
    "\n",
    "dfmap = df_test_cleaned.dropna(subset = ['tenure'])[['tenure', 'address']].drop_duplicates()\n",
    "dfmap = dfmap.drop_duplicates(subset = ['address'])\n",
    "df_test_cleaned = df_test_cleaned.drop(columns=['tenure']).merge(dfmap, on=['address'], how='left')\n",
    "\n",
    "dfmap = df_test_cleaned.dropna(subset = ['available_unit_types'])[['available_unit_types', 'property_name']].drop_duplicates()\n",
    "dfmap = dfmap.drop_duplicates(subset = ['property_name'])\n",
    "df_test_cleaned = df_test_cleaned.drop(columns=['available_unit_types']).merge(dfmap, on=['property_name'], how='left')\n",
    "\n",
    "df_test_cleaned.isnull().sum()\n"
   ],
   "metadata": {
    "collapsed": false,
    "pycharm": {
     "name": "#%%\n"
    }
   }
  },
  {
   "cell_type": "code",
   "execution_count": 18,
   "outputs": [
    {
     "data": {
      "text/plain": "                                                  title  \\\n256                  3 bed house for sale in breezeways   \n304     5 bed house for sale in serangoon garden estate   \n672     6 bed house for sale in serangoon garden estate   \n751     9 bed house for sale in serangoon garden estate   \n1108    3 bed house for sale in serangoon garden estate   \n...                                                 ...   \n6656    6 bed house for sale in serangoon garden estate   \n6695    6 bed house for sale in serangoon garden estate   \n6753        5 bed house for sale in bukit loyang estate   \n6786  3 bed house for sale in blair plain conservati...   \n6795           5 bed house for sale in east view garden   \n\n                     address                  property_name  \\\n256         jalan mat jambol                     breezeways   \n304          chartwell drive        serangoon garden estate   \n672         tavistock avenue        serangoon garden estate   \n751     serangoon garden way        serangoon garden estate   \n1108              hythe road        serangoon garden estate   \n...                      ...                            ...   \n6656    serangoon garden way        serangoon garden estate   \n6695    serangoon garden way        serangoon garden estate   \n6753         jalan kelempong            bukit loyang estate   \n6786  spottiswoode park road  blair plain conservation area   \n6795             meragi road               east view garden   \n\n            property_type  num_beds  num_baths  size_sqft   furnishing  \\\n256   semi-detached house       3.0        3.0       2600  unspecified   \n304        corner terrace       5.0        6.0       5500  unspecified   \n672              bungalow       6.0        6.0       6200  unspecified   \n751        terraced house       9.0        7.0       5430  unspecified   \n1108  semi-detached house       3.0        3.0       3700  unspecified   \n...                   ...       ...        ...        ...          ...   \n6656             bungalow       6.0        7.0       5000  unspecified   \n6695       terraced house       6.0        7.0       5600      partial   \n6753  semi-detached house       5.0        6.0       4267  unspecified   \n6786   conservation house       3.0        4.0       4500  unspecified   \n6795       terraced house       5.0        4.0       3000  unspecified   \n\n           lat         lng           subzone planning_area  built_year tenure  \\\n256   1.277219  103.791484   pasir panjang 2    queenstown         NaN    NaN   \n304   1.360245  103.865111  serangoon garden     serangoon         NaN    NaN   \n672   1.360245  103.865111  serangoon garden     serangoon         NaN    NaN   \n751   1.360245  103.865111  serangoon garden     serangoon         NaN    NaN   \n1108  1.360245  103.865111  serangoon garden     serangoon         NaN    NaN   \n...        ...         ...               ...           ...         ...    ...   \n6656  1.360245  103.865111  serangoon garden     serangoon         NaN    NaN   \n6695  1.360245  103.865111  serangoon garden     serangoon         NaN    NaN   \n6753  1.362513  103.967638       flora drive     pasir ris         NaN    NaN   \n6786  1.274492  103.835953      everton park   bukit merah         NaN    NaN   \n6795  1.343527  103.960438             simei      tampines      1977.0    NaN   \n\n                  available_unit_types  \n256                            3, 4 br  \n304   1, 2, 3, 4, 5, 6, 7, 8, 9, 10 br  \n672   1, 2, 3, 4, 5, 6, 7, 8, 9, 10 br  \n751   1, 2, 3, 4, 5, 6, 7, 8, 9, 10 br  \n1108  1, 2, 3, 4, 5, 6, 7, 8, 9, 10 br  \n...                                ...  \n6656  1, 2, 3, 4, 5, 6, 7, 8, 9, 10 br  \n6695  1, 2, 3, 4, 5, 6, 7, 8, 9, 10 br  \n6753                     2, 4, 5, 6 br  \n6786       studio, 1, 2, 3, 4, 5, 7 br  \n6795               3, 4, 5, 6, 7, 8 br  \n\n[78 rows x 15 columns]",
      "text/html": "<div>\n<style scoped>\n    .dataframe tbody tr th:only-of-type {\n        vertical-align: middle;\n    }\n\n    .dataframe tbody tr th {\n        vertical-align: top;\n    }\n\n    .dataframe thead th {\n        text-align: right;\n    }\n</style>\n<table border=\"1\" class=\"dataframe\">\n  <thead>\n    <tr style=\"text-align: right;\">\n      <th></th>\n      <th>title</th>\n      <th>address</th>\n      <th>property_name</th>\n      <th>property_type</th>\n      <th>num_beds</th>\n      <th>num_baths</th>\n      <th>size_sqft</th>\n      <th>furnishing</th>\n      <th>lat</th>\n      <th>lng</th>\n      <th>subzone</th>\n      <th>planning_area</th>\n      <th>built_year</th>\n      <th>tenure</th>\n      <th>available_unit_types</th>\n    </tr>\n  </thead>\n  <tbody>\n    <tr>\n      <th>256</th>\n      <td>3 bed house for sale in breezeways</td>\n      <td>jalan mat jambol</td>\n      <td>breezeways</td>\n      <td>semi-detached house</td>\n      <td>3.0</td>\n      <td>3.0</td>\n      <td>2600</td>\n      <td>unspecified</td>\n      <td>1.277219</td>\n      <td>103.791484</td>\n      <td>pasir panjang 2</td>\n      <td>queenstown</td>\n      <td>NaN</td>\n      <td>NaN</td>\n      <td>3, 4 br</td>\n    </tr>\n    <tr>\n      <th>304</th>\n      <td>5 bed house for sale in serangoon garden estate</td>\n      <td>chartwell drive</td>\n      <td>serangoon garden estate</td>\n      <td>corner terrace</td>\n      <td>5.0</td>\n      <td>6.0</td>\n      <td>5500</td>\n      <td>unspecified</td>\n      <td>1.360245</td>\n      <td>103.865111</td>\n      <td>serangoon garden</td>\n      <td>serangoon</td>\n      <td>NaN</td>\n      <td>NaN</td>\n      <td>1, 2, 3, 4, 5, 6, 7, 8, 9, 10 br</td>\n    </tr>\n    <tr>\n      <th>672</th>\n      <td>6 bed house for sale in serangoon garden estate</td>\n      <td>tavistock avenue</td>\n      <td>serangoon garden estate</td>\n      <td>bungalow</td>\n      <td>6.0</td>\n      <td>6.0</td>\n      <td>6200</td>\n      <td>unspecified</td>\n      <td>1.360245</td>\n      <td>103.865111</td>\n      <td>serangoon garden</td>\n      <td>serangoon</td>\n      <td>NaN</td>\n      <td>NaN</td>\n      <td>1, 2, 3, 4, 5, 6, 7, 8, 9, 10 br</td>\n    </tr>\n    <tr>\n      <th>751</th>\n      <td>9 bed house for sale in serangoon garden estate</td>\n      <td>serangoon garden way</td>\n      <td>serangoon garden estate</td>\n      <td>terraced house</td>\n      <td>9.0</td>\n      <td>7.0</td>\n      <td>5430</td>\n      <td>unspecified</td>\n      <td>1.360245</td>\n      <td>103.865111</td>\n      <td>serangoon garden</td>\n      <td>serangoon</td>\n      <td>NaN</td>\n      <td>NaN</td>\n      <td>1, 2, 3, 4, 5, 6, 7, 8, 9, 10 br</td>\n    </tr>\n    <tr>\n      <th>1108</th>\n      <td>3 bed house for sale in serangoon garden estate</td>\n      <td>hythe road</td>\n      <td>serangoon garden estate</td>\n      <td>semi-detached house</td>\n      <td>3.0</td>\n      <td>3.0</td>\n      <td>3700</td>\n      <td>unspecified</td>\n      <td>1.360245</td>\n      <td>103.865111</td>\n      <td>serangoon garden</td>\n      <td>serangoon</td>\n      <td>NaN</td>\n      <td>NaN</td>\n      <td>1, 2, 3, 4, 5, 6, 7, 8, 9, 10 br</td>\n    </tr>\n    <tr>\n      <th>...</th>\n      <td>...</td>\n      <td>...</td>\n      <td>...</td>\n      <td>...</td>\n      <td>...</td>\n      <td>...</td>\n      <td>...</td>\n      <td>...</td>\n      <td>...</td>\n      <td>...</td>\n      <td>...</td>\n      <td>...</td>\n      <td>...</td>\n      <td>...</td>\n      <td>...</td>\n    </tr>\n    <tr>\n      <th>6656</th>\n      <td>6 bed house for sale in serangoon garden estate</td>\n      <td>serangoon garden way</td>\n      <td>serangoon garden estate</td>\n      <td>bungalow</td>\n      <td>6.0</td>\n      <td>7.0</td>\n      <td>5000</td>\n      <td>unspecified</td>\n      <td>1.360245</td>\n      <td>103.865111</td>\n      <td>serangoon garden</td>\n      <td>serangoon</td>\n      <td>NaN</td>\n      <td>NaN</td>\n      <td>1, 2, 3, 4, 5, 6, 7, 8, 9, 10 br</td>\n    </tr>\n    <tr>\n      <th>6695</th>\n      <td>6 bed house for sale in serangoon garden estate</td>\n      <td>serangoon garden way</td>\n      <td>serangoon garden estate</td>\n      <td>terraced house</td>\n      <td>6.0</td>\n      <td>7.0</td>\n      <td>5600</td>\n      <td>partial</td>\n      <td>1.360245</td>\n      <td>103.865111</td>\n      <td>serangoon garden</td>\n      <td>serangoon</td>\n      <td>NaN</td>\n      <td>NaN</td>\n      <td>1, 2, 3, 4, 5, 6, 7, 8, 9, 10 br</td>\n    </tr>\n    <tr>\n      <th>6753</th>\n      <td>5 bed house for sale in bukit loyang estate</td>\n      <td>jalan kelempong</td>\n      <td>bukit loyang estate</td>\n      <td>semi-detached house</td>\n      <td>5.0</td>\n      <td>6.0</td>\n      <td>4267</td>\n      <td>unspecified</td>\n      <td>1.362513</td>\n      <td>103.967638</td>\n      <td>flora drive</td>\n      <td>pasir ris</td>\n      <td>NaN</td>\n      <td>NaN</td>\n      <td>2, 4, 5, 6 br</td>\n    </tr>\n    <tr>\n      <th>6786</th>\n      <td>3 bed house for sale in blair plain conservati...</td>\n      <td>spottiswoode park road</td>\n      <td>blair plain conservation area</td>\n      <td>conservation house</td>\n      <td>3.0</td>\n      <td>4.0</td>\n      <td>4500</td>\n      <td>unspecified</td>\n      <td>1.274492</td>\n      <td>103.835953</td>\n      <td>everton park</td>\n      <td>bukit merah</td>\n      <td>NaN</td>\n      <td>NaN</td>\n      <td>studio, 1, 2, 3, 4, 5, 7 br</td>\n    </tr>\n    <tr>\n      <th>6795</th>\n      <td>5 bed house for sale in east view garden</td>\n      <td>meragi road</td>\n      <td>east view garden</td>\n      <td>terraced house</td>\n      <td>5.0</td>\n      <td>4.0</td>\n      <td>3000</td>\n      <td>unspecified</td>\n      <td>1.343527</td>\n      <td>103.960438</td>\n      <td>simei</td>\n      <td>tampines</td>\n      <td>1977.0</td>\n      <td>NaN</td>\n      <td>3, 4, 5, 6, 7, 8 br</td>\n    </tr>\n  </tbody>\n</table>\n<p>78 rows × 15 columns</p>\n</div>"
     },
     "execution_count": 18,
     "metadata": {},
     "output_type": "execute_result"
    }
   ],
   "source": [
    "df_test_cleaned[df_test_cleaned.tenure.isnull()]"
   ],
   "metadata": {
    "collapsed": false,
    "pycharm": {
     "name": "#%%\n"
    }
   }
  },
  {
   "cell_type": "code",
   "execution_count": 19,
   "outputs": [],
   "source": [
    "df_test_cleaned.to_csv('../data/test_cleaned.csv')"
   ],
   "metadata": {
    "collapsed": false,
    "pycharm": {
     "name": "#%%\n"
    }
   }
  }
 ],
 "metadata": {
  "kernelspec": {
   "display_name": "Python 3.9.7 ('base')",
   "language": "python",
   "name": "python3"
  },
  "language_info": {
   "codemirror_mode": {
    "name": "ipython",
    "version": 3
   },
   "file_extension": ".py",
   "mimetype": "text/x-python",
   "name": "python",
   "nbconvert_exporter": "python",
   "pygments_lexer": "ipython3",
   "version": "3.9.7"
  },
  "orig_nbformat": 4,
  "vscode": {
   "interpreter": {
    "hash": "8a9a3a0f59d94ba7973b21a69118181ce5bc1e1391d96e7c074d54f3ed39dfbb"
   }
  }
 },
 "nbformat": 4,
 "nbformat_minor": 2
}