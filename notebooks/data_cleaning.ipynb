{
 "cells": [
  {
   "cell_type": "code",
   "execution_count": 4,
   "metadata": {},
   "outputs": [],
   "source": [
    "import numpy as np\n",
    "import pandas as pd\n",
    "import matplotlib.pyplot as plt\n",
    "%matplotlib inline\n",
    "\n",
    "import warnings\n",
    "warnings.filterwarnings(action=\"ignore\")"
   ]
  },
  {
   "cell_type": "code",
   "execution_count": 6,
   "metadata": {},
   "outputs": [
    {
     "data": {
      "text/html": [
       "<div>\n",
       "<style scoped>\n",
       "    .dataframe tbody tr th:only-of-type {\n",
       "        vertical-align: middle;\n",
       "    }\n",
       "\n",
       "    .dataframe tbody tr th {\n",
       "        vertical-align: top;\n",
       "    }\n",
       "\n",
       "    .dataframe thead th {\n",
       "        text-align: right;\n",
       "    }\n",
       "</style>\n",
       "<table border=\"1\" class=\"dataframe\">\n",
       "  <thead>\n",
       "    <tr style=\"text-align: right;\">\n",
       "      <th></th>\n",
       "      <th>listing_id</th>\n",
       "      <th>title</th>\n",
       "      <th>address</th>\n",
       "      <th>property_name</th>\n",
       "      <th>property_type</th>\n",
       "      <th>tenure</th>\n",
       "      <th>built_year</th>\n",
       "      <th>num_beds</th>\n",
       "      <th>num_baths</th>\n",
       "      <th>size_sqft</th>\n",
       "      <th>...</th>\n",
       "      <th>furnishing</th>\n",
       "      <th>available_unit_types</th>\n",
       "      <th>total_num_units</th>\n",
       "      <th>property_details_url</th>\n",
       "      <th>lat</th>\n",
       "      <th>lng</th>\n",
       "      <th>elevation</th>\n",
       "      <th>subzone</th>\n",
       "      <th>planning_area</th>\n",
       "      <th>price</th>\n",
       "    </tr>\n",
       "  </thead>\n",
       "  <tbody>\n",
       "    <tr>\n",
       "      <th>0</th>\n",
       "      <td>122881</td>\n",
       "      <td>hdb flat for sale in 866 yishun street 81</td>\n",
       "      <td>sembawang / yishun (d27)</td>\n",
       "      <td>866 yishun street 81</td>\n",
       "      <td>hdb 4 rooms</td>\n",
       "      <td>NaN</td>\n",
       "      <td>1988.0</td>\n",
       "      <td>3.0</td>\n",
       "      <td>2.0</td>\n",
       "      <td>1115</td>\n",
       "      <td>...</td>\n",
       "      <td>unspecified</td>\n",
       "      <td>NaN</td>\n",
       "      <td>116.0</td>\n",
       "      <td>https://www.99.co/singapore/hdb/866-yishun-str...</td>\n",
       "      <td>1.414399</td>\n",
       "      <td>103.837196</td>\n",
       "      <td>0</td>\n",
       "      <td>yishun south</td>\n",
       "      <td>yishun</td>\n",
       "      <td>514500.0</td>\n",
       "    </tr>\n",
       "    <tr>\n",
       "      <th>1</th>\n",
       "      <td>259374</td>\n",
       "      <td>hdb flat for sale in 506b serangoon north aven...</td>\n",
       "      <td>hougang / punggol / sengkang (d19)</td>\n",
       "      <td>hdb-serangoon estate</td>\n",
       "      <td>hdb</td>\n",
       "      <td>99-year leasehold</td>\n",
       "      <td>1992.0</td>\n",
       "      <td>4.0</td>\n",
       "      <td>2.0</td>\n",
       "      <td>1575</td>\n",
       "      <td>...</td>\n",
       "      <td>unspecified</td>\n",
       "      <td>1, 2, 3, 4, 5, 6 br</td>\n",
       "      <td>NaN</td>\n",
       "      <td>https://www.99.co/singapore/hdb/hdbserangoon-e...</td>\n",
       "      <td>1.372597</td>\n",
       "      <td>103.875625</td>\n",
       "      <td>0</td>\n",
       "      <td>serangoon north</td>\n",
       "      <td>serangoon</td>\n",
       "      <td>995400.0</td>\n",
       "    </tr>\n",
       "    <tr>\n",
       "      <th>2</th>\n",
       "      <td>665422</td>\n",
       "      <td>4 bed condo for sale in meyerhouse</td>\n",
       "      <td>128 meyer road</td>\n",
       "      <td>meyerhouse</td>\n",
       "      <td>condo</td>\n",
       "      <td>freehold</td>\n",
       "      <td>2022.0</td>\n",
       "      <td>4.0</td>\n",
       "      <td>6.0</td>\n",
       "      <td>3070</td>\n",
       "      <td>...</td>\n",
       "      <td>partial</td>\n",
       "      <td>studio, 3, 4, 5, 6 br</td>\n",
       "      <td>56.0</td>\n",
       "      <td>https://www.99.co/singapore/condos-apartments/...</td>\n",
       "      <td>1.298773</td>\n",
       "      <td>103.895798</td>\n",
       "      <td>0</td>\n",
       "      <td>mountbatten</td>\n",
       "      <td>marine parade</td>\n",
       "      <td>8485000.0</td>\n",
       "    </tr>\n",
       "    <tr>\n",
       "      <th>3</th>\n",
       "      <td>857699</td>\n",
       "      <td>3 bed condo for sale in leedon green</td>\n",
       "      <td>26 leedon heights</td>\n",
       "      <td>leedon green</td>\n",
       "      <td>Condo</td>\n",
       "      <td>freehold</td>\n",
       "      <td>2023.0</td>\n",
       "      <td>3.0</td>\n",
       "      <td>2.0</td>\n",
       "      <td>958</td>\n",
       "      <td>...</td>\n",
       "      <td>partial</td>\n",
       "      <td>studio, 1, 2, 3, 4 br</td>\n",
       "      <td>638.0</td>\n",
       "      <td>https://www.99.co/singapore/condos-apartments/...</td>\n",
       "      <td>1.312364</td>\n",
       "      <td>103.803271</td>\n",
       "      <td>0</td>\n",
       "      <td>farrer court</td>\n",
       "      <td>bukit timah</td>\n",
       "      <td>2626000.0</td>\n",
       "    </tr>\n",
       "    <tr>\n",
       "      <th>4</th>\n",
       "      <td>216061</td>\n",
       "      <td>2 bed condo for sale in one bernam</td>\n",
       "      <td>1 bernam street</td>\n",
       "      <td>one bernam</td>\n",
       "      <td>condo</td>\n",
       "      <td>99-year leasehold</td>\n",
       "      <td>2026.0</td>\n",
       "      <td>2.0</td>\n",
       "      <td>1.0</td>\n",
       "      <td>732</td>\n",
       "      <td>...</td>\n",
       "      <td>unspecified</td>\n",
       "      <td>studio, 1, 2, 3, 4, 5 br</td>\n",
       "      <td>351.0</td>\n",
       "      <td>https://www.99.co/singapore/condos-apartments/...</td>\n",
       "      <td>1.273959</td>\n",
       "      <td>103.843635</td>\n",
       "      <td>0</td>\n",
       "      <td>anson</td>\n",
       "      <td>downtown core</td>\n",
       "      <td>1764000.0</td>\n",
       "    </tr>\n",
       "  </tbody>\n",
       "</table>\n",
       "<p>5 rows × 21 columns</p>\n",
       "</div>"
      ],
      "text/plain": [
       "   listing_id                                              title  \\\n",
       "0      122881          hdb flat for sale in 866 yishun street 81   \n",
       "1      259374  hdb flat for sale in 506b serangoon north aven...   \n",
       "2      665422                 4 bed condo for sale in meyerhouse   \n",
       "3      857699               3 bed condo for sale in leedon green   \n",
       "4      216061                 2 bed condo for sale in one bernam   \n",
       "\n",
       "                              address         property_name property_type  \\\n",
       "0            sembawang / yishun (d27)  866 yishun street 81   hdb 4 rooms   \n",
       "1  hougang / punggol / sengkang (d19)  hdb-serangoon estate           hdb   \n",
       "2                      128 meyer road            meyerhouse         condo   \n",
       "3                   26 leedon heights          leedon green         Condo   \n",
       "4                     1 bernam street            one bernam         condo   \n",
       "\n",
       "              tenure  built_year  num_beds  num_baths  size_sqft  ...  \\\n",
       "0                NaN      1988.0       3.0        2.0       1115  ...   \n",
       "1  99-year leasehold      1992.0       4.0        2.0       1575  ...   \n",
       "2           freehold      2022.0       4.0        6.0       3070  ...   \n",
       "3           freehold      2023.0       3.0        2.0        958  ...   \n",
       "4  99-year leasehold      2026.0       2.0        1.0        732  ...   \n",
       "\n",
       "    furnishing      available_unit_types total_num_units  \\\n",
       "0  unspecified                       NaN           116.0   \n",
       "1  unspecified       1, 2, 3, 4, 5, 6 br             NaN   \n",
       "2      partial     studio, 3, 4, 5, 6 br            56.0   \n",
       "3      partial     studio, 1, 2, 3, 4 br           638.0   \n",
       "4  unspecified  studio, 1, 2, 3, 4, 5 br           351.0   \n",
       "\n",
       "                                property_details_url       lat         lng  \\\n",
       "0  https://www.99.co/singapore/hdb/866-yishun-str...  1.414399  103.837196   \n",
       "1  https://www.99.co/singapore/hdb/hdbserangoon-e...  1.372597  103.875625   \n",
       "2  https://www.99.co/singapore/condos-apartments/...  1.298773  103.895798   \n",
       "3  https://www.99.co/singapore/condos-apartments/...  1.312364  103.803271   \n",
       "4  https://www.99.co/singapore/condos-apartments/...  1.273959  103.843635   \n",
       "\n",
       "   elevation          subzone  planning_area      price  \n",
       "0          0     yishun south         yishun   514500.0  \n",
       "1          0  serangoon north      serangoon   995400.0  \n",
       "2          0      mountbatten  marine parade  8485000.0  \n",
       "3          0     farrer court    bukit timah  2626000.0  \n",
       "4          0            anson  downtown core  1764000.0  \n",
       "\n",
       "[5 rows x 21 columns]"
      ]
     },
     "execution_count": 6,
     "metadata": {},
     "output_type": "execute_result"
    }
   ],
   "source": [
    "df_dirty_train = pd.read_csv('../data/train.csv')\n",
    "df_dirty_test = pd.read_csv('../data/test.csv')\n",
    "\n",
    "df_dirty.head()"
   ]
  },
  {
   "cell_type": "code",
   "execution_count": null,
   "metadata": {},
   "outputs": [],
   "source": [
    "#a.\tRemove duplicates"
   ]
  },
  {
   "cell_type": "code",
   "execution_count": null,
   "metadata": {},
   "outputs": [],
   "source": [
    "#b.\tRemove irrelevant data"
   ]
  },
  {
   "cell_type": "code",
   "execution_count": null,
   "metadata": {},
   "outputs": [],
   "source": [
    "#c.\tStandardize capitalization"
   ]
  },
  {
   "cell_type": "code",
   "execution_count": null,
   "metadata": {},
   "outputs": [],
   "source": [
    "#d.\tConvert data type"
   ]
  },
  {
   "cell_type": "code",
   "execution_count": null,
   "metadata": {},
   "outputs": [],
   "source": [
    "#e.\tClear formatting"
   ]
  },
  {
   "cell_type": "code",
   "execution_count": null,
   "metadata": {},
   "outputs": [],
   "source": [
    "#f.\tFix errors"
   ]
  },
  {
   "cell_type": "code",
   "execution_count": null,
   "metadata": {},
   "outputs": [],
   "source": [
    "#g.\tLanguage translation"
   ]
  },
  {
   "cell_type": "code",
   "execution_count": null,
   "metadata": {},
   "outputs": [],
   "source": [
    "#h.\tHandle missing values"
   ]
  },
  {
   "cell_type": "code",
   "execution_count": 8,
   "metadata": {},
   "outputs": [
    {
     "ename": "NameError",
     "evalue": "name 'df_dirty_test' is not defined",
     "output_type": "error",
     "traceback": [
      "\u001b[0;31m---------------------------------------------------------------------------\u001b[0m",
      "\u001b[0;31mNameError\u001b[0m                                 Traceback (most recent call last)",
      "\u001b[1;32m/Users/nishita/Documents/Semester 1/CS5228/project/notebooks/data_cleaning.ipynb Cell 11\u001b[0m in \u001b[0;36m<cell line: 1>\u001b[0;34m()\u001b[0m\n\u001b[0;32m----> <a href='vscode-notebook-cell:/Users/nishita/Documents/Semester%201/CS5228/project/notebooks/data_cleaning.ipynb#X15sZmlsZQ%3D%3D?line=0'>1</a>\u001b[0m df_dirty_test\u001b[39m.\u001b[39mto_csv(\u001b[39m'\u001b[39m\u001b[39m../data/test_cleaned.csv\u001b[39m\u001b[39m'\u001b[39m)  \n\u001b[1;32m      <a href='vscode-notebook-cell:/Users/nishita/Documents/Semester%201/CS5228/project/notebooks/data_cleaning.ipynb#X15sZmlsZQ%3D%3D?line=1'>2</a>\u001b[0m df_dirty_train\u001b[39m.\u001b[39mto_csv(\u001b[39m'\u001b[39m\u001b[39m../data/train_cleaned.csv\u001b[39m\u001b[39m'\u001b[39m)\n",
      "\u001b[0;31mNameError\u001b[0m: name 'df_dirty_test' is not defined"
     ]
    }
   ],
   "source": [
    "#No need to run this unless all data has been cleaned.\n",
    "df_dirty_test.to_csv('../data/test_cleaned.csv')  \n",
    "df_dirty_train.to_csv('../data/train_cleaned.csv')"
   ]
  },
  {
   "cell_type": "code",
   "execution_count": null,
   "metadata": {},
   "outputs": [],
   "source": []
  }
 ],
 "metadata": {
  "kernelspec": {
   "display_name": "Python 3.9.7 ('base')",
   "language": "python",
   "name": "python3"
  },
  "language_info": {
   "codemirror_mode": {
    "name": "ipython",
    "version": 3
   },
   "file_extension": ".py",
   "mimetype": "text/x-python",
   "name": "python",
   "nbconvert_exporter": "python",
   "pygments_lexer": "ipython3",
   "version": "3.9.7"
  },
  "orig_nbformat": 4,
  "vscode": {
   "interpreter": {
    "hash": "8a9a3a0f59d94ba7973b21a69118181ce5bc1e1391d96e7c074d54f3ed39dfbb"
   }
  }
 },
 "nbformat": 4,
 "nbformat_minor": 2
}
