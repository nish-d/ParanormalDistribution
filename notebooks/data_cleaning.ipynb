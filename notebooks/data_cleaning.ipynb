{
 "cells": [
  {
   "cell_type": "code",
   "execution_count": 1,
   "metadata": {
    "pycharm": {
     "name": "#%%\n"
    }
   },
   "outputs": [],
   "source": [
    "import numpy as np\n",
    "import pandas as pd\n",
    "import matplotlib.pyplot as plt\n",
    "%matplotlib inline\n",
    "\n",
    "import warnings\n",
    "warnings.filterwarnings(action=\"ignore\")"
   ]
  },
  {
   "cell_type": "code",
   "execution_count": 2,
   "metadata": {
    "pycharm": {
     "name": "#%%\n"
    }
   },
   "outputs": [],
   "source": [
    "df_dirty_train = pd.read_csv('../data/train.csv')\n",
    "df_dirty_test = pd.read_csv('../data/test.csv')\n"
   ]
  },
  {
   "cell_type": "code",
   "execution_count": 3,
   "metadata": {
    "pycharm": {
     "name": "#%%\n"
    }
   },
   "outputs": [
    {
     "name": "stdout",
     "output_type": "stream",
     "text": [
      "20254\n",
      "Records dropped :608\n",
      "                                               title  \\\n",
      "0          hdb flat for sale in 866 yishun street 81   \n",
      "1  hdb flat for sale in 506b serangoon north aven...   \n",
      "2                 4 bed condo for sale in meyerhouse   \n",
      "3               3 bed condo for sale in leedon green   \n",
      "4                 2 bed condo for sale in one bernam   \n",
      "\n",
      "                              address         property_name property_type  \\\n",
      "0            sembawang / yishun (d27)  866 yishun street 81   hdb 4 rooms   \n",
      "1  hougang / punggol / sengkang (d19)  hdb-serangoon estate           hdb   \n",
      "2                      128 meyer road            meyerhouse         condo   \n",
      "3                   26 leedon heights          leedon green         Condo   \n",
      "4                     1 bernam street            one bernam         condo   \n",
      "\n",
      "              tenure  built_year  num_beds  num_baths  size_sqft   furnishing  \\\n",
      "0                NaN      1988.0       3.0        2.0       1115  unspecified   \n",
      "1  99-year leasehold      1992.0       4.0        2.0       1575  unspecified   \n",
      "2           freehold      2022.0       4.0        6.0       3070      partial   \n",
      "3           freehold      2023.0       3.0        2.0        958      partial   \n",
      "4  99-year leasehold      2026.0       2.0        1.0        732  unspecified   \n",
      "\n",
      "       available_unit_types       lat         lng          subzone  \\\n",
      "0                       NaN  1.414399  103.837196     yishun south   \n",
      "1       1, 2, 3, 4, 5, 6 br  1.372597  103.875625  serangoon north   \n",
      "2     studio, 3, 4, 5, 6 br  1.298773  103.895798      mountbatten   \n",
      "3     studio, 1, 2, 3, 4 br  1.312364  103.803271     farrer court   \n",
      "4  studio, 1, 2, 3, 4, 5 br  1.273959  103.843635            anson   \n",
      "\n",
      "   planning_area      price  \n",
      "0         yishun   514500.0  \n",
      "1      serangoon   995400.0  \n",
      "2  marine parade  8485000.0  \n",
      "3    bukit timah  2626000.0  \n",
      "4  downtown core  1764000.0  \n"
     ]
    }
   ],
   "source": [
    "#a.\tRemove duplicates and invalid data\n",
    "print(df_dirty_train.shape[0])\n",
    "df_cleaned = df_dirty_train.drop_duplicates()\n",
    "df_cleaned = df_cleaned[df_cleaned.size_sqft > 0]\n",
    "df_cleaned.dropna(subset=['num_beds', 'num_baths', 'price', 'size_sqft'], inplace = True)\n",
    "df_cleaned = df_cleaned[df_cleaned.price > 0]\n",
    "df_cleaned = df_cleaned.drop(['property_details_url', 'listing_id', 'elevation', 'total_num_units', 'floor_level'], axis = 1)\n",
    "\n",
    "print(f'Records dropped :{df_dirty_train.shape[0] - df_cleaned.shape[0]}' )\n",
    "print(df_cleaned.head())"
   ]
  },
  {
   "cell_type": "code",
   "execution_count": 70,
   "metadata": {
    "pycharm": {
     "name": "#%%\n"
    }
   },
   "outputs": [],
   "source": [
    "#b.\tRemove irrelevant data\n",
    "\n",
    "#Elevation has only one value -> 0\n"
   ]
  },
  {
   "cell_type": "code",
   "execution_count": 71,
   "metadata": {
    "pycharm": {
     "name": "#%%\n"
    }
   },
   "outputs": [],
   "source": [
    "#c.\tStandardize capitalization\n",
    "#df_cleaned.fillna({'built_year': 0}, inplace=True)\n",
    "#df_cleaned['built_year'] = df_cleaned['built_year'].astype(str).apply(lambda x: x.replace('.0',''))\n",
    "df_cleaned['property_type'] = df_cleaned['property_type'].str.lower()\n",
    "df_cleaned['tenure'] = df_cleaned['tenure'].str.lower()\n",
    "df_cleaned['furnishing'] = df_cleaned['furnishing'].str.lower()\n",
    "df_cleaned['subzone'] = df_cleaned['subzone'].str.lower()\n",
    "df_cleaned['planning_area'] = df_cleaned['planning_area'].str.lower()"
   ]
  },
  {
   "cell_type": "code",
   "execution_count": 72,
   "metadata": {
    "pycharm": {
     "name": "#%%\n"
    }
   },
   "outputs": [
    {
     "data": {
      "text/plain": [
       "999-year leasehold      459\n",
       "freehold               6270\n",
       "99-year leasehold     11205\n",
       "Name: tenure, dtype: int64"
      ]
     },
     "execution_count": 72,
     "metadata": {},
     "output_type": "execute_result"
    }
   ],
   "source": [
    "mask_999 = ['947-year leasehold', '929-year leasehold', '946-year leasehold',\n",
    "'956-year leasehold']\n",
    "mask_99 = ['100-year leasehold', '102-year leasehold', '110-year leasehold', '103-year leasehold']\n",
    "df_cleaned = df_cleaned.replace(mask_999, '999-year leasehold')\n",
    "df_cleaned = df_cleaned.replace(mask_99, '99-year leasehold')\n",
    "\n",
    "\n",
    "df_cleaned['tenure'].value_counts().sort_values()\n",
    "\n",
    "#Encode property name\n",
    "#\n",
    "\n"
   ]
  },
  {
   "cell_type": "code",
   "execution_count": 73,
   "metadata": {
    "pycharm": {
     "name": "#%%\n"
    }
   },
   "outputs": [],
   "source": [
    "#e.\tClear formatting"
   ]
  },
  {
   "cell_type": "code",
   "execution_count": 74,
   "metadata": {
    "pycharm": {
     "name": "#%%\n"
    }
   },
   "outputs": [],
   "source": [
    "#f.\tFix errors"
   ]
  },
  {
   "cell_type": "code",
   "execution_count": 75,
   "metadata": {
    "pycharm": {
     "name": "#%%\n"
    }
   },
   "outputs": [],
   "source": [
    "#g.\tLanguage translation"
   ]
  },
  {
   "cell_type": "code",
   "execution_count": 76,
   "metadata": {
    "pycharm": {
     "name": "#%%\n"
    }
   },
   "outputs": [
    {
     "data": {
      "text/plain": [
       "title                      0\n",
       "address                    0\n",
       "property_name              0\n",
       "property_type              0\n",
       "num_beds                   0\n",
       "num_baths                  0\n",
       "size_sqft                  0\n",
       "furnishing                 0\n",
       "lat                        0\n",
       "lng                        0\n",
       "subzone                  106\n",
       "planning_area            106\n",
       "price                      0\n",
       "built_year               901\n",
       "tenure                   198\n",
       "available_unit_types    1430\n",
       "dtype: int64"
      ]
     },
     "execution_count": 76,
     "metadata": {},
     "output_type": "execute_result"
    }
   ],
   "source": [
    "#h. Handle missing values\n",
    "\n",
    "#built_year\n",
    "dfmap = df_cleaned.dropna(subset = ['built_year'])[['built_year', 'property_name']].drop_duplicates()\n",
    "dfmap = dfmap.drop_duplicates(subset = ['property_name'])\n",
    "df_cleaned = df_cleaned.drop(columns=['built_year']).merge(dfmap, on=['property_name'], how='left')\n",
    "\n",
    "dfmap = df_cleaned.dropna(subset = ['tenure'])[['tenure', 'property_name']].drop_duplicates()\n",
    "dfmap = dfmap.drop_duplicates(subset = ['property_name'])\n",
    "df_cleaned = df_cleaned.drop(columns=['tenure']).merge(dfmap, on=['property_name'], how='left')\n",
    "\n",
    "dfmap = df_cleaned.dropna(subset = ['tenure'])[['tenure', 'address']].drop_duplicates()\n",
    "dfmap = dfmap.drop_duplicates(subset = ['address'])\n",
    "df_cleaned = df_cleaned.drop(columns=['tenure']).merge(dfmap, on=['address'], how='left')\n",
    "\n",
    "dfmap = df_cleaned.dropna(subset = ['available_unit_types'])[['available_unit_types', 'property_name']].drop_duplicates()\n",
    "dfmap = dfmap.drop_duplicates(subset = ['property_name'])\n",
    "df_cleaned = df_cleaned.drop(columns=['available_unit_types']).merge(dfmap, on=['property_name'], how='left')\n",
    "\n",
    "df_cleaned.isnull().sum()\n"
   ]
  },
  {
   "cell_type": "code",
   "execution_count": 67,
   "metadata": {
    "pycharm": {
     "name": "#%%\n"
    }
   },
   "outputs": [
    {
     "data": {
      "text/html": [
       "<div>\n",
       "<style scoped>\n",
       "    .dataframe tbody tr th:only-of-type {\n",
       "        vertical-align: middle;\n",
       "    }\n",
       "\n",
       "    .dataframe tbody tr th {\n",
       "        vertical-align: top;\n",
       "    }\n",
       "\n",
       "    .dataframe thead th {\n",
       "        text-align: right;\n",
       "    }\n",
       "</style>\n",
       "<table border=\"1\" class=\"dataframe\">\n",
       "  <thead>\n",
       "    <tr style=\"text-align: right;\">\n",
       "      <th></th>\n",
       "      <th>title</th>\n",
       "      <th>address</th>\n",
       "      <th>property_name</th>\n",
       "      <th>property_type</th>\n",
       "      <th>num_beds</th>\n",
       "      <th>num_baths</th>\n",
       "      <th>size_sqft</th>\n",
       "      <th>furnishing</th>\n",
       "      <th>lat</th>\n",
       "      <th>lng</th>\n",
       "      <th>subzone</th>\n",
       "      <th>planning_area</th>\n",
       "      <th>price</th>\n",
       "      <th>built_year</th>\n",
       "      <th>tenure</th>\n",
       "      <th>available_unit_types</th>\n",
       "    </tr>\n",
       "  </thead>\n",
       "  <tbody>\n",
       "    <tr>\n",
       "      <th>21</th>\n",
       "      <td>5 bed house for sale in montrose terrace</td>\n",
       "      <td>mount rosie road</td>\n",
       "      <td>montrose terrace</td>\n",
       "      <td>terraced house</td>\n",
       "      <td>5.0</td>\n",
       "      <td>6.0</td>\n",
       "      <td>7829</td>\n",
       "      <td>unspecified</td>\n",
       "      <td>1.322016</td>\n",
       "      <td>103.836450</td>\n",
       "      <td>malcolm</td>\n",
       "      <td>novena</td>\n",
       "      <td>11025000.0</td>\n",
       "      <td>NaN</td>\n",
       "      <td>NaN</td>\n",
       "      <td>5 br</td>\n",
       "    </tr>\n",
       "    <tr>\n",
       "      <th>333</th>\n",
       "      <td>5 bed house for sale in florence gardens</td>\n",
       "      <td>florence road</td>\n",
       "      <td>florence gardens</td>\n",
       "      <td>semi-detached house</td>\n",
       "      <td>5.0</td>\n",
       "      <td>4.0</td>\n",
       "      <td>3500</td>\n",
       "      <td>unspecified</td>\n",
       "      <td>1.365070</td>\n",
       "      <td>103.885066</td>\n",
       "      <td>kovan</td>\n",
       "      <td>hougang</td>\n",
       "      <td>7140000.0</td>\n",
       "      <td>NaN</td>\n",
       "      <td>NaN</td>\n",
       "      <td>4, 5 br</td>\n",
       "    </tr>\n",
       "    <tr>\n",
       "      <th>502</th>\n",
       "      <td>5 bed house for sale in bukit loyang estate</td>\n",
       "      <td>jalan kelempong</td>\n",
       "      <td>bukit loyang estate</td>\n",
       "      <td>semi-detached house</td>\n",
       "      <td>5.0</td>\n",
       "      <td>3.0</td>\n",
       "      <td>3000</td>\n",
       "      <td>unspecified</td>\n",
       "      <td>1.362513</td>\n",
       "      <td>103.967638</td>\n",
       "      <td>flora drive</td>\n",
       "      <td>pasir ris</td>\n",
       "      <td>7551400.0</td>\n",
       "      <td>NaN</td>\n",
       "      <td>NaN</td>\n",
       "      <td>2, 4, 5, 6 br</td>\n",
       "    </tr>\n",
       "    <tr>\n",
       "      <th>714</th>\n",
       "      <td>5 bed house for sale in paterson garden</td>\n",
       "      <td>lengkok angsa</td>\n",
       "      <td>paterson garden</td>\n",
       "      <td>semi-detached house</td>\n",
       "      <td>5.0</td>\n",
       "      <td>7.0</td>\n",
       "      <td>3412</td>\n",
       "      <td>unspecified</td>\n",
       "      <td>1.300918</td>\n",
       "      <td>103.829973</td>\n",
       "      <td>paterson</td>\n",
       "      <td>river valley</td>\n",
       "      <td>14175000.0</td>\n",
       "      <td>NaN</td>\n",
       "      <td>NaN</td>\n",
       "      <td>5 br</td>\n",
       "    </tr>\n",
       "    <tr>\n",
       "      <th>729</th>\n",
       "      <td>7 bed house for sale in east view garden</td>\n",
       "      <td>meragi terrace</td>\n",
       "      <td>east view garden</td>\n",
       "      <td>semi-detached house</td>\n",
       "      <td>7.0</td>\n",
       "      <td>6.0</td>\n",
       "      <td>7500</td>\n",
       "      <td>unspecified</td>\n",
       "      <td>1.342076</td>\n",
       "      <td>103.960414</td>\n",
       "      <td>simei</td>\n",
       "      <td>tampines</td>\n",
       "      <td>3675000.0</td>\n",
       "      <td>1977.0</td>\n",
       "      <td>NaN</td>\n",
       "      <td>3, 4, 5, 6, 7, 8 br</td>\n",
       "    </tr>\n",
       "    <tr>\n",
       "      <th>...</th>\n",
       "      <td>...</td>\n",
       "      <td>...</td>\n",
       "      <td>...</td>\n",
       "      <td>...</td>\n",
       "      <td>...</td>\n",
       "      <td>...</td>\n",
       "      <td>...</td>\n",
       "      <td>...</td>\n",
       "      <td>...</td>\n",
       "      <td>...</td>\n",
       "      <td>...</td>\n",
       "      <td>...</td>\n",
       "      <td>...</td>\n",
       "      <td>...</td>\n",
       "      <td>...</td>\n",
       "      <td>...</td>\n",
       "    </tr>\n",
       "    <tr>\n",
       "      <th>18856</th>\n",
       "      <td>3 bed house for sale in blair plain conservati...</td>\n",
       "      <td>everton road</td>\n",
       "      <td>blair plain conservation area</td>\n",
       "      <td>conservation house</td>\n",
       "      <td>3.0</td>\n",
       "      <td>2.0</td>\n",
       "      <td>4000</td>\n",
       "      <td>unspecified</td>\n",
       "      <td>1.277503</td>\n",
       "      <td>103.838096</td>\n",
       "      <td>everton park</td>\n",
       "      <td>bukit merah</td>\n",
       "      <td>6174000.0</td>\n",
       "      <td>NaN</td>\n",
       "      <td>NaN</td>\n",
       "      <td>studio, 1, 2, 3, 4, 5, 7 br</td>\n",
       "    </tr>\n",
       "    <tr>\n",
       "      <th>18983</th>\n",
       "      <td>6 bed house for sale in dunman garden</td>\n",
       "      <td>swanage road</td>\n",
       "      <td>dunman garden</td>\n",
       "      <td>corner terrace</td>\n",
       "      <td>6.0</td>\n",
       "      <td>7.0</td>\n",
       "      <td>6924</td>\n",
       "      <td>unspecified</td>\n",
       "      <td>1.308418</td>\n",
       "      <td>103.893388</td>\n",
       "      <td>mountbatten</td>\n",
       "      <td>marine parade</td>\n",
       "      <td>8384200.0</td>\n",
       "      <td>NaN</td>\n",
       "      <td>NaN</td>\n",
       "      <td>6 br</td>\n",
       "    </tr>\n",
       "    <tr>\n",
       "      <th>19303</th>\n",
       "      <td>5 bed house for sale in sunny terrace</td>\n",
       "      <td>jalan jamal</td>\n",
       "      <td>sunny terrace</td>\n",
       "      <td>corner terrace</td>\n",
       "      <td>5.0</td>\n",
       "      <td>6.0</td>\n",
       "      <td>2800</td>\n",
       "      <td>unspecified</td>\n",
       "      <td>1.312759</td>\n",
       "      <td>103.925318</td>\n",
       "      <td>frankel</td>\n",
       "      <td>bedok</td>\n",
       "      <td>8400000.0</td>\n",
       "      <td>NaN</td>\n",
       "      <td>NaN</td>\n",
       "      <td>5 br</td>\n",
       "    </tr>\n",
       "    <tr>\n",
       "      <th>19435</th>\n",
       "      <td>3 bed condo for sale in spring residences</td>\n",
       "      <td>25 ewe boon road</td>\n",
       "      <td>spring residences</td>\n",
       "      <td>apartment</td>\n",
       "      <td>3.0</td>\n",
       "      <td>2.0</td>\n",
       "      <td>1463</td>\n",
       "      <td>unspecified</td>\n",
       "      <td>1.316002</td>\n",
       "      <td>103.830431</td>\n",
       "      <td>nassim</td>\n",
       "      <td>tanglin</td>\n",
       "      <td>3444000.0</td>\n",
       "      <td>2013.0</td>\n",
       "      <td>NaN</td>\n",
       "      <td>2, 3 br</td>\n",
       "    </tr>\n",
       "    <tr>\n",
       "      <th>19524</th>\n",
       "      <td>5 bed house for sale in airview park</td>\n",
       "      <td>tham soong avenue</td>\n",
       "      <td>airview park</td>\n",
       "      <td>semi-detached house</td>\n",
       "      <td>5.0</td>\n",
       "      <td>6.0</td>\n",
       "      <td>4781</td>\n",
       "      <td>partial</td>\n",
       "      <td>1.344384</td>\n",
       "      <td>103.773833</td>\n",
       "      <td>anak bukit</td>\n",
       "      <td>bukit timah</td>\n",
       "      <td>7749000.0</td>\n",
       "      <td>NaN</td>\n",
       "      <td>NaN</td>\n",
       "      <td>3, 4, 5, 6, 7 br</td>\n",
       "    </tr>\n",
       "  </tbody>\n",
       "</table>\n",
       "<p>78 rows × 16 columns</p>\n",
       "</div>"
      ],
      "text/plain": [
       "                                                   title            address  \\\n",
       "21              5 bed house for sale in montrose terrace   mount rosie road   \n",
       "333             5 bed house for sale in florence gardens      florence road   \n",
       "502          5 bed house for sale in bukit loyang estate    jalan kelempong   \n",
       "714              5 bed house for sale in paterson garden      lengkok angsa   \n",
       "729             7 bed house for sale in east view garden     meragi terrace   \n",
       "...                                                  ...                ...   \n",
       "18856  3 bed house for sale in blair plain conservati...       everton road   \n",
       "18983              6 bed house for sale in dunman garden       swanage road   \n",
       "19303              5 bed house for sale in sunny terrace        jalan jamal   \n",
       "19435          3 bed condo for sale in spring residences   25 ewe boon road   \n",
       "19524               5 bed house for sale in airview park  tham soong avenue   \n",
       "\n",
       "                       property_name        property_type  num_beds  \\\n",
       "21                  montrose terrace       terraced house       5.0   \n",
       "333                 florence gardens  semi-detached house       5.0   \n",
       "502              bukit loyang estate  semi-detached house       5.0   \n",
       "714                  paterson garden  semi-detached house       5.0   \n",
       "729                 east view garden  semi-detached house       7.0   \n",
       "...                              ...                  ...       ...   \n",
       "18856  blair plain conservation area   conservation house       3.0   \n",
       "18983                  dunman garden       corner terrace       6.0   \n",
       "19303                  sunny terrace       corner terrace       5.0   \n",
       "19435              spring residences            apartment       3.0   \n",
       "19524                   airview park  semi-detached house       5.0   \n",
       "\n",
       "       num_baths  size_sqft   furnishing       lat         lng       subzone  \\\n",
       "21           6.0       7829  unspecified  1.322016  103.836450       malcolm   \n",
       "333          4.0       3500  unspecified  1.365070  103.885066         kovan   \n",
       "502          3.0       3000  unspecified  1.362513  103.967638   flora drive   \n",
       "714          7.0       3412  unspecified  1.300918  103.829973      paterson   \n",
       "729          6.0       7500  unspecified  1.342076  103.960414         simei   \n",
       "...          ...        ...          ...       ...         ...           ...   \n",
       "18856        2.0       4000  unspecified  1.277503  103.838096  everton park   \n",
       "18983        7.0       6924  unspecified  1.308418  103.893388   mountbatten   \n",
       "19303        6.0       2800  unspecified  1.312759  103.925318       frankel   \n",
       "19435        2.0       1463  unspecified  1.316002  103.830431        nassim   \n",
       "19524        6.0       4781      partial  1.344384  103.773833    anak bukit   \n",
       "\n",
       "       planning_area       price  built_year tenure  \\\n",
       "21            novena  11025000.0         NaN    NaN   \n",
       "333          hougang   7140000.0         NaN    NaN   \n",
       "502        pasir ris   7551400.0         NaN    NaN   \n",
       "714     river valley  14175000.0         NaN    NaN   \n",
       "729         tampines   3675000.0      1977.0    NaN   \n",
       "...              ...         ...         ...    ...   \n",
       "18856    bukit merah   6174000.0         NaN    NaN   \n",
       "18983  marine parade   8384200.0         NaN    NaN   \n",
       "19303          bedok   8400000.0         NaN    NaN   \n",
       "19435        tanglin   3444000.0      2013.0    NaN   \n",
       "19524    bukit timah   7749000.0         NaN    NaN   \n",
       "\n",
       "              available_unit_types  \n",
       "21                            5 br  \n",
       "333                        4, 5 br  \n",
       "502                  2, 4, 5, 6 br  \n",
       "714                           5 br  \n",
       "729            3, 4, 5, 6, 7, 8 br  \n",
       "...                            ...  \n",
       "18856  studio, 1, 2, 3, 4, 5, 7 br  \n",
       "18983                         6 br  \n",
       "19303                         5 br  \n",
       "19435                      2, 3 br  \n",
       "19524             3, 4, 5, 6, 7 br  \n",
       "\n",
       "[78 rows x 16 columns]"
      ]
     },
     "execution_count": 67,
     "metadata": {},
     "output_type": "execute_result"
    }
   ],
   "source": [
    "df_cleaned[df_cleaned.tenure.isnull()]"
   ]
  },
  {
   "cell_type": "code",
   "execution_count": 77,
   "metadata": {
    "pycharm": {
     "name": "#%%\n"
    }
   },
   "outputs": [],
   "source": [
    "#No need to run this unless all data has been cleaned.\n",
    "#df_cleaned.to_csv('../data/test_cleaned.csv')  \n",
    "df_cleaned.to_csv('../data/train_cleaned.csv')\n"
   ]
  },
  {
   "cell_type": "code",
   "execution_count": 20,
   "metadata": {
    "pycharm": {
     "name": "#%%\n"
    }
   },
   "outputs": [
    {
     "name": "stdout",
     "output_type": "stream",
     "text": [
      "7000\n"
     ]
    }
   ],
   "source": [
    "#a.\tRemove duplicates and invalid data\n",
    "print(df_dirty_test.shape[0])\n",
    "df_test_cleaned = df_dirty_test.drop_duplicates()\n",
    "df_test_cleaned = df_test_cleaned[df_test_cleaned.size_sqft > 0]\n",
    "df_test_cleaned.dropna(subset=['num_beds', 'num_baths', 'size_sqft'], inplace = True)\n",
    "#df_test_cleaned = df_test_cleaned[df_test_cleaned.price > 0]- not applicable to test data"
   ]
  },
  {
   "cell_type": "code",
   "execution_count": 21,
   "outputs": [],
   "source": [
    "#b.\tRemove irrelevant data\n",
    "\n",
    "#Elevation has only one value -> 0\n",
    "\n",
    "df_test_cleaned = df_test_cleaned.drop(['property_details_url', 'listing_id', 'elevation', 'total_num_units', 'floor_level'], axis = 1)"
   ],
   "metadata": {
    "collapsed": false,
    "pycharm": {
     "name": "#%%\n"
    }
   }
  },
  {
   "cell_type": "code",
   "execution_count": 23,
   "outputs": [
    {
     "name": "stdout",
     "output_type": "stream",
     "text": [
      "Records dropped :182\n",
      "                                                 title  \\\n",
      "0                  1 bed condo for sale in the gazania   \n",
      "1              3 bed condo for sale in vue 8 residence   \n",
      "2                         1 bed condo for sale in icon   \n",
      "3     hdb flat for sale in 812b choa chu kang avenue 7   \n",
      "4             hdb flat for sale in 204 toa payoh north   \n",
      "...                                                ...   \n",
      "6995           5 bed house for sale in paradise island   \n",
      "6996            5 bed house for sale in orchid village   \n",
      "6997                3 bed condo for sale in the avenir   \n",
      "6998           hdb flat for sale in 31 marine crescent   \n",
      "6999                   3 bed condo for sale in riviere   \n",
      "\n",
      "                                                address  \\\n",
      "0                                      17 how sun drive   \n",
      "1                                  95 pasir ris heights   \n",
      "2                                      10 gopeng street   \n",
      "3     bukit batok / bukit panjang / choa chu kang (d23)   \n",
      "4                           balestier / toa payoh (d12)   \n",
      "...                                                 ...   \n",
      "6995                                    paradise island   \n",
      "6996                                        vanda drive   \n",
      "6997                               8 river valley close   \n",
      "6998                   east coast / marine parade (d15)   \n",
      "6999                                  3 jiak kim street   \n",
      "\n",
      "              property_name        property_type             tenure  \\\n",
      "0               the gazania                condo           freehold   \n",
      "1           vue 8 residence                Condo  99-year leasehold   \n",
      "2                      icon                condo  99-year leasehold   \n",
      "3         keat hong colours                  Hdb  99-year leasehold   \n",
      "4          toa payoh spring          hdb 4 rooms  99-year leasehold   \n",
      "...                     ...                  ...                ...   \n",
      "6995        paradise island             bungalow  99-year leasehold   \n",
      "6996         orchid village  Semi-Detached House           freehold   \n",
      "6997             the avenir                Condo           freehold   \n",
      "6998  marine crescent ville                  hdb  99-year leasehold   \n",
      "6999                riviere                condo  99-year leasehold   \n",
      "\n",
      "      built_year  num_beds  num_baths  size_sqft   furnishing  \\\n",
      "0         2022.0       1.0        1.0        463  unfurnished   \n",
      "1         2017.0       3.0        3.0       1033  unspecified   \n",
      "2         2007.0       1.0        1.0        570        fully   \n",
      "3         2017.0       3.0        2.0       1216  unspecified   \n",
      "4         1973.0       3.0        2.0        936  unspecified   \n",
      "...          ...       ...        ...        ...          ...   \n",
      "6995      2009.0       5.0        6.0       8000  unspecified   \n",
      "6996      2010.0       5.0        7.0       6974  unspecified   \n",
      "6997      2025.0       3.0        2.0       1141      partial   \n",
      "6998      1975.0       3.0        1.0        818  unspecified   \n",
      "6999      2023.0       3.0        3.0       1507  unspecified   \n",
      "\n",
      "          available_unit_types       lat         lng           subzone  \\\n",
      "0     studio, 1, 2, 3, 4, 5 br  1.344334  103.878690  upper paya lebar   \n",
      "1     studio, 1, 2, 3, 4, 5 br  1.380281  103.943878    pasir ris west   \n",
      "2           studio, 1, 2, 3 br  1.294668  103.850074        bras basah   \n",
      "3             1, 2, 3, 4, 5 br  1.373120  103.746094         keat hong   \n",
      "4                1, 2, 3, 4 br  1.341468  103.849047          braddell   \n",
      "...                        ...       ...         ...               ...   \n",
      "6995          4, 5, 6, 7, 8 br  1.249534  103.844281           sentosa   \n",
      "6996          4, 5, 6, 7, 8 br  1.332492  103.800004         hillcrest   \n",
      "6997  studio, 1, 2, 3, 4, 5 br  1.294106  103.836735  institution hill   \n",
      "6998             1, 2, 3, 4 br  1.303736  103.911438     marine parade   \n",
      "6999          1, 2, 3, 4, 5 br  1.302770  103.869435       tanjong rhu   \n",
      "\n",
      "         planning_area  \n",
      "0            serangoon  \n",
      "1            pasir ris  \n",
      "2               museum  \n",
      "3        choa chu kang  \n",
      "4            toa payoh  \n",
      "...                ...  \n",
      "6995  southern islands  \n",
      "6996       bukit timah  \n",
      "6997      river valley  \n",
      "6998     marine parade  \n",
      "6999           kallang  \n",
      "\n",
      "[6818 rows x 15 columns]\n"
     ]
    }
   ],
   "source": [
    "print(f'Records dropped :{df_dirty_test.shape[0] - df_test_cleaned.shape[0]}' )\n",
    "print(df_test_cleaned)"
   ],
   "metadata": {
    "collapsed": false,
    "pycharm": {
     "name": "#%%\n"
    }
   }
  },
  {
   "cell_type": "code",
   "execution_count": 24,
   "outputs": [],
   "source": [
    "#c.\tStandardize capitalization\n",
    "#df_cleaned.fillna({'built_year': 0}, inplace=True)\n",
    "#df_cleaned['built_year'] = df_cleaned['built_year'].astype(str).apply(lambda x: x.replace('.0',''))\n",
    "df_test_cleaned['property_type'] = df_test_cleaned['property_type'].str.lower()\n",
    "df_test_cleaned['tenure'] = df_test_cleaned['tenure'].str.lower()\n",
    "df_test_cleaned['furnishing'] = df_test_cleaned['furnishing'].str.lower()\n",
    "df_test_cleaned['subzone'] = df_test_cleaned['subzone'].str.lower()\n",
    "df_test_cleaned['planning_area'] = df_test_cleaned['planning_area'].str.lower()"
   ],
   "metadata": {
    "collapsed": false,
    "pycharm": {
     "name": "#%%\n"
    }
   }
  },
  {
   "cell_type": "code",
   "execution_count": 25,
   "outputs": [
    {
     "data": {
      "text/plain": "999-year leasehold     168\nfreehold              2147\n99-year leasehold     3868\nName: tenure, dtype: int64"
     },
     "execution_count": 25,
     "metadata": {},
     "output_type": "execute_result"
    }
   ],
   "source": [
    "mask_999 = ['947-year leasehold', '929-year leasehold', '946-year leasehold',\n",
    "'956-year leasehold']\n",
    "mask_99 = ['100-year leasehold', '102-year leasehold', '110-year leasehold', '103-year leasehold']\n",
    "df_test_cleaned = df_test_cleaned.replace(mask_999, '999-year leasehold')\n",
    "df_test_cleaned = df_test_cleaned.replace(mask_99, '99-year leasehold')\n",
    "\n",
    "\n",
    "df_test_cleaned['tenure'].value_counts().sort_values()\n",
    "\n",
    "#Encode property name\n",
    "#"
   ],
   "metadata": {
    "collapsed": false,
    "pycharm": {
     "name": "#%%\n"
    }
   }
  },
  {
   "cell_type": "code",
   "execution_count": 26,
   "outputs": [],
   "source": [
    "#e.\tClear formatting"
   ],
   "metadata": {
    "collapsed": false,
    "pycharm": {
     "name": "#%%\n"
    }
   }
  },
  {
   "cell_type": "code",
   "execution_count": 27,
   "outputs": [],
   "source": [
    "#f. Fix errors"
   ],
   "metadata": {
    "collapsed": false,
    "pycharm": {
     "name": "#%%\n"
    }
   }
  },
  {
   "cell_type": "code",
   "execution_count": 28,
   "outputs": [],
   "source": [
    "#g. Language Translations"
   ],
   "metadata": {
    "collapsed": false,
    "pycharm": {
     "name": "#%%\n"
    }
   }
  },
  {
   "cell_type": "code",
   "execution_count": 31,
   "outputs": [
    {
     "data": {
      "text/plain": "title                     0\naddress                   0\nproperty_name             0\nproperty_type             0\nnum_beds                  0\nnum_baths                 0\nsize_sqft                 0\nfurnishing                0\nlat                       0\nlng                       0\nsubzone                  33\nplanning_area            33\nbuilt_year                0\ntenure                   38\navailable_unit_types    512\ndtype: int64"
     },
     "execution_count": 31,
     "metadata": {},
     "output_type": "execute_result"
    }
   ],
   "source": [
    "#h. Handle missing values\n",
    "\n",
    "#built_year\n",
    "dfmap = df_test_cleaned.dropna(subset = ['built_year'])[['built_year', 'property_name']].drop_duplicates()\n",
    "dfmap = dfmap.drop_duplicates(subset = ['property_name'])\n",
    "df_test_cleaned = df_test_cleaned.drop(columns=['built_year']).merge(dfmap, on=['property_name'], how='left')\n",
    "\n",
    "df_test_cleaned = df_test_cleaned.dropna(subset=['built_year'])\n",
    "\n",
    "dfmap = df_test_cleaned.dropna(subset = ['tenure'])[['tenure', 'property_name']].drop_duplicates()\n",
    "dfmap = dfmap.drop_duplicates(subset = ['property_name'])\n",
    "df_test_cleaned = df_test_cleaned.drop(columns=['tenure']).merge(dfmap, on=['property_name'], how='left')\n",
    "\n",
    "dfmap = df_test_cleaned.dropna(subset = ['tenure'])[['tenure', 'address']].drop_duplicates()\n",
    "dfmap = dfmap.drop_duplicates(subset = ['address'])\n",
    "df_test_cleaned = df_test_cleaned.drop(columns=['tenure']).merge(dfmap, on=['address'], how='left')\n",
    "\n",
    "dfmap = df_test_cleaned.dropna(subset = ['available_unit_types'])[['available_unit_types', 'property_name']].drop_duplicates()\n",
    "dfmap = dfmap.drop_duplicates(subset = ['property_name'])\n",
    "df_test_cleaned = df_test_cleaned.drop(columns=['available_unit_types']).merge(dfmap, on=['property_name'], how='left')\n",
    "\n",
    "df_test_cleaned.isnull().sum()"
   ],
   "metadata": {
    "collapsed": false,
    "pycharm": {
     "name": "#%%\n"
    }
   }
  },
  {
   "cell_type": "code",
   "execution_count": 32,
   "outputs": [
    {
     "data": {
      "text/plain": "                                             title  \\\n305   5 bed house for sale in pasir ris beach park   \n703   5 bed house for sale in pasir ris beach park   \n705   5 bed house for sale in pasir ris beach park   \n812   4 bed house for sale in pasir ris beach park   \n1110   hdb flat for sale in 538 upper cross street   \n1140  4 bed house for sale in pasir ris beach park   \n1287  4 bed house for sale in pasir ris beach park   \n1341  4 bed house for sale in pasir ris beach park   \n1629  5 bed house for sale in pasir ris beach park   \n1831  4 bed house for sale in pasir ris beach park   \n1901  4 bed house for sale in pasir ris beach park   \n2228  4 bed house for sale in pasir ris beach park   \n2246  5 bed house for sale in pasir ris beach park   \n2487  4 bed house for sale in pasir ris beach park   \n2558  5 bed house for sale in pasir ris beach park   \n2890  6 bed house for sale in pasir ris beach park   \n2918  5 bed house for sale in pasir ris beach park   \n3089     2 bed condo for sale in spring residences   \n3191  4 bed house for sale in pasir ris beach park   \n3218  4 bed house for sale in pasir ris beach park   \n3723  4 bed house for sale in pasir ris beach park   \n4211  4 bed house for sale in pasir ris beach park   \n4263  4 bed house for sale in pasir ris beach park   \n4563  4 bed house for sale in pasir ris beach park   \n4717  4 bed house for sale in pasir ris beach park   \n4944  5 bed house for sale in pasir ris beach park   \n5248  4 bed house for sale in pasir ris beach park   \n5335  4 bed house for sale in pasir ris beach park   \n5562     2 bed condo for sale in spring residences   \n5752  4 bed house for sale in pasir ris beach park   \n5900  5 bed house for sale in pasir ris beach park   \n5907  5 bed house for sale in pasir ris beach park   \n6116  4 bed house for sale in pasir ris beach park   \n6132  4 bed house for sale in pasir ris beach park   \n6348  5 bed house for sale in pasir ris beach park   \n6390  4 bed house for sale in pasir ris beach park   \n6402  5 bed house for sale in pasir ris beach park   \n6457      5 bed house for sale in east view garden   \n\n                                      address           property_name  \\\n305                             pasir ris way    pasir ris beach park   \n703                             pasir ris way    pasir ris beach park   \n705                             pasir ris way    pasir ris beach park   \n812                             pasir ris way    pasir ris beach park   \n1110  boat quay / raffles place / marina (d1)  538 upper cross street   \n1140                         pasir ris avenue    pasir ris beach park   \n1287                            pasir ris way    pasir ris beach park   \n1341                            pasir ris way    pasir ris beach park   \n1629                            pasir ris way    pasir ris beach park   \n1831                            pasir ris way    pasir ris beach park   \n1901                            pasir ris way    pasir ris beach park   \n2228                            pasir ris way    pasir ris beach park   \n2246                            pasir ris way    pasir ris beach park   \n2487                            pasir ris way    pasir ris beach park   \n2558                            pasir ris way    pasir ris beach park   \n2890                            pasir ris way    pasir ris beach park   \n2918                           pasir ris view    pasir ris beach park   \n3089                         25 ewe boon road       spring residences   \n3191                            pasir ris way    pasir ris beach park   \n3218                            pasir ris way    pasir ris beach park   \n3723                            pasir ris way    pasir ris beach park   \n4211                            pasir ris way    pasir ris beach park   \n4263                            pasir ris way    pasir ris beach park   \n4563                           pasir ris view    pasir ris beach park   \n4717                            pasir ris way    pasir ris beach park   \n4944                            pasir ris way    pasir ris beach park   \n5248                            pasir ris way    pasir ris beach park   \n5335                           pasir ris view    pasir ris beach park   \n5562                         25 ewe boon road       spring residences   \n5752                            pasir ris way    pasir ris beach park   \n5900                            pasir ris way    pasir ris beach park   \n5907                        pasir ris terrace    pasir ris beach park   \n6116                            pasir ris way    pasir ris beach park   \n6132                            pasir ris way    pasir ris beach park   \n6348                            pasir ris way    pasir ris beach park   \n6390                            pasir ris way    pasir ris beach park   \n6402                            pasir ris way    pasir ris beach park   \n6457                              meragi road        east view garden   \n\n            property_type  num_beds  num_baths  size_sqft   furnishing  \\\n305              bungalow       5.0        7.0       7535  unspecified   \n703              bungalow       5.0        5.0       7535  unfurnished   \n705              bungalow       5.0        5.0       7544  unspecified   \n812   semi-detached house       4.0        4.0       5990  unspecified   \n1110                  hdb       2.0        2.0        732  unspecified   \n1140  semi-detached house       4.0        5.0       5989  unspecified   \n1287  semi-detached house       4.0        4.0       5990  unspecified   \n1341  semi-detached house       4.0        4.0       5989  unspecified   \n1629             bungalow       5.0        6.0       7537  unspecified   \n1831  semi-detached house       4.0        4.0       5989  unspecified   \n1901  semi-detached house       4.0        5.0       5989  unspecified   \n2228  semi-detached house       4.0        4.0       5989      partial   \n2246  semi-detached house       5.0        8.0       7534  unspecified   \n2487  semi-detached house       4.0        7.0       5990  unspecified   \n2558  semi-detached house       5.0        8.0       7534  unspecified   \n2890             bungalow       6.0        7.0       7535  unspecified   \n2918             bungalow       5.0        5.0       5500  unspecified   \n3089            apartment       2.0        2.0       1140  unspecified   \n3191  semi-detached house       4.0        5.0       5990  unspecified   \n3218  semi-detached house       4.0        5.0       5990  unspecified   \n3723             bungalow       4.0        4.0       5990  unspecified   \n4211  semi-detached house       4.0        4.0       5989  unspecified   \n4263  semi-detached house       4.0        5.0       5990  unspecified   \n4563  semi-detached house       4.0        6.0       5989  unspecified   \n4717  semi-detached house       4.0        4.0       5091  unspecified   \n4944             bungalow       5.0        8.0       7535      partial   \n5248  semi-detached house       4.0        4.0       5990      partial   \n5335       terraced house       4.0        3.0       2500  unspecified   \n5562            apartment       2.0        2.0       1140  unspecified   \n5752  semi-detached house       4.0        5.0       5990  unspecified   \n5900             bungalow       5.0        5.0       7534      partial   \n5907  semi-detached house       5.0        5.0       6000  unspecified   \n6116  semi-detached house       4.0        4.0       5989  unspecified   \n6132  semi-detached house       4.0        4.0       5990  unspecified   \n6348             bungalow       5.0        5.0       7535  unspecified   \n6390  semi-detached house       4.0        5.0       5990  unspecified   \n6402  semi-detached house       5.0        7.0       5990  unspecified   \n6457       terraced house       5.0        4.0       3000  unspecified   \n\n           lat         lng                   subzone planning_area  \\\n305   1.386285  103.937608  pasir ris wafer fab park     pasir ris   \n703   1.386285  103.937608  pasir ris wafer fab park     pasir ris   \n705   1.386285  103.937608  pasir ris wafer fab park     pasir ris   \n812   1.386285  103.937608  pasir ris wafer fab park     pasir ris   \n1110  1.285244  103.845700              china square        outram   \n1140  1.386285  103.937608  pasir ris wafer fab park     pasir ris   \n1287  1.386285  103.937608  pasir ris wafer fab park     pasir ris   \n1341  1.386285  103.937608  pasir ris wafer fab park     pasir ris   \n1629  1.386285  103.937608  pasir ris wafer fab park     pasir ris   \n1831  1.386285  103.937608  pasir ris wafer fab park     pasir ris   \n1901  1.386285  103.937608  pasir ris wafer fab park     pasir ris   \n2228  1.386285  103.937608  pasir ris wafer fab park     pasir ris   \n2246  1.386285  103.937608  pasir ris wafer fab park     pasir ris   \n2487  1.386285  103.937608  pasir ris wafer fab park     pasir ris   \n2558  1.386285  103.937608  pasir ris wafer fab park     pasir ris   \n2890  1.386285  103.937608  pasir ris wafer fab park     pasir ris   \n2918  1.386285  103.937608  pasir ris wafer fab park     pasir ris   \n3089  1.316002  103.830431                    nassim       tanglin   \n3191  1.386285  103.937608  pasir ris wafer fab park     pasir ris   \n3218  1.386285  103.937608  pasir ris wafer fab park     pasir ris   \n3723  1.386285  103.937608  pasir ris wafer fab park     pasir ris   \n4211  1.386285  103.937608  pasir ris wafer fab park     pasir ris   \n4263  1.386285  103.937608  pasir ris wafer fab park     pasir ris   \n4563  1.386285  103.937608  pasir ris wafer fab park     pasir ris   \n4717  1.386285  103.937608  pasir ris wafer fab park     pasir ris   \n4944  1.386285  103.937608  pasir ris wafer fab park     pasir ris   \n5248  1.386285  103.937608  pasir ris wafer fab park     pasir ris   \n5335  1.386285  103.937608  pasir ris wafer fab park     pasir ris   \n5562  1.316002  103.830431                    nassim       tanglin   \n5752  1.386285  103.937608  pasir ris wafer fab park     pasir ris   \n5900  1.386285  103.937608  pasir ris wafer fab park     pasir ris   \n5907  1.386285  103.937608  pasir ris wafer fab park     pasir ris   \n6116  1.386285  103.937608  pasir ris wafer fab park     pasir ris   \n6132  1.386285  103.937608  pasir ris wafer fab park     pasir ris   \n6348  1.386285  103.937608  pasir ris wafer fab park     pasir ris   \n6390  1.386285  103.937608  pasir ris wafer fab park     pasir ris   \n6402  1.386285  103.937608  pasir ris wafer fab park     pasir ris   \n6457  1.343527  103.960438                     simei      tampines   \n\n      built_year tenure available_unit_types  \n305       1977.0    NaN  3, 4, 5, 6, 7, 9 br  \n703       1977.0    NaN  3, 4, 5, 6, 7, 9 br  \n705       1977.0    NaN  3, 4, 5, 6, 7, 9 br  \n812       1977.0    NaN  3, 4, 5, 6, 7, 9 br  \n1110      1978.0    NaN                  NaN  \n1140      1977.0    NaN  3, 4, 5, 6, 7, 9 br  \n1287      1977.0    NaN  3, 4, 5, 6, 7, 9 br  \n1341      1977.0    NaN  3, 4, 5, 6, 7, 9 br  \n1629      1977.0    NaN  3, 4, 5, 6, 7, 9 br  \n1831      1977.0    NaN  3, 4, 5, 6, 7, 9 br  \n1901      1977.0    NaN  3, 4, 5, 6, 7, 9 br  \n2228      1977.0    NaN  3, 4, 5, 6, 7, 9 br  \n2246      1977.0    NaN  3, 4, 5, 6, 7, 9 br  \n2487      1977.0    NaN  3, 4, 5, 6, 7, 9 br  \n2558      1977.0    NaN  3, 4, 5, 6, 7, 9 br  \n2890      1977.0    NaN  3, 4, 5, 6, 7, 9 br  \n2918      1977.0    NaN  3, 4, 5, 6, 7, 9 br  \n3089      2013.0    NaN              2, 3 br  \n3191      1977.0    NaN  3, 4, 5, 6, 7, 9 br  \n3218      1977.0    NaN  3, 4, 5, 6, 7, 9 br  \n3723      1977.0    NaN  3, 4, 5, 6, 7, 9 br  \n4211      1977.0    NaN  3, 4, 5, 6, 7, 9 br  \n4263      1977.0    NaN  3, 4, 5, 6, 7, 9 br  \n4563      1977.0    NaN  3, 4, 5, 6, 7, 9 br  \n4717      1977.0    NaN  3, 4, 5, 6, 7, 9 br  \n4944      1977.0    NaN  3, 4, 5, 6, 7, 9 br  \n5248      1977.0    NaN  3, 4, 5, 6, 7, 9 br  \n5335      1977.0    NaN  3, 4, 5, 6, 7, 9 br  \n5562      2013.0    NaN              2, 3 br  \n5752      1977.0    NaN  3, 4, 5, 6, 7, 9 br  \n5900      1977.0    NaN  3, 4, 5, 6, 7, 9 br  \n5907      1977.0    NaN  3, 4, 5, 6, 7, 9 br  \n6116      1977.0    NaN  3, 4, 5, 6, 7, 9 br  \n6132      1977.0    NaN  3, 4, 5, 6, 7, 9 br  \n6348      1977.0    NaN  3, 4, 5, 6, 7, 9 br  \n6390      1977.0    NaN  3, 4, 5, 6, 7, 9 br  \n6402      1977.0    NaN  3, 4, 5, 6, 7, 9 br  \n6457      1977.0    NaN  3, 4, 5, 6, 7, 8 br  ",
      "text/html": "<div>\n<style scoped>\n    .dataframe tbody tr th:only-of-type {\n        vertical-align: middle;\n    }\n\n    .dataframe tbody tr th {\n        vertical-align: top;\n    }\n\n    .dataframe thead th {\n        text-align: right;\n    }\n</style>\n<table border=\"1\" class=\"dataframe\">\n  <thead>\n    <tr style=\"text-align: right;\">\n      <th></th>\n      <th>title</th>\n      <th>address</th>\n      <th>property_name</th>\n      <th>property_type</th>\n      <th>num_beds</th>\n      <th>num_baths</th>\n      <th>size_sqft</th>\n      <th>furnishing</th>\n      <th>lat</th>\n      <th>lng</th>\n      <th>subzone</th>\n      <th>planning_area</th>\n      <th>built_year</th>\n      <th>tenure</th>\n      <th>available_unit_types</th>\n    </tr>\n  </thead>\n  <tbody>\n    <tr>\n      <th>305</th>\n      <td>5 bed house for sale in pasir ris beach park</td>\n      <td>pasir ris way</td>\n      <td>pasir ris beach park</td>\n      <td>bungalow</td>\n      <td>5.0</td>\n      <td>7.0</td>\n      <td>7535</td>\n      <td>unspecified</td>\n      <td>1.386285</td>\n      <td>103.937608</td>\n      <td>pasir ris wafer fab park</td>\n      <td>pasir ris</td>\n      <td>1977.0</td>\n      <td>NaN</td>\n      <td>3, 4, 5, 6, 7, 9 br</td>\n    </tr>\n    <tr>\n      <th>703</th>\n      <td>5 bed house for sale in pasir ris beach park</td>\n      <td>pasir ris way</td>\n      <td>pasir ris beach park</td>\n      <td>bungalow</td>\n      <td>5.0</td>\n      <td>5.0</td>\n      <td>7535</td>\n      <td>unfurnished</td>\n      <td>1.386285</td>\n      <td>103.937608</td>\n      <td>pasir ris wafer fab park</td>\n      <td>pasir ris</td>\n      <td>1977.0</td>\n      <td>NaN</td>\n      <td>3, 4, 5, 6, 7, 9 br</td>\n    </tr>\n    <tr>\n      <th>705</th>\n      <td>5 bed house for sale in pasir ris beach park</td>\n      <td>pasir ris way</td>\n      <td>pasir ris beach park</td>\n      <td>bungalow</td>\n      <td>5.0</td>\n      <td>5.0</td>\n      <td>7544</td>\n      <td>unspecified</td>\n      <td>1.386285</td>\n      <td>103.937608</td>\n      <td>pasir ris wafer fab park</td>\n      <td>pasir ris</td>\n      <td>1977.0</td>\n      <td>NaN</td>\n      <td>3, 4, 5, 6, 7, 9 br</td>\n    </tr>\n    <tr>\n      <th>812</th>\n      <td>4 bed house for sale in pasir ris beach park</td>\n      <td>pasir ris way</td>\n      <td>pasir ris beach park</td>\n      <td>semi-detached house</td>\n      <td>4.0</td>\n      <td>4.0</td>\n      <td>5990</td>\n      <td>unspecified</td>\n      <td>1.386285</td>\n      <td>103.937608</td>\n      <td>pasir ris wafer fab park</td>\n      <td>pasir ris</td>\n      <td>1977.0</td>\n      <td>NaN</td>\n      <td>3, 4, 5, 6, 7, 9 br</td>\n    </tr>\n    <tr>\n      <th>1110</th>\n      <td>hdb flat for sale in 538 upper cross street</td>\n      <td>boat quay / raffles place / marina (d1)</td>\n      <td>538 upper cross street</td>\n      <td>hdb</td>\n      <td>2.0</td>\n      <td>2.0</td>\n      <td>732</td>\n      <td>unspecified</td>\n      <td>1.285244</td>\n      <td>103.845700</td>\n      <td>china square</td>\n      <td>outram</td>\n      <td>1978.0</td>\n      <td>NaN</td>\n      <td>NaN</td>\n    </tr>\n    <tr>\n      <th>1140</th>\n      <td>4 bed house for sale in pasir ris beach park</td>\n      <td>pasir ris avenue</td>\n      <td>pasir ris beach park</td>\n      <td>semi-detached house</td>\n      <td>4.0</td>\n      <td>5.0</td>\n      <td>5989</td>\n      <td>unspecified</td>\n      <td>1.386285</td>\n      <td>103.937608</td>\n      <td>pasir ris wafer fab park</td>\n      <td>pasir ris</td>\n      <td>1977.0</td>\n      <td>NaN</td>\n      <td>3, 4, 5, 6, 7, 9 br</td>\n    </tr>\n    <tr>\n      <th>1287</th>\n      <td>4 bed house for sale in pasir ris beach park</td>\n      <td>pasir ris way</td>\n      <td>pasir ris beach park</td>\n      <td>semi-detached house</td>\n      <td>4.0</td>\n      <td>4.0</td>\n      <td>5990</td>\n      <td>unspecified</td>\n      <td>1.386285</td>\n      <td>103.937608</td>\n      <td>pasir ris wafer fab park</td>\n      <td>pasir ris</td>\n      <td>1977.0</td>\n      <td>NaN</td>\n      <td>3, 4, 5, 6, 7, 9 br</td>\n    </tr>\n    <tr>\n      <th>1341</th>\n      <td>4 bed house for sale in pasir ris beach park</td>\n      <td>pasir ris way</td>\n      <td>pasir ris beach park</td>\n      <td>semi-detached house</td>\n      <td>4.0</td>\n      <td>4.0</td>\n      <td>5989</td>\n      <td>unspecified</td>\n      <td>1.386285</td>\n      <td>103.937608</td>\n      <td>pasir ris wafer fab park</td>\n      <td>pasir ris</td>\n      <td>1977.0</td>\n      <td>NaN</td>\n      <td>3, 4, 5, 6, 7, 9 br</td>\n    </tr>\n    <tr>\n      <th>1629</th>\n      <td>5 bed house for sale in pasir ris beach park</td>\n      <td>pasir ris way</td>\n      <td>pasir ris beach park</td>\n      <td>bungalow</td>\n      <td>5.0</td>\n      <td>6.0</td>\n      <td>7537</td>\n      <td>unspecified</td>\n      <td>1.386285</td>\n      <td>103.937608</td>\n      <td>pasir ris wafer fab park</td>\n      <td>pasir ris</td>\n      <td>1977.0</td>\n      <td>NaN</td>\n      <td>3, 4, 5, 6, 7, 9 br</td>\n    </tr>\n    <tr>\n      <th>1831</th>\n      <td>4 bed house for sale in pasir ris beach park</td>\n      <td>pasir ris way</td>\n      <td>pasir ris beach park</td>\n      <td>semi-detached house</td>\n      <td>4.0</td>\n      <td>4.0</td>\n      <td>5989</td>\n      <td>unspecified</td>\n      <td>1.386285</td>\n      <td>103.937608</td>\n      <td>pasir ris wafer fab park</td>\n      <td>pasir ris</td>\n      <td>1977.0</td>\n      <td>NaN</td>\n      <td>3, 4, 5, 6, 7, 9 br</td>\n    </tr>\n    <tr>\n      <th>1901</th>\n      <td>4 bed house for sale in pasir ris beach park</td>\n      <td>pasir ris way</td>\n      <td>pasir ris beach park</td>\n      <td>semi-detached house</td>\n      <td>4.0</td>\n      <td>5.0</td>\n      <td>5989</td>\n      <td>unspecified</td>\n      <td>1.386285</td>\n      <td>103.937608</td>\n      <td>pasir ris wafer fab park</td>\n      <td>pasir ris</td>\n      <td>1977.0</td>\n      <td>NaN</td>\n      <td>3, 4, 5, 6, 7, 9 br</td>\n    </tr>\n    <tr>\n      <th>2228</th>\n      <td>4 bed house for sale in pasir ris beach park</td>\n      <td>pasir ris way</td>\n      <td>pasir ris beach park</td>\n      <td>semi-detached house</td>\n      <td>4.0</td>\n      <td>4.0</td>\n      <td>5989</td>\n      <td>partial</td>\n      <td>1.386285</td>\n      <td>103.937608</td>\n      <td>pasir ris wafer fab park</td>\n      <td>pasir ris</td>\n      <td>1977.0</td>\n      <td>NaN</td>\n      <td>3, 4, 5, 6, 7, 9 br</td>\n    </tr>\n    <tr>\n      <th>2246</th>\n      <td>5 bed house for sale in pasir ris beach park</td>\n      <td>pasir ris way</td>\n      <td>pasir ris beach park</td>\n      <td>semi-detached house</td>\n      <td>5.0</td>\n      <td>8.0</td>\n      <td>7534</td>\n      <td>unspecified</td>\n      <td>1.386285</td>\n      <td>103.937608</td>\n      <td>pasir ris wafer fab park</td>\n      <td>pasir ris</td>\n      <td>1977.0</td>\n      <td>NaN</td>\n      <td>3, 4, 5, 6, 7, 9 br</td>\n    </tr>\n    <tr>\n      <th>2487</th>\n      <td>4 bed house for sale in pasir ris beach park</td>\n      <td>pasir ris way</td>\n      <td>pasir ris beach park</td>\n      <td>semi-detached house</td>\n      <td>4.0</td>\n      <td>7.0</td>\n      <td>5990</td>\n      <td>unspecified</td>\n      <td>1.386285</td>\n      <td>103.937608</td>\n      <td>pasir ris wafer fab park</td>\n      <td>pasir ris</td>\n      <td>1977.0</td>\n      <td>NaN</td>\n      <td>3, 4, 5, 6, 7, 9 br</td>\n    </tr>\n    <tr>\n      <th>2558</th>\n      <td>5 bed house for sale in pasir ris beach park</td>\n      <td>pasir ris way</td>\n      <td>pasir ris beach park</td>\n      <td>semi-detached house</td>\n      <td>5.0</td>\n      <td>8.0</td>\n      <td>7534</td>\n      <td>unspecified</td>\n      <td>1.386285</td>\n      <td>103.937608</td>\n      <td>pasir ris wafer fab park</td>\n      <td>pasir ris</td>\n      <td>1977.0</td>\n      <td>NaN</td>\n      <td>3, 4, 5, 6, 7, 9 br</td>\n    </tr>\n    <tr>\n      <th>2890</th>\n      <td>6 bed house for sale in pasir ris beach park</td>\n      <td>pasir ris way</td>\n      <td>pasir ris beach park</td>\n      <td>bungalow</td>\n      <td>6.0</td>\n      <td>7.0</td>\n      <td>7535</td>\n      <td>unspecified</td>\n      <td>1.386285</td>\n      <td>103.937608</td>\n      <td>pasir ris wafer fab park</td>\n      <td>pasir ris</td>\n      <td>1977.0</td>\n      <td>NaN</td>\n      <td>3, 4, 5, 6, 7, 9 br</td>\n    </tr>\n    <tr>\n      <th>2918</th>\n      <td>5 bed house for sale in pasir ris beach park</td>\n      <td>pasir ris view</td>\n      <td>pasir ris beach park</td>\n      <td>bungalow</td>\n      <td>5.0</td>\n      <td>5.0</td>\n      <td>5500</td>\n      <td>unspecified</td>\n      <td>1.386285</td>\n      <td>103.937608</td>\n      <td>pasir ris wafer fab park</td>\n      <td>pasir ris</td>\n      <td>1977.0</td>\n      <td>NaN</td>\n      <td>3, 4, 5, 6, 7, 9 br</td>\n    </tr>\n    <tr>\n      <th>3089</th>\n      <td>2 bed condo for sale in spring residences</td>\n      <td>25 ewe boon road</td>\n      <td>spring residences</td>\n      <td>apartment</td>\n      <td>2.0</td>\n      <td>2.0</td>\n      <td>1140</td>\n      <td>unspecified</td>\n      <td>1.316002</td>\n      <td>103.830431</td>\n      <td>nassim</td>\n      <td>tanglin</td>\n      <td>2013.0</td>\n      <td>NaN</td>\n      <td>2, 3 br</td>\n    </tr>\n    <tr>\n      <th>3191</th>\n      <td>4 bed house for sale in pasir ris beach park</td>\n      <td>pasir ris way</td>\n      <td>pasir ris beach park</td>\n      <td>semi-detached house</td>\n      <td>4.0</td>\n      <td>5.0</td>\n      <td>5990</td>\n      <td>unspecified</td>\n      <td>1.386285</td>\n      <td>103.937608</td>\n      <td>pasir ris wafer fab park</td>\n      <td>pasir ris</td>\n      <td>1977.0</td>\n      <td>NaN</td>\n      <td>3, 4, 5, 6, 7, 9 br</td>\n    </tr>\n    <tr>\n      <th>3218</th>\n      <td>4 bed house for sale in pasir ris beach park</td>\n      <td>pasir ris way</td>\n      <td>pasir ris beach park</td>\n      <td>semi-detached house</td>\n      <td>4.0</td>\n      <td>5.0</td>\n      <td>5990</td>\n      <td>unspecified</td>\n      <td>1.386285</td>\n      <td>103.937608</td>\n      <td>pasir ris wafer fab park</td>\n      <td>pasir ris</td>\n      <td>1977.0</td>\n      <td>NaN</td>\n      <td>3, 4, 5, 6, 7, 9 br</td>\n    </tr>\n    <tr>\n      <th>3723</th>\n      <td>4 bed house for sale in pasir ris beach park</td>\n      <td>pasir ris way</td>\n      <td>pasir ris beach park</td>\n      <td>bungalow</td>\n      <td>4.0</td>\n      <td>4.0</td>\n      <td>5990</td>\n      <td>unspecified</td>\n      <td>1.386285</td>\n      <td>103.937608</td>\n      <td>pasir ris wafer fab park</td>\n      <td>pasir ris</td>\n      <td>1977.0</td>\n      <td>NaN</td>\n      <td>3, 4, 5, 6, 7, 9 br</td>\n    </tr>\n    <tr>\n      <th>4211</th>\n      <td>4 bed house for sale in pasir ris beach park</td>\n      <td>pasir ris way</td>\n      <td>pasir ris beach park</td>\n      <td>semi-detached house</td>\n      <td>4.0</td>\n      <td>4.0</td>\n      <td>5989</td>\n      <td>unspecified</td>\n      <td>1.386285</td>\n      <td>103.937608</td>\n      <td>pasir ris wafer fab park</td>\n      <td>pasir ris</td>\n      <td>1977.0</td>\n      <td>NaN</td>\n      <td>3, 4, 5, 6, 7, 9 br</td>\n    </tr>\n    <tr>\n      <th>4263</th>\n      <td>4 bed house for sale in pasir ris beach park</td>\n      <td>pasir ris way</td>\n      <td>pasir ris beach park</td>\n      <td>semi-detached house</td>\n      <td>4.0</td>\n      <td>5.0</td>\n      <td>5990</td>\n      <td>unspecified</td>\n      <td>1.386285</td>\n      <td>103.937608</td>\n      <td>pasir ris wafer fab park</td>\n      <td>pasir ris</td>\n      <td>1977.0</td>\n      <td>NaN</td>\n      <td>3, 4, 5, 6, 7, 9 br</td>\n    </tr>\n    <tr>\n      <th>4563</th>\n      <td>4 bed house for sale in pasir ris beach park</td>\n      <td>pasir ris view</td>\n      <td>pasir ris beach park</td>\n      <td>semi-detached house</td>\n      <td>4.0</td>\n      <td>6.0</td>\n      <td>5989</td>\n      <td>unspecified</td>\n      <td>1.386285</td>\n      <td>103.937608</td>\n      <td>pasir ris wafer fab park</td>\n      <td>pasir ris</td>\n      <td>1977.0</td>\n      <td>NaN</td>\n      <td>3, 4, 5, 6, 7, 9 br</td>\n    </tr>\n    <tr>\n      <th>4717</th>\n      <td>4 bed house for sale in pasir ris beach park</td>\n      <td>pasir ris way</td>\n      <td>pasir ris beach park</td>\n      <td>semi-detached house</td>\n      <td>4.0</td>\n      <td>4.0</td>\n      <td>5091</td>\n      <td>unspecified</td>\n      <td>1.386285</td>\n      <td>103.937608</td>\n      <td>pasir ris wafer fab park</td>\n      <td>pasir ris</td>\n      <td>1977.0</td>\n      <td>NaN</td>\n      <td>3, 4, 5, 6, 7, 9 br</td>\n    </tr>\n    <tr>\n      <th>4944</th>\n      <td>5 bed house for sale in pasir ris beach park</td>\n      <td>pasir ris way</td>\n      <td>pasir ris beach park</td>\n      <td>bungalow</td>\n      <td>5.0</td>\n      <td>8.0</td>\n      <td>7535</td>\n      <td>partial</td>\n      <td>1.386285</td>\n      <td>103.937608</td>\n      <td>pasir ris wafer fab park</td>\n      <td>pasir ris</td>\n      <td>1977.0</td>\n      <td>NaN</td>\n      <td>3, 4, 5, 6, 7, 9 br</td>\n    </tr>\n    <tr>\n      <th>5248</th>\n      <td>4 bed house for sale in pasir ris beach park</td>\n      <td>pasir ris way</td>\n      <td>pasir ris beach park</td>\n      <td>semi-detached house</td>\n      <td>4.0</td>\n      <td>4.0</td>\n      <td>5990</td>\n      <td>partial</td>\n      <td>1.386285</td>\n      <td>103.937608</td>\n      <td>pasir ris wafer fab park</td>\n      <td>pasir ris</td>\n      <td>1977.0</td>\n      <td>NaN</td>\n      <td>3, 4, 5, 6, 7, 9 br</td>\n    </tr>\n    <tr>\n      <th>5335</th>\n      <td>4 bed house for sale in pasir ris beach park</td>\n      <td>pasir ris view</td>\n      <td>pasir ris beach park</td>\n      <td>terraced house</td>\n      <td>4.0</td>\n      <td>3.0</td>\n      <td>2500</td>\n      <td>unspecified</td>\n      <td>1.386285</td>\n      <td>103.937608</td>\n      <td>pasir ris wafer fab park</td>\n      <td>pasir ris</td>\n      <td>1977.0</td>\n      <td>NaN</td>\n      <td>3, 4, 5, 6, 7, 9 br</td>\n    </tr>\n    <tr>\n      <th>5562</th>\n      <td>2 bed condo for sale in spring residences</td>\n      <td>25 ewe boon road</td>\n      <td>spring residences</td>\n      <td>apartment</td>\n      <td>2.0</td>\n      <td>2.0</td>\n      <td>1140</td>\n      <td>unspecified</td>\n      <td>1.316002</td>\n      <td>103.830431</td>\n      <td>nassim</td>\n      <td>tanglin</td>\n      <td>2013.0</td>\n      <td>NaN</td>\n      <td>2, 3 br</td>\n    </tr>\n    <tr>\n      <th>5752</th>\n      <td>4 bed house for sale in pasir ris beach park</td>\n      <td>pasir ris way</td>\n      <td>pasir ris beach park</td>\n      <td>semi-detached house</td>\n      <td>4.0</td>\n      <td>5.0</td>\n      <td>5990</td>\n      <td>unspecified</td>\n      <td>1.386285</td>\n      <td>103.937608</td>\n      <td>pasir ris wafer fab park</td>\n      <td>pasir ris</td>\n      <td>1977.0</td>\n      <td>NaN</td>\n      <td>3, 4, 5, 6, 7, 9 br</td>\n    </tr>\n    <tr>\n      <th>5900</th>\n      <td>5 bed house for sale in pasir ris beach park</td>\n      <td>pasir ris way</td>\n      <td>pasir ris beach park</td>\n      <td>bungalow</td>\n      <td>5.0</td>\n      <td>5.0</td>\n      <td>7534</td>\n      <td>partial</td>\n      <td>1.386285</td>\n      <td>103.937608</td>\n      <td>pasir ris wafer fab park</td>\n      <td>pasir ris</td>\n      <td>1977.0</td>\n      <td>NaN</td>\n      <td>3, 4, 5, 6, 7, 9 br</td>\n    </tr>\n    <tr>\n      <th>5907</th>\n      <td>5 bed house for sale in pasir ris beach park</td>\n      <td>pasir ris terrace</td>\n      <td>pasir ris beach park</td>\n      <td>semi-detached house</td>\n      <td>5.0</td>\n      <td>5.0</td>\n      <td>6000</td>\n      <td>unspecified</td>\n      <td>1.386285</td>\n      <td>103.937608</td>\n      <td>pasir ris wafer fab park</td>\n      <td>pasir ris</td>\n      <td>1977.0</td>\n      <td>NaN</td>\n      <td>3, 4, 5, 6, 7, 9 br</td>\n    </tr>\n    <tr>\n      <th>6116</th>\n      <td>4 bed house for sale in pasir ris beach park</td>\n      <td>pasir ris way</td>\n      <td>pasir ris beach park</td>\n      <td>semi-detached house</td>\n      <td>4.0</td>\n      <td>4.0</td>\n      <td>5989</td>\n      <td>unspecified</td>\n      <td>1.386285</td>\n      <td>103.937608</td>\n      <td>pasir ris wafer fab park</td>\n      <td>pasir ris</td>\n      <td>1977.0</td>\n      <td>NaN</td>\n      <td>3, 4, 5, 6, 7, 9 br</td>\n    </tr>\n    <tr>\n      <th>6132</th>\n      <td>4 bed house for sale in pasir ris beach park</td>\n      <td>pasir ris way</td>\n      <td>pasir ris beach park</td>\n      <td>semi-detached house</td>\n      <td>4.0</td>\n      <td>4.0</td>\n      <td>5990</td>\n      <td>unspecified</td>\n      <td>1.386285</td>\n      <td>103.937608</td>\n      <td>pasir ris wafer fab park</td>\n      <td>pasir ris</td>\n      <td>1977.0</td>\n      <td>NaN</td>\n      <td>3, 4, 5, 6, 7, 9 br</td>\n    </tr>\n    <tr>\n      <th>6348</th>\n      <td>5 bed house for sale in pasir ris beach park</td>\n      <td>pasir ris way</td>\n      <td>pasir ris beach park</td>\n      <td>bungalow</td>\n      <td>5.0</td>\n      <td>5.0</td>\n      <td>7535</td>\n      <td>unspecified</td>\n      <td>1.386285</td>\n      <td>103.937608</td>\n      <td>pasir ris wafer fab park</td>\n      <td>pasir ris</td>\n      <td>1977.0</td>\n      <td>NaN</td>\n      <td>3, 4, 5, 6, 7, 9 br</td>\n    </tr>\n    <tr>\n      <th>6390</th>\n      <td>4 bed house for sale in pasir ris beach park</td>\n      <td>pasir ris way</td>\n      <td>pasir ris beach park</td>\n      <td>semi-detached house</td>\n      <td>4.0</td>\n      <td>5.0</td>\n      <td>5990</td>\n      <td>unspecified</td>\n      <td>1.386285</td>\n      <td>103.937608</td>\n      <td>pasir ris wafer fab park</td>\n      <td>pasir ris</td>\n      <td>1977.0</td>\n      <td>NaN</td>\n      <td>3, 4, 5, 6, 7, 9 br</td>\n    </tr>\n    <tr>\n      <th>6402</th>\n      <td>5 bed house for sale in pasir ris beach park</td>\n      <td>pasir ris way</td>\n      <td>pasir ris beach park</td>\n      <td>semi-detached house</td>\n      <td>5.0</td>\n      <td>7.0</td>\n      <td>5990</td>\n      <td>unspecified</td>\n      <td>1.386285</td>\n      <td>103.937608</td>\n      <td>pasir ris wafer fab park</td>\n      <td>pasir ris</td>\n      <td>1977.0</td>\n      <td>NaN</td>\n      <td>3, 4, 5, 6, 7, 9 br</td>\n    </tr>\n    <tr>\n      <th>6457</th>\n      <td>5 bed house for sale in east view garden</td>\n      <td>meragi road</td>\n      <td>east view garden</td>\n      <td>terraced house</td>\n      <td>5.0</td>\n      <td>4.0</td>\n      <td>3000</td>\n      <td>unspecified</td>\n      <td>1.343527</td>\n      <td>103.960438</td>\n      <td>simei</td>\n      <td>tampines</td>\n      <td>1977.0</td>\n      <td>NaN</td>\n      <td>3, 4, 5, 6, 7, 8 br</td>\n    </tr>\n  </tbody>\n</table>\n</div>"
     },
     "execution_count": 32,
     "metadata": {},
     "output_type": "execute_result"
    }
   ],
   "source": [
    "df_test_cleaned[df_test_cleaned.tenure.isnull()]"
   ],
   "metadata": {
    "collapsed": false,
    "pycharm": {
     "name": "#%%\n"
    }
   }
  },
  {
   "cell_type": "code",
   "execution_count": 33,
   "outputs": [],
   "source": [
    "df_test_cleaned.to_csv('../data/test_cleaned.csv')"
   ],
   "metadata": {
    "collapsed": false,
    "pycharm": {
     "name": "#%%\n"
    }
   }
  },
  {
   "cell_type": "code",
   "execution_count": null,
   "outputs": [],
   "source": [],
   "metadata": {
    "collapsed": false,
    "pycharm": {
     "name": "#%%\n"
    }
   }
  }
 ],
 "metadata": {
  "kernelspec": {
   "display_name": "Python 3.9.7 ('base')",
   "language": "python",
   "name": "python3"
  },
  "language_info": {
   "codemirror_mode": {
    "name": "ipython",
    "version": 3
   },
   "file_extension": ".py",
   "mimetype": "text/x-python",
   "name": "python",
   "nbconvert_exporter": "python",
   "pygments_lexer": "ipython3",
   "version": "3.9.7"
  },
  "orig_nbformat": 4,
  "vscode": {
   "interpreter": {
    "hash": "8a9a3a0f59d94ba7973b21a69118181ce5bc1e1391d96e7c074d54f3ed39dfbb"
   }
  }
 },
 "nbformat": 4,
 "nbformat_minor": 2
}