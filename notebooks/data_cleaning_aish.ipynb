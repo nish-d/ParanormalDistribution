{
 "cells": [
  {
   "cell_type": "code",
   "execution_count": 162,
   "metadata": {
    "pycharm": {
     "name": "#%%\n"
    }
   },
   "outputs": [],
   "source": [
    "import numpy as np\n",
    "import pandas as pd\n",
    "import matplotlib.pyplot as plt\n",
    "%matplotlib inline\n",
    "\n",
    "import warnings\n",
    "warnings.filterwarnings(action=\"ignore\")"
   ]
  },
  {
   "cell_type": "code",
   "execution_count": 163,
   "metadata": {
    "pycharm": {
     "name": "#%%\n"
    }
   },
   "outputs": [
    {
     "data": {
      "text/html": [
       "<div>\n",
       "<style scoped>\n",
       "    .dataframe tbody tr th:only-of-type {\n",
       "        vertical-align: middle;\n",
       "    }\n",
       "\n",
       "    .dataframe tbody tr th {\n",
       "        vertical-align: top;\n",
       "    }\n",
       "\n",
       "    .dataframe thead th {\n",
       "        text-align: right;\n",
       "    }\n",
       "</style>\n",
       "<table border=\"1\" class=\"dataframe\">\n",
       "  <thead>\n",
       "    <tr style=\"text-align: right;\">\n",
       "      <th></th>\n",
       "      <th>Unnamed: 0</th>\n",
       "      <th>title</th>\n",
       "      <th>address</th>\n",
       "      <th>property_name</th>\n",
       "      <th>property_type</th>\n",
       "      <th>num_beds</th>\n",
       "      <th>num_baths</th>\n",
       "      <th>size_sqft</th>\n",
       "      <th>furnishing</th>\n",
       "      <th>lat</th>\n",
       "      <th>lng</th>\n",
       "      <th>subzone</th>\n",
       "      <th>planning_area</th>\n",
       "      <th>price</th>\n",
       "      <th>built_year</th>\n",
       "      <th>tenure</th>\n",
       "      <th>available_unit_types</th>\n",
       "    </tr>\n",
       "  </thead>\n",
       "  <tbody>\n",
       "    <tr>\n",
       "      <th>0</th>\n",
       "      <td>0</td>\n",
       "      <td>hdb flat for sale in 866 yishun street 81</td>\n",
       "      <td>sembawang / yishun (d27)</td>\n",
       "      <td>866 yishun street 81</td>\n",
       "      <td>hdb 4 rooms</td>\n",
       "      <td>3.0</td>\n",
       "      <td>2.0</td>\n",
       "      <td>1115</td>\n",
       "      <td>unspecified</td>\n",
       "      <td>1.414399</td>\n",
       "      <td>103.837196</td>\n",
       "      <td>yishun south</td>\n",
       "      <td>yishun</td>\n",
       "      <td>514500.0</td>\n",
       "      <td>1988.0</td>\n",
       "      <td>99-year leasehold</td>\n",
       "      <td>NaN</td>\n",
       "    </tr>\n",
       "    <tr>\n",
       "      <th>1</th>\n",
       "      <td>1</td>\n",
       "      <td>hdb flat for sale in 506b serangoon north aven...</td>\n",
       "      <td>hougang / punggol / sengkang (d19)</td>\n",
       "      <td>hdb-serangoon estate</td>\n",
       "      <td>hdb</td>\n",
       "      <td>4.0</td>\n",
       "      <td>2.0</td>\n",
       "      <td>1575</td>\n",
       "      <td>unspecified</td>\n",
       "      <td>1.372597</td>\n",
       "      <td>103.875625</td>\n",
       "      <td>serangoon north</td>\n",
       "      <td>serangoon</td>\n",
       "      <td>995400.0</td>\n",
       "      <td>1992.0</td>\n",
       "      <td>99-year leasehold</td>\n",
       "      <td>1, 2, 3, 4, 5, 6 br</td>\n",
       "    </tr>\n",
       "    <tr>\n",
       "      <th>2</th>\n",
       "      <td>2</td>\n",
       "      <td>4 bed condo for sale in meyerhouse</td>\n",
       "      <td>128 meyer road</td>\n",
       "      <td>meyerhouse</td>\n",
       "      <td>condo</td>\n",
       "      <td>4.0</td>\n",
       "      <td>6.0</td>\n",
       "      <td>3070</td>\n",
       "      <td>partial</td>\n",
       "      <td>1.298773</td>\n",
       "      <td>103.895798</td>\n",
       "      <td>mountbatten</td>\n",
       "      <td>marine parade</td>\n",
       "      <td>8485000.0</td>\n",
       "      <td>2022.0</td>\n",
       "      <td>freehold</td>\n",
       "      <td>studio, 3, 4, 5, 6 br</td>\n",
       "    </tr>\n",
       "    <tr>\n",
       "      <th>3</th>\n",
       "      <td>3</td>\n",
       "      <td>3 bed condo for sale in leedon green</td>\n",
       "      <td>26 leedon heights</td>\n",
       "      <td>leedon green</td>\n",
       "      <td>condo</td>\n",
       "      <td>3.0</td>\n",
       "      <td>2.0</td>\n",
       "      <td>958</td>\n",
       "      <td>partial</td>\n",
       "      <td>1.312364</td>\n",
       "      <td>103.803271</td>\n",
       "      <td>farrer court</td>\n",
       "      <td>bukit timah</td>\n",
       "      <td>2626000.0</td>\n",
       "      <td>2023.0</td>\n",
       "      <td>freehold</td>\n",
       "      <td>studio, 1, 2, 3, 4 br</td>\n",
       "    </tr>\n",
       "    <tr>\n",
       "      <th>4</th>\n",
       "      <td>4</td>\n",
       "      <td>2 bed condo for sale in one bernam</td>\n",
       "      <td>1 bernam street</td>\n",
       "      <td>one bernam</td>\n",
       "      <td>condo</td>\n",
       "      <td>2.0</td>\n",
       "      <td>1.0</td>\n",
       "      <td>732</td>\n",
       "      <td>unspecified</td>\n",
       "      <td>1.273959</td>\n",
       "      <td>103.843635</td>\n",
       "      <td>anson</td>\n",
       "      <td>downtown core</td>\n",
       "      <td>1764000.0</td>\n",
       "      <td>2026.0</td>\n",
       "      <td>99-year leasehold</td>\n",
       "      <td>studio, 1, 2, 3, 4, 5 br</td>\n",
       "    </tr>\n",
       "  </tbody>\n",
       "</table>\n",
       "</div>"
      ],
      "text/plain": [
       "   Unnamed: 0                                              title  \\\n",
       "0           0          hdb flat for sale in 866 yishun street 81   \n",
       "1           1  hdb flat for sale in 506b serangoon north aven...   \n",
       "2           2                 4 bed condo for sale in meyerhouse   \n",
       "3           3               3 bed condo for sale in leedon green   \n",
       "4           4                 2 bed condo for sale in one bernam   \n",
       "\n",
       "                              address         property_name property_type  \\\n",
       "0            sembawang / yishun (d27)  866 yishun street 81   hdb 4 rooms   \n",
       "1  hougang / punggol / sengkang (d19)  hdb-serangoon estate           hdb   \n",
       "2                      128 meyer road            meyerhouse         condo   \n",
       "3                   26 leedon heights          leedon green         condo   \n",
       "4                     1 bernam street            one bernam         condo   \n",
       "\n",
       "   num_beds  num_baths  size_sqft   furnishing       lat         lng  \\\n",
       "0       3.0        2.0       1115  unspecified  1.414399  103.837196   \n",
       "1       4.0        2.0       1575  unspecified  1.372597  103.875625   \n",
       "2       4.0        6.0       3070      partial  1.298773  103.895798   \n",
       "3       3.0        2.0        958      partial  1.312364  103.803271   \n",
       "4       2.0        1.0        732  unspecified  1.273959  103.843635   \n",
       "\n",
       "           subzone  planning_area      price  built_year             tenure  \\\n",
       "0     yishun south         yishun   514500.0      1988.0  99-year leasehold   \n",
       "1  serangoon north      serangoon   995400.0      1992.0  99-year leasehold   \n",
       "2      mountbatten  marine parade  8485000.0      2022.0           freehold   \n",
       "3     farrer court    bukit timah  2626000.0      2023.0           freehold   \n",
       "4            anson  downtown core  1764000.0      2026.0  99-year leasehold   \n",
       "\n",
       "       available_unit_types  \n",
       "0                       NaN  \n",
       "1       1, 2, 3, 4, 5, 6 br  \n",
       "2     studio, 3, 4, 5, 6 br  \n",
       "3     studio, 1, 2, 3, 4 br  \n",
       "4  studio, 1, 2, 3, 4, 5 br  "
      ]
     },
     "execution_count": 163,
     "metadata": {},
     "output_type": "execute_result"
    }
   ],
   "source": [
    "df_cleaned = pd.read_csv('../data/train_cleaned.csv')\n",
    "df_dirty_test = pd.read_csv('../data/test_cleaned.csv')\n",
    "df_cleaned.head()"
   ]
  },
  {
   "cell_type": "markdown",
   "metadata": {
    "pycharm": {
     "name": "#%% md\n"
    }
   },
   "source": [
    "Singapore has the following latitude and longitude coordinates in its extreme ends:\n",
    "1. left-most (Tuas) :  1.30871,103.64287\n",
    "2. right-most (Changi) : 1.34538,104.00270\n",
    "3. top-most (Sembawang) : 1.46227,103.79487\n",
    "4. bottom-most (Bukit Merah) : 1.28762,103.82467\n",
    "\n",
    "\n",
    "#### Min latitude - 1.28762       Max latitude - 1.46227\n",
    "\n",
    "#### Min longitude - 103.64         Max longitude - 104.00\n",
    "\n",
    "But we can see that in the data, min longitude is -77.065364 and max latitude is 69.486768 which are out of the range of latitude and longitude values \n",
    "\n",
    "<img src=\"images/singapore-lat-long-map.jpeg\" width=600 height=600 />\n",
    "\n"
   ]
  },
  {
   "cell_type": "code",
   "execution_count": 164,
   "metadata": {
    "pycharm": {
     "name": "#%%\n"
    }
   },
   "outputs": [
    {
     "ename": "IntCastingNaNError",
     "evalue": "Cannot convert non-finite values (NA or inf) to integer",
     "output_type": "error",
     "traceback": [
      "\u001B[0;31m---------------------------------------------------------------------------\u001B[0m",
      "\u001B[0;31mIntCastingNaNError\u001B[0m                        Traceback (most recent call last)",
      "\u001B[1;32m/Users/nishita/Documents/Semester 1/CS5228/project/notebooks/data_cleaning_aish.ipynb Cell 4\u001B[0m in \u001B[0;36m<cell line: 1>\u001B[0;34m()\u001B[0m\n\u001B[0;32m----> <a href='vscode-notebook-cell:/Users/nishita/Documents/Semester%201/CS5228/project/notebooks/data_cleaning_aish.ipynb#X43sZmlsZQ%3D%3D?line=0'>1</a>\u001B[0m df_cleaned[\u001B[39m'\u001B[39m\u001B[39mbuilt_year\u001B[39m\u001B[39m'\u001B[39m] \u001B[39m=\u001B[39m df_cleaned[\u001B[39m'\u001B[39;49m\u001B[39mbuilt_year\u001B[39;49m\u001B[39m'\u001B[39;49m]\u001B[39m.\u001B[39;49mastype(\u001B[39mint\u001B[39;49m)\n\u001B[1;32m      <a href='vscode-notebook-cell:/Users/nishita/Documents/Semester%201/CS5228/project/notebooks/data_cleaning_aish.ipynb#X43sZmlsZQ%3D%3D?line=1'>2</a>\u001B[0m df_cleaned[\u001B[39m'\u001B[39m\u001B[39mnum_beds\u001B[39m\u001B[39m'\u001B[39m] \u001B[39m=\u001B[39m df_cleaned[\u001B[39m'\u001B[39m\u001B[39mnum_beds\u001B[39m\u001B[39m'\u001B[39m]\u001B[39m.\u001B[39mastype(\u001B[39mint\u001B[39m)\n\u001B[1;32m      <a href='vscode-notebook-cell:/Users/nishita/Documents/Semester%201/CS5228/project/notebooks/data_cleaning_aish.ipynb#X43sZmlsZQ%3D%3D?line=2'>3</a>\u001B[0m df_cleaned[\u001B[39m'\u001B[39m\u001B[39mnum_baths\u001B[39m\u001B[39m'\u001B[39m] \u001B[39m=\u001B[39m df_cleaned[\u001B[39m'\u001B[39m\u001B[39mnum_baths\u001B[39m\u001B[39m'\u001B[39m]\u001B[39m.\u001B[39mastype(\u001B[39mint\u001B[39m)\n",
      "File \u001B[0;32m~/miniconda3/lib/python3.9/site-packages/pandas/core/generic.py:5920\u001B[0m, in \u001B[0;36mNDFrame.astype\u001B[0;34m(self, dtype, copy, errors)\u001B[0m\n\u001B[1;32m   5913\u001B[0m     results \u001B[39m=\u001B[39m [\n\u001B[1;32m   5914\u001B[0m         \u001B[39mself\u001B[39m\u001B[39m.\u001B[39miloc[:, i]\u001B[39m.\u001B[39mastype(dtype, copy\u001B[39m=\u001B[39mcopy)\n\u001B[1;32m   5915\u001B[0m         \u001B[39mfor\u001B[39;00m i \u001B[39min\u001B[39;00m \u001B[39mrange\u001B[39m(\u001B[39mlen\u001B[39m(\u001B[39mself\u001B[39m\u001B[39m.\u001B[39mcolumns))\n\u001B[1;32m   5916\u001B[0m     ]\n\u001B[1;32m   5918\u001B[0m \u001B[39melse\u001B[39;00m:\n\u001B[1;32m   5919\u001B[0m     \u001B[39m# else, only a single dtype is given\u001B[39;00m\n\u001B[0;32m-> 5920\u001B[0m     new_data \u001B[39m=\u001B[39m \u001B[39mself\u001B[39;49m\u001B[39m.\u001B[39;49m_mgr\u001B[39m.\u001B[39;49mastype(dtype\u001B[39m=\u001B[39;49mdtype, copy\u001B[39m=\u001B[39;49mcopy, errors\u001B[39m=\u001B[39;49merrors)\n\u001B[1;32m   5921\u001B[0m     \u001B[39mreturn\u001B[39;00m \u001B[39mself\u001B[39m\u001B[39m.\u001B[39m_constructor(new_data)\u001B[39m.\u001B[39m__finalize__(\u001B[39mself\u001B[39m, method\u001B[39m=\u001B[39m\u001B[39m\"\u001B[39m\u001B[39mastype\u001B[39m\u001B[39m\"\u001B[39m)\n\u001B[1;32m   5923\u001B[0m \u001B[39m# GH 33113: handle empty frame or series\u001B[39;00m\n",
      "File \u001B[0;32m~/miniconda3/lib/python3.9/site-packages/pandas/core/internals/managers.py:419\u001B[0m, in \u001B[0;36mBaseBlockManager.astype\u001B[0;34m(self, dtype, copy, errors)\u001B[0m\n\u001B[1;32m    418\u001B[0m \u001B[39mdef\u001B[39;00m \u001B[39mastype\u001B[39m(\u001B[39mself\u001B[39m: T, dtype, copy: \u001B[39mbool\u001B[39m \u001B[39m=\u001B[39m \u001B[39mFalse\u001B[39;00m, errors: \u001B[39mstr\u001B[39m \u001B[39m=\u001B[39m \u001B[39m\"\u001B[39m\u001B[39mraise\u001B[39m\u001B[39m\"\u001B[39m) \u001B[39m-\u001B[39m\u001B[39m>\u001B[39m T:\n\u001B[0;32m--> 419\u001B[0m     \u001B[39mreturn\u001B[39;00m \u001B[39mself\u001B[39;49m\u001B[39m.\u001B[39;49mapply(\u001B[39m\"\u001B[39;49m\u001B[39mastype\u001B[39;49m\u001B[39m\"\u001B[39;49m, dtype\u001B[39m=\u001B[39;49mdtype, copy\u001B[39m=\u001B[39;49mcopy, errors\u001B[39m=\u001B[39;49merrors)\n",
      "File \u001B[0;32m~/miniconda3/lib/python3.9/site-packages/pandas/core/internals/managers.py:304\u001B[0m, in \u001B[0;36mBaseBlockManager.apply\u001B[0;34m(self, f, align_keys, ignore_failures, **kwargs)\u001B[0m\n\u001B[1;32m    302\u001B[0m         applied \u001B[39m=\u001B[39m b\u001B[39m.\u001B[39mapply(f, \u001B[39m*\u001B[39m\u001B[39m*\u001B[39mkwargs)\n\u001B[1;32m    303\u001B[0m     \u001B[39melse\u001B[39;00m:\n\u001B[0;32m--> 304\u001B[0m         applied \u001B[39m=\u001B[39m \u001B[39mgetattr\u001B[39;49m(b, f)(\u001B[39m*\u001B[39;49m\u001B[39m*\u001B[39;49mkwargs)\n\u001B[1;32m    305\u001B[0m \u001B[39mexcept\u001B[39;00m (\u001B[39mTypeError\u001B[39;00m, \u001B[39mNotImplementedError\u001B[39;00m):\n\u001B[1;32m    306\u001B[0m     \u001B[39mif\u001B[39;00m \u001B[39mnot\u001B[39;00m ignore_failures:\n",
      "File \u001B[0;32m~/miniconda3/lib/python3.9/site-packages/pandas/core/internals/blocks.py:580\u001B[0m, in \u001B[0;36mBlock.astype\u001B[0;34m(self, dtype, copy, errors)\u001B[0m\n\u001B[1;32m    562\u001B[0m \u001B[39m\"\"\"\u001B[39;00m\n\u001B[1;32m    563\u001B[0m \u001B[39mCoerce to the new dtype.\u001B[39;00m\n\u001B[1;32m    564\u001B[0m \n\u001B[0;32m   (...)\u001B[0m\n\u001B[1;32m    576\u001B[0m \u001B[39mBlock\u001B[39;00m\n\u001B[1;32m    577\u001B[0m \u001B[39m\"\"\"\u001B[39;00m\n\u001B[1;32m    578\u001B[0m values \u001B[39m=\u001B[39m \u001B[39mself\u001B[39m\u001B[39m.\u001B[39mvalues\n\u001B[0;32m--> 580\u001B[0m new_values \u001B[39m=\u001B[39m astype_array_safe(values, dtype, copy\u001B[39m=\u001B[39;49mcopy, errors\u001B[39m=\u001B[39;49merrors)\n\u001B[1;32m    582\u001B[0m new_values \u001B[39m=\u001B[39m maybe_coerce_values(new_values)\n\u001B[1;32m    583\u001B[0m newb \u001B[39m=\u001B[39m \u001B[39mself\u001B[39m\u001B[39m.\u001B[39mmake_block(new_values)\n",
      "File \u001B[0;32m~/miniconda3/lib/python3.9/site-packages/pandas/core/dtypes/cast.py:1292\u001B[0m, in \u001B[0;36mastype_array_safe\u001B[0;34m(values, dtype, copy, errors)\u001B[0m\n\u001B[1;32m   1289\u001B[0m     dtype \u001B[39m=\u001B[39m dtype\u001B[39m.\u001B[39mnumpy_dtype\n\u001B[1;32m   1291\u001B[0m \u001B[39mtry\u001B[39;00m:\n\u001B[0;32m-> 1292\u001B[0m     new_values \u001B[39m=\u001B[39m astype_array(values, dtype, copy\u001B[39m=\u001B[39;49mcopy)\n\u001B[1;32m   1293\u001B[0m \u001B[39mexcept\u001B[39;00m (\u001B[39mValueError\u001B[39;00m, \u001B[39mTypeError\u001B[39;00m):\n\u001B[1;32m   1294\u001B[0m     \u001B[39m# e.g. astype_nansafe can fail on object-dtype of strings\u001B[39;00m\n\u001B[1;32m   1295\u001B[0m     \u001B[39m#  trying to convert to float\u001B[39;00m\n\u001B[1;32m   1296\u001B[0m     \u001B[39mif\u001B[39;00m errors \u001B[39m==\u001B[39m \u001B[39m\"\u001B[39m\u001B[39mignore\u001B[39m\u001B[39m\"\u001B[39m:\n",
      "File \u001B[0;32m~/miniconda3/lib/python3.9/site-packages/pandas/core/dtypes/cast.py:1237\u001B[0m, in \u001B[0;36mastype_array\u001B[0;34m(values, dtype, copy)\u001B[0m\n\u001B[1;32m   1234\u001B[0m     values \u001B[39m=\u001B[39m values\u001B[39m.\u001B[39mastype(dtype, copy\u001B[39m=\u001B[39mcopy)\n\u001B[1;32m   1236\u001B[0m \u001B[39melse\u001B[39;00m:\n\u001B[0;32m-> 1237\u001B[0m     values \u001B[39m=\u001B[39m astype_nansafe(values, dtype, copy\u001B[39m=\u001B[39;49mcopy)\n\u001B[1;32m   1239\u001B[0m \u001B[39m# in pandas we don't store numpy str dtypes, so convert to object\u001B[39;00m\n\u001B[1;32m   1240\u001B[0m \u001B[39mif\u001B[39;00m \u001B[39misinstance\u001B[39m(dtype, np\u001B[39m.\u001B[39mdtype) \u001B[39mand\u001B[39;00m \u001B[39missubclass\u001B[39m(values\u001B[39m.\u001B[39mdtype\u001B[39m.\u001B[39mtype, \u001B[39mstr\u001B[39m):\n",
      "File \u001B[0;32m~/miniconda3/lib/python3.9/site-packages/pandas/core/dtypes/cast.py:1148\u001B[0m, in \u001B[0;36mastype_nansafe\u001B[0;34m(arr, dtype, copy, skipna)\u001B[0m\n\u001B[1;32m   1145\u001B[0m     \u001B[39mraise\u001B[39;00m \u001B[39mTypeError\u001B[39;00m(\u001B[39mf\u001B[39m\u001B[39m\"\u001B[39m\u001B[39mcannot astype a timedelta from [\u001B[39m\u001B[39m{\u001B[39;00marr\u001B[39m.\u001B[39mdtype\u001B[39m}\u001B[39;00m\u001B[39m] to [\u001B[39m\u001B[39m{\u001B[39;00mdtype\u001B[39m}\u001B[39;00m\u001B[39m]\u001B[39m\u001B[39m\"\u001B[39m)\n\u001B[1;32m   1147\u001B[0m \u001B[39melif\u001B[39;00m np\u001B[39m.\u001B[39missubdtype(arr\u001B[39m.\u001B[39mdtype, np\u001B[39m.\u001B[39mfloating) \u001B[39mand\u001B[39;00m np\u001B[39m.\u001B[39missubdtype(dtype, np\u001B[39m.\u001B[39minteger):\n\u001B[0;32m-> 1148\u001B[0m     \u001B[39mreturn\u001B[39;00m astype_float_to_int_nansafe(arr, dtype, copy)\n\u001B[1;32m   1150\u001B[0m \u001B[39melif\u001B[39;00m is_object_dtype(arr\u001B[39m.\u001B[39mdtype):\n\u001B[1;32m   1151\u001B[0m \n\u001B[1;32m   1152\u001B[0m     \u001B[39m# work around NumPy brokenness, #1987\u001B[39;00m\n\u001B[1;32m   1153\u001B[0m     \u001B[39mif\u001B[39;00m np\u001B[39m.\u001B[39missubdtype(dtype\u001B[39m.\u001B[39mtype, np\u001B[39m.\u001B[39minteger):\n",
      "File \u001B[0;32m~/miniconda3/lib/python3.9/site-packages/pandas/core/dtypes/cast.py:1193\u001B[0m, in \u001B[0;36mastype_float_to_int_nansafe\u001B[0;34m(values, dtype, copy)\u001B[0m\n\u001B[1;32m   1189\u001B[0m \u001B[39m\"\"\"\u001B[39;00m\n\u001B[1;32m   1190\u001B[0m \u001B[39mastype with a check preventing converting NaN to an meaningless integer value.\u001B[39;00m\n\u001B[1;32m   1191\u001B[0m \u001B[39m\"\"\"\u001B[39;00m\n\u001B[1;32m   1192\u001B[0m \u001B[39mif\u001B[39;00m \u001B[39mnot\u001B[39;00m np\u001B[39m.\u001B[39misfinite(values)\u001B[39m.\u001B[39mall():\n\u001B[0;32m-> 1193\u001B[0m     \u001B[39mraise\u001B[39;00m IntCastingNaNError(\n\u001B[1;32m   1194\u001B[0m         \u001B[39m\"\u001B[39m\u001B[39mCannot convert non-finite values (NA or inf) to integer\u001B[39m\u001B[39m\"\u001B[39m\n\u001B[1;32m   1195\u001B[0m     )\n\u001B[1;32m   1196\u001B[0m \u001B[39mreturn\u001B[39;00m values\u001B[39m.\u001B[39mastype(dtype, copy\u001B[39m=\u001B[39mcopy)\n",
      "\u001B[0;31mIntCastingNaNError\u001B[0m: Cannot convert non-finite values (NA or inf) to integer"
     ]
    }
   ],
   "source": [
    "df_cleaned['built_year'] = df_cleaned['built_year'].astype(int)\n",
    "df_cleaned['num_beds'] = df_cleaned['num_beds'].astype(int)\n",
    "df_cleaned['num_baths'] = df_cleaned['num_baths'].astype(int)\n",
    "df_cleaned['num_beds'] = df_cleaned['num_beds'].astype(int)\n",
    "df_cleaned['num_baths'] = df_cleaned['num_baths'].astype(int)\n",
    "df_cleaned['lng'] = df_cleaned['lng'].astype(np.float16)\n",
    "df_cleaned['lat'] = df_cleaned['lat'].astype(np.float16)\n",
    "df_cleaned.info()"
   ]
  },
  {
   "cell_type": "code",
   "execution_count": 165,
   "metadata": {
    "pycharm": {
     "name": "#%%\n"
    }
   },
   "outputs": [
    {
     "data": {
      "text/html": [
       "<div>\n",
       "<style scoped>\n",
       "    .dataframe tbody tr th:only-of-type {\n",
       "        vertical-align: middle;\n",
       "    }\n",
       "\n",
       "    .dataframe tbody tr th {\n",
       "        vertical-align: top;\n",
       "    }\n",
       "\n",
       "    .dataframe thead th {\n",
       "        text-align: right;\n",
       "    }\n",
       "</style>\n",
       "<table border=\"1\" class=\"dataframe\">\n",
       "  <thead>\n",
       "    <tr style=\"text-align: right;\">\n",
       "      <th></th>\n",
       "      <th>Unnamed: 0</th>\n",
       "      <th>title</th>\n",
       "      <th>address</th>\n",
       "      <th>property_name</th>\n",
       "      <th>property_type</th>\n",
       "      <th>num_beds</th>\n",
       "      <th>num_baths</th>\n",
       "      <th>size_sqft</th>\n",
       "      <th>furnishing</th>\n",
       "      <th>lat</th>\n",
       "      <th>lng</th>\n",
       "      <th>subzone</th>\n",
       "      <th>planning_area</th>\n",
       "      <th>price</th>\n",
       "      <th>built_year</th>\n",
       "      <th>tenure</th>\n",
       "      <th>available_unit_types</th>\n",
       "    </tr>\n",
       "  </thead>\n",
       "  <tbody>\n",
       "    <tr>\n",
       "      <th>28</th>\n",
       "      <td>28</td>\n",
       "      <td>3 bed condo for sale in 1953</td>\n",
       "      <td>1 tessensohn road</td>\n",
       "      <td>1953</td>\n",
       "      <td>apartment</td>\n",
       "      <td>3.0</td>\n",
       "      <td>3.0</td>\n",
       "      <td>1130</td>\n",
       "      <td>unspecified</td>\n",
       "      <td>14.484814</td>\n",
       "      <td>121.023232</td>\n",
       "      <td>NaN</td>\n",
       "      <td>NaN</td>\n",
       "      <td>2671200.0</td>\n",
       "      <td>2023.0</td>\n",
       "      <td>freehold</td>\n",
       "      <td>studio, 1, 2, 3, 4, 5, 6 br</td>\n",
       "    </tr>\n",
       "    <tr>\n",
       "      <th>56</th>\n",
       "      <td>56</td>\n",
       "      <td>4 bed condo for sale in 1953</td>\n",
       "      <td>1 tessensohn road</td>\n",
       "      <td>1953</td>\n",
       "      <td>apartment</td>\n",
       "      <td>4.0</td>\n",
       "      <td>4.0</td>\n",
       "      <td>1399</td>\n",
       "      <td>unspecified</td>\n",
       "      <td>14.484814</td>\n",
       "      <td>121.023232</td>\n",
       "      <td>NaN</td>\n",
       "      <td>NaN</td>\n",
       "      <td>3272800.0</td>\n",
       "      <td>2023.0</td>\n",
       "      <td>freehold</td>\n",
       "      <td>studio, 1, 2, 3, 4, 5, 6 br</td>\n",
       "    </tr>\n",
       "    <tr>\n",
       "      <th>216</th>\n",
       "      <td>216</td>\n",
       "      <td>3 bed condo for sale in 1953</td>\n",
       "      <td>1 tessensohn road</td>\n",
       "      <td>1953</td>\n",
       "      <td>condo</td>\n",
       "      <td>3.0</td>\n",
       "      <td>3.0</td>\n",
       "      <td>1152</td>\n",
       "      <td>unspecified</td>\n",
       "      <td>14.484814</td>\n",
       "      <td>121.023232</td>\n",
       "      <td>NaN</td>\n",
       "      <td>NaN</td>\n",
       "      <td>2292200.0</td>\n",
       "      <td>2023.0</td>\n",
       "      <td>freehold</td>\n",
       "      <td>studio, 1, 2, 3, 4, 5, 6 br</td>\n",
       "    </tr>\n",
       "    <tr>\n",
       "      <th>480</th>\n",
       "      <td>480</td>\n",
       "      <td>2 bed condo for sale in 1953</td>\n",
       "      <td>1 tessensohn road</td>\n",
       "      <td>1953</td>\n",
       "      <td>condo</td>\n",
       "      <td>2.0</td>\n",
       "      <td>2.0</td>\n",
       "      <td>1130</td>\n",
       "      <td>unfurnished</td>\n",
       "      <td>14.484814</td>\n",
       "      <td>121.023232</td>\n",
       "      <td>NaN</td>\n",
       "      <td>NaN</td>\n",
       "      <td>2363600.0</td>\n",
       "      <td>2023.0</td>\n",
       "      <td>freehold</td>\n",
       "      <td>studio, 1, 2, 3, 4, 5, 6 br</td>\n",
       "    </tr>\n",
       "    <tr>\n",
       "      <th>580</th>\n",
       "      <td>580</td>\n",
       "      <td>3 bed condo for sale in 1953</td>\n",
       "      <td>1 tessensohn road</td>\n",
       "      <td>1953</td>\n",
       "      <td>apartment</td>\n",
       "      <td>3.0</td>\n",
       "      <td>3.0</td>\n",
       "      <td>1119</td>\n",
       "      <td>unspecified</td>\n",
       "      <td>14.484814</td>\n",
       "      <td>121.023232</td>\n",
       "      <td>NaN</td>\n",
       "      <td>NaN</td>\n",
       "      <td>2163000.0</td>\n",
       "      <td>2023.0</td>\n",
       "      <td>freehold</td>\n",
       "      <td>studio, 1, 2, 3, 4, 5, 6 br</td>\n",
       "    </tr>\n",
       "    <tr>\n",
       "      <th>...</th>\n",
       "      <td>...</td>\n",
       "      <td>...</td>\n",
       "      <td>...</td>\n",
       "      <td>...</td>\n",
       "      <td>...</td>\n",
       "      <td>...</td>\n",
       "      <td>...</td>\n",
       "      <td>...</td>\n",
       "      <td>...</td>\n",
       "      <td>...</td>\n",
       "      <td>...</td>\n",
       "      <td>...</td>\n",
       "      <td>...</td>\n",
       "      <td>...</td>\n",
       "      <td>...</td>\n",
       "      <td>...</td>\n",
       "      <td>...</td>\n",
       "    </tr>\n",
       "    <tr>\n",
       "      <th>82</th>\n",
       "      <td>82</td>\n",
       "      <td>1 bed condo for sale in pollen &amp; bleu</td>\n",
       "      <td>15 farrer drive</td>\n",
       "      <td>pollen &amp; bleu</td>\n",
       "      <td>condo</td>\n",
       "      <td>1.0</td>\n",
       "      <td>1.0</td>\n",
       "      <td>549</td>\n",
       "      <td>unspecified</td>\n",
       "      <td>69.486768</td>\n",
       "      <td>20.184434</td>\n",
       "      <td>NaN</td>\n",
       "      <td>NaN</td>\n",
       "      <td>1470000.0</td>\n",
       "      <td>2017.0</td>\n",
       "      <td>99-year leasehold</td>\n",
       "      <td>1, 2, 3, 4, 5 br</td>\n",
       "    </tr>\n",
       "    <tr>\n",
       "      <th>2675</th>\n",
       "      <td>2675</td>\n",
       "      <td>2 bed condo for sale in pollen &amp; bleu</td>\n",
       "      <td>17 farrer drive</td>\n",
       "      <td>pollen &amp; bleu</td>\n",
       "      <td>condo</td>\n",
       "      <td>2.0</td>\n",
       "      <td>2.0</td>\n",
       "      <td>1163</td>\n",
       "      <td>fully</td>\n",
       "      <td>69.486768</td>\n",
       "      <td>20.184434</td>\n",
       "      <td>NaN</td>\n",
       "      <td>NaN</td>\n",
       "      <td>2362500.0</td>\n",
       "      <td>2017.0</td>\n",
       "      <td>99-year leasehold</td>\n",
       "      <td>1, 2, 3, 4, 5 br</td>\n",
       "    </tr>\n",
       "    <tr>\n",
       "      <th>8520</th>\n",
       "      <td>8520</td>\n",
       "      <td>3 bed condo for sale in pollen &amp; bleu</td>\n",
       "      <td>17 farrer drive</td>\n",
       "      <td>pollen &amp; bleu</td>\n",
       "      <td>condo</td>\n",
       "      <td>3.0</td>\n",
       "      <td>2.0</td>\n",
       "      <td>1184</td>\n",
       "      <td>unfurnished</td>\n",
       "      <td>69.486768</td>\n",
       "      <td>20.184434</td>\n",
       "      <td>NaN</td>\n",
       "      <td>NaN</td>\n",
       "      <td>2467500.0</td>\n",
       "      <td>2017.0</td>\n",
       "      <td>99-year leasehold</td>\n",
       "      <td>1, 2, 3, 4, 5 br</td>\n",
       "    </tr>\n",
       "    <tr>\n",
       "      <th>11103</th>\n",
       "      <td>11103</td>\n",
       "      <td>3 bed condo for sale in pollen &amp; bleu</td>\n",
       "      <td>15 farrer drive</td>\n",
       "      <td>pollen &amp; bleu</td>\n",
       "      <td>condo</td>\n",
       "      <td>3.0</td>\n",
       "      <td>2.0</td>\n",
       "      <td>1163</td>\n",
       "      <td>unspecified</td>\n",
       "      <td>69.486768</td>\n",
       "      <td>20.184434</td>\n",
       "      <td>NaN</td>\n",
       "      <td>NaN</td>\n",
       "      <td>2058000.0</td>\n",
       "      <td>2017.0</td>\n",
       "      <td>99-year leasehold</td>\n",
       "      <td>1, 2, 3, 4, 5 br</td>\n",
       "    </tr>\n",
       "    <tr>\n",
       "      <th>17013</th>\n",
       "      <td>17013</td>\n",
       "      <td>2 bed condo for sale in pollen &amp; bleu</td>\n",
       "      <td>17 farrer drive</td>\n",
       "      <td>pollen &amp; bleu</td>\n",
       "      <td>condo</td>\n",
       "      <td>2.0</td>\n",
       "      <td>2.0</td>\n",
       "      <td>1163</td>\n",
       "      <td>unspecified</td>\n",
       "      <td>69.486768</td>\n",
       "      <td>20.184434</td>\n",
       "      <td>NaN</td>\n",
       "      <td>NaN</td>\n",
       "      <td>2257500.0</td>\n",
       "      <td>2017.0</td>\n",
       "      <td>99-year leasehold</td>\n",
       "      <td>1, 2, 3, 4, 5 br</td>\n",
       "    </tr>\n",
       "  </tbody>\n",
       "</table>\n",
       "<p>106 rows × 17 columns</p>\n",
       "</div>"
      ],
      "text/plain": [
       "       Unnamed: 0                                  title            address  \\\n",
       "28             28           3 bed condo for sale in 1953  1 tessensohn road   \n",
       "56             56           4 bed condo for sale in 1953  1 tessensohn road   \n",
       "216           216           3 bed condo for sale in 1953  1 tessensohn road   \n",
       "480           480           2 bed condo for sale in 1953  1 tessensohn road   \n",
       "580           580           3 bed condo for sale in 1953  1 tessensohn road   \n",
       "...           ...                                    ...                ...   \n",
       "82             82  1 bed condo for sale in pollen & bleu    15 farrer drive   \n",
       "2675         2675  2 bed condo for sale in pollen & bleu    17 farrer drive   \n",
       "8520         8520  3 bed condo for sale in pollen & bleu    17 farrer drive   \n",
       "11103       11103  3 bed condo for sale in pollen & bleu    15 farrer drive   \n",
       "17013       17013  2 bed condo for sale in pollen & bleu    17 farrer drive   \n",
       "\n",
       "       property_name property_type  num_beds  num_baths  size_sqft  \\\n",
       "28              1953     apartment       3.0        3.0       1130   \n",
       "56              1953     apartment       4.0        4.0       1399   \n",
       "216             1953         condo       3.0        3.0       1152   \n",
       "480             1953         condo       2.0        2.0       1130   \n",
       "580             1953     apartment       3.0        3.0       1119   \n",
       "...              ...           ...       ...        ...        ...   \n",
       "82     pollen & bleu         condo       1.0        1.0        549   \n",
       "2675   pollen & bleu         condo       2.0        2.0       1163   \n",
       "8520   pollen & bleu         condo       3.0        2.0       1184   \n",
       "11103  pollen & bleu         condo       3.0        2.0       1163   \n",
       "17013  pollen & bleu         condo       2.0        2.0       1163   \n",
       "\n",
       "        furnishing        lat         lng subzone planning_area      price  \\\n",
       "28     unspecified  14.484814  121.023232     NaN           NaN  2671200.0   \n",
       "56     unspecified  14.484814  121.023232     NaN           NaN  3272800.0   \n",
       "216    unspecified  14.484814  121.023232     NaN           NaN  2292200.0   \n",
       "480    unfurnished  14.484814  121.023232     NaN           NaN  2363600.0   \n",
       "580    unspecified  14.484814  121.023232     NaN           NaN  2163000.0   \n",
       "...            ...        ...         ...     ...           ...        ...   \n",
       "82     unspecified  69.486768   20.184434     NaN           NaN  1470000.0   \n",
       "2675         fully  69.486768   20.184434     NaN           NaN  2362500.0   \n",
       "8520   unfurnished  69.486768   20.184434     NaN           NaN  2467500.0   \n",
       "11103  unspecified  69.486768   20.184434     NaN           NaN  2058000.0   \n",
       "17013  unspecified  69.486768   20.184434     NaN           NaN  2257500.0   \n",
       "\n",
       "       built_year             tenure         available_unit_types  \n",
       "28         2023.0           freehold  studio, 1, 2, 3, 4, 5, 6 br  \n",
       "56         2023.0           freehold  studio, 1, 2, 3, 4, 5, 6 br  \n",
       "216        2023.0           freehold  studio, 1, 2, 3, 4, 5, 6 br  \n",
       "480        2023.0           freehold  studio, 1, 2, 3, 4, 5, 6 br  \n",
       "580        2023.0           freehold  studio, 1, 2, 3, 4, 5, 6 br  \n",
       "...           ...                ...                          ...  \n",
       "82         2017.0  99-year leasehold             1, 2, 3, 4, 5 br  \n",
       "2675       2017.0  99-year leasehold             1, 2, 3, 4, 5 br  \n",
       "8520       2017.0  99-year leasehold             1, 2, 3, 4, 5 br  \n",
       "11103      2017.0  99-year leasehold             1, 2, 3, 4, 5 br  \n",
       "17013      2017.0  99-year leasehold             1, 2, 3, 4, 5 br  \n",
       "\n",
       "[106 rows x 17 columns]"
      ]
     },
     "execution_count": 165,
     "metadata": {},
     "output_type": "execute_result"
    }
   ],
   "source": [
    "#print(df_cleaned.lng.max)\n",
    "df_max_lng = df_cleaned[df_cleaned.lng > 121.0]\n",
    "df_min_lng = df_cleaned[df_cleaned.lng < -77.0]\n",
    "df_max_lat = df_cleaned[df_cleaned.lat > 69.0]\n",
    "df_wrong_coordinates = pd.concat([df_max_lng, df_min_lng, df_max_lat])\n",
    "\n",
    "df_wrong_coordinates\n",
    "\n",
    "# it is interesting to note that in all the records where latitude and longitude have incorrect coordinates,\n",
    "# \"planning_area\" and \"subzone\" have missing values, this can also be verified by checking for count of missing values"
   ]
  },
  {
   "cell_type": "code",
   "execution_count": 166,
   "metadata": {
    "pycharm": {
     "name": "#%%\n"
    }
   },
   "outputs": [
    {
     "name": "stdout",
     "output_type": "stream",
     "text": [
      "(106, 17)\n",
      "106\n",
      "106\n"
     ]
    }
   ],
   "source": [
    "print(df_wrong_coordinates.shape)\n",
    "print(df_cleaned[\"subzone\"].isnull().sum())\n",
    "print(df_cleaned[\"planning_area\"].isnull().sum())"
   ]
  },
  {
   "cell_type": "code",
   "execution_count": 167,
   "metadata": {
    "pycharm": {
     "name": "#%%\n"
    }
   },
   "outputs": [
    {
     "data": {
      "text/plain": [
       "1 tessensohn road       90\n",
       "38 lorong 32 geylang     6\n",
       "5 jalan mutiara          5\n",
       "17 farrer drive          3\n",
       "15 farrer drive          2\n",
       "Name: address, dtype: int64"
      ]
     },
     "execution_count": 167,
     "metadata": {},
     "output_type": "execute_result"
    }
   ],
   "source": [
    "# coordinates are incorrect for 5 'address'\n",
    "df_wrong_coordinates[\"address\"].value_counts()"
   ]
  },
  {
   "cell_type": "code",
   "execution_count": 168,
   "metadata": {
    "pycharm": {
     "name": "#%%\n"
    }
   },
   "outputs": [],
   "source": [
    "# using the 'address' we can manually correct the latitude, longitude coordinates along with \n",
    "# filling of values for sub zone and planning_area\n",
    "\n",
    "df_cleaned.loc[df_cleaned.address == \"1 tessensohn road\", \n",
    "               ['property_type', 'lat', 'lng', 'subzone', 'planning_area']] = 'condo', '1.3164313', '103.8575321', 'balestier', 'novena'\n",
    "df_cleaned.loc[df_cleaned.address == \"38 lorong 32 geylang\", \n",
    "               ['property_type', 'lat', 'lng', 'subzone', 'planning_area']] = 'condo', '1.31262', '103.88686', 'aljunied', 'geylang'\n",
    "df_cleaned.loc[df_cleaned.address == \"5 jalan mutiara\", \n",
    "               ['property_type', 'lat', 'lng', 'subzone', 'planning_area']] = 'condo', '1.29565', '103.82887', 'leonie hill', 'river valley'\n",
    "df_cleaned.loc[df_cleaned.address == \"17 farrer drive\", \n",
    "               ['property_type', 'lat', 'lng', 'subzone', 'planning_area']] = 'condo', '1.313259', '103.806622', 'holland road', 'bukit timah'\n",
    "df_cleaned.loc[df_cleaned.address == \"15 farrer drive\", \n",
    "               ['property_type', 'lat', 'lng', 'subzone', 'planning_area']] = 'condo', '1.313259', '103.806622', 'holland road', 'bukit timah'\n"
   ]
  },
  {
   "cell_type": "code",
   "execution_count": 169,
   "metadata": {
    "pycharm": {
     "name": "#%%\n"
    }
   },
   "outputs": [
    {
     "name": "stdout",
     "output_type": "stream",
     "text": [
      "condo                  9248\n",
      "hdb                    2783\n",
      "hdb 3 rooms            1189\n",
      "hdb 4 rooms            1118\n",
      "semi-detached house    1007\n",
      "executive condo         918\n",
      "bungalow                740\n",
      "hdb 5 rooms             677\n",
      "apartment               482\n",
      "terraced house          441\n",
      "hdb executive           302\n",
      "corner terrace          253\n",
      "hdb 2 rooms             234\n",
      "cluster house           183\n",
      "conservation house       21\n",
      "landed                   19\n",
      "walk-up                  14\n",
      "townhouse                 9\n",
      "good class bungalow       5\n",
      "land only                 2\n",
      "shophouse                 1\n",
      "Name: property_type, dtype: int64\n",
      "condo                  9248\n",
      "hdb                    6303\n",
      "semi-detached house    1007\n",
      "executive condo         918\n",
      "bungalow                740\n",
      "apartment               482\n",
      "terraced house          441\n",
      "corner terrace          253\n",
      "cluster house           183\n",
      "conservation house       21\n",
      "landed                   19\n",
      "walk-up                  14\n",
      "townhouse                 9\n",
      "good class bungalow       5\n",
      "shophouse                 1\n",
      "Name: property_type, dtype: int64\n"
     ]
    }
   ],
   "source": [
    "print(df_cleaned['property_type'].value_counts())\n",
    "# changing \"hdb 3 rooms\", \"hdb 4 rooms\" and likewise to \"hdb\" since the number of rooms info can\n",
    "# be obtained from \"num_beds\"\n",
    "df_cleaned['property_type'].mask(df_cleaned['property_type'].str.contains(\"hdb\"), \"hdb\", inplace=True)\n",
    "df_cleaned.drop(df_cleaned[df_cleaned['property_type'] == 'land only'].index, inplace = True)\n",
    "print(df_cleaned['property_type'].value_counts())"
   ]
  },
  {
   "cell_type": "code",
   "execution_count": 170,
   "metadata": {
    "pycharm": {
     "name": "#%%\n"
    }
   },
   "outputs": [
    {
     "name": "stdout",
     "output_type": "stream",
     "text": [
      "unspecified    14338\n",
      "partial         2969\n",
      "unfurnished     1811\n",
      "fully            519\n",
      "na                 7\n",
      "Name: furnishing, dtype: int64\n"
     ]
    }
   ],
   "source": [
    "print(df_cleaned['furnishing'].value_counts())\n",
    "# dropping 7 records with \"na\" \n",
    "df_cleaned = df_cleaned[df_cleaned.furnishing != \"na\"]"
   ]
  },
  {
   "cell_type": "code",
   "execution_count": 171,
   "metadata": {
    "pycharm": {
     "name": "#%%\n"
    }
   },
   "outputs": [
    {
     "name": "stdout",
     "output_type": "stream",
     "text": [
      "before changes\n",
      "condo\n",
      "False    9897\n",
      "True     9740\n",
      "Name: title, dtype: int64\n",
      "\n",
      "\n",
      "apartment\n",
      "False    19631\n",
      "True         6\n",
      "Name: title, dtype: int64\n",
      "\n",
      "\n",
      "property_type\n",
      "condo                  9246\n",
      "hdb                    6303\n",
      "semi-detached house    1007\n",
      "executive condo         918\n",
      "bungalow                740\n",
      "apartment               477\n",
      "terraced house          441\n",
      "corner terrace          253\n",
      "cluster house           183\n",
      "conservation house       21\n",
      "landed                   19\n",
      "walk-up                  14\n",
      "townhouse                 9\n",
      "good class bungalow       5\n",
      "shophouse                 1\n",
      "Name: property_type, dtype: int64\n"
     ]
    }
   ],
   "source": [
    "print(\"before changes\")\n",
    "print(\"condo\")\n",
    "print(df_cleaned[\"title\"].str.contains(\"condo\").value_counts())\n",
    "print(\"\\n\")\n",
    "print(\"apartment\")\n",
    "print(df_cleaned[\"title\"].str.contains(\"apartment\").value_counts())\n",
    "print(\"\\n\")\n",
    "print(\"property_type\")\n",
    "print(df_cleaned[\"property_type\"].value_counts())\n",
    "\n",
    "\n",
    "#The count of condos and apartments in title and property_type does not match"
   ]
  },
  {
   "cell_type": "code",
   "execution_count": 172,
   "metadata": {
    "pycharm": {
     "name": "#%%\n"
    }
   },
   "outputs": [],
   "source": [
    "df_cleaned.loc[(df_cleaned['property_type']!=\"condo\") & \n",
    "       (df_cleaned['title'].str.contains('condo')),['property_type']] = \"condo\"\n",
    "df_cleaned.loc[(df_cleaned['property_type']!=\"apartment\") & \n",
    "       (df_cleaned['title'].str.contains('apartment')),['property_type']] = \"apartment\""
   ]
  },
  {
   "cell_type": "code",
   "execution_count": 173,
   "metadata": {
    "pycharm": {
     "name": "#%%\n"
    }
   },
   "outputs": [
    {
     "name": "stdout",
     "output_type": "stream",
     "text": [
      "after changes\n",
      "condo\n",
      "False    9897\n",
      "True     9740\n",
      "Name: title, dtype: int64\n",
      "\n",
      "\n",
      "apartment\n",
      "False    19631\n",
      "True         6\n",
      "Name: title, dtype: int64\n",
      "\n",
      "\n",
      "property_type\n",
      "condo                  9734\n",
      "hdb                    6303\n",
      "semi-detached house    1006\n",
      "executive condo         918\n",
      "bungalow                740\n",
      "terraced house          440\n",
      "corner terrace          252\n",
      "cluster house           183\n",
      "conservation house       21\n",
      "landed                   19\n",
      "townhouse                 9\n",
      "apartment                 6\n",
      "good class bungalow       5\n",
      "shophouse                 1\n",
      "Name: property_type, dtype: int64\n"
     ]
    }
   ],
   "source": [
    "print(\"after changes\")\n",
    "print(\"condo\")\n",
    "print(df_cleaned[\"title\"].str.contains(\"condo\").value_counts())\n",
    "print(\"\\n\")\n",
    "print(\"apartment\")\n",
    "print(df_cleaned[\"title\"].str.contains(\"apartment\").value_counts())\n",
    "print(\"\\n\")\n",
    "print(\"property_type\")\n",
    "print(df_cleaned[\"property_type\"].value_counts())\n"
   ]
  },
  {
   "cell_type": "code",
   "execution_count": 174,
   "metadata": {
    "pycharm": {
     "name": "#%%\n"
    }
   },
   "outputs": [],
   "source": [
    "#g.\tLanguage translation"
   ]
  },
  {
   "cell_type": "code",
   "execution_count": 175,
   "metadata": {
    "pycharm": {
     "name": "#%%\n"
    }
   },
   "outputs": [
    {
     "data": {
      "text/plain": [
       "Unnamed: 0                 0\n",
       "title                      0\n",
       "address                    0\n",
       "property_name              0\n",
       "property_type              0\n",
       "num_beds                   0\n",
       "num_baths                  0\n",
       "size_sqft                  0\n",
       "furnishing                 0\n",
       "lat                        0\n",
       "lng                        0\n",
       "subzone                    0\n",
       "planning_area              0\n",
       "price                      0\n",
       "built_year               900\n",
       "tenure                   198\n",
       "available_unit_types    1430\n",
       "dtype: int64"
      ]
     },
     "execution_count": 175,
     "metadata": {},
     "output_type": "execute_result"
    }
   ],
   "source": [
    "#h.\tHandle missing values\n",
    "\n",
    "df_cleaned.isnull().sum()"
   ]
  },
  {
   "cell_type": "code",
   "execution_count": 176,
   "metadata": {
    "pycharm": {
     "name": "#%%\n"
    }
   },
   "outputs": [],
   "source": [
    "#i. Features\n",
    "\n",
    "#1. title - DROPPING\n",
    "#2. address - DROPPING\n",
    "#3. property_name - KEEP\n",
    "#4. property_type - ordinal encoding\n",
    "#5. tenure - one-hot encoding (reduce to 3 columns - freehold, 99-year, 999-year)\n",
    "#6. built_year - handle null values\n",
    "#6.1 numb_beds/num_baths/size_sqft - KEEP AS IT IS\n",
    "#7. floor_level - ordinal encoding (DROPPING)\n",
    "#8. furnishing - one-hot encoding\n",
    "#9. available_unit_types -  (ON HOLD/DROPPING)\n",
    "#10. total_num_units - DROPPING\n",
    "#11. lat/lng - KEEP AS IT IS\n",
    "#12. planning_area - one-hot encoding/adarsh to work on map\n",
    "#13. subzone - one-hot encoding/Adarsh to work on map\n",
    "#14. ADD FEATURES - number os schools/MRT stations/malls within a pre-fixed radius"
   ]
  },
  {
   "cell_type": "code",
   "execution_count": 177,
   "metadata": {
    "pycharm": {
     "name": "#%%\n"
    }
   },
   "outputs": [],
   "source": [
    "#No need to run this unless all data has been cleaned.\n",
    "#df_dirty_test.to_csv('../data/test_cleaned.csv')  \n",
    "df_cleaned.to_csv('../data/train_cleaned.csv')"
   ]
  },
  {
   "cell_type": "code",
   "execution_count": null,
   "metadata": {
    "pycharm": {
     "name": "#%%\n"
    }
   },
   "outputs": [],
   "source": []
  }
 ],
 "metadata": {
  "kernelspec": {
   "display_name": "Python 3 (ipykernel)",
   "language": "python",
   "name": "python3"
  },
  "language_info": {
   "codemirror_mode": {
    "name": "ipython",
    "version": 3
   },
   "file_extension": ".py",
   "mimetype": "text/x-python",
   "name": "python",
   "nbconvert_exporter": "python",
   "pygments_lexer": "ipython3",
   "version": "3.9.7"
  },
  "vscode": {
   "interpreter": {
    "hash": "8a9a3a0f59d94ba7973b21a69118181ce5bc1e1391d96e7c074d54f3ed39dfbb"
   }
  }
 },
 "nbformat": 4,
 "nbformat_minor": 2
}