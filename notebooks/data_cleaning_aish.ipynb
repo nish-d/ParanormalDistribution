{
 "cells": [
  {
   "cell_type": "code",
   "execution_count": null,
   "metadata": {
    "pycharm": {
     "name": "#%%\n"
    }
   },
   "outputs": [],
   "source": [
    "import numpy as np\n",
    "import pandas as pd\n",
    "import matplotlib.pyplot as plt\n",
    "%matplotlib inline\n",
    "\n",
    "import warnings\n",
    "warnings.filterwarnings(action=\"ignore\")"
   ]
  },
  {
   "cell_type": "code",
   "execution_count": null,
   "metadata": {
    "pycharm": {
     "name": "#%%\n"
    }
   },
   "outputs": [],
   "source": [
    "df_cleaned = pd.read_csv('../data/train_cleaned.csv')\n",
    "df_dirty_test = pd.read_csv('../data/test_cleaned.csv')\n",
    "df_cleaned.head()"
   ]
  },
  {
   "cell_type": "markdown",
   "metadata": {
    "pycharm": {
     "name": "#%% md\n"
    }
   },
   "source": [
    "Singapore has the following latitude and longitude coordinates in its extreme ends:\n",
    "1. left-most (Tuas) :  1.30871,103.64287\n",
    "2. right-most (Changi) : 1.34538,104.00270\n",
    "3. top-most (Sembawang) : 1.46227,103.79487\n",
    "4. bottom-most (Bukit Merah) : 1.28762,103.82467\n",
    "\n",
    "\n",
    "#### Min latitude - 1.28762       Max latitude - 1.46227\n",
    "\n",
    "#### Min longitude - 103.64         Max longitude - 104.00\n",
    "\n",
    "But we can see that in the data, min longitude is -77.065364 and max latitude is 69.486768 which are out of the range of latitude and longitude values \n",
    "\n",
    "<img src=\"images/singapore-lat-long-map.jpeg\" width=600 height=600 />\n",
    "\n"
   ]
  },
  {
   "cell_type": "code",
   "execution_count": null,
   "metadata": {
    "pycharm": {
     "name": "#%%\n"
    }
   },
   "outputs": [],
   "source": [
    "df_cleaned['built_year'] = df_cleaned['built_year'].astype(int)\n",
    "df_cleaned['num_beds'] = df_cleaned['num_beds'].astype(int)\n",
    "df_cleaned['num_baths'] = df_cleaned['num_baths'].astype(int)\n",
    "df_cleaned['lng'] = df_cleaned['lng'].astype(np.float16)\n",
    "df_cleaned['lat'] = df_cleaned['lat'].astype(np.float16)\n",
    "df_cleaned.info()"
   ]
  },
  {
   "cell_type": "code",
   "execution_count": null,
   "metadata": {
    "pycharm": {
     "name": "#%%\n"
    }
   },
   "outputs": [],
   "source": [
    "#print(df_cleaned.lng.max)\n",
    "df_max_lng = df_cleaned[df_cleaned.lng > 121.0]\n",
    "df_min_lng = df_cleaned[df_cleaned.lng < -77.0]\n",
    "df_max_lat = df_cleaned[df_cleaned.lat > 69.0]\n",
    "df_wrong_coordinates = pd.concat([df_max_lng, df_min_lng, df_max_lat])\n",
    "\n",
    "df_wrong_coordinates\n",
    "\n",
    "# it is interesting to note that in all the records where latitude and longitude have incorrect coordinates,\n",
    "# \"planning_area\" and \"subzone\" have missing values, this can also be verified by checking for count of missing values"
   ]
  },
  {
   "cell_type": "code",
   "execution_count": null,
   "metadata": {
    "pycharm": {
     "name": "#%%\n"
    }
   },
   "outputs": [],
   "source": [
    "print(df_wrong_coordinates.shape)\n",
    "print(df_cleaned[\"subzone\"].isnull().sum())\n",
    "print(df_cleaned[\"planning_area\"].isnull().sum())"
   ]
  },
  {
   "cell_type": "code",
   "execution_count": null,
   "metadata": {
    "pycharm": {
     "name": "#%%\n"
    }
   },
   "outputs": [],
   "source": [
    "# coordinates are incorrect for 5 'address'\n",
    "df_wrong_coordinates[\"address\"].value_counts()"
   ]
  },
  {
   "cell_type": "code",
   "execution_count": null,
   "metadata": {
    "pycharm": {
     "name": "#%%\n"
    }
   },
   "outputs": [],
   "source": [
    "# using the 'address' we can manually correct the latitude, longitude coordinates along with \n",
    "# filling of values for sub zone and planning_area\n",
    "\n",
    "df_cleaned.loc[df_cleaned.address == \"1 tessensohn road\", \n",
    "               ['property_type', 'lat', 'lng', 'subzone', 'planning_area']] = 'condo', '1.3164313', '103.8575321', 'balestier', 'novena'\n",
    "df_cleaned.loc[df_cleaned.address == \"38 lorong 32 geylang\", \n",
    "               ['property_type', 'lat', 'lng', 'subzone', 'planning_area']] = 'condo', '1.31262', '103.88686', 'aljunied', 'geylang'\n",
    "df_cleaned.loc[df_cleaned.address == \"5 jalan mutiara\", \n",
    "               ['property_type', 'lat', 'lng', 'subzone', 'planning_area']] = 'condo', '1.29565', '103.82887', 'leonie hill', 'river valley'\n",
    "df_cleaned.loc[df_cleaned.address == \"17 farrer drive\", \n",
    "               ['property_type', 'lat', 'lng', 'subzone', 'planning_area']] = 'condo', '1.313259', '103.806622', 'holland road', 'bukit timah'\n",
    "df_cleaned.loc[df_cleaned.address == \"15 farrer drive\", \n",
    "               ['property_type', 'lat', 'lng', 'subzone', 'planning_area']] = 'condo', '1.313259', '103.806622', 'holland road', 'bukit timah'\n"
   ]
  },
  {
   "cell_type": "code",
   "execution_count": null,
   "metadata": {
    "pycharm": {
     "name": "#%%\n"
    }
   },
   "outputs": [],
   "source": [
    "print(df_cleaned['property_type'].value_counts())\n",
    "# changing \"hdb 3 rooms\", \"hdb 4 rooms\" and likewise to \"hdb\" since the number of rooms info can\n",
    "# be obtained from \"num_beds\"\n",
    "df_cleaned['property_type'].mask(df_cleaned['property_type'].str.contains(\"hdb\"), \"hdb\", inplace=True)\n",
    "df_cleaned.drop(df_cleaned[df_cleaned['property_type'] == 'land only'].index, inplace = True)\n",
    "print(df_cleaned['property_type'].value_counts())"
   ]
  },
  {
   "cell_type": "code",
   "execution_count": null,
   "metadata": {
    "pycharm": {
     "name": "#%%\n"
    }
   },
   "outputs": [],
   "source": [
    "print(df_cleaned['furnishing'].value_counts())\n",
    "# dropping 7 records with \"na\" \n",
    "df_cleaned = df_cleaned[df_cleaned.furnishing != \"na\"]"
   ]
  },
  {
   "cell_type": "code",
   "execution_count": null,
   "metadata": {
    "pycharm": {
     "name": "#%%\n"
    }
   },
   "outputs": [],
   "source": [
    "print(\"before changes\")\n",
    "print(\"condo\")\n",
    "print(df_cleaned[\"title\"].str.contains(\"condo\").value_counts())\n",
    "print(\"\\n\")\n",
    "print(\"apartment\")\n",
    "print(df_cleaned[\"title\"].str.contains(\"apartment\").value_counts())\n",
    "print(\"\\n\")\n",
    "print(\"property_type\")\n",
    "print(df_cleaned[\"property_type\"].value_counts())\n",
    "\n",
    "\n",
    "#The count of condos and apartments in title and property_type does not match"
   ]
  },
  {
   "cell_type": "code",
   "execution_count": null,
   "metadata": {
    "pycharm": {
     "name": "#%%\n"
    }
   },
   "outputs": [],
   "source": [
    "df_cleaned.loc[(df_cleaned['property_type']!=\"condo\") & \n",
    "       (df_cleaned['title'].str.contains('condo')),['property_type']] = \"condo\"\n",
    "df_cleaned.loc[(df_cleaned['property_type']!=\"apartment\") & \n",
    "       (df_cleaned['title'].str.contains('apartment')),['property_type']] = \"apartment\""
   ]
  },
  {
   "cell_type": "code",
   "execution_count": null,
   "metadata": {
    "pycharm": {
     "name": "#%%\n"
    }
   },
   "outputs": [],
   "source": [
    "print(\"after changes\")\n",
    "print(\"condo\")\n",
    "print(df_cleaned[\"title\"].str.contains(\"condo\").value_counts())\n",
    "print(\"\\n\")\n",
    "print(\"apartment\")\n",
    "print(df_cleaned[\"title\"].str.contains(\"apartment\").value_counts())\n",
    "print(\"\\n\")\n",
    "print(\"property_type\")\n",
    "print(df_cleaned[\"property_type\"].value_counts())\n"
   ]
  },
  {
   "cell_type": "code",
   "execution_count": null,
   "metadata": {
    "pycharm": {
     "name": "#%%\n"
    }
   },
   "outputs": [],
   "source": [
    "#g.\tLanguage translation"
   ]
  },
  {
   "cell_type": "code",
   "execution_count": null,
   "metadata": {
    "pycharm": {
     "name": "#%%\n"
    }
   },
   "outputs": [],
   "source": [
    "#h.\tHandle missing values\n",
    "\n",
    "df_cleaned.isnull().sum()"
   ]
  },
  {
   "cell_type": "code",
   "execution_count": null,
   "metadata": {
    "pycharm": {
     "name": "#%%\n"
    }
   },
   "outputs": [],
   "source": [
    "#i. Features\n",
    "\n",
    "#1. title - DROPPING\n",
    "#2. address - DROPPING\n",
    "#3. property_name - KEEP\n",
    "#4. property_type - ordinal encoding\n",
    "#5. tenure - one-hot encoding (reduce to 3 columns - freehold, 99-year, 999-year)\n",
    "#6. built_year - handle null values\n",
    "#6.1 numb_beds/num_baths/size_sqft - KEEP AS IT IS\n",
    "#7. floor_level - ordinal encoding (DROPPING)\n",
    "#8. furnishing - one-hot encoding\n",
    "#9. available_unit_types -  (ON HOLD/DROPPING)\n",
    "#10. total_num_units - DROPPING\n",
    "#11. lat/lng - KEEP AS IT IS\n",
    "#12. planning_area - one-hot encoding/adarsh to work on map\n",
    "#13. subzone - one-hot encoding/Adarsh to work on map\n",
    "#14. ADD FEATURES - number os schools/MRT stations/malls within a pre-fixed radius"
   ]
  },
  {
   "cell_type": "code",
   "execution_count": null,
   "metadata": {
    "pycharm": {
     "name": "#%%\n"
    }
   },
   "outputs": [],
   "source": [
    "#No need to run this unless all data has been cleaned.\n",
    "#df_dirty_test.to_csv('../data/test_cleaned.csv')  \n",
    "df_cleaned.to_csv('../data/train_cleaned.csv')"
   ]
  },
  {
   "cell_type": "code",
   "execution_count": null,
   "metadata": {
    "pycharm": {
     "name": "#%%\n"
    }
   },
   "outputs": [],
   "source": [
    "#Test data cleaning starts here\n",
    "#df_cleaned = pd.read_csv('../data/train_cleaned.csv')\n",
    "df_test_cleaned = pd.read_csv('../data/test_cleaned.csv')\n",
    "df_test_cleaned.head()"
   ]
  },
  {
   "cell_type": "code",
   "execution_count": null,
   "metadata": {
    "collapsed": false,
    "pycharm": {
     "name": "#%%\n"
    }
   },
   "outputs": [],
   "source": [
    "df_test_cleaned['built_year'] = df_test_cleaned['built_year'].astype(int)\n",
    "df_test_cleaned['num_beds'] = df_test_cleaned['num_beds'].astype(int)\n",
    "df_test_cleaned['num_baths'] = df_test_cleaned['num_baths'].astype(int)\n",
    "df_test_cleaned['num_beds'] = df_test_cleaned['num_beds'].astype(int)\n",
    "df_test_cleaned['num_baths'] = df_test_cleaned['num_baths'].astype(int)\n",
    "df_test_cleaned['lng'] = df_test_cleaned['lng'].astype(np.float16)\n",
    "df_test_cleaned['lat'] = df_test_cleaned['lat'].astype(np.float16)\n",
    "df_test_cleaned.info()"
   ]
  },
  {
   "cell_type": "code",
   "execution_count": null,
   "metadata": {
    "collapsed": false,
    "pycharm": {
     "name": "#%%\n"
    }
   },
   "outputs": [],
   "source": [
    "#print(df_cleaned.lng.max)\n",
    "df_max_lng = df_test_cleaned[df_test_cleaned.lng > 104]\n",
    "df_min_lng = df_test_cleaned[df_test_cleaned.lng < 103.64]\n",
    "df_max_lat = df_test_cleaned[df_test_cleaned.lat > 1.47]\n",
    "df_wrong_coordinates = pd.concat([df_max_lng, df_min_lng, df_max_lat])\n",
    "\n",
    "df_wrong_coordinates\n",
    "\n",
    "# it is interesting to note that in all the records where latitude and longitude have incorrect coordinates,\n",
    "# \"planning_area\" and \"subzone\" have missing values, this can also be verified by checking for count of missing values"
   ]
  },
  {
   "cell_type": "code",
   "execution_count": null,
   "metadata": {
    "collapsed": false,
    "pycharm": {
     "name": "#%%\n"
    }
   },
   "outputs": [],
   "source": [
    "print(df_wrong_coordinates.shape)\n",
    "print(df_test_cleaned[\"subzone\"].isnull().sum())\n",
    "print(df_test_cleaned[\"planning_area\"].isnull().sum())"
   ]
  },
  {
   "cell_type": "code",
   "execution_count": null,
   "metadata": {
    "collapsed": false,
    "pycharm": {
     "name": "#%%\n"
    }
   },
   "outputs": [],
   "source": [
    "# coordinates are incorrect for 4 'address'\n",
    "df_wrong_coordinates[\"address\"].value_counts()"
   ]
  },
  {
   "cell_type": "code",
   "execution_count": null,
   "metadata": {
    "collapsed": false,
    "pycharm": {
     "name": "#%%\n"
    }
   },
   "outputs": [],
   "source": [
    "# using the 'address' we can manually correct the latitude, longitude coordinates along with\n",
    "# filling of values for sub zone and planning_area\n",
    "\n",
    "df_test_cleaned.loc[df_test_cleaned.address == \"1 tessensohn road\",\n",
    "               ['property_type', 'lat', 'lng', 'subzone', 'planning_area']] = 'condo', '1.3164313', '103.8575321', 'balestier', 'novena'\n",
    "df_test_cleaned.loc[df_test_cleaned.address == \"38 lorong 32 geylang\",\n",
    "               ['property_type', 'lat', 'lng', 'subzone', 'planning_area']] = 'condo', '1.31262', '103.88686', 'aljunied', 'geylang'\n",
    "df_test_cleaned.loc[df_test_cleaned.address == \"5 jalan mutiara\",\n",
    "               ['property_type', 'lat', 'lng', 'subzone', 'planning_area']] = 'condo', '1.29565', '103.82887', 'leonie hill', 'river valley'\n",
    "df_test_cleaned.loc[df_test_cleaned.address == \"17 farrer drive\",\n",
    "               ['property_type', 'lat', 'lng', 'subzone', 'planning_area']] = 'condo', '1.313259', '103.806622', 'holland road', 'bukit timah'"
   ]
  },
  {
   "cell_type": "code",
   "execution_count": null,
   "metadata": {
    "collapsed": false,
    "pycharm": {
     "name": "#%%\n"
    }
   },
   "outputs": [],
   "source": [
    "print(df_test_cleaned['property_type'].value_counts())\n",
    "# changing \"hdb 3 rooms\", \"hdb 4 rooms\" and likewise to \"hdb\" since the number of rooms info can\n",
    "# be obtained from \"num_beds\"\n",
    "df_test_cleaned['property_type'].mask(df_test_cleaned['property_type'].str.contains(\"hdb\"), \"hdb\", inplace=True)\n",
    "#df_test_cleaned.drop(df_test_cleaned[df_test_cleaned['property_type'] == 'land only'].index, inplace = True)\n",
    "print(df_test_cleaned['property_type'].value_counts())"
   ]
  },
  {
   "cell_type": "code",
   "execution_count": null,
   "metadata": {
    "collapsed": false,
    "pycharm": {
     "name": "#%%\n"
    }
   },
   "outputs": [],
   "source": [
    "print(df_test_cleaned['property_type'].value_counts())\n",
    "print(df_test_cleaned['furnishing'].value_counts())\n",
    "# dropping 3 records with \"na\"\n",
    "#df_test_cleaned = df_test_cleaned[df_test_cleaned.furnishing != \"na\"]"
   ]
  },
  {
   "cell_type": "code",
   "execution_count": null,
   "metadata": {
    "collapsed": false,
    "pycharm": {
     "name": "#%%\n"
    }
   },
   "outputs": [],
   "source": [
    "print(\"before changes\")\n",
    "print(\"condo\")\n",
    "print(df_test_cleaned[\"title\"].str.contains(\"condo\").value_counts())\n",
    "print(\"\\n\")\n",
    "print(\"apartment\")\n",
    "print(df_test_cleaned[\"title\"].str.contains(\"apartment\").value_counts())\n",
    "print(\"\\n\")\n",
    "print(\"property_type\")\n",
    "print(df_test_cleaned[\"property_type\"].value_counts())\n",
    "\n",
    "\n",
    "#The count of condos and apartments in title and property_type does not match"
   ]
  },
  {
   "cell_type": "code",
   "execution_count": null,
   "metadata": {
    "collapsed": false,
    "pycharm": {
     "name": "#%%\n"
    }
   },
   "outputs": [],
   "source": [
    "df_test_cleaned.loc[(df_test_cleaned['property_type']!=\"condo\") &\n",
    "       (df_test_cleaned['title'].str.contains('condo')),['property_type']] = \"condo\"\n",
    "df_test_cleaned.loc[(df_test_cleaned['property_type']!=\"apartment\") &\n",
    "       (df_test_cleaned['title'].str.contains('apartment')),['property_type']] = \"apartment\""
   ]
  },
  {
   "cell_type": "code",
   "execution_count": null,
   "metadata": {
    "collapsed": false,
    "pycharm": {
     "name": "#%%\n"
    }
   },
   "outputs": [],
   "source": [
    "print(\"after changes\")\n",
    "print(\"condo\")\n",
    "print(df_test_cleaned[\"title\"].str.contains(\"condo\").value_counts())\n",
    "print(\"\\n\")\n",
    "print(\"apartment\")\n",
    "print(df_test_cleaned[\"title\"].str.contains(\"apartment\").value_counts())\n",
    "print(\"\\n\")\n",
    "print(\"property_type\")\n",
    "print(df_test_cleaned[\"property_type\"].value_counts())"
   ]
  },
  {
   "cell_type": "code",
   "execution_count": null,
   "metadata": {
    "collapsed": false,
    "pycharm": {
     "name": "#%%\n"
    }
   },
   "outputs": [],
   "source": [
    "#g.\tLanguage translation"
   ]
  },
  {
   "cell_type": "code",
   "execution_count": null,
   "metadata": {
    "collapsed": false,
    "pycharm": {
     "name": "#%%\n"
    }
   },
   "outputs": [],
   "source": [
    "#h.\tHandle missing values\n",
    "\n",
    "df_test_cleaned.isnull().sum()"
   ]
  },
  {
   "cell_type": "code",
   "execution_count": null,
   "metadata": {
    "collapsed": false,
    "pycharm": {
     "name": "#%%\n"
    }
   },
   "outputs": [],
   "source": [
    "#i. Features\n",
    "\n",
    "#1. title - DROPPING\n",
    "#2. address - DROPPING\n",
    "#3. property_name - KEEP\n",
    "#4. property_type - ordinal encoding\n",
    "#5. tenure - one-hot encoding (reduce to 3 columns - freehold, 99-year, 999-year)\n",
    "#6. built_year - handle null values\n",
    "#6.1 numb_beds/num_baths/size_sqft - KEEP AS IT IS\n",
    "#7. floor_level - ordinal encoding (DROPPING)\n",
    "#8. furnishing - one-hot encoding\n",
    "#9. available_unit_types -  (ON HOLD/DROPPING)\n",
    "#10. total_num_units - DROPPING\n",
    "#11. lat/lng - KEEP AS IT IS\n",
    "#12. planning_area - one-hot encoding/adarsh to work on map\n",
    "#13. subzone - one-hot encoding/Adarsh to work on map\n",
    "#14. ADD FEATURES - number os schools/MRT stations/malls within a pre-fixed radius"
   ]
  },
  {
   "cell_type": "code",
   "execution_count": null,
   "metadata": {
    "collapsed": false,
    "pycharm": {
     "name": "#%%\n"
    }
   },
   "outputs": [],
   "source": [
    "#No need to run this unless all data has been cleaned.\n",
    "df_test_cleaned.to_csv('../data/test_cleaned.csv')\n",
    "df_test_cleaned.shape"
   ]
  },
  {
   "cell_type": "code",
   "execution_count": null,
   "metadata": {},
   "outputs": [],
   "source": []
  }
 ],
 "metadata": {
  "kernelspec": {
   "display_name": "Python 3 (ipykernel)",
   "language": "python",
   "name": "python3"
  },
  "language_info": {
   "codemirror_mode": {
    "name": "ipython",
    "version": 3
   },
   "file_extension": ".py",
   "mimetype": "text/x-python",
   "name": "python",
   "nbconvert_exporter": "python",
   "pygments_lexer": "ipython3",
   "version": "3.9.7"
  },
  "vscode": {
   "interpreter": {
    "hash": "8a9a3a0f59d94ba7973b21a69118181ce5bc1e1391d96e7c074d54f3ed39dfbb"
   }
  }
 },
 "nbformat": 4,
 "nbformat_minor": 2
}
