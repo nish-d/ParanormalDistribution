{
 "cells": [
  {
   "cell_type": "code",
   "execution_count": null,
   "metadata": {},
   "outputs": [],
   "source": [
    "import numpy as np\n",
    "import pandas as pd\n",
    "import matplotlib.pyplot as plt\n",
    "from sklearn.metrics import mean_squared_error\n"
   ]
  },
  {
   "cell_type": "code",
   "execution_count": null,
   "metadata": {},
   "outputs": [],
   "source": [
    "def predict(modelName, folder = \"AutogluonModels/ag-20221019_092520/\") :\n",
    "    actual = pd.read_csv('../data/example-submission.csv')\n",
    "    pred = pd.read_csv(f'{folder}/predictions/{modelName}.csv')\n",
    "\n",
    "    actual = actual['Predicted']\n",
    "    pred = pred['Predicted']\n",
    "\n",
    "    valid_error = mean_squared_error(actual, pred, squared=False)\n",
    "    print(modelName)\n",
    "    print(f\"RMSE: {valid_error}\")\n",
    "    print(f'Percentage error for validation data {((abs(pred - actual)/actual)*100).mean()}')\n",
    "\n",
    "    print(\"____________________________________________________\\n\")\n"
   ]
  },
  {
   "cell_type": "code",
   "execution_count": null,
   "metadata": {},
   "outputs": [],
   "source": [
    "predict('WeightedEnsemble_L2')\n",
    "predict('RandomForestMSE')\n",
    "predict('LightGBMLarge')\n",
    "predict('CatBoost')\n",
    "predict('XGBoost')\n",
    "predict('ExtraTreesMSE')\n",
    "predict('LightGBM')\n",
    "predict('LightGBMXT')\n",
    "\n",
    "'''\n",
    "WeightedEnsemble_L2\n",
    "RandomForestMSE\n",
    "LightGBMLarge\n",
    "CatBoost\n",
    "ExtraTreesMSE\n",
    "LightGBM\n",
    "LightGBMXT\n",
    "'''\n",
    "\n"
   ]
  },
  {
   "cell_type": "code",
   "execution_count": null,
   "metadata": {},
   "outputs": [],
   "source": [
    "predict('WeightedEnsemble_L2', 'AutogluonModels/ag-20221019_054302/')\n",
    "predict('WeightedEnsemble_L2_FULL', 'AutogluonModels/ag-20221019_054302/')\n",
    "\n",
    "predict('RandomForestMSE', 'AutogluonModels/ag-20221019_054302/')\n",
    "predict('RandomForestMSE_FULL', 'AutogluonModels/ag-20221019_054302/')\n",
    "\n",
    "predict('LightGBMLarge','AutogluonModels/ag-20221019_054302/')\n",
    "predict('LightGBMLarge_FULL','AutogluonModels/ag-20221019_054302/')\n",
    "\n",
    "predict('CatBoost', 'AutogluonModels/ag-20221019_054302/')\n",
    "predict('CatBoost_FULL', 'AutogluonModels/ag-20221019_054302/')\n",
    "\n",
    "predict('XGBoost', 'AutogluonModels/ag-20221019_054302/')\n",
    "predict('XGBoost_FULL', 'AutogluonModels/ag-20221019_054302/')\n",
    "\n",
    "predict('ExtraTreesMSE', 'AutogluonModels/ag-20221019_054302/')\n",
    "predict('ExtraTreesMSE_FULL', 'AutogluonModels/ag-20221019_054302/')\n",
    "\n",
    "predict('LightGBM', 'AutogluonModels/ag-20221019_054302/')\n",
    "predict('LightGBM_FULL', 'AutogluonModels/ag-20221019_054302/')\n",
    "\n",
    "predict('KNeighborsDist', 'AutogluonModels/ag-20221019_054302/')\n",
    "predict('KNeighborsDist_FULL', 'AutogluonModels/ag-20221019_054302/')\n",
    "\n",
    "predict('LightGBMXT', 'AutogluonModels/ag-20221019_054302/')\n",
    "predict('LightGBMXT_FULL', 'AutogluonModels/ag-20221019_054302/')\n",
    "\n",
    "predict('KNeighborsUnif', 'AutogluonModels/ag-20221019_054302/')\n",
    "predict('KNeighborsUnif_FULL', 'AutogluonModels/ag-20221019_054302/')\n",
    "\n",
    "predict('NeuralNetFastAI', 'AutogluonModels/ag-20221019_054302/')\n",
    "predict('NeuralNetFastAI_FULL', 'AutogluonModels/ag-20221019_054302/')"
   ]
  },
  {
   "cell_type": "code",
   "execution_count": null,
   "metadata": {},
   "outputs": [],
   "source": [
    "predict('WeightedEnsemble_L2', 'AutogluonModels/ag-20221019_100643/')\n",
    "##predict('WeightedEnsemble_L2_FULL', 'AutogluonModels/ag-20221019_100643/')\n",
    "\n",
    "predict('RandomForestMSE', 'AutogluonModels/ag-20221019_100643/')\n",
    "#predict('RandomForestMSE_FULL', 'AutogluonModels/ag-20221019_100643/')\n",
    "\n",
    "predict('LightGBMLarge','AutogluonModels/ag-20221019_100643/')\n",
    "#predict('LightGBMLarge_FULL','AutogluonModels/ag-20221019_100643/')\n",
    "\n",
    "predict('XGBoost', 'AutogluonModels/ag-20221019_100643/')\n",
    "#predict('XGBoost_FULL', 'AutogluonModels/ag-20221019_100643/')\n",
    "\n",
    "predict('ExtraTreesMSE', 'AutogluonModels/ag-20221019_100643/')\n",
    "#predict('ExtraTreesMSE_FULL', 'AutogluonModels/ag-20221019_100643/')\n",
    "\n",
    "predict('LightGBM', 'AutogluonModels/ag-20221019_100643/')\n",
    "#predict('LightGBM_FULL', 'AutogluonModels/ag-20221019_100643/')\n",
    "\n",
    "predict('LightGBMXT', 'AutogluonModels/ag-20221019_100643/')\n",
    "#predict('LightGBMXT_FULL', 'AutogluonModels/ag-20221019_100643/')\n"
   ]
  },
  {
   "cell_type": "code",
   "execution_count": null,
   "metadata": {},
   "outputs": [],
   "source": [
    "#../predictions/xgboost_grid_search.csv\n",
    "\n",
    "\n",
    "def predictFromFile(filename = '../predictions/xgboost_grid_search_9.csv') :\n",
    "    actual = pd.read_csv('../data/example-submission.csv')\n",
    "    pred = pd.read_csv(filename)\n",
    "\n",
    "    actual = actual['Predicted']\n",
    "    pred = pred['Predicted']\n",
    "\n",
    "    valid_error = mean_squared_error(actual, pred, squared=False)\n",
    "    #print(modelName)\n",
    "    print(f\"RMSE: {valid_error}\")\n",
    "    print(f'Percentage error for validation data {((abs(pred - actual)/actual)*100).mean()}')\n",
    "\n",
    "    print(\"____________________________________________________\\n\")\n"
   ]
  },
  {
   "cell_type": "code",
   "execution_count": null,
   "metadata": {},
   "outputs": [],
   "source": [
    "predictFromFile()"
   ]
  },
  {
   "cell_type": "code",
   "execution_count": null,
   "metadata": {},
   "outputs": [],
   "source": []
  }
 ],
 "metadata": {
  "kernelspec": {
   "display_name": "myenv",
   "language": "python",
   "name": "myenv"
  },
  "language_info": {
   "codemirror_mode": {
    "name": "ipython",
    "version": 3
   },
   "file_extension": ".py",
   "mimetype": "text/x-python",
   "name": "python",
   "nbconvert_exporter": "python",
   "pygments_lexer": "ipython3",
   "version": "3.9.15"
  },
  "orig_nbformat": 4,
  "vscode": {
   "interpreter": {
    "hash": "31f2aee4e71d21fbe5cf8b01ff0e069b9275f58929596ceb00d14d90e3e16cd6"
   }
  }
 },
 "nbformat": 4,
 "nbformat_minor": 2
}
