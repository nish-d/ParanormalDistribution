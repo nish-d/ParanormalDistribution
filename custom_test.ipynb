{
 "cells": [
  {
   "cell_type": "code",
   "execution_count": 1,
   "metadata": {},
   "outputs": [],
   "source": [
    "import numpy as np\n",
    "import pandas as pd\n",
    "import matplotlib.pyplot as plt\n",
    "from sklearn.metrics import mean_squared_error\n"
   ]
  },
  {
   "cell_type": "code",
   "execution_count": 2,
   "metadata": {},
   "outputs": [],
   "source": [
    "def predict(modelName, folder = \"AutogluonModels/ag-20221028_001415\") :\n",
    "    actual = pd.read_csv('data/example-submission.csv')\n",
    "    pred = pd.read_csv(f'notebooks/{folder}/predictions/{modelName}.csv')\n",
    "\n",
    "    actual = actual['Predicted']\n",
    "    pred = pred['Predicted']\n",
    "\n",
    "    valid_error = mean_squared_error(actual, pred, squared=False)\n",
    "    print(modelName)\n",
    "    print(f\"RMSE: {valid_error}\")\n",
    "    print(f'Percentage error for validation data {((abs(pred - actual)/actual)*100).mean()}')\n",
    "\n",
    "    print(\"____________________________________________________\\n\")\n",
    "\n",
    "\n",
    "def compare(modelName, folder1 = \"AutogluonModels/ag-20221027_033558\", folder2 = \"AutogluonModels/ag-20221028_001415\") :\n",
    "    actual = pd.read_csv('data/example-submission.csv')\n",
    "    pred1 = pd.read_csv(f'notebooks/{folder1}/predictions/{modelName}.csv')\n",
    "    pred2 = pd.read_csv(f'notebooks/{folder2}/predictions/{modelName}.csv')\n",
    "\n",
    "\n",
    "    actual = actual['Predicted']\n",
    "    pred1 = pred1['Predicted']\n",
    "    pred2 = pred2['Predicted']\n",
    "\n",
    "    valid_error1 = mean_squared_error(actual, pred1, squared=False)\n",
    "    valid_error2 = mean_squared_error(actual, pred2, squared=False)\n",
    "\n",
    "    print(modelName)\n",
    "    print(f\"RMSE 1: {valid_error1}\")\n",
    "    print(f\"RMSE 2: {valid_error2}\")\n",
    "\n",
    "    diff = valid_error2 - valid_error1\n",
    "\n",
    "    print(f'Percentage error for validation data {((abs(pred1 - actual)/actual)*100).mean()}')\n",
    "    print(f'Percentage error for validation data {((abs(pred2 - actual)/actual)*100).mean()}')\n",
    "\n",
    "    print(f'Difference in RMSE, New - Old {diff}')\n",
    "\n",
    "\n",
    "    print(\"____________________________________________________\\n\")\n"
   ]
  },
  {
   "cell_type": "code",
   "execution_count": 5,
   "metadata": {},
   "outputs": [
    {
     "name": "stdout",
     "output_type": "stream",
     "text": [
      "WeightedEnsemble_L2\n",
      "RMSE: 2276109.7342470996\n",
      "Percentage error for validation data 36.15195247962321\n",
      "____________________________________________________\n",
      "\n",
      "WeightedEnsemble_L3\n",
      "RMSE: 2164449.9528921396\n",
      "Percentage error for validation data 31.286077370972624\n",
      "____________________________________________________\n",
      "\n",
      "CatBoost\n",
      "RMSE: 2195284.179114518\n",
      "Percentage error for validation data 32.92056466202177\n",
      "____________________________________________________\n",
      "\n",
      "LightGBMXT\n",
      "RMSE: 2164288.0268510906\n",
      "Percentage error for validation data 29.725696263070795\n",
      "____________________________________________________\n",
      "\n"
     ]
    }
   ],
   "source": [
    "predict('WeightedEnsemble_L2')\n",
    "predict('WeightedEnsemble_L3')\n",
    "\n",
    "#predict('RandomForestMSE')\n",
    "#predict('LightGBMLarge')\n",
    "predict('CatBoost')\n",
    "#predict('XGBoost')\n",
    "#predict('ExtraTreesMSE')\n",
    "#predict('LightGBM')\n",
    "predict('LightGBMXT')\n",
    "#predict('NeuralNetTorch')\n",
    "##predict('NeuralNetFastAI')\n",
    "#predict('KNeighborsDist')\n",
    "#predict('KNeighborsUnif')"
   ]
  },
  {
   "cell_type": "code",
   "execution_count": 6,
   "metadata": {},
   "outputs": [
    {
     "name": "stdout",
     "output_type": "stream",
     "text": [
      "WeightedEnsemble_L2\n",
      "RMSE 1: 2162519.152966141\n",
      "RMSE 2: 2276109.7342470996\n",
      "Percentage error for validation data 31.61528432230511\n",
      "Percentage error for validation data 36.15195247962321\n",
      "Difference in RMSE, New - Old 113590.58128095884\n",
      "____________________________________________________\n",
      "\n",
      "CatBoost\n",
      "RMSE 1: 2310901.8406767272\n",
      "RMSE 2: 2195284.179114518\n",
      "Percentage error for validation data 35.01452516279831\n",
      "Percentage error for validation data 32.92056466202177\n",
      "Difference in RMSE, New - Old -115617.66156220902\n",
      "____________________________________________________\n",
      "\n",
      "LightGBMXT\n",
      "RMSE 1: 2170831.0480264025\n",
      "RMSE 2: 2164288.0268510906\n",
      "Percentage error for validation data 29.34849614966764\n",
      "Percentage error for validation data 29.725696263070795\n",
      "Difference in RMSE, New - Old -6543.021175311878\n",
      "____________________________________________________\n",
      "\n"
     ]
    }
   ],
   "source": [
    "compare('WeightedEnsemble_L2')\n",
    "#compare\n",
    "#('RandomForestMSE')\n",
    "#compare('LightGBMLarge')\n",
    "compare('CatBoost')\n",
    "#compare\n",
    "#('XGBoost')\n",
    "#compare('ExtraTreesMSE')\n",
    "#compare('LightGBM')\n",
    "compare('LightGBMXT')\n",
    "#compare('NeuralNetTorch')\n",
    "##compare\n",
    "#('NeuralNetFastAI')\n",
    "#compare\n",
    "#('KNeighborsDist')\n",
    "#compare\n",
    "#('KNeighborsUnif')"
   ]
  },
  {
   "cell_type": "code",
   "execution_count": null,
   "metadata": {},
   "outputs": [
    {
     "ename": "",
     "evalue": "",
     "output_type": "error",
     "traceback": [
      "\u001b[1;31mThe kernel failed to start due to the missing module 'psutil'. Consider installing this module.\n",
      "\u001b[1;31mClick <a href='https://aka.ms/kernelFailuresMissingModule'>here</a> for more info."
     ]
    }
   ],
   "source": [
    "predict('WeightedEnsemble_L2', 'AutogluonModels/ag-20221019_054302/')\n",
    "predict('WeightedEnsemble_L2_FULL', 'AutogluonModels/ag-20221019_054302/')\n",
    "\n",
    "predict('RandomForestMSE', 'AutogluonModels/ag-20221019_054302/')\n",
    "predict('RandomForestMSE_FULL', 'AutogluonModels/ag-20221019_054302/')\n",
    "\n",
    "predict('LightGBMLarge','AutogluonModels/ag-20221019_054302/')\n",
    "predict('LightGBMLarge_FULL','AutogluonModels/ag-20221019_054302/')\n",
    "\n",
    "predict('CatBoost', 'AutogluonModels/ag-20221019_054302/')\n",
    "predict('CatBoost_FULL', 'AutogluonModels/ag-20221019_054302/')\n",
    "\n",
    "predict('XGBoost', 'AutogluonModels/ag-20221019_054302/')\n",
    "predict('XGBoost_FULL', 'AutogluonModels/ag-20221019_054302/')\n",
    "\n",
    "predict('ExtraTreesMSE', 'AutogluonModels/ag-20221019_054302/')\n",
    "predict('ExtraTreesMSE_FULL', 'AutogluonModels/ag-20221019_054302/')\n",
    "\n",
    "predict('LightGBM', 'AutogluonModels/ag-20221019_054302/')\n",
    "predict('LightGBM_FULL', 'AutogluonModels/ag-20221019_054302/')\n",
    "\n",
    "predict('KNeighborsDist', 'AutogluonModels/ag-20221019_054302/')\n",
    "predict('KNeighborsDist_FULL', 'AutogluonModels/ag-20221019_054302/')\n",
    "\n",
    "predict('LightGBMXT', 'AutogluonModels/ag-20221019_054302/')\n",
    "predict('LightGBMXT_FULL', 'AutogluonModels/ag-20221019_054302/')\n",
    "\n",
    "predict('KNeighborsUnif', 'AutogluonModels/ag-20221019_054302/')\n",
    "predict('KNeighborsUnif_FULL', 'AutogluonModels/ag-20221019_054302/')\n",
    "\n",
    "predict('NeuralNetFastAI', 'AutogluonModels/ag-20221019_054302/')\n",
    "predict('NeuralNetFastAI_FULL', 'AutogluonModels/ag-20221019_054302/')"
   ]
  },
  {
   "cell_type": "code",
   "execution_count": null,
   "metadata": {},
   "outputs": [
    {
     "ename": "",
     "evalue": "",
     "output_type": "error",
     "traceback": [
      "\u001b[1;31mThe kernel failed to start due to the missing module 'psutil'. Consider installing this module.\n",
      "\u001b[1;31mClick <a href='https://aka.ms/kernelFailuresMissingModule'>here</a> for more info."
     ]
    }
   ],
   "source": [
    "predict('WeightedEnsemble_L2', 'AutogluonModels/ag-20221019_100643/')\n",
    "##predict('WeightedEnsemble_L2_FULL', 'AutogluonModels/ag-20221019_100643/')\n",
    "\n",
    "predict('RandomForestMSE', 'AutogluonModels/ag-20221019_100643/')\n",
    "#predict('RandomForestMSE_FULL', 'AutogluonModels/ag-20221019_100643/')\n",
    "\n",
    "predict('LightGBMLarge','AutogluonModels/ag-20221019_100643/')\n",
    "#predict('LightGBMLarge_FULL','AutogluonModels/ag-20221019_100643/')\n",
    "\n",
    "predict('XGBoost', 'AutogluonModels/ag-20221019_100643/')\n",
    "#predict('XGBoost_FULL', 'AutogluonModels/ag-20221019_100643/')\n",
    "\n",
    "predict('ExtraTreesMSE', 'AutogluonModels/ag-20221019_100643/')\n",
    "#predict('ExtraTreesMSE_FULL', 'AutogluonModels/ag-20221019_100643/')\n",
    "\n",
    "predict('LightGBM', 'AutogluonModels/ag-20221019_100643/')\n",
    "#predict('LightGBM_FULL', 'AutogluonModels/ag-20221019_100643/')\n",
    "\n",
    "predict('LightGBMXT', 'AutogluonModels/ag-20221019_100643/')\n",
    "#predict('LightGBMXT_FULL', 'AutogluonModels/ag-20221019_100643/')\n"
   ]
  },
  {
   "cell_type": "code",
   "execution_count": 11,
   "metadata": {},
   "outputs": [],
   "source": [
    "actual = pd.read_csv('data/example-submission.csv')"
   ]
  },
  {
   "cell_type": "code",
   "execution_count": 35,
   "metadata": {},
   "outputs": [],
   "source": [
    "#../predictions/xgboost_grid_search.csv\n",
    "\n",
    "\n",
    "def predictFromFile(filename = 'predictions/xgboost_grid_search_13.csv') :\n",
    "    actual = pd.read_csv('data/example-submission.csv')\n",
    "    pred = pd.read_csv(filename)\n",
    "\n",
    "    actual = actual['Predicted']\n",
    "    pred = pred['Predicted']\n",
    "\n",
    "    valid_error = mean_squared_error(actual, pred, squared=False)\n",
    "    #print(modelName)\n",
    "    print(f\"RMSE: {valid_error}\")\n",
    "    print(f'Percentage error for validation data {((abs(pred - actual)/actual)*100).mean()}')\n",
    "\n",
    "    print(\"____________________________________________________\\n\")\n"
   ]
  },
  {
   "cell_type": "code",
   "execution_count": 36,
   "metadata": {},
   "outputs": [
    {
     "name": "stdout",
     "output_type": "stream",
     "text": [
      "RMSE: 4433248.262448043\n",
      "Percentage error for validation data 68.01710831135816\n",
      "____________________________________________________\n",
      "\n"
     ]
    }
   ],
   "source": [
    "predictFromFile()"
   ]
  },
  {
   "cell_type": "code",
   "execution_count": null,
   "metadata": {},
   "outputs": [],
   "source": []
  }
 ],
 "metadata": {
  "kernelspec": {
   "display_name": "Python 3 (ipykernel)",
   "language": "python",
   "name": "python3"
  },
  "language_info": {
   "codemirror_mode": {
    "name": "ipython",
    "version": 3
   },
   "file_extension": ".py",
   "mimetype": "text/x-python",
   "name": "python",
   "nbconvert_exporter": "python",
   "pygments_lexer": "ipython3",
   "version": "3.9.7"
  },
  "vscode": {
   "interpreter": {
    "hash": "e3674cc7966855886e325525ebdd8373c9ba83162eba59918954002e59074a83"
   }
  }
 },
 "nbformat": 4,
 "nbformat_minor": 4
}
