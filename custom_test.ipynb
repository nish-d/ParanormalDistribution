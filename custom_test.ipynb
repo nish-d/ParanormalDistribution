{
 "cells": [
  {
   "cell_type": "code",
   "execution_count": 38,
   "metadata": {},
   "outputs": [],
   "source": [
    "import numpy as np\n",
    "import pandas as pd\n",
    "import matplotlib.pyplot as plt\n",
    "from sklearn.metrics import mean_squared_error\n"
   ]
  },
  {
   "cell_type": "code",
   "execution_count": 48,
   "metadata": {},
   "outputs": [],
   "source": [
    "def predict(modelName, folder = \"AutogluonModels/ag-20221026_135732\") :\n",
    "    actual = pd.read_csv('data/example-submission.csv')\n",
    "    pred = pd.read_csv(f'notebooks/{folder}/predictions/{modelName}.csv')\n",
    "\n",
    "    actual = actual['Predicted']\n",
    "    pred = pred['Predicted']\n",
    "\n",
    "    valid_error = mean_squared_error(actual, pred, squared=False)\n",
    "    print(modelName)\n",
    "    print(f\"RMSE: {valid_error}\")\n",
    "    print(f'Percentage error for validation data {((abs(pred - actual)/actual)*100).mean()}')\n",
    "\n",
    "    print(\"____________________________________________________\\n\")\n"
   ]
  },
  {
   "cell_type": "code",
   "execution_count": 49,
   "metadata": {},
   "outputs": [
    {
     "name": "stdout",
     "output_type": "stream",
     "text": [
      "WeightedEnsemble_L2\n",
      "RMSE: 2472611.1643007197\n",
      "Percentage error for validation data 43.289157241043654\n",
      "____________________________________________________\n",
      "\n",
      "LightGBMLarge\n",
      "RMSE: 2685609.103430306\n",
      "Percentage error for validation data 49.72061266565964\n",
      "____________________________________________________\n",
      "\n",
      "XGBoost\n",
      "RMSE: 2601862.6886031316\n",
      "Percentage error for validation data 46.69762514912012\n",
      "____________________________________________________\n",
      "\n",
      "ExtraTreesMSE\n",
      "RMSE: 2306376.4352726573\n",
      "Percentage error for validation data 34.02080391796857\n",
      "____________________________________________________\n",
      "\n",
      "LightGBM\n",
      "RMSE: 2586248.4501154465\n",
      "Percentage error for validation data 45.59809860958234\n",
      "____________________________________________________\n",
      "\n",
      "LightGBMXT\n",
      "RMSE: 2381458.0994238583\n",
      "Percentage error for validation data 33.87768782537479\n",
      "____________________________________________________\n",
      "\n"
     ]
    },
    {
     "data": {
      "text/plain": [
       "'/Users/nishita/Documents/Semester 1/CS5228/ParanormalDistribution/notebooks/AutogluonModels\\n\\nnotebooks/AutogluonModels/ag-20221026_135732/predictions\\nWeightedEnsemble_L2\\nRandomForestMSE\\nLightGBMLarge\\nCatBoost\\nExtraTreesMSE\\nLightGBM\\nLightGBMXT\\n'"
      ]
     },
     "execution_count": 49,
     "metadata": {},
     "output_type": "execute_result"
    }
   ],
   "source": [
    "predict('WeightedEnsemble_L2')\n",
    "#predict('RandomForestMSE')\n",
    "predict('LightGBMLarge')\n",
    "#predict('CatBoost')\n",
    "predict('XGBoost')\n",
    "predict('ExtraTreesMSE')\n",
    "predict('LightGBM')\n",
    "predict('LightGBMXT')\n",
    "\n",
    "'''/Users/nishita/Documents/Semester 1/CS5228/ParanormalDistribution/notebooks/AutogluonModels\n",
    "\n",
    "notebooks/AutogluonModels/ag-20221026_135732/predictions\n",
    "WeightedEnsemble_L2\n",
    "RandomForestMSE\n",
    "LightGBMLarge\n",
    "CatBoost\n",
    "ExtraTreesMSE\n",
    "LightGBM\n",
    "LightGBMXT\n",
    "'''\n",
    "\n"
   ]
  },
  {
   "cell_type": "code",
   "execution_count": null,
   "metadata": {},
   "outputs": [
    {
     "ename": "",
     "evalue": "",
     "output_type": "error",
     "traceback": [
      "\u001b[1;31mThe kernel failed to start due to the missing module 'psutil'. Consider installing this module.\n",
      "\u001b[1;31mClick <a href='https://aka.ms/kernelFailuresMissingModule'>here</a> for more info."
     ]
    }
   ],
   "source": [
    "predict('WeightedEnsemble_L2', 'AutogluonModels/ag-20221019_054302/')\n",
    "predict('WeightedEnsemble_L2_FULL', 'AutogluonModels/ag-20221019_054302/')\n",
    "\n",
    "predict('RandomForestMSE', 'AutogluonModels/ag-20221019_054302/')\n",
    "predict('RandomForestMSE_FULL', 'AutogluonModels/ag-20221019_054302/')\n",
    "\n",
    "predict('LightGBMLarge','AutogluonModels/ag-20221019_054302/')\n",
    "predict('LightGBMLarge_FULL','AutogluonModels/ag-20221019_054302/')\n",
    "\n",
    "predict('CatBoost', 'AutogluonModels/ag-20221019_054302/')\n",
    "predict('CatBoost_FULL', 'AutogluonModels/ag-20221019_054302/')\n",
    "\n",
    "predict('XGBoost', 'AutogluonModels/ag-20221019_054302/')\n",
    "predict('XGBoost_FULL', 'AutogluonModels/ag-20221019_054302/')\n",
    "\n",
    "predict('ExtraTreesMSE', 'AutogluonModels/ag-20221019_054302/')\n",
    "predict('ExtraTreesMSE_FULL', 'AutogluonModels/ag-20221019_054302/')\n",
    "\n",
    "predict('LightGBM', 'AutogluonModels/ag-20221019_054302/')\n",
    "predict('LightGBM_FULL', 'AutogluonModels/ag-20221019_054302/')\n",
    "\n",
    "predict('KNeighborsDist', 'AutogluonModels/ag-20221019_054302/')\n",
    "predict('KNeighborsDist_FULL', 'AutogluonModels/ag-20221019_054302/')\n",
    "\n",
    "predict('LightGBMXT', 'AutogluonModels/ag-20221019_054302/')\n",
    "predict('LightGBMXT_FULL', 'AutogluonModels/ag-20221019_054302/')\n",
    "\n",
    "predict('KNeighborsUnif', 'AutogluonModels/ag-20221019_054302/')\n",
    "predict('KNeighborsUnif_FULL', 'AutogluonModels/ag-20221019_054302/')\n",
    "\n",
    "predict('NeuralNetFastAI', 'AutogluonModels/ag-20221019_054302/')\n",
    "predict('NeuralNetFastAI_FULL', 'AutogluonModels/ag-20221019_054302/')"
   ]
  },
  {
   "cell_type": "code",
   "execution_count": null,
   "metadata": {},
   "outputs": [
    {
     "ename": "",
     "evalue": "",
     "output_type": "error",
     "traceback": [
      "\u001b[1;31mThe kernel failed to start due to the missing module 'psutil'. Consider installing this module.\n",
      "\u001b[1;31mClick <a href='https://aka.ms/kernelFailuresMissingModule'>here</a> for more info."
     ]
    }
   ],
   "source": [
    "predict('WeightedEnsemble_L2', 'AutogluonModels/ag-20221019_100643/')\n",
    "##predict('WeightedEnsemble_L2_FULL', 'AutogluonModels/ag-20221019_100643/')\n",
    "\n",
    "predict('RandomForestMSE', 'AutogluonModels/ag-20221019_100643/')\n",
    "#predict('RandomForestMSE_FULL', 'AutogluonModels/ag-20221019_100643/')\n",
    "\n",
    "predict('LightGBMLarge','AutogluonModels/ag-20221019_100643/')\n",
    "#predict('LightGBMLarge_FULL','AutogluonModels/ag-20221019_100643/')\n",
    "\n",
    "predict('XGBoost', 'AutogluonModels/ag-20221019_100643/')\n",
    "#predict('XGBoost_FULL', 'AutogluonModels/ag-20221019_100643/')\n",
    "\n",
    "predict('ExtraTreesMSE', 'AutogluonModels/ag-20221019_100643/')\n",
    "#predict('ExtraTreesMSE_FULL', 'AutogluonModels/ag-20221019_100643/')\n",
    "\n",
    "predict('LightGBM', 'AutogluonModels/ag-20221019_100643/')\n",
    "#predict('LightGBM_FULL', 'AutogluonModels/ag-20221019_100643/')\n",
    "\n",
    "predict('LightGBMXT', 'AutogluonModels/ag-20221019_100643/')\n",
    "#predict('LightGBMXT_FULL', 'AutogluonModels/ag-20221019_100643/')\n"
   ]
  },
  {
   "cell_type": "code",
   "execution_count": 11,
   "metadata": {},
   "outputs": [],
   "source": [
    "actual = pd.read_csv('data/example-submission.csv')"
   ]
  },
  {
   "cell_type": "code",
   "execution_count": 35,
   "metadata": {},
   "outputs": [],
   "source": [
    "#../predictions/xgboost_grid_search.csv\n",
    "\n",
    "\n",
    "def predictFromFile(filename = 'predictions/xgboost_grid_search_13.csv') :\n",
    "    actual = pd.read_csv('data/example-submission.csv')\n",
    "    pred = pd.read_csv(filename)\n",
    "\n",
    "    actual = actual['Predicted']\n",
    "    pred = pred['Predicted']\n",
    "\n",
    "    valid_error = mean_squared_error(actual, pred, squared=False)\n",
    "    #print(modelName)\n",
    "    print(f\"RMSE: {valid_error}\")\n",
    "    print(f'Percentage error for validation data {((abs(pred - actual)/actual)*100).mean()}')\n",
    "\n",
    "    print(\"____________________________________________________\\n\")\n"
   ]
  },
  {
   "cell_type": "code",
   "execution_count": 36,
   "metadata": {},
   "outputs": [
    {
     "name": "stdout",
     "output_type": "stream",
     "text": [
      "RMSE: 4433248.262448043\n",
      "Percentage error for validation data 68.01710831135816\n",
      "____________________________________________________\n",
      "\n"
     ]
    }
   ],
   "source": [
    "predictFromFile()"
   ]
  },
  {
   "cell_type": "code",
   "execution_count": null,
   "metadata": {},
   "outputs": [],
   "source": []
  }
 ],
 "metadata": {
  "kernelspec": {
   "display_name": "Python 3.9.12 ('5647')",
   "language": "python",
   "name": "python3"
  },
  "language_info": {
   "codemirror_mode": {
    "name": "ipython",
    "version": 3
   },
   "file_extension": ".py",
   "mimetype": "text/x-python",
   "name": "python",
   "nbconvert_exporter": "python",
   "pygments_lexer": "ipython3",
   "version": "3.9.12"
  },
  "orig_nbformat": 4,
  "vscode": {
   "interpreter": {
    "hash": "e3674cc7966855886e325525ebdd8373c9ba83162eba59918954002e59074a83"
   }
  }
 },
 "nbformat": 4,
 "nbformat_minor": 2
}
